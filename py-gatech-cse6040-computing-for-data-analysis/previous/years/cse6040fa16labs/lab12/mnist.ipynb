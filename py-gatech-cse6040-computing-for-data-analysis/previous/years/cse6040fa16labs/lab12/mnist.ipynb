{
 "cells": [
  {
   "cell_type": "markdown",
   "metadata": {
    "nbgrader": {
     "grade": false,
     "solution": false
    }
   },
   "source": [
    "# Important note!\n",
    "\n",
    "Before you turn this problem in, make sure everything runs as expected. First, **restart the kernel** (in the menubar, select Kernel$\\rightarrow$Restart) and then **run all cells** (in the menubar, select Cell$\\rightarrow$Run All).\n",
    "\n",
    "Make sure you fill in any place that says `YOUR CODE HERE` or \"YOUR ANSWER HERE\", as well as your name and collaborators below:"
   ]
  },
  {
   "cell_type": "code",
   "execution_count": null,
   "metadata": {
    "collapsed": false,
    "nbgrader": {
     "grade": false,
     "locked": false,
     "solution": false
    }
   },
   "outputs": [],
   "source": [
    "YOUR_ID = \"\" # Please enter your GT login, e.g., \"rvuduc3\" or \"gtg911x\"\n",
    "COLLABORATORS = [] # list of strings of your collaborators' IDs"
   ]
  },
  {
   "cell_type": "code",
   "execution_count": null,
   "metadata": {
    "collapsed": false,
    "deletable": false,
    "nbgrader": {
     "checksum": "b11295002cc2b9549d6a2b01721b6701",
     "grade": true,
     "grade_id": "who__test",
     "locked": true,
     "points": 1,
     "solution": false
    }
   },
   "outputs": [],
   "source": [
    "import re\n",
    "\n",
    "RE_CHECK_ID = re.compile (r'''[a-zA-Z]+\\d+|[gG][tT][gG]\\d+[a-zA-Z]''')\n",
    "assert RE_CHECK_ID.match (YOUR_ID) is not None\n",
    "\n",
    "collab_check = [RE_CHECK_ID.match (i) is not None for i in COLLABORATORS]\n",
    "assert all (collab_check)\n",
    "\n",
    "del collab_check\n",
    "del RE_CHECK_ID\n",
    "del re"
   ]
  },
  {
   "cell_type": "markdown",
   "metadata": {},
   "source": [
    "**Jupyter / IPython version check.** The following code cell verifies that you are using the correct version of Jupyter/IPython."
   ]
  },
  {
   "cell_type": "code",
   "execution_count": null,
   "metadata": {
    "collapsed": true
   },
   "outputs": [],
   "source": [
    "import IPython\n",
    "assert IPython.version_info[0] >= 3, \"Your version of IPython is too old, please update it.\""
   ]
  },
  {
   "cell_type": "markdown",
   "metadata": {},
   "source": [
    "# MNIST Handwritten Digits\n",
    "\n",
    "One of the most famous datasets in the statistical machine learning literature is the [MNIST dataset of handwritten digits](http://yann.lecun.com/exdb/mnist/). This optional notebook is an \"open-ended\" one in which we ask you to apply the principal components analysis (PCA) and $k$-means clustering ideas to the MNIST data."
   ]
  },
  {
   "cell_type": "markdown",
   "metadata": {},
   "source": [
    "## Setup\n",
    "\n",
    "The following cells are just set up, largely copied from [Lab 12, Part 2](./part2.ipynb)."
   ]
  },
  {
   "cell_type": "code",
   "execution_count": null,
   "metadata": {
    "collapsed": false
   },
   "outputs": [],
   "source": [
    "import os\n",
    "import sys\n",
    "import re\n",
    "\n",
    "import numpy as np\n",
    "import pandas as pd\n",
    "\n",
    "from IPython.display import display, HTML\n",
    "import matplotlib.pyplot as plt\n",
    "\n",
    "%matplotlib inline\n",
    "\n",
    "import seaborn as sns\n",
    "\n",
    "from PIL import Image\n",
    "import base64\n",
    "from io import BytesIO\n",
    "\n",
    "def to_base64 (png):\n",
    "    return \"data:image/png;base64,\" + base64.b64encode (png).decode(\"utf-8\")\n",
    "\n",
    "def im2gnp (image):\n",
    "    \"\"\"Converts a PIL image into an image stored as a 2-D Numpy array in grayscale.\"\"\"\n",
    "    return np.array (image.convert ('L'))\n",
    "\n",
    "def gnp2im (image_np):\n",
    "    \"\"\"Converts an image stored as a 2-D grayscale Numpy array into a PIL image.\"\"\"\n",
    "    return Image.fromarray (image_np.astype (np.uint8), mode='L')\n",
    "\n",
    "def gnp2thumbnail (image_np):\n",
    "    im = gnp2im (image_np)\n",
    "    memout = BytesIO ()\n",
    "    im.save (memout, format='png')\n",
    "    return to_base64 (memout.getvalue ())\n",
    "\n",
    "def imshow_gray (im, ax=None):\n",
    "    if ax is None:\n",
    "        f = plt.figure ()\n",
    "        ax = plt.axes ()\n",
    "    ax.imshow (im,\n",
    "               interpolation='nearest',\n",
    "               cmap=plt.get_cmap ('gray'))\n",
    "    \n",
    "def peek_Sigma (Sigma, ret_df=False):\n",
    "    k = len (Sigma)\n",
    "    df_Sigma = pd.DataFrame ()\n",
    "    df_Sigma['i'] = np.arange (k)\n",
    "    df_Sigma['sigma_i'] = Sigma\n",
    "    Sigma_sq = np.power (Sigma, 2)\n",
    "    Err_sq = np.sum (Sigma_sq) - np.cumsum (Sigma_sq)\n",
    "    Err_sq[Err_sq < 0] = 0\n",
    "    Err = np.sqrt (Err_sq)\n",
    "    Relerr = Err / (Sigma[0] + Err[0])\n",
    "    df_Sigma['sigma_i^2'] = Sigma_sq\n",
    "    df_Sigma['err_i^2'] = Err_sq\n",
    "    df_Sigma['err_i'] = Err\n",
    "    df_Sigma['relerr_i'] = Relerr\n",
    "    print (\"Singular values:\")\n",
    "    display (df_Sigma.head ())\n",
    "    print (\"  ...\")\n",
    "    display (df_Sigma.tail ())\n",
    "    \n",
    "    f, ax = plt.subplots (figsize=(7, 7))\n",
    "    #ax.set (yscale=\"log\")\n",
    "    sns.regplot (\"i\", \"sigma_i\", df_Sigma, ax=ax, fit_reg=False)\n",
    "    if ret_df:\n",
    "        return df_Sigma\n",
    "    \n",
    "import bokeh\n",
    "from bokeh.io import output_notebook\n",
    "output_notebook ()\n",
    "print (\"Bokeh version:\", bokeh.__version__)\n",
    "#!conda upgrade bokeh\n",
    "\n",
    "from bokeh.palettes import brewer\n",
    "\n",
    "def make_color_map (values):\n",
    "    \"\"\"Given a collection of discrete values, generate a color map.\"\"\"\n",
    "    unique_values = np.unique (values) # values must be discrete\n",
    "    num_unique_values = len (unique_values)\n",
    "    min_palette_size = min (brewer['Set1'].keys ())\n",
    "    max_palette_size = max (brewer['Set1'].keys ())\n",
    "    assert num_unique_values <= max_palette_size\n",
    "    palette = brewer['Set1'][max (min_palette_size, num_unique_values)]\n",
    "    color_map = dict (zip (unique_values, palette))\n",
    "    return color_map\n",
    "\n",
    "# http://bokeh.pydata.org/en/latest/docs/user_guide/tools.html#userguide-tools-inspectors\n",
    "from bokeh.io import show\n",
    "from bokeh.plotting import figure, ColumnDataSource\n",
    "from bokeh.models import PanTool, BoxZoomTool, ResizeTool, HoverTool, CrosshairTool, ResetTool\n",
    "\n",
    "def make_scatter2d_images (x, y, names=None, image_files=None, clustering=None):\n",
    "    source_data = dict (x=x, y=y)\n",
    "    if names is not None:\n",
    "        source_data[\"desc\"] = names\n",
    "        tooltips_desc = \"\"\"<span style=\"font-size: 17px; font-weight: bold;\">@desc</span>\"\"\"\n",
    "    else:\n",
    "        tooltips_desc = \"\"\n",
    "        \n",
    "    if image_files is not None:\n",
    "        source_data[\"imgs\"] = image_files\n",
    "        tooltips_images = \"\"\"\n",
    "            <div>\n",
    "                <img\n",
    "                    src=\"@imgs\" height=\"42\" alt=\"@imgs\" width=\"42\"\n",
    "                    style=\"float: left; margin: 0px 15px 15px 0px;\"\n",
    "                    border=\"2\"\n",
    "                ></img>\n",
    "            </div>\n",
    "        \"\"\"\n",
    "    else:\n",
    "        tooltips_images = \"\"\n",
    "        \n",
    "    source = ColumnDataSource (data=source_data)\n",
    "    hover = HoverTool (tooltips=\"\"\"\n",
    "        <div>\n",
    "            {}\n",
    "            <div>\n",
    "                {}\n",
    "                <span style=\"font-size: 15px; color: #966;\">[$index]</span>\n",
    "            </div>\n",
    "            <div>\n",
    "                <span style=\"font-size: 15px;\">Location</span>\n",
    "                <span style=\"font-size: 10px; color: #696;\">($x, $y)</span>\n",
    "            </div>\n",
    "        </div>\n",
    "        \"\"\".format (tooltips_images, tooltips_desc))\n",
    "\n",
    "    TOOLS = [PanTool (), BoxZoomTool (), ResizeTool (), hover, CrosshairTool (), ResetTool ()]\n",
    "    p = figure (width=600, height=300, tools=TOOLS)\n",
    "    \n",
    "    if clustering is not None:\n",
    "        color_map = make_color_map (clustering)\n",
    "        cluster_colors = [color_map[c] for c in clustering]\n",
    "        p.circle (x='x', y='y',\n",
    "                  fill_color=cluster_colors,\n",
    "                  line_color=cluster_colors,\n",
    "                  size=5, source=source)\n",
    "    else:\n",
    "        p.circle (x='x', y='y', size=5, source=source)\n",
    "    return p\n",
    "\n",
    "from scipy.cluster.vq import kmeans, vq"
   ]
  },
  {
   "cell_type": "markdown",
   "metadata": {},
   "source": [
    "## Downloading the MNIST data\n",
    "\n",
    "We've provided an external module, `mnist.py`, to help you download and unpack the handwritten digits. The following cells do that for you.\n",
    "\n",
    "> The code below downloads the training part of the MNIST data. There is also a separate testing set, used for evaluating machine learning methods."
   ]
  },
  {
   "cell_type": "code",
   "execution_count": null,
   "metadata": {
    "collapsed": false
   },
   "outputs": [],
   "source": [
    "# Download and unpack MNIST digits database\n",
    "%reload_ext autoreload\n",
    "%autoreload 2\n",
    "import mnist\n",
    "\n",
    "(mnist_images_gz, mnist_labels_gz) = mnist.download_mnist ('training')\n",
    "\n",
    "print (\"Images:\", mnist_images_gz)\n",
    "print (\"Labels:\", mnist_labels_gz)"
   ]
  },
  {
   "cell_type": "markdown",
   "metadata": {},
   "source": [
    "For this demo, let's extract all the examples of \"ones\" and \"eights\" drawn by real people!"
   ]
  },
  {
   "cell_type": "code",
   "execution_count": null,
   "metadata": {
    "collapsed": true
   },
   "outputs": [],
   "source": [
    "images, labels, inds = mnist.load_mnist (mnist_images_gz, mnist_labels_gz,\n",
    "                                         digits=[1, 8], # the digits to load\n",
    "                                         return_indices=True)\n",
    "\n",
    "images *= 255 # Rescales the pixels to an 8-bit color scale."
   ]
  },
  {
   "cell_type": "markdown",
   "metadata": {},
   "source": [
    "Start by inspecting a few key properties of the data structures that hold the images and labels."
   ]
  },
  {
   "cell_type": "code",
   "execution_count": null,
   "metadata": {
    "collapsed": false
   },
   "outputs": [],
   "source": [
    "print (images.shape, type (images), images.dtype, np.min (images), np.max (images))\n",
    "print (labels.shape, type (labels), labels.dtype, np.unique (labels))"
   ]
  },
  {
   "cell_type": "markdown",
   "metadata": {},
   "source": [
    "Let's take a look at the `z`-th digit of the dataset."
   ]
  },
  {
   "cell_type": "code",
   "execution_count": null,
   "metadata": {
    "collapsed": false
   },
   "outputs": [],
   "source": [
    "z = 10\n",
    "imshow_gray (images[z, :, :])\n",
    "print (\"Label ==\", labels[z])"
   ]
  },
  {
   "cell_type": "markdown",
   "metadata": {},
   "source": [
    "## Apply PCA"
   ]
  },
  {
   "cell_type": "markdown",
   "metadata": {},
   "source": [
    "**Step 1.** Compute the mean image."
   ]
  },
  {
   "cell_type": "code",
   "execution_count": null,
   "metadata": {
    "collapsed": false
   },
   "outputs": [],
   "source": [
    "mean_image = np.mean (images, axis=0)\n",
    "imshow_gray (mean_image)"
   ]
  },
  {
   "cell_type": "markdown",
   "metadata": {},
   "source": [
    "**Step 2.** Subtract the mean away from each image."
   ]
  },
  {
   "cell_type": "code",
   "execution_count": null,
   "metadata": {
    "collapsed": true
   },
   "outputs": [],
   "source": [
    "images_adj = images - mean_image"
   ]
  },
  {
   "cell_type": "markdown",
   "metadata": {},
   "source": [
    "**Step 3.** Form a data matrix."
   ]
  },
  {
   "cell_type": "code",
   "execution_count": null,
   "metadata": {
    "collapsed": false
   },
   "outputs": [],
   "source": [
    "# Create a data matrix\n",
    "num_images, height, width = images.shape\n",
    "X = np.reshape (images_adj, (num_images, height*width))\n",
    "print (X.shape)"
   ]
  },
  {
   "cell_type": "markdown",
   "metadata": {},
   "source": [
    "**Step 4.** Compute the SVD."
   ]
  },
  {
   "cell_type": "code",
   "execution_count": null,
   "metadata": {
    "collapsed": false
   },
   "outputs": [],
   "source": [
    "(U, Sigma, VT) = np.linalg.svd (X, full_matrices=False)"
   ]
  },
  {
   "cell_type": "code",
   "execution_count": null,
   "metadata": {
    "collapsed": false
   },
   "outputs": [],
   "source": [
    "# Plot the spectrum\n",
    "df_Sigma = peek_Sigma (Sigma, ret_df=True)\n",
    "\n",
    "plt.plot (df_Sigma['i'],\n",
    "          df_Sigma['sigma_i'] * np.power (df_Sigma['i']+1, -.01),\n",
    "          color=\"red\",\n",
    "          linewidth=1)"
   ]
  },
  {
   "cell_type": "code",
   "execution_count": null,
   "metadata": {
    "collapsed": false,
    "scrolled": true
   },
   "outputs": [],
   "source": [
    "# Visualize the first few principal components\n",
    "k_viz = 4\n",
    "fig, axs = plt.subplots (1, k_viz, figsize=(10, 10*k_viz))\n",
    "for k in range (k_viz):\n",
    "    imshow_gray (np.reshape (VT[k, :], (height, width)), ax=axs[k])"
   ]
  },
  {
   "cell_type": "markdown",
   "metadata": {},
   "source": [
    "**Step 5.** Project the data onto the first $k$ principal axes."
   ]
  },
  {
   "cell_type": "code",
   "execution_count": null,
   "metadata": {
    "collapsed": true
   },
   "outputs": [],
   "source": [
    "k = 2\n",
    "Y = X.dot (VT[:k, :].T)"
   ]
  },
  {
   "cell_type": "markdown",
   "metadata": {},
   "source": [
    "Let's make an interactive plot of the projection."
   ]
  },
  {
   "cell_type": "code",
   "execution_count": null,
   "metadata": {
    "collapsed": true
   },
   "outputs": [],
   "source": [
    "thumbnails = [gnp2thumbnail (gnp) for gnp in images]"
   ]
  },
  {
   "cell_type": "code",
   "execution_count": null,
   "metadata": {
    "collapsed": false
   },
   "outputs": [],
   "source": [
    "show (make_scatter2d_images (Y[:, 0], Y[:, 1],\n",
    "                             names=labels,\n",
    "                             image_files=thumbnails,\n",
    "                             clustering=labels))"
   ]
  },
  {
   "cell_type": "code",
   "execution_count": null,
   "metadata": {
    "collapsed": false
   },
   "outputs": [],
   "source": [
    "imshow_gray (images[2705, :, :])"
   ]
  },
  {
   "cell_type": "code",
   "execution_count": null,
   "metadata": {
    "collapsed": false
   },
   "outputs": [],
   "source": [
    "imshow_gray (images[1407, :, :])"
   ]
  },
  {
   "cell_type": "markdown",
   "metadata": {},
   "source": [
    "## Cluster the low-dimensional representation using $k$-means"
   ]
  },
  {
   "cell_type": "code",
   "execution_count": null,
   "metadata": {
    "collapsed": true
   },
   "outputs": [],
   "source": [
    "num_components = 10 # Number of principal components\n",
    "Y = X.dot (VT[:num_components, :].T)\n",
    "\n",
    "num_clusters = 4\n",
    "centers, distortion = kmeans (Y, num_clusters)\n",
    "clustering, _ = vq (Y, centers)"
   ]
  },
  {
   "cell_type": "code",
   "execution_count": null,
   "metadata": {
    "collapsed": false
   },
   "outputs": [],
   "source": [
    "show (make_scatter2d_images (Y[:, 0], Y[:, 1],\n",
    "                             names=labels,\n",
    "                             image_files=thumbnails,\n",
    "                             clustering=clustering))"
   ]
  },
  {
   "cell_type": "code",
   "execution_count": null,
   "metadata": {
    "collapsed": false
   },
   "outputs": [],
   "source": [
    "imshow_gray (images[8801, :, :])"
   ]
  },
  {
   "cell_type": "code",
   "execution_count": null,
   "metadata": {
    "collapsed": false
   },
   "outputs": [],
   "source": [
    "imshow_gray (images[93, :, :])"
   ]
  },
  {
   "cell_type": "markdown",
   "metadata": {},
   "source": [
    "## References\n",
    "\n",
    "Today's notebook uses a bunch of library modules and coding tricks; if you want to learn more, see these references.\n",
    "\n",
    "_Image manipulation_\n",
    "* Working with TIFFs: http://stackoverflow.com/questions/7569553/working-with-tiffs-import-export-in-python-using-numpy\n",
    "* Displaying PIL images inline: http://stackoverflow.com/questions/26649716/how-to-show-pil-image-in-ipython-notebook\n",
    "* Convert to grayscale: http://stackoverflow.com/questions/12201577/how-can-i-convert-an-rgb-image-into-grayscale-in-python\n",
    "* MNIST digit recognition database: http://yann.lecun.com/exdb/mnist/\n",
    "\n",
    "_PCA in Python_\n",
    "* http://scikit-learn.org/stable/modules/generated/sklearn.decomposition.PCA.html"
   ]
  }
 ],
 "metadata": {
  "kernelspec": {
   "display_name": "Python 3",
   "language": "python",
   "name": "python3"
  },
  "language_info": {
   "codemirror_mode": {
    "name": "ipython",
    "version": 3
   },
   "file_extension": ".py",
   "mimetype": "text/x-python",
   "name": "python",
   "nbconvert_exporter": "python",
   "pygments_lexer": "ipython3",
   "version": "3.5.1"
  }
 },
 "nbformat": 4,
 "nbformat_minor": 0
}
