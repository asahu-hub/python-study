{
 "cells": [
  {
   "cell_type": "markdown",
   "metadata": {
    "nbgrader": {
     "grade": false,
     "locked": true,
     "solution": false
    }
   },
   "source": [
    "**Important note**! Before you turn in this lab notebook, make sure everything runs as expected:\n",
    "\n",
    "- First, restart the kernel -- in the menubar, select Kernel → Restart.\n",
    "- Then run all cells -- in the menubar, select Cell → Run All.\n",
    "\n",
    "Make sure you fill in any place that says YOUR CODE HERE or \"YOUR ANSWER HERE.\""
   ]
  },
  {
   "cell_type": "markdown",
   "metadata": {
    "nbgrader": {
     "grade": false,
     "locked": true,
     "solution": false
    }
   },
   "source": [
    "# Air and Ground Travel Times\n",
    "\n",
    "In this problem, you analyze travel times between cities in the United States. You will use several datasets, including a subset of data from a [Kaggle dataset](https://www.kaggle.com/giovamata/airlinedelaycauses/data).\n",
    "\n",
    "The goals of this problem are to find the average flight time between two cities and to find the roundtrip time between two cities using ground travel."
   ]
  },
  {
   "cell_type": "markdown",
   "metadata": {
    "collapsed": true,
    "nbgrader": {
     "grade": false,
     "locked": true,
     "solution": false
    }
   },
   "source": [
    "The first set of code cells sets up the problem and loads the Kaggle dataset into a Pandas dataframe (`flighttimes`). The `flighttimes` table contains the flight departure and arrival times of over 1 million flights. There are four columns in the table: **DepTime**, which is the departure time of the flight (in Army time); **ArrTime**, which is the arrival time of the flight (in Army time); **Origin**, which is the three-letter airport code for the origin (or departure) airport; and **Dest**, which is the three-letter airport code for the destination airport.  "
   ]
  },
  {
   "cell_type": "code",
   "execution_count": 1,
   "metadata": {
    "nbgrader": {
     "grade": false,
     "locked": true,
     "solution": false
    }
   },
   "outputs": [
    {
     "name": "stdout",
     "output_type": "stream",
     "text": [
      "'FlightInfo.csv' is ready!\n",
      "'airports.csv' is ready!\n",
      "'city_average_times_soln.csv' is ready!\n",
      "'city_ids.csv' is ready!\n",
      "'city_travel_times_soln.csv' is ready!\n",
      "'flight_times_soln.csv' is ready!\n",
      "'flights.csv' is ready!\n",
      "'ground_distances_cities.csv' is ready!\n",
      "Loading flighttimes dataset as DataFrame...\n",
      "flighttimes dataset successfully loaded as Pandas DataFrame!\n",
      "The First 5 Lines of the flighttimes Dataset: \n",
      "  DepTime ArrTime Origin Dest\n",
      "0   20:03   22:11    IAD  TPA\n",
      "1   07:54   10:02    IAD  TPA\n",
      "2   06:28   08:04    IND  BWI\n",
      "3   18:29   19:59    IND  BWI\n",
      "4   19:40   21:21    IND  JAX\n"
     ]
    }
   ],
   "source": [
    "# Load flighttimes dataset\n",
    "from cse6040utils import download_all, canonicalize_tibble, tibbles_are_equivalent\n",
    "import pandas as pd\n",
    "import numpy as np\n",
    "\n",
    "datasets = {'FlightInfo.csv': '64ac75c61dc09a3a7bb2a856a27f9584',\n",
    "            'airports.csv': '07349facc5ac5e73a34f084f1a261148',\n",
    "            'city_average_times_soln.csv': 'fccce0d257ba51d9518469e67963696b',\n",
    "            'city_ids.csv': 'b78508ea9768a41fc2bcfa3f10056a6d',\n",
    "            'city_travel_times_soln.csv': '104213b86e5082c22176d3b811cbf094',\n",
    "            'flight_times_soln.csv': '967dd2f4e66999c76889c6e159be0169',\n",
    "            'flights.csv': 'd9313f61c4689f20184bccb9e89afd6d',\n",
    "            'ground_distances_cities.csv': 'ac64e84c460ea41244d7b4f254311b1c'}\n",
    "datapaths = download_all(datasets, local_suffix='flight-paths/', url_suffix='flight-paths/')\n",
    "\n",
    "print('Loading flighttimes dataset as DataFrame...')\n",
    "# Data preprocessing on flighttimes dataset\n",
    "FlightInfo = pd.read_csv(datapaths['FlightInfo.csv'])\n",
    "d = FlightInfo['DepTime'].tolist()\n",
    "a = FlightInfo['ArrTime'].tolist()\n",
    "\n",
    "for i,j in enumerate(d):\n",
    "    if len(str(int(j))) == 3:\n",
    "        d[i] = '0{}:{}'.format(str(int(j))[0], str(int(j))[1:])\n",
    "    elif len(str(int(j))) == 4:\n",
    "        d[i] = '{}:{}'.format(str(int(j))[:2], str(int(j))[2:])\n",
    "    else:\n",
    "        d[i] = np.nan\n",
    "\n",
    "for i,j in enumerate(a):\n",
    "    if len(str(int(j))) == 3:\n",
    "        a[i] = '0{}:{}'.format(str(int(j))[0], str(int(j))[1:])\n",
    "    elif len(str(int(j))) == 4:\n",
    "        a[i] = '{}:{}'.format(str(int(j))[:2], str(int(j))[2:])\n",
    "    else:\n",
    "        a[i] = np.nan\n",
    "        \n",
    "FlightInfo['DepTime'] = d\n",
    "FlightInfo['ArrTime'] = a\n",
    "\n",
    "flighttimes = FlightInfo.dropna()\n",
    "\n",
    "print('flighttimes dataset successfully loaded as Pandas DataFrame!')\n",
    "print('The First 5 Lines of the flighttimes Dataset: ')\n",
    "print(flighttimes.head())"
   ]
  },
  {
   "cell_type": "markdown",
   "metadata": {
    "nbgrader": {
     "grade": false,
     "locked": true,
     "solution": false
    }
   },
   "source": [
    "To find the average time between unique flights, we must first compute the time between each of the flights in the data. \n",
    "\n",
    "**Exercise 0** (2 points). Create a dataframe, `flight_times`, that includes the time in minutes between the `ArrTime` and `DepTime` of each flight in the `flighttimes` dataset. The final result should have three columns:\n",
    "\n",
    "* **`'Origin'`**: the origin airport three-letter code;\n",
    "* **`'Dest'`**: the destination airport three-letter code; and\n",
    "* **`'Time'`**: the time between `ArrTime` and `DepTime` in minutes. \n",
    "\n",
    "Note that some of the **Time** values may be negative, or even zero. In such cases, the most likely explanation is a \"wraparound\" effect, where `ArrTime` appears to occur before `DepTime`. **For simplicity, any such negative (or even any zero) values should be removed from the final dataFrame.**"
   ]
  },
  {
   "cell_type": "code",
   "execution_count": 30,
   "metadata": {
    "nbgrader": {
     "grade": false,
     "grade_id": "flight_times_response",
     "locked": false,
     "solution": true
    }
   },
   "outputs": [
    {
     "data": {
      "text/html": [
       "<div>\n",
       "<style scoped>\n",
       "    .dataframe tbody tr th:only-of-type {\n",
       "        vertical-align: middle;\n",
       "    }\n",
       "\n",
       "    .dataframe tbody tr th {\n",
       "        vertical-align: top;\n",
       "    }\n",
       "\n",
       "    .dataframe thead th {\n",
       "        text-align: right;\n",
       "    }\n",
       "</style>\n",
       "<table border=\"1\" class=\"dataframe\">\n",
       "  <thead>\n",
       "    <tr style=\"text-align: right;\">\n",
       "      <th></th>\n",
       "      <th>Origin</th>\n",
       "      <th>Dest</th>\n",
       "      <th>Time</th>\n",
       "    </tr>\n",
       "  </thead>\n",
       "  <tbody>\n",
       "    <tr>\n",
       "      <th>0</th>\n",
       "      <td>IAD</td>\n",
       "      <td>TPA</td>\n",
       "      <td>128</td>\n",
       "    </tr>\n",
       "    <tr>\n",
       "      <th>1</th>\n",
       "      <td>IAD</td>\n",
       "      <td>TPA</td>\n",
       "      <td>128</td>\n",
       "    </tr>\n",
       "    <tr>\n",
       "      <th>2</th>\n",
       "      <td>IND</td>\n",
       "      <td>BWI</td>\n",
       "      <td>96</td>\n",
       "    </tr>\n",
       "    <tr>\n",
       "      <th>3</th>\n",
       "      <td>IND</td>\n",
       "      <td>BWI</td>\n",
       "      <td>90</td>\n",
       "    </tr>\n",
       "    <tr>\n",
       "      <th>4</th>\n",
       "      <td>IND</td>\n",
       "      <td>JAX</td>\n",
       "      <td>101</td>\n",
       "    </tr>\n",
       "  </tbody>\n",
       "</table>\n",
       "</div>"
      ],
      "text/plain": [
       "  Origin Dest  Time\n",
       "0    IAD  TPA   128\n",
       "1    IAD  TPA   128\n",
       "2    IND  BWI    96\n",
       "3    IND  BWI    90\n",
       "4    IND  JAX   101"
      ]
     },
     "execution_count": 30,
     "metadata": {},
     "output_type": "execute_result"
    }
   ],
   "source": [
    "flight_times = flighttimes.copy()\n",
    "flight_times = flight_times[['Origin', 'Dest', 'DepTime', 'ArrTime']]\n",
    "flight_times['DepTime'] = flight_times['DepTime'] + ':00'\n",
    "flight_times['ArrTime'] = flight_times['ArrTime'] + ':00'\n",
    "flight_times['DepTime'] = pd.to_timedelta(flight_times['DepTime'], unit='m')\n",
    "flight_times['ArrTime'] = pd.to_timedelta(flight_times['ArrTime'], unit='m')\n",
    "flight_times['Time'] = flight_times['ArrTime'] - flight_times['DepTime']\n",
    "flight_times['Time'] = (flight_times['Time'].dt.total_seconds() / 60)\n",
    "flight_times = flight_times[flight_times['Time'] > 0]\n",
    "flight_times = flight_times.drop(['DepTime', 'ArrTime'], axis=1)\n",
    "flight_times['Time'] = flight_times['Time'].astype(int)\n",
    "\n",
    "flight_times.head()\n"
   ]
  },
  {
   "cell_type": "code",
   "execution_count": 31,
   "metadata": {
    "nbgrader": {
     "grade": true,
     "grade_id": "flight_times",
     "locked": true,
     "points": "2",
     "solution": false
    }
   },
   "outputs": [
    {
     "name": "stdout",
     "output_type": "stream",
     "text": [
      "===== First 5 Lines of Your Solution =====\n",
      "  Origin Dest  Time\n",
      "0    IAD  TPA   128\n",
      "1    IAD  TPA   128\n",
      "2    IND  BWI    96\n",
      "3    IND  BWI    90\n",
      "4    IND  JAX   101\n",
      "\n",
      "\n",
      "===== First 5 Lines of Instructor Solution =====\n",
      "  Origin Dest  Time\n",
      "0    IAD  TPA   128\n",
      "1    IAD  TPA   128\n",
      "2    IND  BWI    96\n",
      "3    IND  BWI    90\n",
      "4    IND  JAX   101\n",
      "\n",
      " Checking if DataFrames Match...\n",
      "\n",
      "(Passed!)\n"
     ]
    }
   ],
   "source": [
    "## TEST CODE EXERCISE 0 - flight_times\n",
    "\n",
    "flight_times_soln = pd.read_csv(datapaths['flight_times_soln.csv'])\n",
    "\n",
    "print('===== First 5 Lines of Your Solution =====')\n",
    "print(flight_times.head())\n",
    "\n",
    "print('\\n')\n",
    "print('===== First 5 Lines of Instructor Solution =====')\n",
    "print(flight_times_soln.head())\n",
    "\n",
    "print('\\n Checking if DataFrames Match...')\n",
    "assert tibbles_are_equivalent(flight_times, flight_times_soln) == True, print('\\n DataFrames do not match')\n",
    "print(\"\\n(Passed!)\")"
   ]
  },
  {
   "cell_type": "markdown",
   "metadata": {
    "nbgrader": {
     "grade": false,
     "locked": true,
     "solution": false
    }
   },
   "source": [
    "For the next part of this problem, we will load in a dataset containing the city names corresponding to each of the airports."
   ]
  },
  {
   "cell_type": "code",
   "execution_count": 32,
   "metadata": {
    "nbgrader": {
     "grade": false,
     "locked": true,
     "solution": false
    }
   },
   "outputs": [
    {
     "name": "stdout",
     "output_type": "stream",
     "text": [
      "  Code                                 Name         City State\n",
      "0  ABE  Lehigh Valley International Airport    Allentown    PA\n",
      "1  ABI             Abilene Regional Airport      Abilene    TX\n",
      "2  ABQ    Albuquerque International Sunport  Albuquerque    NM\n",
      "3  ABR            Aberdeen Regional Airport     Aberdeen    SD\n",
      "4  ABY   Southwest Georgia Regional Airport       Albany    GA\n"
     ]
    }
   ],
   "source": [
    "# Load airports dataset into Pandas DataFrame\n",
    "airports = pd.read_csv(datapaths['airports.csv'])\n",
    "print(airports.head())"
   ]
  },
  {
   "cell_type": "markdown",
   "metadata": {
    "nbgrader": {
     "grade": false,
     "locked": true,
     "solution": false
    }
   },
   "source": [
    "**Exercise 1** (2 points). Replace the airport codes from execise 0 with their city and state using the airports dataset. Store the result in a DataFrame named `city_travel_times`. The final result should have three columns:\n",
    "\n",
    "* **`'origin_city'`**: the origin city of the flight, in the form \"City, State\";\n",
    "* **`'destination_city'`**: the destination city of the flight, in the form \"City, State\";\n",
    "* and **`'Time'`**: same column and values as the previous exercise, i.e., the time between `'ArrTime'` and `'DepTime'` in minutes.\n",
    "\n",
    "This final dataframe should only have the rows in which the origin and destination are present in your `flight_times` dataframe as well as the `airports` dataframe.\n",
    "\n",
    "Note that some airports have the same city and state. For the purposes of this problem, you do NOT have to differentiate between those airports. For example, `IAD` and `DCA` will both have the same `origin_city`, `\"Washington, DC\"`. "
   ]
  },
  {
   "cell_type": "code",
   "execution_count": 45,
   "metadata": {
    "nbgrader": {
     "grade": false,
     "grade_id": "city_travel_times",
     "locked": false,
     "solution": true
    }
   },
   "outputs": [
    {
     "data": {
      "text/html": [
       "<div>\n",
       "<style scoped>\n",
       "    .dataframe tbody tr th:only-of-type {\n",
       "        vertical-align: middle;\n",
       "    }\n",
       "\n",
       "    .dataframe tbody tr th {\n",
       "        vertical-align: top;\n",
       "    }\n",
       "\n",
       "    .dataframe thead th {\n",
       "        text-align: right;\n",
       "    }\n",
       "</style>\n",
       "<table border=\"1\" class=\"dataframe\">\n",
       "  <thead>\n",
       "    <tr style=\"text-align: right;\">\n",
       "      <th></th>\n",
       "      <th>origin_city</th>\n",
       "      <th>destination_city</th>\n",
       "      <th>Time</th>\n",
       "    </tr>\n",
       "  </thead>\n",
       "  <tbody>\n",
       "    <tr>\n",
       "      <th>0</th>\n",
       "      <td>Washington, DC</td>\n",
       "      <td>Tampa, FL</td>\n",
       "      <td>128</td>\n",
       "    </tr>\n",
       "    <tr>\n",
       "      <th>1</th>\n",
       "      <td>Washington, DC</td>\n",
       "      <td>Tampa, FL</td>\n",
       "      <td>128</td>\n",
       "    </tr>\n",
       "    <tr>\n",
       "      <th>2</th>\n",
       "      <td>Washington, DC</td>\n",
       "      <td>Tampa, FL</td>\n",
       "      <td>126</td>\n",
       "    </tr>\n",
       "    <tr>\n",
       "      <th>3</th>\n",
       "      <td>Washington, DC</td>\n",
       "      <td>Tampa, FL</td>\n",
       "      <td>137</td>\n",
       "    </tr>\n",
       "    <tr>\n",
       "      <th>4</th>\n",
       "      <td>Washington, DC</td>\n",
       "      <td>Tampa, FL</td>\n",
       "      <td>133</td>\n",
       "    </tr>\n",
       "  </tbody>\n",
       "</table>\n",
       "</div>"
      ],
      "text/plain": [
       "      origin_city destination_city  Time\n",
       "0  Washington, DC        Tampa, FL   128\n",
       "1  Washington, DC        Tampa, FL   128\n",
       "2  Washington, DC        Tampa, FL   126\n",
       "3  Washington, DC        Tampa, FL   137\n",
       "4  Washington, DC        Tampa, FL   133"
      ]
     },
     "execution_count": 45,
     "metadata": {},
     "output_type": "execute_result"
    }
   ],
   "source": [
    "city_travel_times = flight_times.merge(airports, how='inner', left_on='Origin', right_on='Code')\n",
    "city_travel_times = city_travel_times.drop(['Origin', 'Name', 'Code'], axis=1)\n",
    "city_travel_times = city_travel_times.merge(airports, how='inner', left_on='Dest', right_on='Code')\n",
    "city_travel_times = city_travel_times.drop(['Dest', 'Name', 'Code'], axis=1)\n",
    "city_travel_times['origin_city'] = city_travel_times['City_x'] + ', ' + city_travel_times['State_x'] \n",
    "city_travel_times['destination_city'] = city_travel_times['City_y'] + ', ' + city_travel_times['State_y'] \n",
    "city_travel_times = city_travel_times[['origin_city', 'destination_city', 'Time']]\n",
    "\n",
    "city_travel_times.head()\n"
   ]
  },
  {
   "cell_type": "code",
   "execution_count": 46,
   "metadata": {
    "nbgrader": {
     "grade": true,
     "grade_id": "city_travel_times_soln",
     "locked": true,
     "points": "2",
     "solution": false
    }
   },
   "outputs": [
    {
     "name": "stdout",
     "output_type": "stream",
     "text": [
      "===== First 5 Lines of Your Solution =====\n",
      "      origin_city destination_city  Time\n",
      "0  Washington, DC        Tampa, FL   128\n",
      "1  Washington, DC        Tampa, FL   128\n",
      "2  Washington, DC        Tampa, FL   126\n",
      "3  Washington, DC        Tampa, FL   137\n",
      "4  Washington, DC        Tampa, FL   133\n",
      "\n",
      "\n",
      "====== First 5 Lines of Instructor Solution =====\n",
      "      origin_city destination_city  Time\n",
      "0  Washington, DC        Tampa, FL   128\n",
      "1  Washington, DC        Tampa, FL   128\n",
      "2  Washington, DC        Tampa, FL   126\n",
      "3  Washington, DC        Tampa, FL   137\n",
      "4  Washington, DC        Tampa, FL   133\n",
      "\n",
      " Checking if DataFrames Match...\n",
      "\n",
      "(Passed!)\n"
     ]
    }
   ],
   "source": [
    "## TEST CODE EXERCISE 1 - city_travel_times\n",
    "city_travel_times_soln = pd.read_csv(datapaths['city_travel_times_soln.csv'])\n",
    "\n",
    "print('===== First 5 Lines of Your Solution =====')\n",
    "print(city_travel_times.head())\n",
    "\n",
    "print('\\n')\n",
    "print('====== First 5 Lines of Instructor Solution =====')\n",
    "print(city_travel_times_soln.head())\n",
    "\n",
    "print('\\n Checking if DataFrames Match...')\n",
    "assert tibbles_are_equivalent(city_travel_times, city_travel_times_soln) == True, print(\"\\n DataFrames do not match\")\n",
    "print(\"\\n(Passed!)\")"
   ]
  },
  {
   "cell_type": "markdown",
   "metadata": {
    "nbgrader": {
     "grade": false,
     "locked": true,
     "solution": false
    }
   },
   "source": [
    "Finally, we will get the average flight time for each unique city to city flight.\n",
    "\n",
    "**Exercise 2** (2 points). Create a new DataFrame, `city_average_times`, which lists the average flight time of each unique city to city flight in the `flighttimes` dataset. The final result should be a DataFrame with three columns:  **origin_city**: the origin city of the flight, in the form \"City, State\" ; **destination_city**: the destination city of the flight, in the form \"City, State\" ; and **average_time**: the average flight time between the origin and destination city. Round the results to the nearest two decimal places."
   ]
  },
  {
   "cell_type": "code",
   "execution_count": 52,
   "metadata": {
    "nbgrader": {
     "grade": false,
     "grade_id": "city_average_times_response",
     "locked": false,
     "solution": true
    }
   },
   "outputs": [
    {
     "data": {
      "text/html": [
       "<div>\n",
       "<style scoped>\n",
       "    .dataframe tbody tr th:only-of-type {\n",
       "        vertical-align: middle;\n",
       "    }\n",
       "\n",
       "    .dataframe tbody tr th {\n",
       "        vertical-align: top;\n",
       "    }\n",
       "\n",
       "    .dataframe thead th {\n",
       "        text-align: right;\n",
       "    }\n",
       "</style>\n",
       "<table border=\"1\" class=\"dataframe\">\n",
       "  <thead>\n",
       "    <tr style=\"text-align: right;\">\n",
       "      <th></th>\n",
       "      <th>origin_city</th>\n",
       "      <th>destination_city</th>\n",
       "      <th>average_time</th>\n",
       "    </tr>\n",
       "  </thead>\n",
       "  <tbody>\n",
       "    <tr>\n",
       "      <th>0</th>\n",
       "      <td>Abilene, TX</td>\n",
       "      <td>Dallas, TX</td>\n",
       "      <td>59.84</td>\n",
       "    </tr>\n",
       "    <tr>\n",
       "      <th>1</th>\n",
       "      <td>Adak Island, AK</td>\n",
       "      <td>Anchorage, AK</td>\n",
       "      <td>220.04</td>\n",
       "    </tr>\n",
       "    <tr>\n",
       "      <th>2</th>\n",
       "      <td>Aguadilla, PR</td>\n",
       "      <td>New York, NY</td>\n",
       "      <td>200.63</td>\n",
       "    </tr>\n",
       "    <tr>\n",
       "      <th>3</th>\n",
       "      <td>Aguadilla, PR</td>\n",
       "      <td>Newark, NJ</td>\n",
       "      <td>220.54</td>\n",
       "    </tr>\n",
       "    <tr>\n",
       "      <th>4</th>\n",
       "      <td>Aguadilla, PR</td>\n",
       "      <td>Orlando, FL</td>\n",
       "      <td>143.21</td>\n",
       "    </tr>\n",
       "  </tbody>\n",
       "</table>\n",
       "</div>"
      ],
      "text/plain": [
       "       origin_city destination_city  average_time\n",
       "0      Abilene, TX       Dallas, TX         59.84\n",
       "1  Adak Island, AK    Anchorage, AK        220.04\n",
       "2    Aguadilla, PR     New York, NY        200.63\n",
       "3    Aguadilla, PR       Newark, NJ        220.54\n",
       "4    Aguadilla, PR      Orlando, FL        143.21"
      ]
     },
     "execution_count": 52,
     "metadata": {},
     "output_type": "execute_result"
    }
   ],
   "source": [
    "city_average_times = city_travel_times.copy()\n",
    "city_average_times = city_average_times.groupby(['origin_city', 'destination_city']).mean().reset_index()\n",
    "city_average_times.columns = ['origin_city', 'destination_city', 'average_time']\n",
    "city_average_times['average_time'] = city_average_times['average_time'].round(2)\n",
    "\n",
    "city_average_times.head()\n"
   ]
  },
  {
   "cell_type": "code",
   "execution_count": 53,
   "metadata": {
    "nbgrader": {
     "grade": true,
     "grade_id": "city_average_times",
     "locked": true,
     "points": "2",
     "solution": false
    }
   },
   "outputs": [
    {
     "name": "stdout",
     "output_type": "stream",
     "text": [
      "===== First 5 Lines of Your Solution =====\n",
      "       origin_city destination_city  average_time\n",
      "0      Abilene, TX       Dallas, TX         59.84\n",
      "1  Adak Island, AK    Anchorage, AK        220.04\n",
      "2    Aguadilla, PR     New York, NY        200.63\n",
      "3    Aguadilla, PR       Newark, NJ        220.54\n",
      "4    Aguadilla, PR      Orlando, FL        143.21\n",
      "\n",
      "\n",
      "====== First 5 Lines of Instructor Solution =====\n",
      "       origin_city destination_city  average_time\n",
      "0      Abilene, TX       Dallas, TX         59.84\n",
      "1  Adak Island, AK    Anchorage, AK        220.04\n",
      "2    Aguadilla, PR     New York, NY        200.63\n",
      "3    Aguadilla, PR       Newark, NJ        220.54\n",
      "4    Aguadilla, PR      Orlando, FL        143.21\n",
      "\n",
      " Checking if DataFrames Match...\n",
      "\n",
      "(Passed!)\n"
     ]
    }
   ],
   "source": [
    "## TEST CODE EXERCISE 2 - city_average_times\n",
    "city_average_times_soln = pd.read_csv(datapaths['city_average_times_soln.csv'])\n",
    "\n",
    "print('===== First 5 Lines of Your Solution =====')\n",
    "print(city_average_times.head())\n",
    "\n",
    "print('\\n')\n",
    "print('====== First 5 Lines of Instructor Solution =====')\n",
    "print(city_average_times_soln.head())\n",
    "\n",
    "print('\\n Checking if DataFrames Match...')\n",
    "assert city_average_times.shape == city_average_times_soln.shape, print(\"Dimensions of your solution do not match the instructor's solution\")\n",
    "soln = pd.merge(city_average_times, city_average_times_soln, how=\"right\", on=[\"origin_city\", \"destination_city\"])\n",
    "soln_time = soln[\"average_time_y\"] - soln[\"average_time_x\"]\n",
    "tolerance = 1\n",
    "assert max(abs(soln_time)) <=tolerance, print(\"Your average time is beyond the tolerances provided\")\n",
    "print(\"\\n(Passed!)\")"
   ]
  },
  {
   "cell_type": "markdown",
   "metadata": {
    "nbgrader": {
     "grade": false,
     "locked": true,
     "solution": false
    }
   },
   "source": [
    "Next, let's look at ground travel times. In the test cell below, we generate a DataFrame, `ground_distances_cities`, that shows the average travel times (in hours) from one city to another if you did not take a plane. Note that the travel time from `A -> B` may not be the same as the travel time from `B -> A` because of traffic/waiting for trains/etc. \n",
    "\n",
    "(Also note: these are not true ground travel times. They are made up based on the distances between cities in terms of latitude/longitude. If you use these times to plan your next road trip, you may be in for a rude surprise!)"
   ]
  },
  {
   "cell_type": "code",
   "execution_count": 54,
   "metadata": {
    "nbgrader": {
     "grade": false,
     "locked": true,
     "solution": false
    }
   },
   "outputs": [
    {
     "name": "stdout",
     "output_type": "stream",
     "text": [
      "  Starting_City      Ending_City  Average_Travel_Time\n",
      "0   Abilene, TX  Adak Island, AK                80.39\n",
      "1   Abilene, TX    Aguadilla, PR                43.40\n",
      "2   Abilene, TX       Albany, GA                19.51\n",
      "3   Abilene, TX       Albany, NY                29.87\n",
      "4   Abilene, TX  Albuquerque, NM                12.41\n"
     ]
    }
   ],
   "source": [
    "ground_distances_cities = pd.read_csv(datapaths['ground_distances_cities.csv'])\n",
    "ground_distances_cities[\"Average_Travel_Time\"] = ground_distances_cities[\"Average_Travel_Time\"].round(2)\n",
    "print(ground_distances_cities.head())"
   ]
  },
  {
   "cell_type": "markdown",
   "metadata": {
    "nbgrader": {
     "grade": false,
     "locked": true,
     "solution": false
    }
   },
   "source": [
    "Next, we will assign each city a unique id and make a new DataFrame that shows the starting and ending cities in terms of their ids:"
   ]
  },
  {
   "cell_type": "code",
   "execution_count": 55,
   "metadata": {
    "nbgrader": {
     "grade": false,
     "locked": true,
     "solution": false
    }
   },
   "outputs": [
    {
     "name": "stdout",
     "output_type": "stream",
     "text": [
      "The First 5 Lines of the city_ids Dataset: \n",
      "                 id\n",
      "City               \n",
      "Abilene, TX       0\n",
      "Adak Island, AK   1\n",
      "Aguadilla, PR     2\n",
      "Albany, GA        3\n",
      "Albany, NY        4\n"
     ]
    }
   ],
   "source": [
    "# Read city ids\n",
    "city_ids = pd.read_csv(datapaths['city_ids.csv'], index_col=\"City\")\n",
    "city_codes_dict = city_ids.to_dict()[\"id\"]\n",
    "print('The First 5 Lines of the city_ids Dataset: ')\n",
    "print(city_ids.head())"
   ]
  },
  {
   "cell_type": "markdown",
   "metadata": {
    "nbgrader": {
     "grade": false,
     "locked": true,
     "solution": false
    }
   },
   "source": [
    "The name of the new DataFrame being generated is `gnd_travel_ids`. The first five lines of the DataFrame can be seen by running the code cell below:"
   ]
  },
  {
   "cell_type": "code",
   "execution_count": 56,
   "metadata": {
    "nbgrader": {
     "grade": false,
     "locked": true,
     "solution": false
    }
   },
   "outputs": [
    {
     "name": "stdout",
     "output_type": "stream",
     "text": [
      "The First 5 Lines of gnd_travel_ids: \n",
      "   Starting_City  Ending_City  Average_Travel_Time\n",
      "0              0            1                80.39\n",
      "1              0            2                43.40\n",
      "2              0            3                19.51\n",
      "3              0            4                29.87\n",
      "4              0            5                12.41\n"
     ]
    }
   ],
   "source": [
    "# Generate gnd_travel_ids DataFrame\n",
    "\n",
    "gnd_travel_ids = ground_distances_cities.copy()\n",
    "gnd_travel_ids['Starting_City'] = gnd_travel_ids['Starting_City'].map(city_codes_dict)\n",
    "gnd_travel_ids['Ending_City'] = gnd_travel_ids['Ending_City'].map(city_codes_dict)\n",
    "print('The First 5 Lines of gnd_travel_ids: ')\n",
    "print(gnd_travel_ids.head())"
   ]
  },
  {
   "cell_type": "markdown",
   "metadata": {
    "nbgrader": {
     "grade": false,
     "locked": true,
     "solution": false
    }
   },
   "source": [
    "Now, we will put the values in the `gnd_travel_ids` DataFrame into a square table, with equal number of rows and columns which represent the origins and destinations. \n",
    "\n",
    "**Exercise 3** (1 point). Create a **pandas `DataFrame`**, named `travel_matrix`, where each element in `travel_matrix`, `[origin_id, destination_id]`, is the average_travel_time for that origin_id, destination_id combination. For instance, the value for `travel_matrix[0][1]` should be 80.387829. It should be noted that there are 293 distinct city ids (ranging from 0 to 292). \n",
    "\n",
    "(Note: The function `pivot_table()` in pandas may be helpful here. Also, the diagonal entries in the table represent the same origin and destination. Such entries must be equal to zero since the direct travel time from the origin to itself is 0. In the square table, any missing values must be filled by zero as well.)"
   ]
  },
  {
   "cell_type": "code",
   "execution_count": 72,
   "metadata": {
    "nbgrader": {
     "grade": false,
     "grade_id": "travel_matrix_1_response",
     "locked": false,
     "solution": true
    }
   },
   "outputs": [
    {
     "data": {
      "text/html": [
       "<div>\n",
       "<style scoped>\n",
       "    .dataframe tbody tr th:only-of-type {\n",
       "        vertical-align: middle;\n",
       "    }\n",
       "\n",
       "    .dataframe tbody tr th {\n",
       "        vertical-align: top;\n",
       "    }\n",
       "\n",
       "    .dataframe thead th {\n",
       "        text-align: right;\n",
       "    }\n",
       "</style>\n",
       "<table border=\"1\" class=\"dataframe\">\n",
       "  <thead>\n",
       "    <tr style=\"text-align: right;\">\n",
       "      <th>Ending_City</th>\n",
       "      <th>0</th>\n",
       "      <th>1</th>\n",
       "      <th>2</th>\n",
       "      <th>3</th>\n",
       "      <th>4</th>\n",
       "      <th>5</th>\n",
       "      <th>6</th>\n",
       "      <th>7</th>\n",
       "      <th>8</th>\n",
       "      <th>9</th>\n",
       "      <th>...</th>\n",
       "      <th>283</th>\n",
       "      <th>284</th>\n",
       "      <th>285</th>\n",
       "      <th>286</th>\n",
       "      <th>287</th>\n",
       "      <th>288</th>\n",
       "      <th>289</th>\n",
       "      <th>290</th>\n",
       "      <th>291</th>\n",
       "      <th>292</th>\n",
       "    </tr>\n",
       "  </thead>\n",
       "  <tbody>\n",
       "    <tr>\n",
       "      <th>0</th>\n",
       "      <td>0.00</td>\n",
       "      <td>80.39</td>\n",
       "      <td>43.40</td>\n",
       "      <td>19.51</td>\n",
       "      <td>29.87</td>\n",
       "      <td>12.41</td>\n",
       "      <td>11.22</td>\n",
       "      <td>32.60</td>\n",
       "      <td>11.46</td>\n",
       "      <td>60.96</td>\n",
       "      <td>...</td>\n",
       "      <td>26.78</td>\n",
       "      <td>35.38</td>\n",
       "      <td>3.98</td>\n",
       "      <td>12.70</td>\n",
       "      <td>26.86</td>\n",
       "      <td>31.63</td>\n",
       "      <td>48.60</td>\n",
       "      <td>32.20</td>\n",
       "      <td>56.29</td>\n",
       "      <td>20.93</td>\n",
       "    </tr>\n",
       "    <tr>\n",
       "      <th>1</th>\n",
       "      <td>82.39</td>\n",
       "      <td>0.00</td>\n",
       "      <td>115.49</td>\n",
       "      <td>98.66</td>\n",
       "      <td>111.25</td>\n",
       "      <td>82.03</td>\n",
       "      <td>87.57</td>\n",
       "      <td>102.83</td>\n",
       "      <td>80.77</td>\n",
       "      <td>32.22</td>\n",
       "      <td>...</td>\n",
       "      <td>67.92</td>\n",
       "      <td>108.50</td>\n",
       "      <td>81.18</td>\n",
       "      <td>89.48</td>\n",
       "      <td>104.30</td>\n",
       "      <td>111.44</td>\n",
       "      <td>52.52</td>\n",
       "      <td>63.39</td>\n",
       "      <td>42.76</td>\n",
       "      <td>70.95</td>\n",
       "    </tr>\n",
       "    <tr>\n",
       "      <th>2</th>\n",
       "      <td>40.40</td>\n",
       "      <td>117.49</td>\n",
       "      <td>0.00</td>\n",
       "      <td>24.48</td>\n",
       "      <td>29.15</td>\n",
       "      <td>50.81</td>\n",
       "      <td>37.47</td>\n",
       "      <td>26.66</td>\n",
       "      <td>42.41</td>\n",
       "      <td>100.21</td>\n",
       "      <td>...</td>\n",
       "      <td>60.20</td>\n",
       "      <td>27.51</td>\n",
       "      <td>42.98</td>\n",
       "      <td>36.85</td>\n",
       "      <td>25.10</td>\n",
       "      <td>29.09</td>\n",
       "      <td>79.50</td>\n",
       "      <td>70.32</td>\n",
       "      <td>88.32</td>\n",
       "      <td>55.54</td>\n",
       "    </tr>\n",
       "    <tr>\n",
       "      <th>3</th>\n",
       "      <td>22.51</td>\n",
       "      <td>97.66</td>\n",
       "      <td>26.48</td>\n",
       "      <td>0.00</td>\n",
       "      <td>18.29</td>\n",
       "      <td>25.69</td>\n",
       "      <td>14.36</td>\n",
       "      <td>19.64</td>\n",
       "      <td>21.89</td>\n",
       "      <td>73.17</td>\n",
       "      <td>...</td>\n",
       "      <td>33.96</td>\n",
       "      <td>19.17</td>\n",
       "      <td>15.51</td>\n",
       "      <td>20.58</td>\n",
       "      <td>11.86</td>\n",
       "      <td>20.52</td>\n",
       "      <td>59.25</td>\n",
       "      <td>42.31</td>\n",
       "      <td>72.12</td>\n",
       "      <td>32.43</td>\n",
       "    </tr>\n",
       "    <tr>\n",
       "      <th>4</th>\n",
       "      <td>36.87</td>\n",
       "      <td>110.25</td>\n",
       "      <td>33.15</td>\n",
       "      <td>19.29</td>\n",
       "      <td>0.00</td>\n",
       "      <td>37.70</td>\n",
       "      <td>22.95</td>\n",
       "      <td>9.66</td>\n",
       "      <td>33.90</td>\n",
       "      <td>88.39</td>\n",
       "      <td>...</td>\n",
       "      <td>38.37</td>\n",
       "      <td>9.68</td>\n",
       "      <td>34.20</td>\n",
       "      <td>28.17</td>\n",
       "      <td>14.42</td>\n",
       "      <td>7.38</td>\n",
       "      <td>70.16</td>\n",
       "      <td>52.86</td>\n",
       "      <td>71.96</td>\n",
       "      <td>49.03</td>\n",
       "    </tr>\n",
       "  </tbody>\n",
       "</table>\n",
       "<p>5 rows × 293 columns</p>\n",
       "</div>"
      ],
      "text/plain": [
       "Ending_City    0       1       2      3       4      5      6       7    \\\n",
       "0             0.00   80.39   43.40  19.51   29.87  12.41  11.22   32.60   \n",
       "1            82.39    0.00  115.49  98.66  111.25  82.03  87.57  102.83   \n",
       "2            40.40  117.49    0.00  24.48   29.15  50.81  37.47   26.66   \n",
       "3            22.51   97.66   26.48   0.00   18.29  25.69  14.36   19.64   \n",
       "4            36.87  110.25   33.15  19.29    0.00  37.70  22.95    9.66   \n",
       "\n",
       "Ending_City    8       9    ...      283     284    285    286     287  \\\n",
       "0            11.46   60.96  ...    26.78   35.38   3.98  12.70   26.86   \n",
       "1            80.77   32.22  ...    67.92  108.50  81.18  89.48  104.30   \n",
       "2            42.41  100.21  ...    60.20   27.51  42.98  36.85   25.10   \n",
       "3            21.89   73.17  ...    33.96   19.17  15.51  20.58   11.86   \n",
       "4            33.90   88.39  ...    38.37    9.68  34.20  28.17   14.42   \n",
       "\n",
       "Ending_City     288    289    290    291    292  \n",
       "0             31.63  48.60  32.20  56.29  20.93  \n",
       "1            111.44  52.52  63.39  42.76  70.95  \n",
       "2             29.09  79.50  70.32  88.32  55.54  \n",
       "3             20.52  59.25  42.31  72.12  32.43  \n",
       "4              7.38  70.16  52.86  71.96  49.03  \n",
       "\n",
       "[5 rows x 293 columns]"
      ]
     },
     "execution_count": 72,
     "metadata": {},
     "output_type": "execute_result"
    }
   ],
   "source": [
    "travel_matrix = gnd_travel_ids.copy()\n",
    "travel_matrix = pd.pivot_table(\n",
    "    travel_matrix,\n",
    "    values='Average_Travel_Time',\n",
    "    index=['Starting_City'],\n",
    "    columns=['Ending_City']\n",
    "    ).reset_index().drop('Starting_City', axis=1).fillna(0)\n",
    "\n",
    "\n",
    "\n",
    "\n",
    "travel_matrix.head()\n",
    "\n"
   ]
  },
  {
   "cell_type": "code",
   "execution_count": 71,
   "metadata": {
    "nbgrader": {
     "grade": true,
     "grade_id": "travel_matrix_1",
     "locked": true,
     "points": "1",
     "solution": false
    }
   },
   "outputs": [
    {
     "name": "stdout",
     "output_type": "stream",
     "text": [
      "Test 1: Are all Diagonals 0?\n",
      "Yes, all Diagonals are 0! \n",
      "\n",
      "Test 2: Are the dimensions correct?\n",
      "Yes, dimensions are correct! \n",
      "\n",
      "Test 3: Checking if Select Values are the Same...\n",
      "Great! Select Values are the Same!\n",
      "\n",
      "(Passed!)\n"
     ]
    }
   ],
   "source": [
    "## TEST CODE PART 1, EXERCISE 3 - travel_matrix_1\n",
    "\n",
    "assert type(travel_matrix) is pd.DataFrame, \"`type(travel_matrix) == {}` instead of `pd.DataFrame`.\".format(type(travel_matrix))\n",
    "\n",
    "# Test 1 - All Diagonals in the Matrix are 0\n",
    "print('Test 1: Are all Diagonals 0?')\n",
    "travel_mat = np.array(travel_matrix)\n",
    "assert np.all(np.diag(travel_mat) == 0) == True\n",
    "print('Yes, all Diagonals are 0! \\n')\n",
    "# Test 2 - Dimensions\n",
    "print('Test 2: Are the dimensions correct?')\n",
    "row, col = travel_matrix.shape\n",
    "assert row == col == 293\n",
    "print('Yes, dimensions are correct! \\n')\n",
    "\n",
    "\n",
    "# Test 3 - Select Values in Matrix are the same\n",
    "tol = 1\n",
    "print('Test 3: Checking if Select Values are the Same...')\n",
    "assert abs(travel_matrix[1][0] - 80.38) < tol\n",
    "assert abs(travel_matrix[0][1] - 82.38) < tol\n",
    "assert abs(travel_matrix[30][50] - 24.47) < tol\n",
    "assert abs(travel_matrix[50][30] - 29.47) < tol\n",
    "assert abs(travel_matrix[260][118] - 96.85) < tol\n",
    "assert abs(travel_matrix[118][260] - 95.85) < tol\n",
    "assert abs(travel_matrix[3][292] - 36.43) < tol\n",
    "assert abs(travel_matrix[292][3] - 32.43) < tol\n",
    "assert abs(travel_matrix[279][256] - 15.82) < tol\n",
    "assert abs(travel_matrix[256][279] - 18.82) < tol\n",
    "print('Great! Select Values are the Same!')\n",
    "\n",
    "print('\\n(Passed!)')"
   ]
  },
  {
   "cell_type": "markdown",
   "metadata": {
    "nbgrader": {
     "grade": false,
     "locked": true,
     "solution": false
    }
   },
   "source": [
    "**Exercise 4** (3 points) Now write some code to compute a **2-D Numpy array** named `round_trip`, which contains the amount of time taken to complete a round trip between all possible origins and destinations as appear in the table `gnd_travel_ids`. Your table should be a square matrix. Any entry `(i, j)` in the matrix must contain the total time to go from `i` to `j` and back to `i`."
   ]
  },
  {
   "cell_type": "code",
   "execution_count": 85,
   "metadata": {
    "nbgrader": {
     "grade": false,
     "grade_id": "travel_matrix_2_response",
     "locked": false,
     "solution": true
    }
   },
   "outputs": [
    {
     "data": {
      "text/plain": [
       "array([[  0.  , 162.78,  83.8 , ...,  63.4 , 106.58,  43.86],\n",
       "       [162.78,   0.  , 232.98, ..., 122.78,  81.52, 141.9 ],\n",
       "       [ 83.8 , 232.98,   0.  , ..., 131.64, 180.64, 112.08],\n",
       "       ...,\n",
       "       [ 63.4 , 122.78, 131.64, ...,   0.  ,  63.18,  41.28],\n",
       "       [106.58,  81.52, 180.64, ...,  63.18,   0.  ,  90.44],\n",
       "       [ 43.86, 141.9 , 112.08, ...,  41.28,  90.44,   0.  ]])"
      ]
     },
     "execution_count": 85,
     "metadata": {},
     "output_type": "execute_result"
    }
   ],
   "source": [
    "round_trip = travel_matrix.copy()\n",
    "round_trip = np.array(round_trip)\n",
    "round_trip = round_trip + round_trip.T\n",
    "\n",
    "round_trip\n"
   ]
  },
  {
   "cell_type": "code",
   "execution_count": 86,
   "metadata": {
    "nbgrader": {
     "grade": true,
     "grade_id": "travel_matrix_2",
     "locked": true,
     "points": "3",
     "solution": false
    }
   },
   "outputs": [
    {
     "name": "stdout",
     "output_type": "stream",
     "text": [
      "\n",
      "(Passed!)\n"
     ]
    }
   ],
   "source": [
    "## TEST CODE PART 2 OF 2, EXERCISE 4 - travel_matrix_2\n",
    "import random\n",
    "n_test = 1000\n",
    "for _ in range(n_test):\n",
    "    origin = random.randint(0, 292)\n",
    "    dest = random.randint(0, 292)\n",
    "    round_travel_time = round_trip[origin, dest]\n",
    "    o1 = gnd_travel_ids[\"Starting_City\"] == origin\n",
    "    d1 = gnd_travel_ids[\"Ending_City\"] == dest\n",
    "    d2 = gnd_travel_ids[\"Starting_City\"] == dest\n",
    "    o2 = gnd_travel_ids[\"Ending_City\"] == origin\n",
    "    if origin != dest:\n",
    "        time = gnd_travel_ids[o1 & d1][\"Average_Travel_Time\"].values[0] + gnd_travel_ids[o2 & d2][\"Average_Travel_Time\"].values[0]\n",
    "        assert time == round_travel_time\n",
    "\n",
    "print('\\n(Passed!)')"
   ]
  },
  {
   "cell_type": "markdown",
   "metadata": {
    "nbgrader": {
     "grade": false,
     "locked": true,
     "solution": false
    }
   },
   "source": [
    "**Fin!** You've reached the end of this problem. Don't forget to restart the\n",
    "kernel and run the entire notebook from top-to-bottom to make sure you did\n",
    "everything correctly. If that is working, try submitting this problem. (Recall\n",
    "that you *must* submit and pass the autograder to get credit for your work!)"
   ]
  }
 ],
 "metadata": {
  "celltoolbar": "Create Assignment",
  "kernel_info": {
   "name": "python3"
  },
  "kernelspec": {
   "display_name": "Python 3.6",
   "language": "python",
   "name": "python36"
  },
  "language_info": {
   "codemirror_mode": {
    "name": "ipython",
    "version": 3
   },
   "file_extension": ".py",
   "mimetype": "text/x-python",
   "name": "python",
   "nbconvert_exporter": "python",
   "pygments_lexer": "ipython3",
   "version": "3.6.4"
  },
  "nteract": {
   "version": "0.11.9"
  }
 },
 "nbformat": 4,
 "nbformat_minor": 2
}
