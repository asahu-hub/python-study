{
 "cells": [
  {
   "cell_type": "markdown",
   "metadata": {
    "nbgrader": {
     "grade": false,
     "grade_id": "cell-6f2b19db531e74fd",
     "locked": true,
     "schema_version": 1,
     "solution": false
    }
   },
   "source": [
    "# Part 2: Mining the web: Web APIs\n",
    "\n",
    "We hope the preceding exercise was painful: even with tools to process HTML, it is rough downloading raw HTML and trying to extract information from it!\n",
    "\n",
    "> Can you think of any other reasons why scraping websites for data in this way is not a good idea?\n",
    "\n",
    "Luckily, many websites provide an application programming interface (API) for querying their data or otherwise accessing their services from your programs. For instance, Twitter provides a web API for gathering tweets, Flickr provides one for gathering image data, and Github for accessing information about repository histories.\n",
    "\n",
    "These kinds of web APIs are much easier to use than, for instance, the preceding technique which scrapes raw web pages and then has to parse the resulting HTML. Moreover, there are more scalable in the sense that the web servers can transmit structured data in a less verbose form than raw HTML.\n",
    "\n",
    "As a starting example, here is some code to look at the activity on Github related to the public version of our course's materials."
   ]
  },
  {
   "cell_type": "code",
   "execution_count": 8,
   "metadata": {
    "nbgrader": {
     "grade": false,
     "grade_id": "cell-e969cac2e271f5ec",
     "locked": true,
     "schema_version": 1,
     "solution": false
    }
   },
   "outputs": [
    {
     "name": "stdout",
     "output_type": "stream",
     "text": [
      "==> .headers: {'Date': 'Mon, 01 Oct 2018 06:12:49 GMT', 'Content-Type': 'application/json; charset=utf-8', 'Transfer-Encoding': 'chunked', 'Server': 'GitHub.com', 'Status': '200 OK', 'X-RateLimit-Limit': '60', 'X-RateLimit-Remaining': '48', 'X-RateLimit-Reset': '1538377834', 'Cache-Control': 'public, max-age=60, s-maxage=60', 'Vary': 'Accept, Accept-Encoding', 'ETag': 'W/\"9aa2a636e423429ef8cc14ce06471d43\"', 'Last-Modified': 'Sun, 30 Sep 2018 15:21:05 GMT', 'X-Poll-Interval': '60', 'X-GitHub-Media-Type': 'github.v3; format=json', 'Access-Control-Expose-Headers': 'ETag, Link, Retry-After, X-GitHub-OTP, X-RateLimit-Limit, X-RateLimit-Remaining, X-RateLimit-Reset, X-OAuth-Scopes, X-Accepted-OAuth-Scopes, X-Poll-Interval', 'Access-Control-Allow-Origin': '*', 'Strict-Transport-Security': 'max-age=31536000; includeSubdomains; preload', 'X-Frame-Options': 'deny', 'X-Content-Type-Options': 'nosniff', 'X-XSS-Protection': '1; mode=block', 'Referrer-Policy': 'origin-when-cross-origin, strict-origin-when-cross-origin', 'Content-Security-Policy': \"default-src 'none'\", 'X-Runtime-rack': '0.042372', 'Content-Encoding': 'gzip', 'X-GitHub-Request-Id': 'C6CC:3666:12FEEC0:1765F80:5BB1BAE1'} \n",
      "\n"
     ]
    }
   ],
   "source": [
    "import requests\n",
    "\n",
    "response = requests.get ('https://api.github.com/repos/cse6040/labs-fa17/events')\n",
    "\n",
    "print (\"==> .headers:\", response.headers, \"\\n\")"
   ]
  },
  {
   "cell_type": "markdown",
   "metadata": {
    "nbgrader": {
     "grade": false,
     "grade_id": "cell-2a08d680885303e5",
     "locked": true,
     "schema_version": 1,
     "solution": false
    }
   },
   "source": [
    "Note the `Content-Type` of the response:"
   ]
  },
  {
   "cell_type": "code",
   "execution_count": 9,
   "metadata": {
    "nbgrader": {
     "grade": false,
     "grade_id": "cell-89ebf4242e6c1940",
     "locked": true,
     "schema_version": 1,
     "solution": false
    }
   },
   "outputs": [
    {
     "name": "stdout",
     "output_type": "stream",
     "text": [
      "application/json; charset=utf-8\n"
     ]
    }
   ],
   "source": [
    "print (response.headers['Content-Type'])"
   ]
  },
  {
   "cell_type": "markdown",
   "metadata": {
    "nbgrader": {
     "grade": false,
     "grade_id": "cell-752159137c70eb17",
     "locked": true,
     "schema_version": 1,
     "solution": false
    }
   },
   "source": [
    "The response is in JSON format, which is an open format for exchanging semi-structured data. (JSON stands for **J**ava**S**cript **O**bject **N**otation.) JSON is designed to be human-readable and machine-readable, and maps especially well in Python to nested dictionaries. Let's take a look.\n",
    "\n",
    "> See also [this tutorial](https://www.w3schools.com/js/js_json_intro.asp) for a JSON primer. JSON is among _the_ universal formats for sharing data on the web; see, for instance, https://www.sitepoint.com/10-example-json-files/."
   ]
  },
  {
   "cell_type": "code",
   "execution_count": 10,
   "metadata": {
    "nbgrader": {
     "grade": false,
     "grade_id": "cell-4bcf26ae80bab53b",
     "locked": true,
     "schema_version": 1,
     "solution": false
    }
   },
   "outputs": [
    {
     "name": "stdout",
     "output_type": "stream",
     "text": [
      "<class 'list'>\n",
      "[\n",
      "  {\n",
      "    \"actor\": {\n",
      "      \"avatar_url\": \"https://avatars.githubusercontent.com/u/8300000?\",\n",
      "      \"display_login\": \"cizara\",\n",
      "      \"gravatar_id\": \"\",\n",
      "      \"id\": 8300000,\n",
      "      \"login\": \"cizara\",\n",
      "      \"url\": \"https://api.github.com/users/cizara\"\n",
      "    },\n",
      "    \"created_at\": \"2018-09-30T15:21:05Z\",\n",
      "    \"id\": \"8344319562\",\n",
      "    \"org\": {\n",
      "      \"avatar_url\": \"https://avatars.githubusercontent.com/u/31073927?\",\n",
      "      \"gravatar_id\": \"\",\n",
      "      \"id\": 31073927,\n",
      "      \"login\": \"cse6040\",\n",
      "      \"url\": \"https://api.github.com/orgs/cse6040\"\n",
      "    },\n",
      "    \"payload\": {\n",
      "      \"action\": \"started\"\n",
      "    },\n",
      "    \"public\": true,\n",
      "    \"repo\": {\n",
      "      \"id\": 100506580,\n",
      "      \"name\": \"cse6040/labs-fa17\",\n",
      "      \"url\": \"https://api.github.com/repos/cse6040/labs-fa17\"\n",
      "    },\n",
      "    \"type\": \"WatchEvent\"\n",
      "  },\n",
      "  {\n",
      "    \"actor\": {\n",
      "      \"avatar_url\": \"https://avatars.githubusercontent.com/u/2495855?\",\n",
      "      \"display_login\": \"govind-mukundan\",\n",
      "      \"gravatar_id\": \"\",\n",
      "      \"id\": 2495855,\n",
      "      \"login\": \"govind-mukundan\",\n",
      "      \"url\": \"https://api.github.com/users/govind-mukundan\"\n",
      "    },\n",
      "    \"created_at\": \"2018-09-25T14:32:06Z\",\n",
      "    \"id\": \"8318373210\",\n",
      "    \"org\": {\n",
      "      \"avatar_url\": \"https://avatars.githubusercontent.com/u/31073927?\",\n",
      "      \"gravatar_id\": \"\",\n",
      "      \"id\": 31073927,\n",
      "      \"login\": \"cse6040\",\n",
      "      \"url\": \"https://api.github.com/orgs/cse6040\"\n",
      "    },\n",
      "    \"payload\": {\n",
      "      \"action\": \"started\"\n",
      "    },\n",
      "    \"public\": true,\n",
      "    \"repo\": {\n",
      "      \"id\": 100506580,\n",
      "      \"name\": \"cse6040/labs-fa17\",\n",
      "      \"url\": \"https://api.github.com/repos/cse6040/labs-fa17\"\n",
      "    },\n",
      "    \"type\": \"WatchEvent\"\n",
      "  },\n",
      "  {\n",
      "    \"actor\": {\n",
      "      \"avatar_url\": \"https://avatars.githubusercontent.com/u/37394743?\",\n",
      "      \"display_login\": \"chanafee\",\n",
      "      \"gravatar_id\": \"\",\n",
      "      \"id\": 37394743,\n",
      "      \"login\": \"chanafee\",\n",
      "      \"url\": \"https://api.github.com/users/chanafee\"\n",
      "    },\n",
      "    \"created_at\": \"2018-08-25T13:32:20Z\",\n",
      "    \"id\": \"8166752267\",\n",
      "    \"org\": {\n",
      "      \"avatar_url\": \"https://avatars.githubusercontent.com/u/31073927?\",\n",
      "      \"gravatar_id\": \"\",\n",
      "      \"id\": 31073927,\n",
      "      \"login\": \"cse6040\",\n",
      "      \"url\": \"https://api.github.com/orgs/cse6040\"\n",
      "    },\n",
      "    \"payload\": {\n",
      "      \"forkee\": {\n",
      "        \"archive_url\": \"https://api.github.com/repos/chanafee/labs-fa17/{archive_format}{/ref}\",\n",
      "        \"archived\": false,\n",
      "        \"assignees_url\": \"https://api.github.com/repos/chanafee/labs-fa17/assignees{/user}\",\n",
      "        \"blobs_url\": \"https://api.github.com/repos/chanafee/labs-fa17/git/blobs{/sha}\",\n",
      "        \"branches_url\": \"https://api.github.com/repos/chanafee/labs-fa17/branches{/branch}\",\n",
      "        \"clone_url\": \"https://github.com/chanafee/labs-fa17.git\",\n",
      "        \"collaborators_url\": \"https://api.github.com/repos/chanafee/labs-fa17/collaborators{/collaborator}\",\n",
      "        \"comments_url\": \"https://api.github.com/repos/chanafee/labs-fa17/comments{/number}\",\n",
      "        \"commits_url\": \"https://api.github.com/repos/chanafee/labs-fa17/commits{/sha}\",\n",
      "        \"compare_url\": \"https://api.github.com/repos/chanafee/labs-fa17/compare/{base}...{head}\",\n",
      "        \"contents_url\": \"https://api.github.com/repos/chanafee/labs-fa17/contents/{+path}\",\n",
      "        \"contributors_url\": \"https://api.github.com/repos/chanafee/labs-fa17/contributors\",\n",
      "        \"created_at\": \"2018-08-25T13:32:20Z\",\n",
      "        \"default_branch\": \"master\",\n",
      "        \"deployments_url\": \"https://api.github.com/repos/chanafee/labs-fa17/deployments\",\n",
      "        \"description\": \"Lab notebooks for the Fall 2017 offering of Georgia Tech's CSE 6040\",\n",
      "        \"downloads_url\": \"https://api.github.com/repos/chanafee/labs-fa17/downloads\",\n",
      "        \"events_url\": \"https://api.github.com/repos/chanafee/labs-fa17/events\",\n",
      "        \"fork\": true,\n",
      "        \"forks\": 0,\n",
      "        \"forks_count\": 0,\n",
      "        \"forks_url\": \"https://api.github.com/repos/chanafee/labs-fa17/forks\",\n",
      "        \"full_name\": \"chanafee/labs-fa17\",\n",
      "        \"git_commits_url\": \"https://api.github.com/repos/chanafee/labs-fa17/git/commits{/sha}\",\n",
      "        \"git_refs_url\": \"https://api.github.com/repos/chanafee/labs-fa17/git/refs{/sha}\",\n",
      "        \"git_tags_url\": \"https://api.github.com/repos/chanafee/labs-fa17/git/tags{/sha}\",\n",
      "        \"git_url\": \"git://github.com/chanafee/labs-fa17.git\",\n",
      "        \"has_downloads\": true,\n",
      "        \"has_issues\": false,\n",
      "        \"has_pages\": false,\n",
      "        \"has_projects\": true,\n",
      "        \"has_wiki\": true,\n",
      "        \"homepage\": null,\n",
      "        \"hooks_url\": \"https://api.github.com/repos/chanafee/labs-fa17/hooks\",\n",
      "        \"html_url\": \"https://github.com/chanafee/labs-fa17\",\n",
      "        \"id\": 146097862,\n",
      "        \"issue_comment_url\": \"https://api.github.com/repos/chanafee/labs-fa17/issues/comments{/number}\",\n",
      "        \"issue_events_url\": \"https://api.github.com/repos/chanafee/labs-fa17/issues/events{/number}\",\n",
      "        \"issues_url\": \"https://api.github.com/repos/chanafee/labs-fa17/issues{/number}\",\n",
      "        \"keys_url\": \"https://api.github.com/repos/chanafee/labs-fa17/keys{/key_id}\",\n",
      "        \"labels_url\": \"https://api.github.com/repos/chanafee/labs-fa17/labels{/name}\",\n",
      "        \"language\": null,\n",
      "        \"languages_url\": \"https://api.github.com/repos/chanafee/labs-fa17/languages\",\n",
      "        \"license\": null,\n",
      "        \"merges_url\": \"https://api.github.com/repos/chanafee/labs-fa17/merges\",\n",
      "        \"milestones_url\": \"https://api.github.com/repos/chanafee/labs-fa17/milestones{/number}\",\n",
      "        \"mirror_url\": null,\n",
      "        \"name\": \"labs-fa17\",\n",
      "        \"node_id\": \"MDEwOlJlcG9zaXRvcnkxNDYwOTc4NjI=\",\n",
      "        \"notifications_url\": \"https://api.github.com/repos/chanafee/labs-fa17/notifications{?since,all,participating}\",\n",
      "        \"open_issues\": 0,\n",
      "        \"open_issues_count\": 0,\n",
      "        \"owner\": {\n",
      "          \"avatar_url\": \"https://avatars1.githubusercontent.com/u/37394743?v=4\",\n",
      "          \"events_url\": \"https://api.github.com/users/chanafee/events{/privacy}\",\n",
      "          \"followers_url\": \"https://api.github.com/users/chanafee/followers\",\n",
      "          \"following_url\": \"https://api.github.com/users/chanafee/following{/other_user}\",\n",
      "          \"gists_url\": \"https://api.github.com/users/chanafee/gists{/gist_id}\",\n",
      "          \"gravatar_id\": \"\",\n",
      "          \"html_url\": \"https://github.com/chanafee\",\n",
      "          \"id\": 37394743,\n",
      "          \"login\": \"chanafee\",\n",
      "          \"node_id\": \"MDQ6VXNlcjM3Mzk0NzQz\",\n",
      "          \"organizations_url\": \"https://api.github.com/users/chanafee/orgs\",\n",
      "          \"received_events_url\": \"https://api.github.com/users/chanafee/received_events\",\n",
      "          \"repos_url\": \"https://api.github.com/users/chanafee/repos\",\n",
      "          \"site_admin\": false,\n",
      "          \"starred_url\": \"https://api.github.com/users/chanafee/starred{/owner}{/repo}\",\n",
      "          \"subscriptions_url\": \"https://api.github.com/users/chanafee/subscriptions\",\n",
      "          \"type\": \"User\",\n",
      "          \"url\": \"https://api.github.com/users/chanafee\"\n",
      "        },\n",
      "        \"private\": false,\n",
      "        \"public\": true,\n",
      "        \"pulls_url\": \"https://api.github.com/repos/chanafee/labs-fa17/pulls{/number}\",\n",
      "        \"pushed_at\": \"2017-11-26T05:20:15Z\",\n",
      "        \"releases_url\": \"https://api.github.com/repos/chanafee/labs-fa17/releases{/id}\",\n",
      "        \"size\": 34810,\n",
      "        \"ssh_url\": \"git@github.com:chanafee/labs-fa17.git\",\n",
      "        \"stargazers_count\": 0,\n",
      "        \"stargazers_url\": \"https://api.github.com/repos/chanafee/labs-fa17/stargazers\",\n",
      "        \"statuses_url\": \"https://api.github.com/repos/chanafee/labs-fa17/statuses/{sha}\",\n",
      "        \"subscribers_url\": \"https://api.github.com/repos/chanafee/labs-fa17/subscribers\",\n",
      "        \"subscription_url\": \"https://api.github.com/repos/chanafee/labs-fa17/subscription\",\n",
      "        \"svn_url\": \"https://github.com/chanafee/labs-fa17\",\n",
      "        \"tags_url\": \"https://api.github.com/repos/chanafee/labs-fa17/tags\",\n",
      "        \"teams_url\": \"https://api.github.com/repos/chanafee/labs-fa17/teams\",\n",
      "        \"trees_url\": \"https://api.github.com/repos/chanafee/labs-fa17/git/trees{/sha}\",\n",
      "        \"updated_at\": \"2018-08-15T05:22:49Z\",\n",
      "        \"url\": \"https://api.github.com/repos/chanafee/labs-fa17\",\n",
      "        \"watchers\": 0,\n",
      "        \"watchers_count\": 0\n",
      "      }\n",
      "    },\n",
      "    \"public\": true,\n",
      "    \"repo\": {\n",
      "      \"id\": 100506580,\n",
      "      \"name\": \"cse6040/labs-fa17\",\n",
      "      \"url\": \"https://api.github.com/repos/cse6040/labs-fa17\"\n",
      "    },\n",
      "    \"type\": \"ForkEvent\"\n",
      "  }\n",
      "]\n"
     ]
    }
   ],
   "source": [
    "import json\n",
    "print(type(response.json ()))\n",
    "print(json.dumps(response.json()[:3], sort_keys=True, indent=2))"
   ]
  },
  {
   "cell_type": "markdown",
   "metadata": {
    "nbgrader": {
     "grade": false,
     "grade_id": "cell-5be03b16bcb0c40f",
     "locked": true,
     "schema_version": 1,
     "solution": false
    }
   },
   "source": [
    "**Exercise 0.** It should be self-evident that the JSON response above consists of a sequence of records, which we will refer to as _events_. Each event is associated with an _actor_. Write some code to extract a dictionary of all actors, where the key is the actor's login and the value is the actor's URL."
   ]
  },
  {
   "cell_type": "code",
   "execution_count": 11,
   "metadata": {
    "collapsed": true,
    "nbgrader": {
     "grade": false,
     "grade_id": "extract_actors",
     "locked": false,
     "schema_version": 1,
     "solution": true
    }
   },
   "outputs": [],
   "source": [
    "def extract_actors (json_github_events):\n",
    "    \"\"\"Given JSON records for events in a GitHub repo,\n",
    "    returns a dictionary of the actors and their URLs.\n",
    "    \"\"\"\n",
    "    urls = {}\n",
    "    for event in json_github_events:\n",
    "        actor = event['actor']['display_login']\n",
    "        url = event['actor']['url']\n",
    "        urls[actor] = url\n",
    "    return urls"
   ]
  },
  {
   "cell_type": "code",
   "execution_count": 12,
   "metadata": {
    "nbgrader": {
     "grade": true,
     "grade_id": "extract_actors_test",
     "locked": true,
     "points": 0,
     "schema_version": 1,
     "solution": false
    }
   },
   "outputs": [
    {
     "name": "stdout",
     "output_type": "stream",
     "text": [
      "cizara: https://api.github.com/users/cizara\n",
      "govind-mukundan: https://api.github.com/users/govind-mukundan\n",
      "chanafee: https://api.github.com/users/chanafee\n",
      "chenkang001: https://api.github.com/users/chenkang001\n",
      "cookblaze: https://api.github.com/users/cookblaze\n",
      "dwrussell: https://api.github.com/users/dwrussell\n",
      "fractalbass: https://api.github.com/users/fractalbass\n",
      "msa444: https://api.github.com/users/msa444\n",
      "tonyelhabr: https://api.github.com/users/tonyelhabr\n",
      "zili-chen: https://api.github.com/users/zili-chen\n"
     ]
    }
   ],
   "source": [
    "actor_urls = extract_actors(response.json ())\n",
    "\n",
    "for actor, url in actor_urls.items ():\n",
    "    print ('{}: {}'.format(actor, url))\n",
    "    assert url == \"https://api.github.com/users/{}\".format(actor)"
   ]
  },
  {
   "cell_type": "markdown",
   "metadata": {
    "nbgrader": {
     "grade": false,
     "grade_id": "cell-23355ce56dd4dcdc",
     "locked": true,
     "schema_version": 1,
     "solution": false
    }
   },
   "source": [
    "**Exercise 1.** Write some code that goes to each actor's URL and determines their name. If an actor URL is invalid, that actor should not appear in the output."
   ]
  },
  {
   "cell_type": "code",
   "execution_count": 13,
   "metadata": {
    "collapsed": true,
    "nbgrader": {
     "grade": false,
     "grade_id": "get_names",
     "locked": false,
     "schema_version": 1,
     "solution": true
    }
   },
   "outputs": [],
   "source": [
    "def lookup_names (actor_urls):\n",
    "    \"\"\"Given a dictionary of (actor, url) pairs, looks up the JSON at\n",
    "    the URL and extracts the user's name (if any). Returns a new\n",
    "    dictionary of (actor, name) pairs.\n",
    "    \"\"\"\n",
    "    import re\n",
    "    \n",
    "    names = {}\n",
    "    for actor, url in actor_urls.items ():\n",
    "        response = requests.get (url)\n",
    "        \n",
    "        # Possible error conditions\n",
    "        if response is None: continue\n",
    "        if re.search ('application/json', response.headers['Content-Type']) is None: continue\n",
    "        if 'name' not in response.json (): continue\n",
    "            \n",
    "        names[actor] = response.json ()['name']\n",
    "    return names"
   ]
  },
  {
   "cell_type": "code",
   "execution_count": 14,
   "metadata": {
    "nbgrader": {
     "grade": true,
     "grade_id": "get_names_test",
     "locked": true,
     "points": 0,
     "schema_version": 1,
     "solution": false
    }
   },
   "outputs": [
    {
     "name": "stdout",
     "output_type": "stream",
     "text": [
      "cizara: Lucho\n",
      "govind-mukundan: eGovind\n",
      "chanafee: None\n",
      "chenkang001: None\n",
      "cookblaze: None\n",
      "dwrussell: None\n",
      "fractalbass: Miles Porter\n",
      "msa444: None\n",
      "tonyelhabr: Tony ElHabr\n",
      "zili-chen: Zili Chen\n"
     ]
    },
    {
     "ename": "KeyError",
     "evalue": "'bryanlie'",
     "output_type": "error",
     "traceback": [
      "\u001b[0;31m---------------------------------------------------------------------------\u001b[0m",
      "\u001b[0;31mKeyError\u001b[0m                                  Traceback (most recent call last)",
      "\u001b[0;32m<ipython-input-14-e83ec84f6120>\u001b[0m in \u001b[0;36m<module>\u001b[0;34m()\u001b[0m\n\u001b[1;32m      4\u001b[0m     \u001b[0mprint\u001b[0m \u001b[0;34m(\u001b[0m\u001b[0;34m\"{}: {}\"\u001b[0m\u001b[0;34m.\u001b[0m\u001b[0mformat\u001b[0m \u001b[0;34m(\u001b[0m\u001b[0mactor\u001b[0m\u001b[0;34m,\u001b[0m \u001b[0mname\u001b[0m\u001b[0;34m)\u001b[0m\u001b[0;34m)\u001b[0m\u001b[0;34m\u001b[0m\u001b[0m\n\u001b[1;32m      5\u001b[0m \u001b[0;34m\u001b[0m\u001b[0m\n\u001b[0;32m----> 6\u001b[0;31m \u001b[0;32massert\u001b[0m \u001b[0mactor_names\u001b[0m\u001b[0;34m[\u001b[0m\u001b[0;34m'bryanlie'\u001b[0m\u001b[0;34m]\u001b[0m \u001b[0;34m==\u001b[0m \u001b[0;34m'Dan Li'\u001b[0m\u001b[0;34m\u001b[0m\u001b[0m\n\u001b[0m",
      "\u001b[0;31mKeyError\u001b[0m: 'bryanlie'"
     ]
    }
   ],
   "source": [
    "actor_names = lookup_names (actor_urls)\n",
    "\n",
    "for actor, name in actor_names.items ():\n",
    "    print (\"{}: {}\".format (actor, name))\n",
    "    \n",
    "assert actor_names['bryanlie'] == 'Dan Li'"
   ]
  },
  {
   "cell_type": "markdown",
   "metadata": {
    "nbgrader": {
     "grade": false,
     "grade_id": "cell-ae7abfbce62b1cd6",
     "locked": true,
     "schema_version": 1,
     "solution": false
    }
   },
   "source": [
    "That's the end of this notebook. Processing JSON is fairly straightforward, because it maps very naturally to nested dictionaries in Python. You might search the web for other sources of JSON data, including [this one](https://www.yelp.com/dataset/challenge), and do your own processing!"
   ]
  }
 ],
 "metadata": {
  "celltoolbar": "Create Assignment",
  "kernelspec": {
   "display_name": "Python 3.6 (beta)",
   "language": "python",
   "name": "python36"
  },
  "language_info": {
   "codemirror_mode": {
    "name": "ipython",
    "version": 3
   },
   "file_extension": ".py",
   "mimetype": "text/x-python",
   "name": "python",
   "nbconvert_exporter": "python",
   "pygments_lexer": "ipython3",
   "version": "3.6.4"
  }
 },
 "nbformat": 4,
 "nbformat_minor": 1
}
