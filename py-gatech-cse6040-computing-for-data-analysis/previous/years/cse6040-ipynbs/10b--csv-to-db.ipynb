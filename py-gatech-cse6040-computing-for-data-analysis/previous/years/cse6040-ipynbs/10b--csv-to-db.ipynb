{
 "cells": [
  {
   "cell_type": "markdown",
   "metadata": {},
   "source": [
    "# CSE 6040, Fall 2015 [10-B]: CSV to DB\n",
    "\n",
    "This notebook is optional and was _not_ covered in class. It shows how we converted the raw comma-separated values (CSV) file corresponding to the NYC 311 Complaints database into an SQLite database. It is adapted from the code that appears [here](https://plot.ly/ipython-notebooks/big-data-analytics-with-pandas-and-sqlite/)."
   ]
  },
  {
   "cell_type": "markdown",
   "metadata": {},
   "source": [
    "#### Setup: sqlalchemy and pandas"
   ]
  },
  {
   "cell_type": "code",
   "execution_count": null,
   "metadata": {
    "collapsed": true
   },
   "outputs": [],
   "source": [
    "from sqlalchemy import create_engine # database connection\n",
    "import datetime as dt # for timing\n",
    "import pandas as pd # for data frames"
   ]
  },
  {
   "cell_type": "markdown",
   "metadata": {},
   "source": [
    "#### Input (CSV) filename"
   ]
  },
  {
   "cell_type": "code",
   "execution_count": null,
   "metadata": {
    "collapsed": true
   },
   "outputs": [],
   "source": [
    "#CSV_FILE = 'NYC-311-2M.csv'\n",
    "CSV_FILE = None"
   ]
  },
  {
   "cell_type": "markdown",
   "metadata": {},
   "source": [
    "#### Determine output (SQLite DB) filename from the input filename"
   ]
  },
  {
   "cell_type": "code",
   "execution_count": null,
   "metadata": {
    "collapsed": false
   },
   "outputs": [],
   "source": [
    "assert CSV_FILE\n",
    "\n",
    "import re\n",
    "CSV_BASES = re.findall (r'(.*)\\.csv$', CSV_FILE, re.I)\n",
    "\n",
    "assert len (CSV_BASES) >= 1\n",
    "CSV_BASE = CSV_BASES[0]\n",
    "\n",
    "DB_FILE = \"%s.db\" % CSV_BASE\n",
    "\n",
    "print (\"Converting: %s to %s (an SQLite DB) ...\" % (CSV_FILE, DB_FILE))"
   ]
  },
  {
   "cell_type": "markdown",
   "metadata": {},
   "source": [
    "#### Connect to an SQL data source"
   ]
  },
  {
   "cell_type": "code",
   "execution_count": null,
   "metadata": {
    "collapsed": true
   },
   "outputs": [],
   "source": [
    "disk_engine = create_engine ('sqlite:///%s' % DB_FILE)"
   ]
  },
  {
   "cell_type": "markdown",
   "metadata": {},
   "source": [
    "#### Convert CSV to SQLite DB\n",
    "\n",
    "1. Load the CSV, chunk-by-chunk, into a DataFrame\n",
    "2. Process each chunk by doing some minimal data normalization and stripping out uninteresting columns\n",
    "3. Append each chunk to the SQLite database"
   ]
  },
  {
   "cell_type": "code",
   "execution_count": null,
   "metadata": {
    "collapsed": true
   },
   "outputs": [],
   "source": [
    "# Convert .csv to .db\n",
    "\n",
    "CHUNKSIZE = 25000 # Number of rows to read at a time\n",
    "\n",
    "# List of columns to keep\n",
    "KEEP_COLS = ['Agency', 'CreatedDate', 'ClosedDate', 'ComplaintType',\n",
    "             'Descriptor', 'CreatedDate', 'ClosedDate',\n",
    "             'TimeToCompletion', 'City']\n",
    "\n",
    "start = dt.datetime.now () # start timer\n",
    "\n",
    "j = 0\n",
    "index_start = 1\n",
    "for df in pd.read_csv(CSV_FILE, chunksize=CHUNKSIZE, iterator=True, encoding='utf-8'):\n",
    "    \n",
    "    # Remove spaces from columns\n",
    "    df = df.rename(columns={c: c.replace(' ', '') for c in df.columns})\n",
    "\n",
    "    # Convert to proper date+timestamps\n",
    "    df['CreatedDate'] = pd.to_datetime(df['CreatedDate'])\n",
    "    df['ClosedDate'] = pd.to_datetime(df['ClosedDate'])\n",
    "\n",
    "    df.index += index_start\n",
    "\n",
    "    for c in df.columns:\n",
    "        if c not in KEEP_COLS:\n",
    "            df = df.drop (c, axis=1)\n",
    "    \n",
    "    j += 1\n",
    "    print ('{} seconds: completed {} rows'.format((dt.datetime.now() - start).seconds, j*chunksize))\n",
    "\n",
    "    df.to_sql('data', disk_engine, if_exists='append')\n",
    "    index_start = df.index[-1] + 1"
   ]
  }
 ],
 "metadata": {
  "kernelspec": {
   "display_name": "Python 2",
   "language": "python",
   "name": "python2"
  },
  "language_info": {
   "codemirror_mode": {
    "name": "ipython",
    "version": 2
   },
   "file_extension": ".py",
   "mimetype": "text/x-python",
   "name": "python",
   "nbconvert_exporter": "python",
   "pygments_lexer": "ipython2",
   "version": "2.7.10"
  }
 },
 "nbformat": 4,
 "nbformat_minor": 0
}
