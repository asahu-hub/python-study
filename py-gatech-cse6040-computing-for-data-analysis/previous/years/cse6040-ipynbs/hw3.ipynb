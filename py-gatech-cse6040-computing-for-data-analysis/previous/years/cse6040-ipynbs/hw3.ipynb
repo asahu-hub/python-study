{
 "cells": [
  {
   "cell_type": "markdown",
   "metadata": {},
   "source": [
    "# CSE 6040, Fall 2015: Homework 3 -- Linear algebra\n",
    "\n",
    "The goal of this homework is to force you to read the notes on [linear algebra](https://t-square.gatech.edu/access/content/group/gtc-7308-4387-56aa-b79e-a3f4c812167d/Kuang-2014-linalg-notes.pdf) and do a few exercises related to it.\n",
    "\n",
    "**This assignment is due on T-Square by Thursday, October 29 at 11:59pm AOE.**"
   ]
  },
  {
   "cell_type": "markdown",
   "metadata": {},
   "source": [
    "## Part 1: Plug and chug [20 points]\n",
    "\n",
    "Please do the following exercises *by hand*. You might verify your answers with a calculator or other tool (even Numpy!), but we want you to *typeset* a response, using a Markdown cell and its embedded LaTeX support.\n",
    "\n",
    "> You may find this website useful for generating LaTeX: http://detexify.kirelabs.org/classify.html\n",
    "\n",
    "The point of these exercises is just to reinforce some of the definitions from the notes. There shouldn't be anything tricky here.\n",
    "\n",
    "> You may either typeset your responses below, or write them out by hand and scan and upload them as PDF files to T-Square."
   ]
  },
  {
   "cell_type": "markdown",
   "metadata": {},
   "source": [
    "Let\n",
    "\n",
    "$x = \\left(\n",
    "       \\begin{array}{c}\n",
    "         1 \\\\\n",
    "         2 \\\\\n",
    "         3\n",
    "       \\end{array}\n",
    "     \\right)$\n",
    "     \n",
    "and\n",
    "\n",
    "$A = \\left(\n",
    "       \\begin{array}{ccc}\n",
    "         2 & 1 & 0 \\\\\n",
    "         4 & 3 & 1 \\\\\n",
    "         6 & 7 & 8\n",
    "       \\end{array}\n",
    "     \\right)$.\n",
    "\n",
    "Compute the following."
   ]
  },
  {
   "cell_type": "markdown",
   "metadata": {},
   "source": [
    "1) $x^T x =$\n",
    "\n",
    "> Here is a free sample answer!"
   ]
  },
  {
   "cell_type": "markdown",
   "metadata": {},
   "source": [
    "$\n",
    "\\left(\n",
    "   \\begin{array}{ccc}\n",
    "     1 & 2 & 3\n",
    "   \\end{array}\n",
    "\\right)\n",
    "\\left(\n",
    "  \\begin{array}{c}\n",
    "    1 \\\\\n",
    "    2 \\\\\n",
    "    3\n",
    "  \\end{array}\n",
    "\\right)\n",
    "=\n",
    "1 \\cdot 1 + 2 \\cdot 2 + 3 \\cdot 3\n",
    "= 1 + 4 + 9\n",
    "= 14\n",
    "$"
   ]
  },
  {
   "cell_type": "markdown",
   "metadata": {},
   "source": [
    "2) $x x^T =$"
   ]
  },
  {
   "cell_type": "markdown",
   "metadata": {},
   "source": []
  },
  {
   "cell_type": "markdown",
   "metadata": {},
   "source": [
    "3) $\\| x \\|_1 =$"
   ]
  },
  {
   "cell_type": "markdown",
   "metadata": {},
   "source": []
  },
  {
   "cell_type": "markdown",
   "metadata": {},
   "source": [
    "4) $\\| x \\|_2 =$"
   ]
  },
  {
   "cell_type": "markdown",
   "metadata": {},
   "source": []
  },
  {
   "cell_type": "markdown",
   "metadata": {},
   "source": [
    "5) $\\| x \\|_\\infty =$"
   ]
  },
  {
   "cell_type": "markdown",
   "metadata": {},
   "source": []
  },
  {
   "cell_type": "markdown",
   "metadata": {},
   "source": [
    "6) $\\| A \\|_F =$"
   ]
  },
  {
   "cell_type": "markdown",
   "metadata": {},
   "source": []
  },
  {
   "cell_type": "markdown",
   "metadata": {},
   "source": [
    "7) $A^T A =$"
   ]
  },
  {
   "cell_type": "markdown",
   "metadata": {},
   "source": []
  },
  {
   "cell_type": "markdown",
   "metadata": {},
   "source": [
    "8) $A A^T =$"
   ]
  },
  {
   "cell_type": "markdown",
   "metadata": {},
   "source": []
  },
  {
   "cell_type": "markdown",
   "metadata": {},
   "source": [
    "As it happens, the _trace_ of a matrix $M$, or $\\mathrm{trace}(M)$, is defined to be the sum of $M$'s diagonal entries. Verify for yourself (i.e., do *not* turn in!) that\n",
    "\n",
    "  $\\mathrm{trace}(A^T A) = \\mathrm{trace}(A A^T) = \\| A \\|_F^2$."
   ]
  },
  {
   "cell_type": "markdown",
   "metadata": {},
   "source": [
    "9) Suppose $x$ is now unknown and $b = (1, 1, 1)^T$. Determine a vector $x$ such that $Ax = b$ for the (numerical) matrix $A$ given above. You may use _any_ method, but show your work. (Methods might include basic high school algebra starting from the definitions of a matrix-vector product, or Gaussian elimination, or LU factorization.)"
   ]
  },
  {
   "cell_type": "markdown",
   "metadata": {},
   "source": []
  },
  {
   "cell_type": "markdown",
   "metadata": {},
   "source": [
    "## Part 2: A proof [20 points]\n",
    "\n",
    "Let $Q \\in \\mathcal{R}^{m \\times m}$ be an orthogonal matrix, and let $A \\in \\mathcal{R}^{m \\times n}$ be some matrix. Prove that $\\|QA\\|_F^2 = \\|A\\|_F^2$, that is, left-multiplying by an orthogonal matrix does not change the Frobenius norm.\n",
    "\n",
    "> Hint: Consider the definitions of an orthogonal matrix, Frobenius norm, and vector 2-norm. You may also use the fact that $\\mathrm{trace}(A^T A) = \\|A\\|_F^2$ from Part 1, Question 8 above."
   ]
  },
  {
   "cell_type": "markdown",
   "metadata": {},
   "source": []
  },
  {
   "cell_type": "markdown",
   "metadata": {},
   "source": [
    "## Part 3: Solving a linear system in Numpy / SciPy [20 points]"
   ]
  },
  {
   "cell_type": "markdown",
   "metadata": {},
   "source": [
    "**Question 1.** [_15 points_]\n",
    "\n",
    "Write some Python code that\n",
    "\n",
    "* Creates a random matrix $A \\in \\mathcal{R}^{1000 \\times 1000}$ and a vector $b = [1, 1, \\ldots, 1]^T$.\n",
    "* Solves $Ax = b$. You should try to find a Numpy/SciPy call that makes this step relatively easy to do. Use the `%timeit` directive to measure its execution time.\n",
    "* Computes the _inverse_ of $A$, which is $A^{-1}$. Use the `%timeit` directive to measure its execution time."
   ]
  },
  {
   "cell_type": "code",
   "execution_count": null,
   "metadata": {
    "collapsed": true
   },
   "outputs": [],
   "source": [
    "# @YOUSE"
   ]
  },
  {
   "cell_type": "markdown",
   "metadata": {},
   "source": [
    "**Question 2.** [_5 points_]\n",
    "\n",
    "Explain why these two methods perform at differing speeds."
   ]
  },
  {
   "cell_type": "markdown",
   "metadata": {},
   "source": []
  }
 ],
 "metadata": {
  "kernelspec": {
   "display_name": "Python 2",
   "language": "python",
   "name": "python2"
  },
  "language_info": {
   "codemirror_mode": {
    "name": "ipython",
    "version": 2
   },
   "file_extension": ".py",
   "mimetype": "text/x-python",
   "name": "python",
   "nbconvert_exporter": "python",
   "pygments_lexer": "ipython2",
   "version": "2.7.10"
  }
 },
 "nbformat": 4,
 "nbformat_minor": 0
}
