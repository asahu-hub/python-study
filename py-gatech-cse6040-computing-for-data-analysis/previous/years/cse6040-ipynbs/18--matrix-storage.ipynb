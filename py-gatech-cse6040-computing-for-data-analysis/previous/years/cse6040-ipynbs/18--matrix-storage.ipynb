{
 "cells": [
  {
   "cell_type": "markdown",
   "metadata": {},
   "source": [
    "# CSE 6040, Fall 2015 [18]: Matrix storage\n",
    "\n",
    "Today's lab continues [Lab 16](http://nbviewer.ipython.org/github/rvuduc/cse6040-ipynbs/blob/master/16--numpy.ipynb), which is a survey of techniques using [Numpy](http://www.numpy.org/), a Python module that provides fast primitives for multidimensional arrays.\n",
    "\n",
    "By the way, a partial solution set for Lab 16 is also available [here](https://t-square.gatech.edu/access/content/group/gtc-7308-4387-56aa-b79e-a3f4c812167d/16--numpy-solns.ipynb).\n",
    "\n",
    "**Downloads.** For today's lab, you'll need two additional downloads:\n",
    "\n",
    "* A dataset: http://cse6040.gatech.edu/fa15/UserEdges-1M.csv\n",
    "* An updated class module: [cse6040utils.py](https://raw.githubusercontent.com/rvuduc/cse6040-ipynbs/master/cse6040utils.py)\n",
    "\n",
    "The dataset is actually from your current homework ([#2](http://nbviewer.ipython.org/github/rvuduc/cse6040-ipynbs/blob/master/hw2.ipynb)! Namely, it's the first million pairs of the user-user connectivity graph, in CSV format."
   ]
  },
  {
   "cell_type": "markdown",
   "metadata": {},
   "source": [
    "To repeat, the recommended importing convention for Numpy is (execute this now):"
   ]
  },
  {
   "cell_type": "code",
   "execution_count": 4,
   "metadata": {
    "collapsed": true
   },
   "outputs": [],
   "source": [
    "import numpy as np"
   ]
  },
  {
   "cell_type": "markdown",
   "metadata": {},
   "source": [
    "## Matrix storage: Column-major versus row-major layouts\n",
    "\n",
    "For linear algebra, we will be especially interested in 2-D arrays, which we will use to store matrices. For this common case, there is a subtle performance issue related to how matrices are stored in memory.\n",
    "\n",
    "By way of background, physical storage---whether it be memory or disk---is basically one big array. And because of how physical storage is implemented, it turns out that it is much faster to access consecutive elements in memory than, say, to jump around randomly.\n",
    "\n",
    "A matrix is a two-dimensional object. Thus, when it is stored in memory, it must be mapped in some way to the one-dimensional physical array. There are many possible mappings, but the two most common conventions are known as the _column-major_ and _row-major_ layouts:\n",
    "\n",
    "<img src=\"https://raw.githubusercontent.com/rvuduc/cse6040-ipynbs/master/16--numpy-matrix-layout.png\" alt=\"Exercise: Extract these slices\" width=\"640\">"
   ]
  },
  {
   "cell_type": "markdown",
   "metadata": {},
   "source": [
    "**Exercise.** Let $A$ be an $m \\times n$ matrix stored in column-major format. Let $B$ be an $m \\times n$ matrix stored in row-major format.\n",
    "\n",
    "Based on the preceding discussion, recall that these objects will be mapped to 1-D arrays of length $mn$, behind the scenes. Let's call the 1-D array representations $\\hat{A}$ and $\\hat{B}$. Thus, the $(i, j)$ element of $a$, $a_{ij}$, will map to some element $\\hat{a}_u$ of $\\hat{A}$; similarly, $b_{ij}$ will map to some element $\\hat{b}_v$ of $\\hat{B}$.\n",
    "\n",
    "Determine formulae to compute the 1-D index values, $u$ and $v$, in terms of $\\{i, j, m, n\\}$. Assume that all indices are 0-based, i.e., $0 \\leq i \\leq m-1$, $0 \\leq j \\leq n-1$, and $0 \\leq u, v \\leq mn-1$."
   ]
  },
  {
   "cell_type": "code",
   "execution_count": 5,
   "metadata": {
    "collapsed": false
   },
   "outputs": [
    {
     "name": "stdout",
     "output_type": "stream",
     "text": [
      "==> Testing your implementations (not exhaustive)...\n",
      "Passed!\n"
     ]
    }
   ],
   "source": [
    "def calc_u (i, j, m, n): # column major\n",
    "    u = j*m + i # @YOUSE: Replace with the correct formula\n",
    "    return u\n",
    "    \n",
    "def calc_v (i, j, m, n): # row major\n",
    "    v = i*n + j # @YOUSE: Replace with the correct formula\n",
    "    return v\n",
    "\n",
    "# Quick check (not exhaustive):\n",
    "print \"==> Testing your implementations (not exhaustive)...\"\n",
    "assert calc_u (7, 4, 10, 20) == 47\n",
    "assert calc_v (7, 4, 10, 20) == 144\n",
    "print \"Passed!\""
   ]
  },
  {
   "cell_type": "markdown",
   "metadata": {},
   "source": [
    "## Requesting a layout in Numpy\n",
    "\n",
    "In Numpy, you can ask for either layout. The default in Numpy is row-major.\n",
    "\n",
    "Historically numerical linear algebra libraries were developed assuming column-major layout. This layout happens to be the default when you declare a 2-D array in the Fortran programming language. By contrast, in the C and C++ programming languages, the default convention for a 2-D array is row-major layout. So the Numpy default is the C/C++ convention.\n",
    "\n",
    "In your programs, you can request either order of Numpy using the `order` parameter. For linear algebra operations (common), we recommend using the column-major convention.\n",
    "\n",
    "In either case, here is how you would create column- and row-major matrices."
   ]
  },
  {
   "cell_type": "code",
   "execution_count": 6,
   "metadata": {
    "collapsed": false
   },
   "outputs": [],
   "source": [
    "n = 5000\n",
    "A_colmaj = np.ones ((n, n), order='F') # column-major (Fortran convention)\n",
    "A_rowmaj = np.ones ((n, n), order='C') # row-major (C/C++ convention)"
   ]
  },
  {
   "cell_type": "markdown",
   "metadata": {},
   "source": [
    "**Exercise.** Write a function that iterates over the columns of a matrix and scales them by a given value. Then use that routine to measure the difference in time when the input is row-major versus column-major."
   ]
  },
  {
   "cell_type": "code",
   "execution_count": 8,
   "metadata": {
    "collapsed": false
   },
   "outputs": [
    {
     "name": "stdout",
     "output_type": "stream",
     "text": [
      "1 loops, best of 3: 616 ms per loop\n",
      "The slowest run took 12.25 times longer than the fastest. This could mean that an intermediate result is being cached \n",
      "1 loops, best of 3: 35.4 ms per loop\n"
     ]
    }
   ],
   "source": [
    "def scale_colwise (A):\n",
    "    \"\"\"Given a Numpy matrix `A`, visits each column `A[:, j]`\n",
    "    and scales it by `j`.\"\"\"\n",
    "    assert type (A) is np.ndarray\n",
    "    \n",
    "    n_cols = A.shape[1] # number of columns\n",
    "    \n",
    "    # @YOUSE: Fill in this code\n",
    "    for j in range (n_cols):\n",
    "        A[:, j] *= j\n",
    "\n",
    "    return A\n",
    "\n",
    "# Measure time to scale a row-major input column-wise\n",
    "%timeit scale_colwise (A_rowmaj)\n",
    "\n",
    "# Measure time to scale a column-major input column-wise\n",
    "%timeit scale_colwise (A_colmaj)"
   ]
  },
  {
   "cell_type": "markdown",
   "metadata": {
    "collapsed": true
   },
   "source": [
    "## Python vs. Numpy example: Matrix-vector multiply\n",
    "\n",
    "Recall the definition of matrix-vector multiplication from [Da's LA notes](https://t-square.gatech.edu/access/content/group/gtc-7308-4387-56aa-b79e-a3f4c812167d/Kuang-2014-linalg-notes.pdf). Let's benchmark a matrix-vector multiply in native Python, and compare that to doing the same operation in Numpy.\n",
    "\n",
    "First, some setup. (What does this code do?)"
   ]
  },
  {
   "cell_type": "code",
   "execution_count": 9,
   "metadata": {
    "collapsed": false
   },
   "outputs": [],
   "source": [
    "# Dimensions; you might shrink this value for debugging\n",
    "n = 2500"
   ]
  },
  {
   "cell_type": "code",
   "execution_count": 10,
   "metadata": {
    "collapsed": false
   },
   "outputs": [],
   "source": [
    "# Generate random values, for use in populating the matrix and vector\n",
    "\n",
    "from random import gauss\n",
    "\n",
    "# Native Python, using lists\n",
    "A_py = [gauss (0, 1) for i in range (n*n)] # Assume: Column-major\n",
    "x_py = [gauss (0, 1) for i in range (n)]"
   ]
  },
  {
   "cell_type": "code",
   "execution_count": 11,
   "metadata": {
    "collapsed": false
   },
   "outputs": [],
   "source": [
    "# Convert values into Numpy arrays in column-major order\n",
    "A_np = np.reshape (A_py, (n, n), order='F')\n",
    "x_np = np.reshape (x_py, (n, 1), order='F')"
   ]
  },
  {
   "cell_type": "code",
   "execution_count": 12,
   "metadata": {
    "collapsed": false
   },
   "outputs": [
    {
     "name": "stdout",
     "output_type": "stream",
     "text": [
      "The slowest run took 24.11 times longer than the fastest. This could mean that an intermediate result is being cached \n",
      "100 loops, best of 3: 3.51 ms per loop\n"
     ]
    }
   ],
   "source": [
    "# Here is how you do a \"matvec\" in Numpy:\n",
    "\n",
    "%timeit A_np.dot (x_np)"
   ]
  },
  {
   "cell_type": "markdown",
   "metadata": {},
   "source": [
    "**Exercise.** Implement a matrix-vector product that operates on native Python lists. Assume the 1-D storage of the matrix, as shown above"
   ]
  },
  {
   "cell_type": "code",
   "execution_count": 13,
   "metadata": {
    "collapsed": false
   },
   "outputs": [],
   "source": [
    "def matvec_py (m, n, A, x):\n",
    "    \"\"\"\n",
    "    Native Python-based matrix-vector multiply, using lists.\n",
    "    The dimensions of the matrix A are m-by-n, and x is a\n",
    "    vector of length n.\n",
    "    \"\"\"\n",
    "    assert type (A) is list\n",
    "    assert type (x) is list\n",
    "    assert len (x) >= n\n",
    "    assert len (A) >= (m*n)\n",
    "\n",
    "    y = [0.] * m\n",
    "    \n",
    "    # @YOUSE: Fill in an implementation here\n",
    "    for j in range (n):\n",
    "        for i in range (m):\n",
    "            y[i] += A[i + j*n] * x[j]\n",
    "            \n",
    "#[sum (i*j for i, j in zip (a_row, x) for a_row in A)]\n",
    "    \n",
    "    return y"
   ]
  },
  {
   "cell_type": "code",
   "execution_count": 14,
   "metadata": {
    "collapsed": false
   },
   "outputs": [
    {
     "name": "stdout",
     "output_type": "stream",
     "text": [
      "==> Error bound estimate:\n",
      "         C*n*eps\n",
      "         == 2*2500*2.22045e-16\n",
      "         == 1.11022e-12\n",
      "\n"
     ]
    }
   ],
   "source": [
    "# Estimate a bound on the difference between these two\n",
    "EPS = np.finfo (float).eps # \"machine epsilon\"\n",
    "CONST = 2.0 # Some constant for the error bound\n",
    "dy_max = CONST * n * EPS\n",
    "\n",
    "print (\"\"\"==> Error bound estimate:\n",
    "         C*n*eps\n",
    "         == %g*%g*%g\n",
    "         == %g\n",
    "\"\"\" % (CONST, n, EPS, dy_max))"
   ]
  },
  {
   "cell_type": "code",
   "execution_count": 15,
   "metadata": {
    "collapsed": true
   },
   "outputs": [],
   "source": [
    "# Run the Numpy version and your code\n",
    "y_np = A_np.dot (x_np)\n",
    "y_py = matvec_py (n, n, A_py, x_py)"
   ]
  },
  {
   "cell_type": "code",
   "execution_count": 16,
   "metadata": {
    "collapsed": true
   },
   "outputs": [],
   "source": [
    "# Compute the difference between these\n",
    "dy = y_np - np.reshape (y_py, (n, 1), order='F')\n",
    "dy_norm = np.linalg.norm (dy, ord=np.inf)"
   ]
  },
  {
   "cell_type": "code",
   "execution_count": 17,
   "metadata": {
    "collapsed": false
   },
   "outputs": [
    {
     "data": {
      "text/latex": [
       "$$||y_{\\textrm{np}} - y_{\\textrm{py}}||_{\\infty} = \\textrm{1.13687e-13} \\leq \\textrm{1.11022e-12}\\ (\\textrm{estimated bound})$$"
      ],
      "text/plain": [
       "<IPython.core.display.Math object>"
      ]
     },
     "metadata": {},
     "output_type": "display_data"
    }
   ],
   "source": [
    "# Summarize the results\n",
    "from IPython.display import display, Math\n",
    "\n",
    "comparison = \"\\leq\" if dy_norm <= dy_max else \"\\gt\"\n",
    "display (Math (\n",
    "        r'||y_{\\textrm{np}} - y_{\\textrm{py}}||_{\\infty}'\n",
    "        r' = \\textrm{%g} %s \\textrm{%g}\\ (\\textrm{estimated bound})'\n",
    "        % (dy_norm, comparison, dy_max)\n",
    "    ))\n",
    "\n",
    "if n <= 4: # Debug: Print all data for small inputs\n",
    "    print \"@A_np:\\n\" ; print A_np\n",
    "    print \"@x_np:\\n\" ; print x_np\n",
    "    print \"@y_np:\\n\" ; print y_np\n",
    "    print \"@A_py:\\n\" ; print A_py\n",
    "    print \"@x_py:\\n\" ; print x_py\n",
    "    print \"@y_py:\\n\" ; print y_py\n",
    "    print \"@dy:\\n\" ; print dy\n",
    "\n",
    "# Trigger an error on likely failure\n",
    "assert dy_norm <= dy_max"
   ]
  },
  {
   "cell_type": "code",
   "execution_count": 18,
   "metadata": {
    "collapsed": false
   },
   "outputs": [
    {
     "name": "stdout",
     "output_type": "stream",
     "text": [
      "1 loops, best of 3: 1.77 s per loop\n"
     ]
    }
   ],
   "source": [
    "%timeit matvec_py (n, n, A_py, x_py)"
   ]
  },
  {
   "cell_type": "markdown",
   "metadata": {},
   "source": [
    "## Sparse matrix storage\n",
    "\n",
    "Take a look at the slides from today's class, which cover the basics of sparse matrix storage formats: [link](http://cse6040.gatech.edu/fa15/slides/18.pdf)\n",
    "\n",
    "Let's implement and time some of these routines below. To help you get started with a realistic input, the following code loads the raw data from the Yelp! user-user connectivity subgraph (see top of this notebook to download)."
   ]
  },
  {
   "cell_type": "code",
   "execution_count": null,
   "metadata": {
    "collapsed": true
   },
   "outputs": [],
   "source": [
    "import cse6040utils as cse6040\n",
    "import pandas as pd"
   ]
  },
  {
   "cell_type": "code",
   "execution_count": null,
   "metadata": {
    "collapsed": false
   },
   "outputs": [],
   "source": [
    "edges = pd.read_csv ('UserEdges-1M.csv')\n",
    "display (edges.head ())"
   ]
  },
  {
   "cell_type": "code",
   "execution_count": null,
   "metadata": {
    "collapsed": false
   },
   "outputs": [],
   "source": [
    "# Build a set of unique vertex names\n",
    "V_names = set (edges.Source)\n",
    "V_names.update (set (edges.Target))"
   ]
  },
  {
   "cell_type": "code",
   "execution_count": null,
   "metadata": {
    "collapsed": false
   },
   "outputs": [],
   "source": [
    "m = len (edges)\n",
    "n = len (V_names)\n",
    "print (\"==> |V| == %d, |E| == %d\" % (n, m))"
   ]
  },
  {
   "cell_type": "code",
   "execution_count": null,
   "metadata": {
    "collapsed": false
   },
   "outputs": [],
   "source": [
    "# Create a mapping of names to IDs, and vice-versa\n",
    "id2name = {}\n",
    "name2id = {}\n",
    "for (k, v) in enumerate (V_names):\n",
    "    if k <= 5: print (\"[%d] %s\" % (k, v)) # for debugging\n",
    "    id2name[k] = v\n",
    "    name2id[v] = k"
   ]
  },
  {
   "cell_type": "code",
   "execution_count": null,
   "metadata": {
    "collapsed": false
   },
   "outputs": [],
   "source": [
    "# Build two different kinds of sparse matrices using nested dictionaries\n",
    "A_named_keys = cse6040.sparse_matrix ()\n",
    "A_numbered_keys = cse6040.sparse_matrix ()\n",
    "\n",
    "for (k, row) in edges.iterrows ():\n",
    "    ni = row['Source']\n",
    "    nj = row['Target']\n",
    "    A_named_keys[ni][nj] = 1.\n",
    "    A_named_keys[nj][ni] = 1.\n",
    "    \n",
    "    i = name2id[ni]\n",
    "    j = name2id[nj]\n",
    "    A_numbered_keys[i][j] = 1.\n",
    "    A_numbered_keys[j][i] = 1."
   ]
  },
  {
   "cell_type": "markdown",
   "metadata": {},
   "source": [
    "**Exercise.** Complete the following routine, which takes a sparse matrix keyed by names and multiplies it by a vector. (See also: `spmv()` from [Lab 14](https://t-square.gatech.edu/access/content/group/gtc-7308-4387-56aa-b79e-a3f4c812167d/14--pagerank-partial-solns2--SOLVED.ipynb).)"
   ]
  },
  {
   "cell_type": "code",
   "execution_count": null,
   "metadata": {
    "collapsed": false
   },
   "outputs": [],
   "source": [
    "# Build a dense vector\n",
    "x = cse6040.dense_vector (n)\n",
    "\n",
    "def spmv_named_keys (n, A, x, name2id):\n",
    "    y = cse6040.dense_vector (n)\n",
    "    \n",
    "    # @YOUSE: Complete this routine\n",
    "    \n",
    "    return y"
   ]
  },
  {
   "cell_type": "code",
   "execution_count": null,
   "metadata": {
    "collapsed": false
   },
   "outputs": [],
   "source": [
    "%timeit spmv_named_keys (n, A_named_keys, x, name2id)"
   ]
  },
  {
   "cell_type": "code",
   "execution_count": null,
   "metadata": {
    "collapsed": false
   },
   "outputs": [],
   "source": [
    "%timeit cse6040.spmv (n, A_numbered_keys, x)"
   ]
  },
  {
   "cell_type": "markdown",
   "metadata": {},
   "source": [
    "**Exercise.** Create a coordinate (`COO`) matrix using SciPy, and measure the time to perform a matrix-vector product."
   ]
  },
  {
   "cell_type": "code",
   "execution_count": null,
   "metadata": {
    "collapsed": true
   },
   "outputs": [],
   "source": [
    "import scipy.sparse as sp"
   ]
  },
  {
   "cell_type": "code",
   "execution_count": null,
   "metadata": {
    "collapsed": false
   },
   "outputs": [],
   "source": [
    "rows = ... # @YOUSE: Complete this statement\n",
    "cols = ... # @YOUSE: Complete this statement\n",
    "assert len (rows) == len (cols)\n",
    "vals = [1.] * len (rows)\n",
    "A_coo = ... # @YOUSE: Complete this statement\n",
    "x_np = np.array (x)"
   ]
  },
  {
   "cell_type": "code",
   "execution_count": null,
   "metadata": {
    "collapsed": false
   },
   "outputs": [],
   "source": [
    "%timeit A_coo.dot (x_np)"
   ]
  }
 ],
 "metadata": {
  "kernelspec": {
   "display_name": "Python 2",
   "language": "python",
   "name": "python2"
  },
  "language_info": {
   "codemirror_mode": {
    "name": "ipython",
    "version": 2
   },
   "file_extension": ".py",
   "mimetype": "text/x-python",
   "name": "python",
   "nbconvert_exporter": "python",
   "pygments_lexer": "ipython2",
   "version": "2.7.10"
  }
 },
 "nbformat": 4,
 "nbformat_minor": 0
}
