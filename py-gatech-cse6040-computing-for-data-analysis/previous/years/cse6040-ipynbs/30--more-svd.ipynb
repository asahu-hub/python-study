{
 "cells": [
  {
   "cell_type": "markdown",
   "metadata": {},
   "source": [
    "# CSE 6040, Fall 2015 [30]: PCA in practice\n",
    "\n",
    "For our course's final class, let's take the conceptual idea of a principal components analysis (PCA) and put it into practice.\n",
    "\n",
    "For this notebook, you will need the following:\n",
    "\n",
    "* Your [Plotly API key](https://plot.ly/settings/api)\n",
    "* The latest version of [`cse6040utils.py`](https://raw.githubusercontent.com/rvuduc/cse6040-ipynbs/master/cse6040utils.py)\n",
    "* A \"surprise\" data set: https://t-square.gatech.edu/access/content/group/gtc-7308-4387-56aa-b79e-a3f4c812167d/cse6040fa15-peeps.zip\n",
    "\n",
    "You'll also need a bunch of modules; might as well preload those now:"
   ]
  },
  {
   "cell_type": "code",
   "execution_count": null,
   "metadata": {
    "collapsed": true
   },
   "outputs": [],
   "source": [
    "import os\n",
    "import sys\n",
    "import re"
   ]
  },
  {
   "cell_type": "code",
   "execution_count": null,
   "metadata": {
    "collapsed": true
   },
   "outputs": [],
   "source": [
    "import numpy as np\n",
    "import pandas as pd"
   ]
  },
  {
   "cell_type": "code",
   "execution_count": null,
   "metadata": {
    "collapsed": true
   },
   "outputs": [],
   "source": [
    "from IPython.display import display\n",
    "import matplotlib.pyplot as plt\n",
    "\n",
    "%matplotlib inline\n",
    "\n",
    "from PIL import Image\n",
    "import seaborn as sns"
   ]
  },
  {
   "cell_type": "code",
   "execution_count": null,
   "metadata": {
    "collapsed": true
   },
   "outputs": [],
   "source": [
    "import plotly.plotly as py\n",
    "from plotly.graph_objs import *\n",
    "\n",
    "# @YOUSE: Fill in your credentials (user ID, API key) for Plotly here\n",
    "# You can get them or reset them at: https://plot.ly/settings/api\n",
    "py.sign_in ('USERNAME', 'API-KEY')"
   ]
  },
  {
   "cell_type": "code",
   "execution_count": null,
   "metadata": {
    "collapsed": false
   },
   "outputs": [],
   "source": [
    "%reload_ext autoreload\n",
    "%autoreload 2\n",
    "\n",
    "import cse6040utils"
   ]
  },
  {
   "cell_type": "markdown",
   "metadata": {},
   "source": [
    "## Recap: Solving the PCA problem\n",
    "\n",
    "Recall the basic algorithm to compute a PCA, the theory of which is explained in the notes of [Lab 29](http://nbviewer.ipython.org/github/rvuduc/cse6040-ipynbs/blob/master/29--svd-notes.ipynb) and an interactive visual demo of which appears at http://setosa.io/ev/principal-component-analysis/.\n",
    "\n",
    "You are given a set of $m-1$ data points, $X \\equiv (x_0, x_1, \\cdots, x_{m-1})^T$. Each data point $x_i \\in \\mathbb{R}^d$ is $d$-dimensional. You wish to find a $k$-dimensional representation of these points, where $k \\leq d$. To do so, you run the PCA procedure, which identifies a $k$-dimensional subspace in terms of $k$ orthogonal vectors (\"axes\"); these vectors are the _principal components_.\n",
    "\n",
    "1. If the data are not centered, transform them accordingly. In particular, ensure that their mean is 0, i.e., $\\displaystyle \\frac{1}{m} \\sum_{i=0}^{m-1} x_i = 0$.\n",
    "2. Compute the $k$-truncated SVD, $X \\approx U_k \\Sigma_k V_k^T$. The truncated SVD is just the subset of singular vectors corresponding to the largest $k$ singular values.\n",
    "3. Choose $v_0, v_1, \\ldots, v_{k-1}$ as the principal components."
   ]
  },
  {
   "cell_type": "markdown",
   "metadata": {},
   "source": [
    "## A \"Surprise\" Dataset\n",
    "\n",
    "Today's first application of PCA involves a surprise data set. If you haven't done so already, download it and unpack it into your notebook's working directory.\n",
    "\n",
    "The data set is a bunch of goofy images. Let's look at one, selected at random. I swear I picked it randomly."
   ]
  },
  {
   "cell_type": "code",
   "execution_count": null,
   "metadata": {
    "collapsed": false
   },
   "outputs": [],
   "source": [
    "goofy = Image.open ('peeps/rodd.tiff', 'r') # Load an image\n",
    "goofy"
   ]
  },
  {
   "cell_type": "markdown",
   "metadata": {},
   "source": [
    "Let's convert this image into a Numpy array, and then also to grayscale."
   ]
  },
  {
   "cell_type": "code",
   "execution_count": null,
   "metadata": {
    "collapsed": false
   },
   "outputs": [],
   "source": [
    "def rgb2gray (rgb):\n",
    "    return np.dot (rgb[...,:3], [0.299, 0.587, 0.144])\n",
    "\n",
    "def imshow_gray (im):\n",
    "    plt.imshow (im, interpolation='nearest', cmap=plt.get_cmap ('gray'))"
   ]
  },
  {
   "cell_type": "code",
   "execution_count": null,
   "metadata": {
    "collapsed": false
   },
   "outputs": [],
   "source": [
    "goofy_np_gray = rgb2gray (np.asarray (goofy))\n",
    "imshow_gray (goofy_np_gray)\n",
    "print \"What a ham!\""
   ]
  },
  {
   "cell_type": "markdown",
   "metadata": {},
   "source": [
    "Next, let's load all the images as grayscale, into a list, `original_images`, along with an array `image_names` to hold a name for each image. (The names are extracted from the image filename.)\n",
    "\n",
    "> You may need to adjust the filepath below if this code does not work for you."
   ]
  },
  {
   "cell_type": "code",
   "execution_count": null,
   "metadata": {
    "collapsed": false
   },
   "outputs": [],
   "source": [
    "original_images = []\n",
    "image_names = []\n",
    "for base, dirs, files in os.walk ('peeps/.'):\n",
    "    for filename in files:\n",
    "        name_tiff = re.match (r'^(.*)\\.tiff$', filename)\n",
    "        if name_tiff:\n",
    "            filepath = os.path.join (base, filename)\n",
    "            im = rgb2gray (np.asarray (Image.open (filepath, 'r')))\n",
    "            key = name_tiff.groups (0)[0]\n",
    "            original_images.append (im)\n",
    "            image_names.append (key)\n",
    "        \n",
    "print \"Found\", len (original_images), \"goofy images.\\n\""
   ]
  },
  {
   "cell_type": "markdown",
   "metadata": {},
   "source": [
    "#### Preprocessing\n",
    "\n",
    "To apply PCA, we'll want to preprocess the images in various ways."
   ]
  },
  {
   "cell_type": "markdown",
   "metadata": {},
   "source": [
    "To begin with, observe that the images come in all shapes and sizes."
   ]
  },
  {
   "cell_type": "code",
   "execution_count": null,
   "metadata": {
    "collapsed": false
   },
   "outputs": [],
   "source": [
    "min_rows, min_cols = sys.maxsize, sys.maxsize\n",
    "max_rows, max_cols = 0, 0\n",
    "for (i, image) in enumerate (original_images):\n",
    "    r, c = image.shape[0], image.shape[1]\n",
    "    print '%d:' % i, image_names[i], \"--\", r, \"x\", c, \"pixels\"\n",
    "    \n",
    "    min_rows = min (min_rows, r)\n",
    "    max_rows = max (max_rows, r)\n",
    "    min_cols = min (min_cols, c)\n",
    "    max_cols = max (max_cols, c)\n",
    "    \n",
    "print \"\\n==> Least common image size:\", min_rows, \"x\", min_cols, \"pixels\""
   ]
  },
  {
   "cell_type": "markdown",
   "metadata": {},
   "source": [
    "**Exercise.** Recenter the images so that they are all the same size. Store them in a 3-dimensional Numpy array called `images[:, :, :]`, where `images[k, :, :]` is the `k`-th image."
   ]
  },
  {
   "cell_type": "code",
   "execution_count": null,
   "metadata": {
    "collapsed": false
   },
   "outputs": [],
   "source": [
    "# Re-center images to a common size\n",
    "images = np.zeros ((len (original_images), min_rows, min_cols))\n",
    "for (i, image) in enumerate (original_images):\n",
    "    # @YOUSE: Implement a recentering\n",
    "    pass\n",
    "    \n",
    "imshow_gray (images[29, :, :]) # Test: Who am I?"
   ]
  },
  {
   "cell_type": "markdown",
   "metadata": {},
   "source": [
    "**Exercise.** Compute an \"average\" image, taken as the elementwise (pixelwise) mean over all images. Store the result in a `min_rows` $\\times$ `min_cols` Numpy array called, `mean_image`."
   ]
  },
  {
   "cell_type": "code",
   "execution_count": null,
   "metadata": {
    "collapsed": false
   },
   "outputs": [],
   "source": [
    "# @YOUSE: Compute the mean image\n",
    "mean_image = ...\n",
    "\n",
    "# Inspect your solution by viewing the \"average\" image. How would you describe it?\n",
    "imshow_gray (mean_image)"
   ]
  },
  {
   "cell_type": "markdown",
   "metadata": {},
   "source": [
    "**Exercise.** Recall that PCA requires centered points. Let's do that by subtracting the mean image from every image, overwriting the result (`images` array)."
   ]
  },
  {
   "cell_type": "code",
   "execution_count": null,
   "metadata": {
    "collapsed": false
   },
   "outputs": [],
   "source": [
    "# @YOUSE: Re-center the images around `mean_image`\n",
    "pass"
   ]
  },
  {
   "cell_type": "code",
   "execution_count": null,
   "metadata": {
    "collapsed": false
   },
   "outputs": [],
   "source": [
    "imshow_gray (images[29, :, :]) # Compare this to the original. It's \"spooky!\""
   ]
  },
  {
   "cell_type": "markdown",
   "metadata": {},
   "source": [
    "For PCA, we need a data matrix. Here is some code to convert our 3-D array of images into a 2-D data matrix, where we \"flatten\" each image into a 1-D vector by a simple `reshape` operation."
   ]
  },
  {
   "cell_type": "code",
   "execution_count": null,
   "metadata": {
    "collapsed": false
   },
   "outputs": [],
   "source": [
    "# Create m x d data matrix\n",
    "m = len (images)\n",
    "d = min_rows * min_cols\n",
    "X = np.reshape (images, (m, d))"
   ]
  },
  {
   "cell_type": "code",
   "execution_count": null,
   "metadata": {
    "collapsed": false
   },
   "outputs": [],
   "source": [
    "# To get back to an image, just reshape it again\n",
    "imshow_gray (np.reshape (X[29, :], (min_rows, min_cols)))"
   ]
  },
  {
   "cell_type": "markdown",
   "metadata": {},
   "source": [
    "## Applying PCA"
   ]
  },
  {
   "cell_type": "markdown",
   "metadata": {},
   "source": [
    "**Exercise.** Compute the SVD of `X`. Store the result in three arrays, `U`, `Sigma`, and `VT`, where `U` holds $U$, `Sigma` holds just the diagonal entries of $\\Sigma$, and `VT` holds $V^T$."
   ]
  },
  {
   "cell_type": "code",
   "execution_count": null,
   "metadata": {
    "collapsed": false
   },
   "outputs": [],
   "source": [
    "# @YOUSE: Compute the SVD of X here\n",
    "pass\n",
    "\n",
    "# Sanity check on dimensions\n",
    "print \"X:\", X.shape\n",
    "print \"U:\", U.shape\n",
    "print \"Sigma:\", Sigma.shape\n",
    "print \"V^T:\", VT.shape"
   ]
  },
  {
   "cell_type": "markdown",
   "metadata": {},
   "source": [
    "The following code looks at Sigma. The collection of $\\sigma_i$ values is also referred to as the _spectrum_ of the matrix."
   ]
  },
  {
   "cell_type": "code",
   "execution_count": null,
   "metadata": {
    "collapsed": false
   },
   "outputs": [],
   "source": [
    "def peek_Sigma (Sigma, ret_df=False):\n",
    "    k = len (Sigma)\n",
    "    df_Sigma = pd.DataFrame (np.arange (len (Sigma)), columns=['i'])\n",
    "    df_Sigma['sigma_i'] = Sigma\n",
    "    Sigma_sq = np.power (Sigma, 2)\n",
    "    Err_sq = np.sum (Sigma_sq) - np.cumsum (Sigma_sq)\n",
    "    Err_sq[Err_sq < 0] = 0\n",
    "    Err = np.sqrt (Err_sq)\n",
    "    Relerr = Err / (Sigma[0] + Err[0])\n",
    "    df_Sigma['sigma_i^2'] = Sigma_sq\n",
    "    df_Sigma['err_i^2'] = Err_sq\n",
    "    df_Sigma['err_i'] = Err\n",
    "    df_Sigma['relerr_i'] = Relerr\n",
    "    print \"Singular values:\"\n",
    "    display (df_Sigma.head ())\n",
    "    print \"  ...\"\n",
    "    display (df_Sigma.tail ())\n",
    "    \n",
    "    f, ax = plt.subplots (figsize=(7, 7))\n",
    "    #ax.set (yscale=\"log\")\n",
    "    sns.regplot (\"i\", \"sigma_i\", df_Sigma, ax=ax, fit_reg=False)\n",
    "    if ret_df:\n",
    "        return df_Sigma"
   ]
  },
  {
   "cell_type": "code",
   "execution_count": null,
   "metadata": {
    "collapsed": false
   },
   "outputs": [],
   "source": [
    "peek_Sigma (Sigma)"
   ]
  },
  {
   "cell_type": "markdown",
   "metadata": {},
   "source": [
    "**Exercise (question only).** Does the spectrum of these data decay quickly or slowly? How should that affect your choice of $k$, if you are considering a $k$-truncated SVD?"
   ]
  },
  {
   "cell_type": "markdown",
   "metadata": {},
   "source": [
    "_(@YOUSE: Enter a response here)_"
   ]
  },
  {
   "cell_type": "markdown",
   "metadata": {},
   "source": [
    "**Exercise.** Run the code cell below to look at the first (\"0\"-th) principal components. Modify the cell and re-run it to look at a few more. What do they appear to capture?"
   ]
  },
  {
   "cell_type": "code",
   "execution_count": null,
   "metadata": {
    "collapsed": false
   },
   "outputs": [],
   "source": [
    "imshow_gray (np.reshape (VT[0, :], (min_rows, min_cols)))"
   ]
  },
  {
   "cell_type": "markdown",
   "metadata": {},
   "source": [
    "**Exercise.** Write some code to compute a new matrix `Y`, which is the original data matrix projected onto the first two principal components.\n",
    "\n",
    "> You can use the second and third code cells below to draw your projection."
   ]
  },
  {
   "cell_type": "code",
   "execution_count": null,
   "metadata": {
    "collapsed": false
   },
   "outputs": [],
   "source": [
    "# @YOUSE: Project onto the first k principal axes.\n",
    "Y = ..."
   ]
  },
  {
   "cell_type": "code",
   "execution_count": null,
   "metadata": {
    "collapsed": false
   },
   "outputs": [],
   "source": [
    "def plotly_scatter_2d_labeled (X, x_1=0, x_2=1, labels=\"\"):\n",
    "    m, d = X.shape\n",
    "    traces = []\n",
    "    if d > 1:\n",
    "        traces.append (Scatter (x=Y[:, x_1:x_1+1], y=Y[:, x_2:x_2+1],\n",
    "                                mode='markers',\n",
    "                                text=labels))\n",
    "    else:\n",
    "        traces.append (Scatter (x=Y, y=[0.0] * m,\n",
    "                                mode='markers',\n",
    "                                text=labels))\n",
    "    fig = Figure (data=traces) #, layout=layout)\n",
    "    display (py.iplot (fig))"
   ]
  },
  {
   "cell_type": "code",
   "execution_count": null,
   "metadata": {
    "collapsed": false
   },
   "outputs": [],
   "source": [
    "plotly_scatter_2d_labeled (Y, labels=image_names)"
   ]
  },
  {
   "cell_type": "markdown",
   "metadata": {},
   "source": [
    "Another fun thing to do is to run k-means on the projected points."
   ]
  },
  {
   "cell_type": "code",
   "execution_count": null,
   "metadata": {
    "collapsed": true
   },
   "outputs": [],
   "source": [
    "from scipy.cluster.vq import kmeans, vq"
   ]
  },
  {
   "cell_type": "code",
   "execution_count": null,
   "metadata": {
    "collapsed": true
   },
   "outputs": [],
   "source": [
    "def points2df (X):\n",
    "    return pd.DataFrame (X, columns=['x_%d' % (i+1) for i in range (X.shape[1])])\n",
    "\n",
    "# From [Lab 28]\n",
    "def plot_clustering_k2 (X, centers, clustering):\n",
    "    df = points2df (X)\n",
    "    df['clustering'] = clustering\n",
    "    sns.lmplot(data=df, x=\"x_1\", y=\"x_2\", hue=\"clustering\", fit_reg=False,)\n",
    "    if df['clustering'][0] == 0:\n",
    "        colors = ['b', 'g']\n",
    "    else:\n",
    "        colors = ['g', 'b']\n",
    "    plt.scatter(centers[:,0], centers[:,1], s=500, c=colors, marker=u'*' )"
   ]
  },
  {
   "cell_type": "code",
   "execution_count": null,
   "metadata": {
    "collapsed": false
   },
   "outputs": [],
   "source": [
    "def split_clusters (clustering):\n",
    "    \"\"\"\n",
    "    Given a list of cluster label assignments, 'clustering',\n",
    "    returns a list of lists, 'J[0:k]', 'clustering[J[i]]'\n",
    "    is an array of all points having the same label.\n",
    "    \"\"\"\n",
    "    id_label_pairs = list (enumerate (set (clustering.flatten ())))\n",
    "    labels_map = dict ([(v, i) for (i, v) in id_label_pairs])\n",
    "    \n",
    "    # Count how many points belong to each cluster\n",
    "    counts = [0] * len (labels_map)\n",
    "    for l in clustering.flatten ():\n",
    "        counts[labels_map[l]] += 1\n",
    "        \n",
    "    # Allocate space for each cluster\n",
    "    clusters = [np.zeros (k, dtype=int) for k in counts]\n",
    "    \n",
    "    # Separate the points by cluster\n",
    "    counts = [0] * len (labels_map)\n",
    "    for (id_x, l) in enumerate (clustering.flatten ()):\n",
    "        l_id = labels_map[l]\n",
    "        k = counts[l_id]\n",
    "        clusters[l_id][k] = id_x\n",
    "        counts[l_id] += 1\n",
    "\n",
    "    return clusters\n",
    "\n",
    "def make_clustering_traces_k2 (X, clustering=None, x_1=0, x_2=1, labels=\"\"):\n",
    "    \"\"\"\n",
    "    Returns a list Plotly-compatible marker traces.\n",
    "    \"\"\"\n",
    "    traces = []\n",
    "    if clustering is None:\n",
    "        traces.append (Scatter (x=X[:, x_1:(x_1+1)],\n",
    "                                y=X[:, x_2:(x_2+1)],\n",
    "                                mode='markers',\n",
    "                                text=labels))\n",
    "    else:\n",
    "        clusters = split_clusters (clustering)\n",
    "        for J in clusters:\n",
    "            s_J = Scatter (x=X[J, x_1:(x_1+1)],\n",
    "                           y=X[J, x_2:(x_2+1)],\n",
    "                           mode='markers',\n",
    "                           name=\"%s\" % str (clustering[J[0]]),\n",
    "                           text=[labels[j] for j in J])\n",
    "            traces.append (s_J)\n",
    "    return traces"
   ]
  },
  {
   "cell_type": "code",
   "execution_count": null,
   "metadata": {
    "collapsed": false
   },
   "outputs": [],
   "source": [
    "num_clusters = 3\n",
    "centers, distortion = kmeans (X, num_clusters)\n",
    "clustering, _ = vq (X, centers)\n",
    "traces_X = make_clustering_traces_k2 (Y, clustering, labels=image_names)"
   ]
  },
  {
   "cell_type": "code",
   "execution_count": null,
   "metadata": {
    "collapsed": false
   },
   "outputs": [],
   "source": [
    "fig = Figure (data=traces_X)\n",
    "py.iplot (fig)"
   ]
  },
  {
   "cell_type": "code",
   "execution_count": null,
   "metadata": {
    "collapsed": false
   },
   "outputs": [],
   "source": [
    "centers, distortion = kmeans (Y, num_clusters)\n",
    "clustering, _ = vq (Y, centers)\n",
    "traces_Y = make_clustering_traces_k2 (Y, clustering, labels=image_names)"
   ]
  },
  {
   "cell_type": "code",
   "execution_count": null,
   "metadata": {
    "collapsed": false
   },
   "outputs": [],
   "source": [
    "fig = Figure (data=traces_Y) #, layout=layout)\n",
    "py.iplot (fig)"
   ]
  },
  {
   "cell_type": "code",
   "execution_count": null,
   "metadata": {
    "collapsed": false
   },
   "outputs": [],
   "source": [
    "df_kcurve = pd.DataFrame (columns=['k', 'distortion']) \n",
    "for i in range(1,10):\n",
    "    _, distortion = kmeans (Y, i)\n",
    "    df_kcurve.loc[i] = [i, distortion]\n",
    "df_kcurve.plot(x=\"k\", y=\"distortion\")"
   ]
  },
  {
   "cell_type": "markdown",
   "metadata": {
    "collapsed": true
   },
   "source": [
    "## (_optional_) Exploring handwritten digits\n",
    "\n",
    "If time permits, we'll use the code fragments below to explore a different data set, based on images of handwritten digits available from: http://yann.lecun.com/exdb/mnist/"
   ]
  },
  {
   "cell_type": "code",
   "execution_count": null,
   "metadata": {
    "collapsed": false
   },
   "outputs": [],
   "source": [
    "# Download and unpack MNIST digits database\n",
    "(mnist_images_gz, mnist_labels_gz) = cse6040utils.download_mnist ('training')\n",
    "\n",
    "print \"Images:\", mnist_images_gz\n",
    "print \"Labels:\", mnist_labels_gz"
   ]
  },
  {
   "cell_type": "code",
   "execution_count": null,
   "metadata": {
    "collapsed": true
   },
   "outputs": [],
   "source": [
    "images, labels, inds = cse6040utils.load_mnist (mnist_images_gz, mnist_labels_gz,\n",
    "                                                digits=[1, 8],\n",
    "                                                return_indices=True)"
   ]
  },
  {
   "cell_type": "code",
   "execution_count": null,
   "metadata": {
    "collapsed": false
   },
   "outputs": [],
   "source": [
    "print images.shape\n",
    "print labels.shape"
   ]
  },
  {
   "cell_type": "code",
   "execution_count": null,
   "metadata": {
    "collapsed": false
   },
   "outputs": [],
   "source": [
    "imshow_gray (images[2, :, :])"
   ]
  },
  {
   "cell_type": "code",
   "execution_count": null,
   "metadata": {
    "collapsed": false
   },
   "outputs": [],
   "source": [
    "# Compute mean image\n",
    "mean_image = np.mean (images, 0)\n",
    "imshow_gray (mean_image)"
   ]
  },
  {
   "cell_type": "code",
   "execution_count": null,
   "metadata": {
    "collapsed": false
   },
   "outputs": [],
   "source": [
    "X = np.reshape (images - mean_image, (images.shape[0], images.shape[1]*images.shape[2]))\n",
    "print X.shape"
   ]
  },
  {
   "cell_type": "code",
   "execution_count": null,
   "metadata": {
    "collapsed": false
   },
   "outputs": [],
   "source": [
    "(U, Sigma, VT) = np.linalg.svd (X, full_matrices=False)"
   ]
  },
  {
   "cell_type": "code",
   "execution_count": null,
   "metadata": {
    "collapsed": false
   },
   "outputs": [],
   "source": [
    "peek_Sigma (Sigma)"
   ]
  },
  {
   "cell_type": "code",
   "execution_count": null,
   "metadata": {
    "collapsed": false,
    "scrolled": true
   },
   "outputs": [],
   "source": [
    "#imshow_gray (mean_image)\n",
    "imshow_gray (np.reshape (VT[2, :], (28, 28)))"
   ]
  },
  {
   "cell_type": "code",
   "execution_count": null,
   "metadata": {
    "collapsed": true
   },
   "outputs": [],
   "source": [
    "# Project onto the first k principal axes\n",
    "k = 2\n",
    "Y = X.dot (VT[0:k, :].T)"
   ]
  },
  {
   "cell_type": "code",
   "execution_count": null,
   "metadata": {
    "collapsed": false
   },
   "outputs": [],
   "source": [
    "annotations = [\"[%d] %d\" % (i, d) for (i, d) in zip (np.arange (len (Y)), labels)]\n",
    "\n",
    "print annotations[:5]"
   ]
  },
  {
   "cell_type": "code",
   "execution_count": null,
   "metadata": {
    "collapsed": false
   },
   "outputs": [],
   "source": [
    "plotly_scatter_2d_labeled (Y, labels=annotations)"
   ]
  },
  {
   "cell_type": "code",
   "execution_count": null,
   "metadata": {
    "collapsed": false
   },
   "outputs": [],
   "source": [
    "traces_Y = make_clustering_traces_k2 (Y, clustering=labels, labels=annotations)\n",
    "fig = Figure (data=traces_Y)\n",
    "py.iplot (fig)"
   ]
  },
  {
   "cell_type": "code",
   "execution_count": null,
   "metadata": {
    "collapsed": false
   },
   "outputs": [],
   "source": [
    "imshow_gray (images[2705, :, :])"
   ]
  },
  {
   "cell_type": "code",
   "execution_count": null,
   "metadata": {
    "collapsed": false
   },
   "outputs": [],
   "source": [
    "imshow_gray (images[1407, :, :])"
   ]
  },
  {
   "cell_type": "code",
   "execution_count": null,
   "metadata": {
    "collapsed": false
   },
   "outputs": [],
   "source": [
    "num_clusters = 2\n",
    "centers, distortion = kmeans (X, num_clusters)\n",
    "clustering, _ = vq (X, centers)"
   ]
  },
  {
   "cell_type": "code",
   "execution_count": null,
   "metadata": {
    "collapsed": false
   },
   "outputs": [],
   "source": [
    "traces_Y = make_clustering_traces_k2 (Y, clustering, labels=annotations)\n",
    "fig = Figure (data=traces_Y)\n",
    "py.iplot (fig)"
   ]
  },
  {
   "cell_type": "code",
   "execution_count": null,
   "metadata": {
    "collapsed": false
   },
   "outputs": [],
   "source": [
    "imshow_gray (images[93, :, :])"
   ]
  },
  {
   "cell_type": "markdown",
   "metadata": {},
   "source": [
    "## References\n",
    "\n",
    "Today's notebook uses a bunch of library modules and coding tricks; if you want to learn more, see these references.\n",
    "\n",
    "_Image manipulation_\n",
    "* Working with TIFFs: http://stackoverflow.com/questions/7569553/working-with-tiffs-import-export-in-python-using-numpy\n",
    "* Displaying PIL images inline: http://stackoverflow.com/questions/26649716/how-to-show-pil-image-in-ipython-notebook\n",
    "* Convert to grayscale: http://stackoverflow.com/questions/12201577/how-can-i-convert-an-rgb-image-into-grayscale-in-python\n",
    "* MNIST digit recognition database: http://yann.lecun.com/exdb/mnist/\n",
    "\n",
    "_PCA in Python_\n",
    "* http://scikit-learn.org/stable/modules/generated/sklearn.decomposition.PCA.html"
   ]
  }
 ],
 "metadata": {
  "kernelspec": {
   "display_name": "Python 2",
   "language": "python",
   "name": "python2"
  },
  "language_info": {
   "codemirror_mode": {
    "name": "ipython",
    "version": 2
   },
   "file_extension": ".py",
   "mimetype": "text/x-python",
   "name": "python",
   "nbconvert_exporter": "python",
   "pygments_lexer": "ipython2",
   "version": "2.7.10"
  }
 },
 "nbformat": 4,
 "nbformat_minor": 0
}
