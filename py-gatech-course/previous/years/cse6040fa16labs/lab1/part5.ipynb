{
 "cells": [
  {
   "cell_type": "markdown",
   "metadata": {
    "nbgrader": {
     "grade": false,
     "solution": false
    }
   },
   "source": [
    "# Important note!\n",
    "\n",
    "Before you turn this problem in, make sure everything runs as expected. First, **restart the kernel** (in the menubar, select Kernel$\\rightarrow$Restart) and then **run all cells** (in the menubar, select Cell$\\rightarrow$Run All).\n",
    "\n",
    "Make sure you fill in any place that says `YOUR CODE HERE` or \"YOUR ANSWER HERE\", as well as your name and collaborators below:"
   ]
  },
  {
   "cell_type": "code",
   "execution_count": null,
   "metadata": {
    "collapsed": false,
    "nbgrader": {
     "grade": false,
     "solution": false
    }
   },
   "outputs": [],
   "source": [
    "YOUR_ID = \"\" # example: \"rvuduc3\"\n",
    "COLLABORATORS = [] # list of strings of your collaborators' IDs"
   ]
  },
  {
   "cell_type": "markdown",
   "metadata": {},
   "source": [
    "**Jupyter / IPython version check.** The following code cell verifies that you are using the correct version of Jupyter/IPython."
   ]
  },
  {
   "cell_type": "code",
   "execution_count": null,
   "metadata": {
    "collapsed": true
   },
   "outputs": [],
   "source": [
    "import IPython\n",
    "assert IPython.version_info[0] >= 3, \"Your version of IPython is too old, please update it.\""
   ]
  },
  {
   "cell_type": "markdown",
   "metadata": {},
   "source": [
    "---"
   ]
  },
  {
   "cell_type": "markdown",
   "metadata": {},
   "source": [
    "# Part 5: Actual baskets!\n",
    "\n",
    "Let's download some actual shopping basket data and find co-occurring pairs. We can use the shopping basket data available in someone else's [online tutorial](http://www.salemmarafi.com/code/market-basket-analysis-with-r/)."
   ]
  },
  {
   "cell_type": "markdown",
   "metadata": {},
   "source": [
    "## The Requests module\n",
    "\n",
    "Let's start by downloading the data using Python. The file we want is in a comma-separated values (CSV) file with variable-length rows. Its first few lines look like,\n",
    "\n",
    "```\n",
    "citrus fruit,semi-finished bread,margarine,ready soups\n",
    "tropical fruit,yogurt,coffee\n",
    "whole milk\n",
    "pip fruit,yogurt,cream cheese ,meat spreads\n",
    "other vegetables,whole milk,condensed milk,long life bakery product\n",
    "...\n",
    "```\n",
    "\n",
    "Each line is a basket and the items are separated by commas. An item appears _at most once_ in any given basket. (This scenario differs from the letters scenario in previous parts of this lab.)\n",
    "\n",
    "The [Requests module](http://requests.readthedocs.io/en/latest/user/quickstart/) makes it easy to download any web page as (raw) text."
   ]
  },
  {
   "cell_type": "code",
   "execution_count": null,
   "metadata": {
    "collapsed": false,
    "deletable": false,
    "nbgrader": {
     "checksum": "8e012633bf5d049a123008fb8debb301",
     "grade": false,
     "grade_id": "load_groceries",
     "locked": true,
     "solution": false
    }
   },
   "outputs": [],
   "source": [
    "import requests\n",
    "response = requests.get ('http://www.salemmarafi.com/wp-content/uploads/2014/03/groceries.csv')\n",
    "groceries_file = response.text  # or response.content for raw bytes\n",
    "\n",
    "print (groceries_file[0:250]) # Prints the first 250 characters only"
   ]
  },
  {
   "cell_type": "markdown",
   "metadata": {},
   "source": [
    "## Find the co-occurring items (21 points)\n",
    "\n",
    "Write your own code to solve the pairwise assocation problem for the groceries data set. Your code must include a function with the signature,\n",
    "\n",
    "```python\n",
    "  def pairwise_assoc_miner (text, s):\n",
    "      ...\n",
    "```\n",
    "\n",
    "This function should takes a text string `text` and positive integer threshold `s` as input. You may assume `text` is formatted just like the groceries file above. The function should return a list whose entries have the form, `((i, j), c)` where `i` and `j` are item names, `c` is the frequency of the pair, and the list contains exactly those pairs where `c >= s`. Our test code will simply call this function and check the list.\n",
    "\n",
    "This problem exhibits symmetry in that $(i, j)$ and $(j, i)$ pairs may be regarded as the same. Your implementation can use any convention, i.e., it can include one or both, as long as it includes at least one of them if the count is `s` or higher.\n",
    "\n",
    "Feel free to define auxiliary functions you'd like; just make sure everything needed to run your solution appears in the cell below.\n",
    "\n",
    "Lastly, try to write clear, readable code. For tricky bits, use lightweight documentation to explain what you are doing."
   ]
  },
  {
   "cell_type": "code",
   "execution_count": null,
   "metadata": {
    "collapsed": true,
    "deletable": false,
    "nbgrader": {
     "checksum": "e0106b7b1e000112c4ce2c8f8fa64ed1",
     "grade": false,
     "grade_id": "soln",
     "locked": false,
     "solution": true
    }
   },
   "outputs": [],
   "source": [
    "# YOUR CODE HERE\n",
    "raise NotImplementedError()"
   ]
  },
  {
   "cell_type": "markdown",
   "metadata": {},
   "source": [
    "The following cells will check your function on the 'groceries' data (`groceries_file` above). However, you probably want to develop your own smaller-scale tests before you run on the full data set. We recommend you create a few code cells and write your own code for testing and debugging. (We won't check or grade those.)"
   ]
  },
  {
   "cell_type": "code",
   "execution_count": null,
   "metadata": {
    "collapsed": false,
    "deletable": false,
    "nbgrader": {
     "checksum": "b924e503d0f88ace68e9f4312bb1728f",
     "grade": true,
     "grade_id": "soln_check_fun",
     "locked": true,
     "points": 1,
     "solution": false
    }
   },
   "outputs": [],
   "source": [
    "try:\n",
    "    freq_pairs = pairwise_assoc_miner (groceries_file, 500)\n",
    "except NameError:\n",
    "    raise AssertionError (\"*** Your implementation did not appear to define a `pairwise_assoc_miner()` function as asked. ***\")"
   ]
  },
  {
   "cell_type": "code",
   "execution_count": null,
   "metadata": {
    "collapsed": false,
    "deletable": false,
    "nbgrader": {
     "checksum": "a74484c5bca2305cced86b756a6af225",
     "grade": true,
     "grade_id": "soln_test",
     "locked": true,
     "points": 20,
     "solution": false
    }
   },
   "outputs": [],
   "source": [
    "freq_pairs_dict = {ij: c for (ij, c) in freq_pairs}\n",
    "print (freq_pairs_dict)\n",
    "\n",
    "# We *think* these values would be correct.\n",
    "check_dict = {('rolls/buns', 'whole milk'): 557,\n",
    "              ('whole milk', 'yogurt'): 551,\n",
    "              ('other vegetables', 'whole milk'): 736}\n",
    "\n",
    "for ((i, j), c) in check_dict.items ():\n",
    "    assert (i, j) in freq_pairs_dict or (j, i) in freq_pairs_dict\n",
    "    if (i, j) in freq_pairs_dict:\n",
    "        assert freq_pairs_dict[(i, j)] == check_dict[(i, j)]\n",
    "    elif (j, i) in freq_pairs_dict:\n",
    "        assert freq_pairs_dict[(j, i)] == check_dict[(i, j)]\n",
    "    else:\n",
    "        raise AssertionError ('Pair ({}, {}) missing!'.format (i, j))\n",
    "        \n",
    "for ((i, j), c) in freq_pairs_dict.items ():\n",
    "    if i <= j:\n",
    "        assert (i, j) in check_dict and c == check_dict[(i, j)]\n",
    "    else:\n",
    "        assert (j, i) in check_dict and c == check_dict[(j, i)]\n",
    "        \n",
    "print (\"\\n(Passed.)\")"
   ]
  }
 ],
 "metadata": {
  "anaconda-cloud": {},
  "kernelspec": {
   "display_name": "Python [Root]",
   "language": "python",
   "name": "Python [Root]"
  },
  "language_info": {
   "codemirror_mode": {
    "name": "ipython",
    "version": 3
   },
   "file_extension": ".py",
   "mimetype": "text/x-python",
   "name": "python",
   "nbconvert_exporter": "python",
   "pygments_lexer": "ipython3",
   "version": "3.5.2"
  }
 },
 "nbformat": 4,
 "nbformat_minor": 0
}
