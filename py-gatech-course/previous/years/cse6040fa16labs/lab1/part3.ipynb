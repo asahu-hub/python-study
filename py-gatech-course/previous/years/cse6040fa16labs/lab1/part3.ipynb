{
 "cells": [
  {
   "cell_type": "markdown",
   "metadata": {
    "nbgrader": {
     "grade": false,
     "solution": false
    }
   },
   "source": [
    "# Important note!\n",
    "\n",
    "Before you turn this problem in, make sure everything runs as expected. First, **restart the kernel** (in the menubar, select Kernel$\\rightarrow$Restart) and then **run all cells** (in the menubar, select Cell$\\rightarrow$Run All).\n",
    "\n",
    "Make sure you fill in any place that says `YOUR CODE HERE` or \"YOUR ANSWER HERE\", as well as your name and collaborators below:"
   ]
  },
  {
   "cell_type": "code",
   "execution_count": null,
   "metadata": {
    "collapsed": false,
    "nbgrader": {
     "grade": false,
     "solution": false
    }
   },
   "outputs": [],
   "source": [
    "YOUR_ID = \"\" # example: \"rvuduc3\"\n",
    "COLLABORATORS = [] # list of strings of your collaborators' IDs"
   ]
  },
  {
   "cell_type": "markdown",
   "metadata": {},
   "source": [
    "**Jupyter / IPython version check.** The following code cell verifies that you are using the correct version of Jupyter/IPython."
   ]
  },
  {
   "cell_type": "code",
   "execution_count": null,
   "metadata": {
    "collapsed": true
   },
   "outputs": [],
   "source": [
    "import IPython\n",
    "assert IPython.version_info[0] >= 3, \"Your version of IPython is too old, please update it.\""
   ]
  },
  {
   "cell_type": "markdown",
   "metadata": {},
   "source": [
    "---"
   ]
  },
  {
   "cell_type": "markdown",
   "metadata": {},
   "source": [
    "# Part 3: Strings, default dictionaries, and iteration tools\n",
    "\n",
    "Before we get to pairwise association mining algorithms, let's review string manipulation and introduce some tools that will prove useful."
   ]
  },
  {
   "cell_type": "markdown",
   "metadata": {},
   "source": [
    "## Strings review\n",
    "\n",
    "Consider the following multiline string:"
   ]
  },
  {
   "cell_type": "code",
   "execution_count": null,
   "metadata": {
    "collapsed": true,
    "deletable": false,
    "nbgrader": {
     "checksum": "d88bafc885babecbefbb16d28bfcb602",
     "grade": false,
     "grade_id": "input_text",
     "locked": true,
     "solution": false
    }
   },
   "outputs": [],
   "source": [
    "text = \"\"\"How much wood could a woodchuck chuck\n",
    "if a woodchuck could chuck wood?\"\"\""
   ]
  },
  {
   "cell_type": "markdown",
   "metadata": {},
   "source": [
    "> _(1 point)_ **Question 1.** Write some code to compute `words`, a list of the words contained in `text`. In addition, you should also convert all words to lowercase. You may assume that only spaces delimit words."
   ]
  },
  {
   "cell_type": "code",
   "execution_count": null,
   "metadata": {
    "collapsed": false,
    "deletable": false,
    "nbgrader": {
     "checksum": "d894dde59a6992d9dfa542c1163bffef",
     "grade": false,
     "grade_id": "calc_words",
     "locked": false,
     "solution": true
    }
   },
   "outputs": [],
   "source": [
    "# YOUR CODE HERE\n",
    "raise NotImplementedError()"
   ]
  },
  {
   "cell_type": "code",
   "execution_count": null,
   "metadata": {
    "collapsed": false,
    "deletable": false,
    "nbgrader": {
     "checksum": "22624b867f567d8f3f6dce2853de8a06",
     "grade": true,
     "grade_id": "test_words",
     "locked": true,
     "points": 1,
     "solution": false
    }
   },
   "outputs": [],
   "source": [
    "print (\"Your solution produced:\", words)\n",
    "\n",
    "print (\"Testing output...\")\n",
    "assert len (words) == 13\n",
    "assert sum ([w == \"how\" for w in words]) == 1\n",
    "assert sum ([w == \"much\" for w in words]) == 1\n",
    "assert sum ([w == \"wood\" for w in words]) == 1\n",
    "assert sum ([w == \"could\" for w in words]) == 2\n",
    "assert sum ([w == \"a\" for w in words]) == 2\n",
    "assert sum ([w == \"woodchuck\" for w in words]) == 2\n",
    "assert sum ([w == \"chuck\" for w in words]) == 2\n",
    "assert sum ([w == \"if\" for w in words]) == 1\n",
    "assert sum ([w == \"wood?\" for w in words]) == 1\n",
    "print (\"\\n(Passed.)\")"
   ]
  },
  {
   "cell_type": "markdown",
   "metadata": {},
   "source": [
    "> _(3 points)_ **Question 2.** Write a function that returns a dictionary whose keys are each of the unique letters of the string and whose corresponding values are the counts of each letter. Your implementation should also obey these rules:\n",
    ">\n",
    "> 1. As above, you should _ignore_ capitalization, in particular, \"canonicalizing\" all words to lowercase.\n",
    "> 2. You should _discard_ non-alphabetic characters, e.g., numbers and punctuation."
   ]
  },
  {
   "cell_type": "code",
   "execution_count": null,
   "metadata": {
    "collapsed": false,
    "deletable": false,
    "nbgrader": {
     "checksum": "04b42f87658ba5a044a593a58701730e",
     "grade": false,
     "grade_id": "count_letters",
     "locked": false,
     "solution": true
    }
   },
   "outputs": [],
   "source": [
    "def count_letters (s):\n",
    "    \"\"\"Returns a dictionary of (letter, count) pairs for the given string.\"\"\"\n",
    "    # YOUR CODE HERE\n",
    "    raise NotImplementedError()"
   ]
  },
  {
   "cell_type": "code",
   "execution_count": null,
   "metadata": {
    "collapsed": false,
    "deletable": false,
    "nbgrader": {
     "checksum": "63c72d946c1d3c5d9233a6165e17986e",
     "grade": true,
     "grade_id": "count_letters_test",
     "locked": true,
     "points": 3,
     "solution": false
    }
   },
   "outputs": [],
   "source": [
    "counts = count_letters (text)\n",
    "\n",
    "print (\"count_letters ('''{0}''')\\n==\\n{1}\".format (text, counts))\n",
    "\n",
    "assert len (counts) == 12 # Number of unique letters\n",
    "\n",
    "# Check frequency of each letter against the 'woodchuck' string\n",
    "assert ('a' in counts) and (counts['a'] == 2)\n",
    "assert ('c' in counts) and (counts['c'] == 11)\n",
    "assert ('d' in counts) and (counts['d'] == 6)\n",
    "assert ('f' in counts) and (counts['f'] == 1)\n",
    "assert ('h' in counts) and (counts['h'] == 6)\n",
    "assert ('i' in counts) and (counts['i'] == 1)\n",
    "assert ('k' in counts) and (counts['k'] == 4)\n",
    "assert ('l' in counts) and (counts['l'] == 2)\n",
    "assert ('m' in counts) and (counts['m'] == 1)\n",
    "assert ('o' in counts) and (counts['o'] == 11)\n",
    "assert ('u' in counts) and (counts['u'] == 7)\n",
    "assert ('w' in counts) and (counts['w'] == 5)\n",
    "\n",
    "print (\"\\n(Passed.)\")"
   ]
  },
  {
   "cell_type": "markdown",
   "metadata": {},
   "source": [
    "## Default dictionaries: `collections.defaultdict`\n",
    "\n",
    "Python also has a special type of dictionary called a _default dictionary_, or `defaultdict`. You can use it to simplify the letter counter. The `defaultdict` type is defined in the `collections` module. To see how, consider this example."
   ]
  },
  {
   "cell_type": "code",
   "execution_count": null,
   "metadata": {
    "collapsed": false,
    "deletable": false,
    "nbgrader": {
     "checksum": "3511111d13f919284f0599b0fb7f5e1f",
     "grade": false,
     "grade_id": "count_letters2",
     "locked": true,
     "solution": false
    }
   },
   "outputs": [],
   "source": [
    "from collections import defaultdict\n",
    "\n",
    "# Frequency table, take 2\n",
    "def count_letters2 (s):\n",
    "    \"\"\"Returns a (default) dictionary of (letter, count) pairs for the given string.\"\"\"\n",
    "    counts = defaultdict (int)\n",
    "    letters = [c for c in s.lower () if c.isalpha ()]\n",
    "    for letter in letters:\n",
    "        counts[letter] += 1\n",
    "    return counts"
   ]
  },
  {
   "cell_type": "code",
   "execution_count": null,
   "metadata": {
    "collapsed": false,
    "deletable": false,
    "nbgrader": {
     "checksum": "901c0f9479acd9cc6511dc73503e4636",
     "grade": false,
     "grade_id": "count_letters2_test",
     "locked": true,
     "solution": false
    }
   },
   "outputs": [],
   "source": [
    "# Check answers against the first method\n",
    "counts1 = count_letters (text)\n",
    "counts2 = count_letters2 (text)\n",
    "\n",
    "print (\"1. {}\".format (counts1))\n",
    "print (\"2. {}\".format (counts2))\n",
    "\n",
    "for key, value in counts1.items (): assert counts2[key] == value\n",
    "for key, value in counts2.items (): assert counts1[key] == value\n",
    "print (\"\\n(Passed: Method 2 gives the same answer as method 1.)\")"
   ]
  },
  {
   "cell_type": "markdown",
   "metadata": {},
   "source": [
    "> _(2 points)_ **Question 3.** Explain how this implementation differs from your previous implementation. Why does `defaultdict` take an argument?"
   ]
  },
  {
   "cell_type": "markdown",
   "metadata": {
    "deletable": false,
    "nbgrader": {
     "checksum": "3645458bb58288cbe5665d218d34eb6d",
     "grade": true,
     "grade_id": "explain_defaultdict",
     "locked": false,
     "points": 2,
     "solution": true
    }
   },
   "source": [
    "YOUR ANSWER HERE"
   ]
  },
  {
   "cell_type": "markdown",
   "metadata": {},
   "source": [
    "Consider the following code fragment. Try to predict what it will print _before_ running it. Also try changing the base type from `int` to other things, like `str`, `float`, `list`, and `set`."
   ]
  },
  {
   "cell_type": "code",
   "execution_count": null,
   "metadata": {
    "collapsed": false,
    "deletable": false,
    "nbgrader": {
     "checksum": "d35cfbf95625e37bb660104047f74946",
     "grade": false,
     "grade_id": "non_existent_key_demo",
     "locked": true,
     "solution": false
    }
   },
   "outputs": [],
   "source": [
    "a = defaultdict (str)\n",
    "print (\"{} ==> length {}\".format (a, len (a))) # What will this print?\n",
    "print (a['non-existent-key']) # What will this print?\n",
    "print (\"{} ==> length {}\".format (a, len (a))) # What will this print?"
   ]
  },
  {
   "cell_type": "markdown",
   "metadata": {},
   "source": [
    "## Combinations for co-occurring pairs\n",
    "\n",
    "Suppose we wish to count co-occurring letters in words, in the sense of doing pairwise association mining. That is, you have some text consisting of a bunch of words. Let each word be a \"basket\" and let each alphabetic character within a word be an \"item\" within that basket. The question is which pairs of letters tend to co-occur most frequently."
   ]
  },
  {
   "cell_type": "markdown",
   "metadata": {},
   "source": [
    "**What about repetition?** Treat each instance of a repeated word as a distinct basket. Within a basket, count distinct occurrences of each letter. For example, for the word, `wood`, the pairs (`w`, `o`) and (`o`, `d`) occur twice each, while the pairs (`w`, `d`) and (`o`, `o`) occur once each. If `wood` were the only basket, then the table of co-occurrence counts would have 7 entries whose values are\n",
    "\n",
    "- $T_{\\mathtt{w}, \\mathtt{o}} = T_{\\mathtt{o}, \\mathtt{w}} = T_{\\mathtt{o}, \\mathtt{d}} = T_{\\mathtt{d}, \\mathtt{o}} = 2$ and\n",
    "- $T_{\\mathtt{w}, \\mathtt{d}} = T_{\\mathtt{d}, \\mathtt{w}} = T_{\\mathtt{o}, \\mathtt{o}} = 1$.\n",
    "\n",
    "As it happens, Python provides a handy tool, from the `iters` module, for producing an object that you can use to iterate over exactly these pairs. Here is an example of how to apply it to a string."
   ]
  },
  {
   "cell_type": "code",
   "execution_count": null,
   "metadata": {
    "collapsed": true,
    "deletable": false,
    "nbgrader": {
     "checksum": "e00e1b4674ad6c9fe4b5418845afbca8",
     "grade": false,
     "grade_id": "combos_demo",
     "locked": true,
     "solution": false
    }
   },
   "outputs": [],
   "source": [
    "from itertools import combinations\n",
    "\n",
    "print ('1.', combinations ('wood', 2))\n",
    "print ('2.', list (combinations ('wood', 2)))"
   ]
  }
 ],
 "metadata": {
  "kernelspec": {
   "display_name": "Python 3",
   "language": "python",
   "name": "python3"
  },
  "language_info": {
   "codemirror_mode": {
    "name": "ipython",
    "version": 3
   },
   "file_extension": ".py",
   "mimetype": "text/x-python",
   "name": "python",
   "nbconvert_exporter": "python",
   "pygments_lexer": "ipython3",
   "version": "3.5.1"
  }
 },
 "nbformat": 4,
 "nbformat_minor": 0
}
