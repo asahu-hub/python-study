{
 "cells": [
  {
   "cell_type": "markdown",
   "metadata": {
    "nbgrader": {
     "grade": false,
     "solution": false
    }
   },
   "source": [
    "# Important note!\n",
    "\n",
    "Before you turn this problem in, make sure everything runs as expected. First, **restart the kernel** (in the menubar, select Kernel$\\rightarrow$Restart) and then **run all cells** (in the menubar, select Cell$\\rightarrow$Run All).\n",
    "\n",
    "Make sure you fill in any place that says `YOUR CODE HERE` or \"YOUR ANSWER HERE\", as well as your name and collaborators below:"
   ]
  },
  {
   "cell_type": "code",
   "execution_count": null,
   "metadata": {
    "collapsed": false,
    "nbgrader": {
     "grade": false,
     "solution": false
    }
   },
   "outputs": [],
   "source": [
    "YOUR_ID = \"\" # example: \"rvuduc3\"\n",
    "COLLABORATORS = [] # list of strings of your collaborators' IDs"
   ]
  },
  {
   "cell_type": "markdown",
   "metadata": {},
   "source": [
    "**Jupyter / IPython version check.** The following code cell verifies that you are using the correct version of Jupyter/IPython."
   ]
  },
  {
   "cell_type": "code",
   "execution_count": null,
   "metadata": {
    "collapsed": true
   },
   "outputs": [],
   "source": [
    "import IPython\n",
    "assert IPython.version_info[0] >= 3, \"Your version of IPython is too old, please update it.\""
   ]
  },
  {
   "cell_type": "markdown",
   "metadata": {},
   "source": [
    "---"
   ]
  },
  {
   "cell_type": "markdown",
   "metadata": {},
   "source": [
    "## Part 2: Quick review of Python data structures\n",
    "\n",
    "In the [Python Bootcamp by Chris Simpkins](http://www.cc.gatech.edu/~simpkins/teaching/python-bootcamp/august2016.html), you learned about several basic [data structures for storing collections](http://www.cc.gatech.edu/~simpkins/teaching/python-bootcamp/slides/data-structures.html), including\n",
    "\n",
    "- [lists](https://docs.python.org/3.5/library/stdtypes.html#lists),\n",
    "- [dictionaries](https://docs.python.org/3.5/library/stdtypes.html#mapping-types-dict), and\n",
    "- [sets](https://docs.python.org/3.5/library/stdtypes.html#set-types-set-frozenset).\n",
    "\n",
    "In this part, let's build some intuition for the basic tradeoffs among these.\n",
    "\n",
    "Let's start by considering the following program fragment."
   ]
  },
  {
   "cell_type": "code",
   "execution_count": null,
   "metadata": {
    "collapsed": false,
    "deletable": false,
    "nbgrader": {
     "checksum": "0bab10d1178525fbd30cd3a79862fc38",
     "grade": false,
     "grade_id": "def_foo",
     "locked": true,
     "solution": false
    }
   },
   "outputs": [],
   "source": [
    "import random\n",
    "\n",
    "def foo (n, k):\n",
    "    return [random.randint (0, n) for _ in range (k)]\n",
    "\n",
    "random.seed (0xDEADBEEF)\n",
    "x = foo (1000000000, 1000000)\n",
    "\n",
    "print (x[1:10])"
   ]
  },
  {
   "cell_type": "markdown",
   "metadata": {},
   "source": [
    "> _(1 point)_ **Question 1.** Describe the contents of `x`. That is, what does `foo (n, k)` compute?"
   ]
  },
  {
   "cell_type": "markdown",
   "metadata": {
    "deletable": false,
    "nbgrader": {
     "checksum": "14e936230112ba53a6f0e3eb12087761",
     "grade": true,
     "grade_id": "what_does_foo_dom",
     "locked": false,
     "points": 1,
     "solution": true
    }
   },
   "source": [
    "YOUR ANSWER HERE"
   ]
  },
  {
   "cell_type": "markdown",
   "metadata": {},
   "source": [
    "> _(5 points)_ **Question 2.** Using only lists---that is, _without_ using dictionaries, sets, or other auxiliary data structures other than primitive variables or other lists---write a function that counts the number of unique entries of a given list."
   ]
  },
  {
   "cell_type": "code",
   "execution_count": null,
   "metadata": {
    "collapsed": true,
    "deletable": false,
    "nbgrader": {
     "checksum": "22f5bf585a4db0096338b0a61ee9fb3a",
     "grade": false,
     "grade_id": "count_unique_lists",
     "locked": false,
     "points": 2,
     "solution": true
    }
   },
   "outputs": [],
   "source": [
    "def count_unique__using_lists (x):\n",
    "    \"\"\"Returns the number of unique entries in `x`.\"\"\"\n",
    "    # YOUR CODE HERE\n",
    "    raise NotImplementedError()"
   ]
  },
  {
   "cell_type": "code",
   "execution_count": null,
   "metadata": {
    "collapsed": false,
    "deletable": false,
    "nbgrader": {
     "checksum": "c8a2eaf1e412313d09f8142615e76547",
     "grade": true,
     "grade_id": "check_count_unique_lists",
     "locked": true,
     "points": 5,
     "solution": false
    }
   },
   "outputs": [],
   "source": [
    "n_unique = count_unique__using_lists (x)\n",
    "print ('n =', len (x), 'and n_unique =', n_unique)\n",
    "assert n_unique == 999492\n",
    "print (\"(Passed.)\")\n",
    "%timeit count_unique__using_lists (x)"
   ]
  },
  {
   "cell_type": "markdown",
   "metadata": {},
   "source": [
    "> _(5 points)_ **Question 3.** Repeat the same exercise as above, but this time you may use dictionaries (`dict` in Python) in addition to lists."
   ]
  },
  {
   "cell_type": "code",
   "execution_count": null,
   "metadata": {
    "collapsed": true,
    "deletable": false,
    "nbgrader": {
     "checksum": "ae81c350e34c7f5a29d358b45c9567a4",
     "grade": false,
     "grade_id": "count_unique_dict",
     "locked": false,
     "points": 2,
     "solution": true
    }
   },
   "outputs": [],
   "source": [
    "def count_unique__using_dicts (x):\n",
    "    \"\"\"Returns the number of unique entries in `x`.\"\"\"\n",
    "    # YOUR CODE HERE\n",
    "    raise NotImplementedError()"
   ]
  },
  {
   "cell_type": "code",
   "execution_count": null,
   "metadata": {
    "collapsed": false,
    "deletable": false,
    "nbgrader": {
     "checksum": "a5f979d4587d46e380117fa5b15ce091",
     "grade": true,
     "grade_id": "test_count_unique_dict",
     "locked": true,
     "points": 5,
     "solution": false
    }
   },
   "outputs": [],
   "source": [
    "n_unique = count_unique__using_dicts (x)\n",
    "print ('n =', len (x), 'and n_unique =', n_unique)\n",
    "assert n_unique == 999492\n",
    "print (\"(Passed.)\")\n",
    "%timeit count_unique__using_dicts (x)"
   ]
  },
  {
   "cell_type": "markdown",
   "metadata": {},
   "source": [
    "> _(5 points)_ **Question 4.** Repeat the same exercise one last time, but this time you should try to use a Python `set` and avoid using dictionaries."
   ]
  },
  {
   "cell_type": "code",
   "execution_count": null,
   "metadata": {
    "collapsed": true,
    "deletable": false,
    "nbgrader": {
     "checksum": "2dd9cd0df7aa359438d0bf90cb2a8ad8",
     "grade": false,
     "grade_id": "count_unique_set",
     "locked": false,
     "points": 2,
     "solution": true
    }
   },
   "outputs": [],
   "source": [
    "def count_unique__using_sets (x):\n",
    "    \"\"\"Returns the number of unique entries in `x`.\"\"\"\n",
    "    # YOUR CODE HERE\n",
    "    raise NotImplementedError()"
   ]
  },
  {
   "cell_type": "code",
   "execution_count": null,
   "metadata": {
    "collapsed": false,
    "deletable": false,
    "nbgrader": {
     "checksum": "8eaa3657cc7391d672efed97e4a49a19",
     "grade": true,
     "grade_id": "test_count_unique_set",
     "locked": true,
     "points": 5,
     "solution": false
    }
   },
   "outputs": [],
   "source": [
    "n_unique = count_unique__using_sets (x)\n",
    "print ('n =', len (x), 'and n_unique =', n_unique)\n",
    "assert n_unique == 999492\n",
    "print (\"(Passed.)\")\n",
    "%timeit count_unique__using_sets (x)"
   ]
  },
  {
   "cell_type": "markdown",
   "metadata": {},
   "source": [
    "> _(2 points)_ **Question 5.** You should have found that the three methods differ both in terms of their simplicity and in terms of their performance. Can you think of a scenario in which the results would have been different? (For instance, suppose you found above that a dictionary-based method outperformed a set-based method. Then describe an example problem in which you might expect a set-based method to instead outperform a dictionary-based method.)"
   ]
  },
  {
   "cell_type": "markdown",
   "metadata": {
    "deletable": false,
    "nbgrader": {
     "checksum": "39fc23d994062361b5f207a86ba6b71c",
     "grade": true,
     "grade_id": "ds_analyze",
     "locked": false,
     "points": 2,
     "solution": true
    }
   },
   "source": [
    "YOUR ANSWER HERE"
   ]
  }
 ],
 "metadata": {
  "kernelspec": {
   "display_name": "Python 3",
   "language": "python",
   "name": "python3"
  },
  "language_info": {
   "codemirror_mode": {
    "name": "ipython",
    "version": 3
   },
   "file_extension": ".py",
   "mimetype": "text/x-python",
   "name": "python",
   "nbconvert_exporter": "python",
   "pygments_lexer": "ipython3",
   "version": "3.5.1"
  }
 },
 "nbformat": 4,
 "nbformat_minor": 0
}
