{
 "cells": [
  {
   "cell_type": "markdown",
   "metadata": {
    "nbgrader": {
     "grade": false,
     "solution": false
    }
   },
   "source": [
    "# Important note!\n",
    "\n",
    "Before you turn this problem in, make sure everything runs as expected. First, **restart the kernel** (in the menubar, select Kernel$\\rightarrow$Restart) and then **run all cells** (in the menubar, select Cell$\\rightarrow$Run All).\n",
    "\n",
    "Make sure you fill in any place that says `YOUR CODE HERE` or \"YOUR ANSWER HERE\", as well as your name and collaborators below:"
   ]
  },
  {
   "cell_type": "code",
   "execution_count": null,
   "metadata": {
    "collapsed": false,
    "nbgrader": {
     "grade": false,
     "locked": false,
     "solution": false
    }
   },
   "outputs": [],
   "source": [
    "YOUR_ID = \"\" # Please enter your GT login, e.g., \"rvuduc3\" or \"gtg911x\"\n",
    "COLLABORATORS = [] # list of strings of your collaborators' IDs"
   ]
  },
  {
   "cell_type": "code",
   "execution_count": null,
   "metadata": {
    "collapsed": false,
    "deletable": false,
    "nbgrader": {
     "checksum": "b11295002cc2b9549d6a2b01721b6701",
     "grade": true,
     "grade_id": "who__test",
     "locked": true,
     "points": 1,
     "solution": false
    }
   },
   "outputs": [],
   "source": [
    "import re\n",
    "\n",
    "RE_CHECK_ID = re.compile (r'''[a-zA-Z]+\\d+|[gG][tT][gG]\\d+[a-zA-Z]''')\n",
    "assert RE_CHECK_ID.match (YOUR_ID) is not None\n",
    "\n",
    "collab_check = [RE_CHECK_ID.match (i) is not None for i in COLLABORATORS]\n",
    "assert all (collab_check)\n",
    "\n",
    "del collab_check\n",
    "del RE_CHECK_ID\n",
    "del re"
   ]
  },
  {
   "cell_type": "markdown",
   "metadata": {},
   "source": [
    "**Jupyter / IPython version check.** The following code cell verifies that you are using the correct version of Jupyter/IPython."
   ]
  },
  {
   "cell_type": "code",
   "execution_count": null,
   "metadata": {
    "collapsed": true
   },
   "outputs": [],
   "source": [
    "import IPython\n",
    "assert IPython.version_info[0] >= 3, \"Your version of IPython is too old, please update it.\""
   ]
  },
  {
   "cell_type": "markdown",
   "metadata": {},
   "source": [
    "# Part 3: Sparse matrix storage [27 points]\n",
    "\n",
    "**Downloads.** For this part of the lab, you'll need to download the following dataset:\n",
    "\n",
    "* http://cse6040.gatech.edu/fa15/UserEdges-1M.csv (about 44 MiB)\n",
    "\n",
    "It's a list of pairs of strings. The strings, it turns out, correspond to Yelp! user IDs; a pair $(a, b)$ exists if user $a$ is friends on Yelp! with user $b$."
   ]
  },
  {
   "cell_type": "code",
   "execution_count": null,
   "metadata": {
    "collapsed": true
   },
   "outputs": [],
   "source": [
    "import numpy as np\n",
    "import pandas as pd\n",
    "from random import sample # Used to generate a random sample\n",
    "from IPython.display import display"
   ]
  },
  {
   "cell_type": "markdown",
   "metadata": {},
   "source": [
    "## Sample dataset\n",
    "\n",
    "Start by looking at the sample dataset."
   ]
  },
  {
   "cell_type": "code",
   "execution_count": null,
   "metadata": {
    "collapsed": false
   },
   "outputs": [],
   "source": [
    "edges_raw = pd.read_csv ('UserEdges-1M.csv')\n",
    "display (edges_raw.head ())"
   ]
  },
  {
   "cell_type": "markdown",
   "metadata": {},
   "source": [
    "**Exercise 1** (3 points). Explain what the following code cell does."
   ]
  },
  {
   "cell_type": "code",
   "execution_count": null,
   "metadata": {
    "collapsed": false
   },
   "outputs": [],
   "source": [
    "edges_raw_trans = pd.DataFrame ({'Source': edges_raw['Target'],\n",
    "                                 'Target': edges_raw['Source']})\n",
    "edges_raw_symm = pd.concat ([edges_raw, edges_raw_trans])\n",
    "edges = edges_raw_symm.drop_duplicates ()\n",
    "\n",
    "V_names = set (edges['Source'])\n",
    "V_names.update (set (edges['Target']))\n",
    "\n",
    "num_edges = len (edges)\n",
    "num_verts = len (V_names)\n",
    "print (\"==> |V| == %d, |E| == %d\" % (num_verts, num_edges))"
   ]
  },
  {
   "cell_type": "markdown",
   "metadata": {
    "deletable": false,
    "nbgrader": {
     "checksum": "759b89588a64be154c25d7bd9159061b",
     "grade": true,
     "grade_id": "edgesplain",
     "locked": false,
     "points": 3,
     "solution": true
    }
   },
   "source": [
    "YOUR ANSWER HERE"
   ]
  },
  {
   "cell_type": "markdown",
   "metadata": {},
   "source": [
    "## Sparse matrix storage: Baseline methods\n",
    "\n",
    "Let's start by reminding ourselves how our previous method for storing sparse matrices, based on nested default dictionaries, works and performs."
   ]
  },
  {
   "cell_type": "code",
   "execution_count": null,
   "metadata": {
    "collapsed": true
   },
   "outputs": [],
   "source": [
    "def sparse_matrix (base_type=float):\n",
    "    \"\"\"Returns a sparse matrix using nested default dictionaries.\"\"\"\n",
    "    from collections import defaultdict\n",
    "    return defaultdict (lambda: defaultdict (base_type))\n",
    "\n",
    "def dense_vector (init, base_type=float):\n",
    "    \"\"\"\n",
    "    Returns a dense vector, either of a given length\n",
    "    and initialized to 0 values or using a given list\n",
    "    of initial values.\n",
    "    \"\"\"\n",
    "    # Case 1: `init` is a list of initial values for the vector entries\n",
    "    if type (init) is list:\n",
    "        initial_values = init\n",
    "        return [base_type (x) for x in initial_values]\n",
    "    \n",
    "    # Else, case 2: `init` is a vector length.\n",
    "    assert type (init) is int\n",
    "    return [base_type (0)] * init"
   ]
  },
  {
   "cell_type": "markdown",
   "metadata": {},
   "source": [
    "**Exercise 2** (3 points). Implement a function to compute $y \\leftarrow A x$. Assume that the keys of the sparse matrix data structure are integers in the interval $[0, s)$ where $s$ is the number of rows or columns as appropriate."
   ]
  },
  {
   "cell_type": "code",
   "execution_count": null,
   "metadata": {
    "collapsed": false,
    "deletable": false,
    "nbgrader": {
     "checksum": "955f962052f5c6c7312b202a1718c6b2",
     "grade": false,
     "grade_id": "spmv_baseline",
     "locked": false,
     "solution": true
    }
   },
   "outputs": [],
   "source": [
    "def spmv (A, x, num_rows=None):\n",
    "    if num_rows is None:\n",
    "        num_rows = max (A.keys ()) + 1\n",
    "    y = dense_vector (num_rows)\n",
    "    # YOUR CODE HERE\n",
    "    raise NotImplementedError()\n",
    "    return y"
   ]
  },
  {
   "cell_type": "code",
   "execution_count": null,
   "metadata": {
    "collapsed": false,
    "deletable": false,
    "nbgrader": {
     "checksum": "515643bf850dd079b899416eb1ff2308",
     "grade": true,
     "grade_id": "spmv_baseline_test",
     "locked": true,
     "points": 3,
     "solution": false
    }
   },
   "outputs": [],
   "source": [
    "# Test:\n",
    "#\n",
    "#   / 0.   -2.5   1.2 \\   / 1. \\   / -1.4 \\\n",
    "#   | 0.1   1.    0.  | = | 2. | = |  2.1 |\n",
    "#   \\ 6.   -1.    0.  /   \\ 3. /   \\  4.0 /\n",
    "\n",
    "A = sparse_matrix ()\n",
    "A[0][1] = -2.5\n",
    "A[0][2] = 1.2\n",
    "A[1][0] = 0.1\n",
    "A[1][1] = 1.\n",
    "A[2][0] = 6.\n",
    "A[2][1] = -1.\n",
    "\n",
    "x = dense_vector ([1, 2, 3])\n",
    "y0 = dense_vector ([-1.4, 2.1, 4.0])\n",
    "\n",
    "\n",
    "# Try your code:\n",
    "y = spmv (A, x)\n",
    "\n",
    "max_abs_residual = max ([abs (a-b) for a, b in zip (y, y0)])\n",
    "\n",
    "print (\"==> A:\", A)\n",
    "print (\"==> x:\", x)\n",
    "print (\"==> True solution, y0:\", y0)\n",
    "print (\"==> Your solution, y:\", y)\n",
    "print (\"==> Residual (infinity norm):\", max_abs_residual)\n",
    "assert max_abs_residual <= 1e-15\n",
    "\n",
    "print (\"\\n(Passed.)\")"
   ]
  },
  {
   "cell_type": "markdown",
   "metadata": {},
   "source": [
    "> Do you notice anything interesting about the testing procedure and results?"
   ]
  },
  {
   "cell_type": "markdown",
   "metadata": {},
   "source": [
    "Next, let's convert the `edges` input into a sparse matrix representing its connectivity graph. To do so, we'll first want to map names to integers."
   ]
  },
  {
   "cell_type": "code",
   "execution_count": null,
   "metadata": {
    "collapsed": false
   },
   "outputs": [],
   "source": [
    "id2name = {} # id2name[id] == name\n",
    "name2id = {} # name2id[name] == id\n",
    "\n",
    "for k, v in enumerate (V_names):\n",
    "    # for debugging\n",
    "    if k <= 5: print (\"Name %s -> Vertex id %d\" % (v, k))\n",
    "    if k == 6: print (\"...\")\n",
    "        \n",
    "    id2name[k] = v\n",
    "    name2id[v] = k"
   ]
  },
  {
   "cell_type": "markdown",
   "metadata": {},
   "source": [
    "**Exercise 3** (3 points). Given `id2name` and `name2id` as computed above, convert `edges` into a sparse matrix, `G`, where there is an entry `G[s][t] == 1.0` wherever an edge `(s, t)` exists."
   ]
  },
  {
   "cell_type": "code",
   "execution_count": null,
   "metadata": {
    "collapsed": false,
    "deletable": false,
    "nbgrader": {
     "checksum": "e7b93bdd30160b78cbdaadd4536220be",
     "grade": false,
     "grade_id": "edges2spmat1",
     "locked": false,
     "solution": true
    }
   },
   "outputs": [],
   "source": [
    "G = sparse_matrix ()\n",
    "\n",
    "# YOUR CODE HERE\n",
    "raise NotImplementedError()"
   ]
  },
  {
   "cell_type": "code",
   "execution_count": null,
   "metadata": {
    "collapsed": false,
    "deletable": false,
    "nbgrader": {
     "checksum": "43664e40d066f164c4c7656131a3cce4",
     "grade": true,
     "grade_id": "edges2spmat1_test",
     "locked": true,
     "points": 3,
     "solution": false
    }
   },
   "outputs": [],
   "source": [
    "G_rows_nnz = [len (row_i) for row_i in G.values ()]\n",
    "print (\"G has {} vertices and {} edges.\".format (len (G.keys ()), sum (G_rows_nnz)))\n",
    "\n",
    "assert len (G.keys ()) == num_verts\n",
    "assert sum (G_rows_nnz) == num_edges\n",
    "\n",
    "# Check a random sample\n",
    "for k in sample (range (num_edges), 1000):\n",
    "    i = name2id[edges['Source'].iloc[k]]\n",
    "    j = name2id[edges['Target'].iloc[k]]\n",
    "    assert i in G\n",
    "    assert j in G[i]\n",
    "    assert G[i][j] == 1.0\n",
    "\n",
    "print (\"\\n(Passed.)\")"
   ]
  },
  {
   "cell_type": "markdown",
   "metadata": {},
   "source": [
    "**Exercise 4** (3 points). In the above, we asked you to construct `G` using integer keys. However, since we are, after all, using default dictionaries, we could also use the vertex _names_ as keys. Construct a new sparse matrix, `H`, which uses the vertex names as keys instead of integers."
   ]
  },
  {
   "cell_type": "code",
   "execution_count": null,
   "metadata": {
    "collapsed": true,
    "deletable": false,
    "nbgrader": {
     "checksum": "49c43b1118692f51dc39daf77e4a0ed1",
     "grade": false,
     "grade_id": "create_H",
     "locked": false,
     "solution": true
    }
   },
   "outputs": [],
   "source": [
    "H = sparse_matrix ()\n",
    "\n",
    "# YOUR CODE HERE\n",
    "raise NotImplementedError()"
   ]
  },
  {
   "cell_type": "code",
   "execution_count": null,
   "metadata": {
    "collapsed": false,
    "deletable": false,
    "nbgrader": {
     "checksum": "74f09f66321a81b92f9a069056c3839a",
     "grade": true,
     "grade_id": "create_H_test",
     "locked": true,
     "points": 3,
     "solution": false
    }
   },
   "outputs": [],
   "source": [
    "H_rows_nnz = [len (h) for h in H.values ()]\n",
    "print (\"`H` has {} vertices and {} edges.\".format (len (H.keys ()), sum (H_rows_nnz)))\n",
    "\n",
    "assert len (H.keys ()) == num_verts\n",
    "assert sum (H_rows_nnz) == num_edges\n",
    "\n",
    "# Check a random sample\n",
    "for i in sample (G.keys (), 100):\n",
    "    i_name = id2name[i]\n",
    "    assert i_name in H\n",
    "    assert len (G[i]) == len (H[i_name])\n",
    "    \n",
    "print (\"\\n(Passed.)\")"
   ]
  },
  {
   "cell_type": "markdown",
   "metadata": {},
   "source": [
    "**Exercise 5** (3 points). Implement a sparse matrix-vector multiply for matrices with _named_ keys. In this case, it will be convenient to have vectors that also have named keys; assume dictionaries as suggested below."
   ]
  },
  {
   "cell_type": "code",
   "execution_count": null,
   "metadata": {
    "collapsed": false,
    "deletable": false,
    "nbgrader": {
     "checksum": "e2b8ff94eabca106055961f330e2e1e9",
     "grade": false,
     "grade_id": "spmv_keyed",
     "locked": false,
     "solution": true
    }
   },
   "outputs": [],
   "source": [
    "def vector_keyed (keys=None, values=0, base_type=float):\n",
    "    \"\"\"Returns a \"\"\"\n",
    "    if keys is not None:\n",
    "        if type (values) is not list:\n",
    "            values = [base_type (values)] * len (keys)\n",
    "        else:\n",
    "            values = [base_type (v) for v in values]\n",
    "        x = dict (zip (keys, values))\n",
    "    else:\n",
    "        x = {}\n",
    "    return x\n",
    "\n",
    "def spmv_keyed (A, x):\n",
    "    \"\"\"Performs a aparse matrix-vector multiply for keyed matrices and vectors.\"\"\"\n",
    "    assert type (x) is dict\n",
    "    \n",
    "    y = vector_keyed (keys=x.keys (), values=0.0)\n",
    "    \n",
    "    # YOUR CODE HERE\n",
    "    raise NotImplementedError()\n",
    "    \n",
    "    return y"
   ]
  },
  {
   "cell_type": "code",
   "execution_count": null,
   "metadata": {
    "collapsed": false,
    "deletable": false,
    "nbgrader": {
     "checksum": "b9e1a425ae61c024c90aec900c302200",
     "grade": true,
     "grade_id": "spmv_keyed_test",
     "locked": true,
     "points": 3,
     "solution": false
    }
   },
   "outputs": [],
   "source": [
    "# Test:\n",
    "#\n",
    "#   'row':  / 0.   -2.5   1.2 \\   / 1. \\   / -1.4 \\\n",
    "#  'your':  | 0.1   1.    0.  | = | 2. | = |  2.1 |\n",
    "#  'boat':  \\ 6.   -1.    0.  /   \\ 3. /   \\  4.0 /\n",
    "\n",
    "KEYS = ['row', 'your', 'boat']\n",
    "\n",
    "A_keyed = sparse_matrix ()\n",
    "A_keyed['row']['your'] = -2.5\n",
    "A_keyed['row']['boat'] = 1.2\n",
    "A_keyed['your']['row'] = 0.1\n",
    "A_keyed['your']['your'] = 1.\n",
    "A_keyed['boat']['row'] = 6.\n",
    "A_keyed['boat']['your'] = -1.\n",
    "\n",
    "x_keyed = vector_keyed (KEYS, [1, 2, 3])\n",
    "y0_keyed = vector_keyed (KEYS, [-1.4, 2.1, 4.0])\n",
    "\n",
    "\n",
    "# Try your code:\n",
    "y_keyed = spmv_keyed (A_keyed, x_keyed)\n",
    "\n",
    "# Measure the residual:\n",
    "residuals = [(y_keyed[k] - y0_keyed[k]) for k in KEYS]\n",
    "max_abs_residual = max ([abs (r) for r in residuals])\n",
    "\n",
    "print (\"==> A_keyed:\", A_keyed)\n",
    "print (\"==> x_keyed:\", x_keyed)\n",
    "print (\"==> True solution, y0_keyed:\", y0_keyed)\n",
    "print (\"==> Your solution:\", y_keyed)\n",
    "print (\"==> Residual (infinity norm):\", max_abs_residual)\n",
    "assert max_abs_residual <= 1e-15\n",
    "\n",
    "print (\"\\n(Passed.)\")"
   ]
  },
  {
   "cell_type": "markdown",
   "metadata": {},
   "source": [
    "Let's benchmark `spmv()` against `spmv_keyed()` on the full data set. Do they perform differently?"
   ]
  },
  {
   "cell_type": "code",
   "execution_count": null,
   "metadata": {
    "collapsed": false
   },
   "outputs": [],
   "source": [
    "x = dense_vector ([1.] * num_verts)\n",
    "%timeit spmv (G, x)\n",
    "\n",
    "x_keyed = vector_keyed (keys=[v for v in V_names], values=1.)\n",
    "%timeit spmv_keyed (H, x_keyed)"
   ]
  },
  {
   "cell_type": "markdown",
   "metadata": {},
   "source": [
    "## Alternative formats: COO and CSR formats\n",
    "\n",
    "Take a look at the following slides, which we (hopefully) covered in class: [link](https://t-square.gatech.edu/access/content/group/gtc-3bd6-e221-5b9f-b047-31c7564358b7/slides/2016-10-17--matstore.pdf). These slides cover the basics of two list-based sparse matrix formats known as _coordinate format_ (COO) and _compressed sparse row_ (CSR).\n",
    "\n",
    "Although these are available as native formats in SciPy, let's create native Python versions first using lists. We can then compare the performance of, say, sparse matrix-vector multiply, against the ones we ran above."
   ]
  },
  {
   "cell_type": "markdown",
   "metadata": {},
   "source": [
    "**Exercise 6** (3 points). Convert the `edges[:]` data into a coordinate (COO) data structure in native Python using three lists, `coo_rows[:]`, `coo_cols[:]`, and `coo_vals[:]`, to store the row indices, column indices, and matrix values, respectively. Use integer indices and set all values should all be set to 1."
   ]
  },
  {
   "cell_type": "code",
   "execution_count": null,
   "metadata": {
    "collapsed": true,
    "deletable": false,
    "nbgrader": {
     "checksum": "743f3f0274ab64002cbfc488f983ab48",
     "grade": false,
     "grade_id": "create_coo",
     "locked": false,
     "solution": true
    }
   },
   "outputs": [],
   "source": [
    "# YOUR CODE HERE\n",
    "raise NotImplementedError()"
   ]
  },
  {
   "cell_type": "code",
   "execution_count": null,
   "metadata": {
    "collapsed": false,
    "deletable": false,
    "nbgrader": {
     "checksum": "3c761a47d930eb8aea76ed98ea41e5ef",
     "grade": true,
     "grade_id": "create_coo_test",
     "locked": true,
     "points": 3,
     "solution": false
    }
   },
   "outputs": [],
   "source": [
    "assert len (coo_rows) == num_edges\n",
    "assert len (coo_cols) == num_edges\n",
    "assert len (coo_vals) == num_edges\n",
    "assert all ([v == 1. for v in coo_vals])\n",
    "\n",
    "# Randomly check a bunch of values\n",
    "coo_zip = zip (coo_rows, coo_cols, coo_vals)\n",
    "for i, j, a_ij in sample (list (coo_zip), 1000):\n",
    "    assert (i in G) and j in G[i]\n",
    "    \n",
    "print (\"\\n(Passed.)\")"
   ]
  },
  {
   "cell_type": "markdown",
   "metadata": {},
   "source": [
    "**Exercise 7** (3 points). Implement a sparse matrix-vector multiply routine for COO implementation."
   ]
  },
  {
   "cell_type": "code",
   "execution_count": null,
   "metadata": {
    "collapsed": true,
    "deletable": false,
    "nbgrader": {
     "checksum": "8e4c1e238b164289ec574900551ba0b4",
     "grade": false,
     "grade_id": "spmv_coo",
     "locked": false,
     "solution": true
    }
   },
   "outputs": [],
   "source": [
    "def spmv_coo (R, C, V, x, num_rows=None):\n",
    "    \"\"\"\n",
    "    Returns y = A*x, where A has 'm' rows and is stored in\n",
    "    COO format by the array triples, (R, C, V).\n",
    "    \"\"\"\n",
    "    assert type (x) is list\n",
    "    assert type (R) is list\n",
    "    assert type (C) is list\n",
    "    assert type (V) is list\n",
    "    assert len (R) == len (C) == len (V)\n",
    "    if num_rows is None:\n",
    "        num_rows = max (R) + 1\n",
    "    \n",
    "    y = dense_vector (num_rows)\n",
    "    \n",
    "    # YOUR CODE HERE\n",
    "    raise NotImplementedError()\n",
    "\n",
    "    return y"
   ]
  },
  {
   "cell_type": "code",
   "execution_count": null,
   "metadata": {
    "collapsed": false
   },
   "outputs": [],
   "source": [
    "# Test:\n",
    "#\n",
    "#   / 0.   -2.5   1.2 \\   / 1. \\   / -1.4 \\\n",
    "#   | 0.1   1.    0.  | = | 2. | = |  2.1 |\n",
    "#   \\ 6.   -1.    0.  /   \\ 3. /   \\  4.0 /\n",
    "\n",
    "A_coo_rows = [0, 0, 1, 1, 2, 2]\n",
    "A_coo_cols = [1, 2, 0, 1, 0, 1]\n",
    "A_coo_vals = [-2.5, 1.2, 0.1, 1., 6., -1.]\n",
    "\n",
    "x = dense_vector ([1, 2, 3])\n",
    "y0 = dense_vector ([-1.4, 2.1, 4.0])\n",
    "\n",
    "# Try your code:\n",
    "y_coo = spmv_coo (A_coo_rows, A_coo_cols, A_coo_vals, x)\n",
    "\n",
    "max_abs_residual = max ([abs (a-b) for a, b in zip (y_coo, y0)])\n",
    "\n",
    "print (\"==> A_coo:\", list (zip (A_coo_rows, A_coo_cols, A_coo_vals)))\n",
    "print (\"==> x:\", x)\n",
    "print (\"==> True solution, y0:\", y0)\n",
    "print (\"==> Your solution:\", y_coo)\n",
    "print (\"==> Residual (infinity norm):\", max_abs_residual)\n",
    "assert max_abs_residual <= 1e-15\n",
    "\n",
    "print (\"\\n(Passed.)\")"
   ]
  },
  {
   "cell_type": "code",
   "execution_count": null,
   "metadata": {
    "collapsed": false
   },
   "outputs": [],
   "source": [
    "x = dense_vector ([1.] * num_verts)\n",
    "%timeit spmv_coo (coo_rows, coo_cols, coo_vals, x)"
   ]
  },
  {
   "cell_type": "markdown",
   "metadata": {},
   "source": [
    "**Exercise 8** (3 points). Now create a CSR data structure, again using native Python lists. Name your output CSR lists `csr_ptrs`, `csr_inds`, and `csr_vals`.\n",
    "\n",
    "It's easiest to start with the COO representation. We've given you some starter code."
   ]
  },
  {
   "cell_type": "code",
   "execution_count": null,
   "metadata": {
    "collapsed": false
   },
   "outputs": [],
   "source": [
    "# Aside: What does this do? Try running it to see.\n",
    "\n",
    "z1 = ['q', 'v', 'c']\n",
    "z2 = [1, 2, 3]\n",
    "z3 = ['dog', 7, 'man']\n",
    "\n",
    "from operator import itemgetter\n",
    "print (sorted (zip (z1, z2, z3), key=itemgetter (0)))"
   ]
  },
  {
   "cell_type": "code",
   "execution_count": null,
   "metadata": {
    "collapsed": false,
    "deletable": false,
    "nbgrader": {
     "checksum": "acbf14ee94e8438caba40607669769f4",
     "grade": false,
     "grade_id": "create_csr",
     "locked": false,
     "solution": true
    }
   },
   "outputs": [],
   "source": [
    "C = sorted (zip (coo_rows, coo_cols, coo_vals),\n",
    "            key=itemgetter (0))\n",
    "nnz = len (C)\n",
    "\n",
    "assert (C[-1][0] + 1) == num_verts  # Why?\n",
    "\n",
    "csr_inds = [j for _, j, _ in C]\n",
    "csr_vals = [a_ij for _, _, a_ij in C]\n",
    "\n",
    "# What about csr_ptrs?\n",
    "# YOUR CODE HERE\n",
    "raise NotImplementedError()"
   ]
  },
  {
   "cell_type": "code",
   "execution_count": null,
   "metadata": {
    "collapsed": false,
    "deletable": false,
    "nbgrader": {
     "checksum": "9156246198d95d0bad5e0a0c3986c1d7",
     "grade": true,
     "grade_id": "create_csr_test",
     "locked": true,
     "points": 3,
     "solution": false
    }
   },
   "outputs": [],
   "source": [
    "assert len (csr_ptrs) == (num_verts + 1)\n",
    "assert len (csr_inds) == num_edges\n",
    "assert len (csr_vals) == num_edges\n",
    "assert csr_ptrs[num_verts] == num_edges\n",
    "\n",
    "# Check some random entries\n",
    "for i in sample (range (num_verts), 1000):\n",
    "    assert i in G\n",
    "    a, b = csr_ptrs[i], csr_ptrs[i+1]\n",
    "    assert (b-a) == len (G[i])\n",
    "    assert all ([(j in G[i]) for j in csr_inds[a:b]])\n",
    "    assert all ([(j in csr_inds[a:b] for j in G[i].keys ())])\n",
    "\n",
    "print (\"\\n(Passed.)\")"
   ]
  },
  {
   "cell_type": "markdown",
   "metadata": {},
   "source": [
    "**Exercise 9** (3 points). Now implement a CSR-based sparse matrix-vector multiply."
   ]
  },
  {
   "cell_type": "code",
   "execution_count": null,
   "metadata": {
    "collapsed": true,
    "deletable": false,
    "nbgrader": {
     "checksum": "39b0d6c563be4d5edbf19ba4b84513ae",
     "grade": false,
     "grade_id": "spmv_csr",
     "locked": false,
     "solution": true
    }
   },
   "outputs": [],
   "source": [
    "def spmv_csr (ptr, ind, val, x, num_rows=None):\n",
    "    assert type (ptr) == list\n",
    "    assert type (ind) == list\n",
    "    assert type (val) == list\n",
    "    assert type (x) == list\n",
    "    if num_rows is None: num_rows = len (ptr) - 1\n",
    "    assert len (ptr) >= (num_rows+1)  # Why?\n",
    "    assert len (ind) >= ptr[num_rows]  # Why?\n",
    "    assert len (val) >= ptr[num_rows]  # Why?\n",
    "    \n",
    "    y = dense_vector (num_rows)\n",
    "\n",
    "    # YOUR CODE HERE\n",
    "    raise NotImplementedError()\n",
    "    \n",
    "    return y"
   ]
  },
  {
   "cell_type": "code",
   "execution_count": null,
   "metadata": {
    "collapsed": false,
    "deletable": false,
    "nbgrader": {
     "checksum": "2dfa835e02cb220d37c1cf42d15cabc2",
     "grade": true,
     "grade_id": "spmv_csr_test",
     "locked": true,
     "points": 3,
     "solution": false
    }
   },
   "outputs": [],
   "source": [
    "# Test:\n",
    "#\n",
    "#   / 0.   -2.5   1.2 \\   / 1. \\   / -1.4 \\\n",
    "#   | 0.1   1.    0.  | = | 2. | = |  2.1 |\n",
    "#   \\ 6.   -1.    0.  /   \\ 3. /   \\  4.0 /\n",
    "\n",
    "A_csr_ptrs = [ 0,        2,       4,       6]\n",
    "A_csr_cols = [ 1,   2,   0,   1,  0,   1]\n",
    "A_csr_vals = [-2.5, 1.2, 0.1, 1., 6., -1.]\n",
    "\n",
    "x = dense_vector ([1, 2, 3])\n",
    "y0 = dense_vector ([-1.4, 2.1, 4.0])\n",
    "\n",
    "# Try your code:\n",
    "y_csr = spmv_csr (A_csr_ptrs, A_csr_cols, A_csr_vals, x)\n",
    "\n",
    "max_abs_residual = max ([abs (a-b) for a, b in zip (y_csr, y0)])\n",
    "\n",
    "print (\"==> A_csr_ptrs:\", A_csr_ptrs)\n",
    "print (\"==> A_csr_{cols, vals}:\", list (zip (A_csr_cols, A_csr_vals)))\n",
    "print (\"==> x:\", x)\n",
    "print (\"==> True solution, y0:\", y0)\n",
    "print (\"==> Your solution:\", y_csr)\n",
    "print (\"==> Residual (infinity norm):\", max_abs_residual)\n",
    "assert max_abs_residual <= 1e-15\n",
    "\n",
    "print (\"\\n(Passed.)\")"
   ]
  },
  {
   "cell_type": "code",
   "execution_count": null,
   "metadata": {
    "collapsed": false
   },
   "outputs": [],
   "source": [
    "x = dense_vector ([1.] * num_verts)\n",
    "%timeit spmv_csr (csr_ptrs, csr_inds, csr_vals, x)"
   ]
  },
  {
   "cell_type": "markdown",
   "metadata": {
    "collapsed": true
   },
   "source": [
    "## Using Scipy's implementations\n",
    "\n",
    "What you should have noticed is that the list-based COO and CSR formats do not really lead to sparse matrix-vector multiply implementations that are much faster than the dictionary-based methods. Let's instead try Scipy's native COO and CSR implementations."
   ]
  },
  {
   "cell_type": "code",
   "execution_count": null,
   "metadata": {
    "collapsed": false
   },
   "outputs": [],
   "source": [
    "import numpy as np\n",
    "import scipy.sparse as sp\n",
    "\n",
    "A_coo_sp = sp.coo_matrix ((coo_vals, (coo_rows, coo_cols)))\n",
    "A_csr_sp = A_coo_sp.tocsr () # Alternatively: sp.csr_matrix ((val, ind, ptr))\n",
    "x_sp = np.ones (num_verts)\n",
    "\n",
    "print (\"\\n==> COO in Scipy:\")\n",
    "%timeit A_coo_sp.dot (x_sp)\n",
    "\n",
    "print (\"\\n==> CSR in Scipy:\")\n",
    "%timeit A_csr_sp.dot (x_sp)"
   ]
  },
  {
   "cell_type": "code",
   "execution_count": null,
   "metadata": {
    "collapsed": true
   },
   "outputs": [],
   "source": []
  }
 ],
 "metadata": {
  "kernelspec": {
   "display_name": "Python 3",
   "language": "python",
   "name": "python3"
  },
  "language_info": {
   "codemirror_mode": {
    "name": "ipython",
    "version": 3
   },
   "file_extension": ".py",
   "mimetype": "text/x-python",
   "name": "python",
   "nbconvert_exporter": "python",
   "pygments_lexer": "ipython3",
   "version": "3.5.1"
  }
 },
 "nbformat": 4,
 "nbformat_minor": 0
}
