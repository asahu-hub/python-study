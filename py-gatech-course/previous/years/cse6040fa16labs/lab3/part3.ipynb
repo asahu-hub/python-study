{
 "cells": [
  {
   "cell_type": "markdown",
   "metadata": {
    "nbgrader": {
     "grade": false,
     "solution": false
    }
   },
   "source": [
    "# Important note!\n",
    "\n",
    "Before you turn this problem in, make sure everything runs as expected. First, **restart the kernel** (in the menubar, select Kernel$\\rightarrow$Restart) and then **run all cells** (in the menubar, select Cell$\\rightarrow$Run All).\n",
    "\n",
    "Make sure you fill in any place that says `YOUR CODE HERE` or \"YOUR ANSWER HERE\", as well as your name and collaborators below:"
   ]
  },
  {
   "cell_type": "code",
   "execution_count": null,
   "metadata": {
    "collapsed": false,
    "nbgrader": {
     "grade": false,
     "locked": false,
     "solution": false
    }
   },
   "outputs": [],
   "source": [
    "YOUR_ID = \"\" # Please enter your GT login, e.g., \"rvuduc3\" or \"gtg911x\"\n",
    "COLLABORATORS = [] # list of strings of your collaborators' IDs"
   ]
  },
  {
   "cell_type": "code",
   "execution_count": null,
   "metadata": {
    "collapsed": false,
    "deletable": false,
    "nbgrader": {
     "checksum": "b11295002cc2b9549d6a2b01721b6701",
     "grade": true,
     "grade_id": "who__test",
     "locked": true,
     "points": 1,
     "solution": false
    }
   },
   "outputs": [],
   "source": [
    "import re\n",
    "\n",
    "RE_CHECK_ID = re.compile (r'''[a-zA-Z]+\\d+|[gG][tT][gG]\\d+[a-zA-Z]''')\n",
    "assert RE_CHECK_ID.match (YOUR_ID) is not None\n",
    "\n",
    "collab_check = [RE_CHECK_ID.match (i) is not None for i in COLLABORATORS]\n",
    "assert all (collab_check)\n",
    "\n",
    "del collab_check\n",
    "del RE_CHECK_ID\n",
    "del re"
   ]
  },
  {
   "cell_type": "markdown",
   "metadata": {},
   "source": [
    "**Jupyter / IPython version check.** The following code cell verifies that you are using the correct version of Jupyter/IPython."
   ]
  },
  {
   "cell_type": "code",
   "execution_count": null,
   "metadata": {
    "collapsed": true
   },
   "outputs": [],
   "source": [
    "import IPython\n",
    "assert IPython.version_info[0] >= 3, \"Your version of IPython is too old, please update it.\""
   ]
  },
  {
   "cell_type": "markdown",
   "metadata": {},
   "source": [
    "# Part 3: Using the Yelp! API (12 points)\n",
    "\n",
    "Let's use the Yelp! API to find information about restaurants in various cities. The goal is to find 5 highly-rated restaurants in Atlanta with most reviews (largest numbers of reviews) on Yelp!.\n",
    "\n",
    "## Setup:\n",
    "\n",
    "1. Go to http://www.yelp.com/developers and create an account. You can use your existing Yelp! account or create a new account by providing your name, email address, and zip code.\n",
    "2. Go to http://www.yelp.com/developers/manage_api_keys to generate your app key/secret and a token, by providing a website URL (can be anything, for example a dummy URL or the course page http://cse6040.gatech.edu) and describing the purpose to use the APIs -- in this case, to do your for homework! Write down your **“Consumer Key”**, **“Consumer Secret”**, **“Token”**, and **“Token Secret”** and enter them in the appropriate code cell below.\n",
    "3. Go to http://www.yelp.com/developers/documentation, learn how to build the URLs in order to use Yelp Search API and Business API.\n",
    "4. You will also learn how to install a package in `Python`. We will use the tool “pip”, which should already be installed with Anaconda. If not, follow this link: https://pip.pypa.io/en/latest/installing.html, to install “pip”.\n",
    "5. For any package you want to install in python, you can type **“pip install {package_name}”** at the command prompt or `!pip install {package_name}` in a code cell within Jupyter."
   ]
  },
  {
   "cell_type": "markdown",
   "metadata": {},
   "source": [
    "**Exercise 1** (1 point). Per item (2) above, enter your credentials in the following code cell."
   ]
  },
  {
   "cell_type": "code",
   "execution_count": null,
   "metadata": {
    "collapsed": true,
    "deletable": false,
    "nbgrader": {
     "checksum": "09c50aabc6abe6cebcac211ee6304e1d",
     "grade": true,
     "grade_id": "yelp_api_creds",
     "locked": false,
     "points": 1,
     "solution": true
    }
   },
   "outputs": [],
   "source": [
    "CONSUMER_KEY = \"\" # Consumer key\n",
    "CONSUMER_SECRET = \"\" # Consumer secret\n",
    "TOKEN = \"\" # Token\n",
    "TOKEN_SECRET = \"\" # Token secret\n",
    "\n",
    "# YOUR CODE HERE\n",
    "raise NotImplementedError()"
   ]
  },
  {
   "cell_type": "markdown",
   "metadata": {},
   "source": [
    "We will need the packages below. If you get an error when trying to run the following code cell, try running the installation commands shown below."
   ]
  },
  {
   "cell_type": "code",
   "execution_count": null,
   "metadata": {
    "collapsed": false
   },
   "outputs": [],
   "source": [
    "import oauth2\n",
    "import json\n",
    "import urllib"
   ]
  },
  {
   "cell_type": "code",
   "execution_count": null,
   "metadata": {
    "collapsed": false
   },
   "outputs": [],
   "source": [
    "# Uncomment these if you get an errors above\n",
    "#!pip install oauth2\n",
    "#!pip install json\n",
    "#!pip install urllib"
   ]
  },
  {
   "cell_type": "markdown",
   "metadata": {},
   "source": [
    "Here is a helper function for making a search request via the Yelp! API."
   ]
  },
  {
   "cell_type": "code",
   "execution_count": null,
   "metadata": {
    "collapsed": true
   },
   "outputs": [],
   "source": [
    "import re\n",
    "import oauth2\n",
    "import requests\n",
    "\n",
    "YELP_API_SEARCH_URL_BASE = 'http://api.yelp.com/v2/search'\n",
    "\n",
    "def yelp_search (url_params,\n",
    "                 key=CONSUMER_KEY,\n",
    "                 secret=CONSUMER_SECRET,\n",
    "                 token=TOKEN,\n",
    "                 token_secret=TOKEN_SECRET,\n",
    "                 url_base=YELP_API_SEARCH_URL_BASE):\n",
    "    \"\"\"What does this code do? (see exercise below)\"\"\"\n",
    "    \n",
    "    url = url_base + '?' + urllib.parse.urlencode (url_params)\n",
    "    \n",
    "    oauth_request = oauth2.Request ('GET', url, {})\n",
    "    oauth_request.update(\n",
    "        {\n",
    "            'oauth_nonce': oauth2.generate_nonce(),\n",
    "            'oauth_timestamp': oauth2.generate_timestamp(),\n",
    "            'oauth_token': token,\n",
    "            'oauth_consumer_key': key\n",
    "        }\n",
    "    )\n",
    "    oauth2_consumer = oauth2.Consumer (key, secret)\n",
    "    oauth2_token = oauth2.Token (token, token_secret)\n",
    "    oauth_request.sign_request (oauth2.SignatureMethod_HMAC_SHA1 (),\n",
    "                                oauth2_consumer, oauth2_token)\n",
    "    signed_url = oauth_request.to_url ()\n",
    "    \n",
    "    response = requests.get (signed_url)\n",
    "    assert response is not None\n",
    "    assert re.search ('application/json', response.headers['Content-Type']) is not None\n",
    "    return response.json ()"
   ]
  },
  {
   "cell_type": "markdown",
   "metadata": {},
   "source": [
    "**Exercise 2** (2 points). Read the code above and, in your own words, explain what it does.\n",
    "\n",
    "> Feel free to read the documentation for the various bits and pieces. You may also find the code cells below, which use the function, helpful. Lastly, your explanation does not have to be too detailed; a short paragraph's worth of text should suffice."
   ]
  },
  {
   "cell_type": "markdown",
   "metadata": {
    "deletable": false,
    "nbgrader": {
     "checksum": "3950dbe0c63e7d22b740b57a38bb9dfb",
     "grade": true,
     "grade_id": "read_code",
     "locked": false,
     "points": 2,
     "solution": true
    }
   },
   "source": [
    "YOUR ANSWER HERE"
   ]
  },
  {
   "cell_type": "markdown",
   "metadata": {},
   "source": [
    "We can now write some simple code to carry out a Yelp! search."
   ]
  },
  {
   "cell_type": "code",
   "execution_count": null,
   "metadata": {
    "collapsed": false
   },
   "outputs": [],
   "source": [
    "params = {'term': 'restaurants',\n",
    "          'location': 'Atlanta, GA',\n",
    "          'limit': 20,\n",
    "          'sort': 2}\n",
    "result = yelp_search (params)\n",
    "\n",
    "print (result)"
   ]
  },
  {
   "cell_type": "markdown",
   "metadata": {},
   "source": [
    "Let's write this output to a file."
   ]
  },
  {
   "cell_type": "code",
   "execution_count": null,
   "metadata": {
    "collapsed": false
   },
   "outputs": [],
   "source": [
    "with open ('first20.json', 'w') as f_out:\n",
    "    json.dump (result, f_out, sort_keys=True, indent=2)"
   ]
  },
  {
   "cell_type": "markdown",
   "metadata": {},
   "source": [
    "**Exercise 3** (3 points). Write some code to search for the next 20 results. Save these results in a file called, **`next20.json`**.\n",
    "\n",
    "> Hint: You may need to read the [Yelp! Search API's documentation](https://www.yelp.com/developers/documentation/v2/overview) to set up the correct query parameters."
   ]
  },
  {
   "cell_type": "code",
   "execution_count": null,
   "metadata": {
    "collapsed": true,
    "deletable": false,
    "nbgrader": {
     "checksum": "ccf471d2f8c370cf2ed1e2ea00c4582b",
     "grade": false,
     "grade_id": "next20",
     "locked": false,
     "solution": true
    }
   },
   "outputs": [],
   "source": [
    "# YOUR CODE HERE\n",
    "raise NotImplementedError()"
   ]
  },
  {
   "cell_type": "code",
   "execution_count": null,
   "metadata": {
    "collapsed": false,
    "deletable": false,
    "nbgrader": {
     "checksum": "3cca9202c1799fe6d58d001a415bbe3e",
     "grade": true,
     "grade_id": "next20_test",
     "locked": true,
     "points": 3,
     "solution": false
    }
   },
   "outputs": [],
   "source": [
    "with open ('next20.json', 'r') as next20_fp:\n",
    "    next20 = json.load (next20_fp)\n",
    "    \n",
    "assert len (next20['businesses']) == 20\n",
    "\n",
    "# Additional instructor test code will go here.\n",
    "# Feel free to write your own test code here as\n",
    "# you debug."
   ]
  },
  {
   "cell_type": "markdown",
   "metadata": {},
   "source": [
    "**Exercise 4** (3 points). For each of the 40 highest rated restaurants you collected, get the number of reviews each has received. Create a text file named **`40restaurants.csv`** to store the results. In particular, write in this file the restaurant names and the numbers of reviews, one line for each restaurant, higher ratings first, comma-delimited. \n",
    "\n",
    "For example:\n",
    "```\n",
    "Aviva by Kameel,138\n",
    "Purnima,43\n",
    "......\n",
    "```"
   ]
  },
  {
   "cell_type": "code",
   "execution_count": null,
   "metadata": {
    "collapsed": false,
    "deletable": false,
    "nbgrader": {
     "checksum": "7ccbad114bc35b0dce4462e59bfe84d0",
     "grade": false,
     "grade_id": "reviews",
     "locked": false,
     "solution": true
    }
   },
   "outputs": [],
   "source": [
    "# YOUR CODE HERE\n",
    "raise NotImplementedError()"
   ]
  },
  {
   "cell_type": "code",
   "execution_count": null,
   "metadata": {
    "collapsed": false,
    "deletable": false,
    "nbgrader": {
     "checksum": "1874ae5830e63423d47386dd0de15312",
     "grade": true,
     "grade_id": "reviews_test",
     "locked": true,
     "points": 3,
     "solution": false
    }
   },
   "outputs": [],
   "source": [
    "with open ('40restaurants.csv', 'r') as rest40_fp:\n",
    "    rest40 = [l.strip () for l in rest40_fp.readlines ()]\n",
    "    \n",
    "assert len (rest40) == 40\n",
    "assert all ([len (r.split (',')) == 2 for r in rest40])\n",
    "\n",
    "rest40_names = [r.split (',')[0] for r in rest40]\n",
    "rest40_numrevs = [r.split (',')[1] for r in rest40]\n",
    "assert all ([k.isdigit () for k in rest40_numrevs])\n",
    "\n",
    "# Additional instructor test code will go here.\n",
    "# Feel free to write your own test code here as\n",
    "# you debug."
   ]
  },
  {
   "cell_type": "markdown",
   "metadata": {},
   "source": [
    "**Exercise 5** (3 points). From the 40 restaurants you collected, get the 5 restaurants with most reviews.\n",
    "Create a text file named **`40restaurants_top_review_count.csv`**, and write in this file the 5 restaurant\n",
    "names with most reviews (in descending order of their numbers of reviews) as well as the number of reviews, one line for each restaurant, comma-delimited. \n",
    "\n",
    "For example:\n",
    "```\n",
    "Antico Pizza,1622\n",
    "Fox Bros. Bar-B-Q,1168\n",
    "......\n",
    "```"
   ]
  },
  {
   "cell_type": "code",
   "execution_count": null,
   "metadata": {
    "collapsed": false,
    "deletable": false,
    "nbgrader": {
     "checksum": "49625114df20b50e4f5fed2a30cd4be9",
     "grade": false,
     "grade_id": "most_revs",
     "locked": false,
     "solution": true
    }
   },
   "outputs": [],
   "source": [
    "# YOUR CODE HERE\n",
    "raise NotImplementedError()"
   ]
  },
  {
   "cell_type": "code",
   "execution_count": null,
   "metadata": {
    "collapsed": false,
    "deletable": false,
    "nbgrader": {
     "checksum": "33dae62f1b8c3e5129fc4e7a712ad7c1",
     "grade": true,
     "grade_id": "most_revs_test",
     "locked": true,
     "points": 3,
     "solution": false
    }
   },
   "outputs": [],
   "source": [
    "with open ('40restaurants_top_review_count.csv', 'r') as top_revd_fp:\n",
    "    top_revd = [l.strip () for l in top_revd_fp.readlines ()]\n",
    "    \n",
    "assert len (top_revd) == 5\n",
    "assert all ([len (r.split (',')) == 2 for r in top_revd])\n",
    "\n",
    "top_revd_names = [r.split (',')[0] for r in top_revd]\n",
    "top_revd_numrevs = [r.split (',')[1] for r in top_revd]\n",
    "assert all ([k.isdigit () for k in top_revd_numrevs])\n",
    "\n",
    "# Additional instructor test code will go here.\n",
    "# Feel free to write your own test code here as\n",
    "# you debug."
   ]
  },
  {
   "cell_type": "code",
   "execution_count": null,
   "metadata": {
    "collapsed": true
   },
   "outputs": [],
   "source": []
  }
 ],
 "metadata": {
  "kernelspec": {
   "display_name": "Python 3",
   "language": "python",
   "name": "python3"
  },
  "language_info": {
   "codemirror_mode": {
    "name": "ipython",
    "version": 3
   },
   "file_extension": ".py",
   "mimetype": "text/x-python",
   "name": "python",
   "nbconvert_exporter": "python",
   "pygments_lexer": "ipython3",
   "version": "3.5.1"
  }
 },
 "nbformat": 4,
 "nbformat_minor": 0
}
