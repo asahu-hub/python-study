{
 "cells": [
  {
   "cell_type": "markdown",
   "metadata": {
    "nbgrader": {
     "grade": false,
     "solution": false
    }
   },
   "source": [
    "# Important note!\n",
    "\n",
    "Before you turn this problem in, make sure everything runs as expected. First, **restart the kernel** (in the menubar, select Kernel$\\rightarrow$Restart) and then **run all cells** (in the menubar, select Cell$\\rightarrow$Run All).\n",
    "\n",
    "Make sure you fill in any place that says `YOUR CODE HERE` or \"YOUR ANSWER HERE\", as well as your name and collaborators below:"
   ]
  },
  {
   "cell_type": "code",
   "execution_count": null,
   "metadata": {
    "collapsed": false,
    "nbgrader": {
     "grade": false,
     "locked": false,
     "solution": false
    }
   },
   "outputs": [],
   "source": [
    "YOUR_ID = \"\" # Please enter your GT login, e.g., \"rvuduc3\" or \"gtg911x\"\n",
    "COLLABORATORS = [] # list of strings of your collaborators' IDs"
   ]
  },
  {
   "cell_type": "code",
   "execution_count": null,
   "metadata": {
    "collapsed": false,
    "deletable": false,
    "nbgrader": {
     "checksum": "b11295002cc2b9549d6a2b01721b6701",
     "grade": true,
     "grade_id": "who__test",
     "locked": true,
     "points": 1,
     "solution": false
    }
   },
   "outputs": [],
   "source": [
    "import re\n",
    "\n",
    "RE_CHECK_ID = re.compile (r'''[a-zA-Z]+\\d+|[gG][tT][gG]\\d+[a-zA-Z]''')\n",
    "assert RE_CHECK_ID.match (YOUR_ID) is not None\n",
    "\n",
    "collab_check = [RE_CHECK_ID.match (i) is not None for i in COLLABORATORS]\n",
    "assert all (collab_check)\n",
    "\n",
    "del collab_check\n",
    "del RE_CHECK_ID\n",
    "del re"
   ]
  },
  {
   "cell_type": "markdown",
   "metadata": {},
   "source": [
    "**Jupyter / IPython version check.** The following code cell verifies that you are using the correct version of Jupyter/IPython."
   ]
  },
  {
   "cell_type": "code",
   "execution_count": null,
   "metadata": {
    "collapsed": true
   },
   "outputs": [],
   "source": [
    "import IPython\n",
    "assert IPython.version_info[0] >= 3, \"Your version of IPython is too old, please update it.\""
   ]
  },
  {
   "cell_type": "markdown",
   "metadata": {},
   "source": [
    "# Part 1: Tidy data (4 points)\n",
    "\n",
    "The overall topic for this lab is what we'll refer to as representing data _relationally_. The topic of this part is a specific type of relational representation sometimes referred to as the _tidy_ (as opposed to _untidy_ or _messy_) form. The concept of tidy data was developed by [Hadley Wickham](http://hadley.nz/), a statistician and R programming maestro. Much of this lab is based on his tutorial materials (see below).\n",
    "\n",
    "If you know [SQL](https://en.wikipedia.org/wiki/SQL), then you are already familiar with relational data representations. However, we might discuss it a little differently from the way you may have encountered the subject previously. The main reason is our overall goal in the class: to build data _analysis_ pipelines. If our end goal is analysis, then we often want to extract or prepare data in a way that makes analysis easier.\n",
    "\n",
    "You may find it helpful to also refer to the original materials on which this lab is based:\n",
    "\n",
    "* Wickham's R tutorial on making data tidy: http://r4ds.had.co.nz/tidy-data.html\n",
    "* The slides from a talk by Wickham on the concept: http://vita.had.co.nz/papers/tidy-data-pres.pdf\n",
    "* Wickham's more theoretical paper of \"tidy\" vs. \"untidy\" data: http://www.jstatsoft.org/v59/i10/paper"
   ]
  },
  {
   "cell_type": "markdown",
   "metadata": {},
   "source": [
    "------------------------------------------------------------\n",
    "\n",
    "## What is tidy data?\n",
    "\n",
    "To build your intuition, consider the following data set collected from a survey or study."
   ]
  },
  {
   "cell_type": "markdown",
   "metadata": {},
   "source": [
    "**Representation 1.** [Two-way contigency table](https://en.wikipedia.org/wiki/Contingency_table).\n",
    "\n",
    "|            | Pregnant | Not pregnant |\n",
    "|-----------:|:--------:|:------------:|\n",
    "| **Male**   |     0    |      5       |\n",
    "| **Female** |     1    |      4       |\n",
    "\n",
    "**Representation 2.** Observation list or \"data frame.\"\n",
    "\n",
    "| Gender  | Pregnant | Count |\n",
    "|:-------:|:--------:|:-----:|\n",
    "| Male    | Yes      | 0     |\n",
    "| Male    | No       | 5     |\n",
    "| Female  | Yes      | 1     |\n",
    "| Female  | No       | 4     |\n",
    "\n",
    "These are two entirely equivalent ways of representing the same data. However, each may be suited to a particular task.\n",
    "\n",
    "For instance, Representation 1 is a typical input format for statistical routines that implement Pearson's $\\chi^2$-test, which can check for independence between factors. (Are gender and pregnancy status independent?) By contrast, Representation 2 might be better suited to regression. (Can you predict relative counts from gender and pregnancy status?)\n",
    "\n",
    "While [Representation 1 has its uses](http://simplystatistics.org/2016/02/17/non-tidy-data/), Wickham argues that Representation 2 is often the cleaner and more general way to supply data to a wide variety of statistical analysis and visualization tasks. He refers to Representation 2 as _tidy_ and Representation 1 as _untidy_ or _messy_.\n",
    "\n",
    "> The term \"messy\" is, as Wickham states, not intended to be perjorative since \"messy\" representations may be exactly the right ones for particular analysis tasks, as noted above.\n",
    "\n",
    "More specifically, Wickham defines a tidy data set as one that can be organized into a 2-D table such that\n",
    "\n",
    "1. each column represents a _variable_;\n",
    "2. each row represents an _observation_;\n",
    "3. each entry of the table represents a single _value_, which may come from either categorical (discrete) or continuous spaces.\n",
    "\n",
    "Here is a visual schematic of this definition, taken from [another source](http://r4ds.had.co.nz/images/tidy-1.png):\n",
    "\n",
    "![Wickham's illustration of the definition of tidy](http://r4ds.had.co.nz/images/tidy-1.png)\n",
    "\n",
    "This definition appeals to a statistician's intuitive idea of data he or she wishes to analyze. It is also consistent with tasks that seek to establish a functional relationship between some response (output) variable from one or more independent variables.\n",
    "\n",
    "> A computer scientist with a machine learning outlook on life might refer to columns as _features_ and rows as _data points_, especially when all values are numerical (ordinal or continuous).\n",
    "\n",
    "Here's one more bit of terminology: if a table is tidy, we will call it a tidy table, or _tibble_."
   ]
  },
  {
   "cell_type": "markdown",
   "metadata": {},
   "source": [
    "## Setup: The Python Pandas module\n",
    "\n",
    "In Python, the [Pandas](http://pandas.pydata.org/) module is a convenient way to store tibbles. If you know [R](http://r-project.org), you will see that the design and API of Pandas's data frames derives from [R's data frames](https://stat.ethz.ch/R-manual/R-devel/library/base/html/data.frame.html).\n",
    "\n",
    "Let's use Pandas to load the same data in different formats, and study how general techniques to transform data between representations, _a la_ [Wickham's tutorial](http://r4ds.had.co.nz/tidy-data.html#tidy-data-1).\n",
    "\n",
    "Consider a data set consisting of the number of cases of tuberculosis in different countries and different years compared to the total population in those years. You are told that the variables for analysis are _country_, _year_, _cases_, and _population_.\n",
    "\n",
    "Run the code cells below to see 4 different representations of these data.\n",
    "\n",
    "> These examples come from a World Health Organization data set, available at the URL below and in cleaner form as part of the R \"tidyr\" package:\n",
    "> - WHO TB data set: http://www.who.int/tb/country/data/download/en/\n",
    "> - tidyr sources: https://github.com/hadley/tidyr/tree/master/data-raw"
   ]
  },
  {
   "cell_type": "code",
   "execution_count": null,
   "metadata": {
    "collapsed": true
   },
   "outputs": [],
   "source": [
    "import pandas as pd  # The suggested idiom\n",
    "from IPython.display import display # For pretty-printing tables"
   ]
  },
  {
   "cell_type": "code",
   "execution_count": null,
   "metadata": {
    "collapsed": false
   },
   "outputs": [],
   "source": [
    "table1 = pd.read_csv ('table1.csv')\n",
    "display (table1.head ()) # peak at the first few rows"
   ]
  },
  {
   "cell_type": "code",
   "execution_count": null,
   "metadata": {
    "collapsed": false
   },
   "outputs": [],
   "source": [
    "# An alternative representation of table1\n",
    "table2 = pd.read_csv ('table2.csv')\n",
    "display (table2.head ()) # peak at the first few rows"
   ]
  },
  {
   "cell_type": "code",
   "execution_count": null,
   "metadata": {
    "collapsed": false,
    "scrolled": true
   },
   "outputs": [],
   "source": [
    "# Same data stored as rates\n",
    "table3 = pd.read_csv ('table3.csv')\n",
    "display (table3.head ()) # peak at the first few rows"
   ]
  },
  {
   "cell_type": "code",
   "execution_count": null,
   "metadata": {
    "collapsed": false
   },
   "outputs": [],
   "source": [
    "# Same data spread across two tables\n",
    "table4a = pd.read_csv ('table4a.csv')\n",
    "table4b = pd.read_csv ('table4b.csv')\n",
    "\n",
    "print (\"=== table4a ===\")\n",
    "display (table4a.head ())\n",
    "\n",
    "print (\"=== table4b ===\")\n",
    "display (table4b.head ())"
   ]
  },
  {
   "cell_type": "markdown",
   "metadata": {},
   "source": [
    "**Exercise 1.** (4 points) Which of these representations is tidy and why?"
   ]
  },
  {
   "cell_type": "markdown",
   "metadata": {
    "deletable": false,
    "nbgrader": {
     "checksum": "ba7b8a24eb58f55a9b9c1820a8d81f7c",
     "grade": true,
     "grade_id": "which_table_is_tidy",
     "locked": false,
     "points": 4,
     "solution": true
    }
   },
   "source": [
    "YOUR ANSWER HERE"
   ]
  },
  {
   "cell_type": "markdown",
   "metadata": {},
   "source": [
    "## Basic tidying transformations: Melting and casting\n",
    "\n",
    "Given a data set and a target set of variables, there are at least two common issues that require tidying.\n",
    "\n",
    "First, values often appear as columns. Table 4a is an example. To tidy up, you want to turn columns into rows:\n",
    "\n",
    "![Gather example](http://r4ds.had.co.nz/images/tidy-9.png)\n",
    "\n",
    "Because this operation takes columns into rows, making a \"fat\" table more tall and skinny, it is sometimes called _melting_.\n",
    "\n",
    "\n",
    "The second most issue is that an observation might be split across multiple rows. Table 2 is an example. To tidy up, you want to merge rows:\n",
    "\n",
    "![Spread example](http://r4ds.had.co.nz/images/tidy-8.png)\n",
    "\n",
    "Because this operation is the moral opposite of melting, and \"rebuilds\" observations from parts, it is sometimes called _casting_.\n",
    "\n",
    "> Melting and casting are Wickham's terms from [his original paper on tidying data](http://www.jstatsoft.org/v59/i10/paper). In his more recent writing, [on which this tutorial is based](http://r4ds.had.co.nz/tidy-data.html), he refers to the same operation as _gathering_. Again, this term comes from Wickham's original paper, whereas his more recent summaries use the term _spreading_."
   ]
  },
  {
   "cell_type": "code",
   "execution_count": null,
   "metadata": {
    "collapsed": true
   },
   "outputs": [],
   "source": []
  }
 ],
 "metadata": {
  "anaconda-cloud": {},
  "kernelspec": {
   "display_name": "Python 3",
   "language": "python",
   "name": "python3"
  },
  "language_info": {
   "codemirror_mode": {
    "name": "ipython",
    "version": 3
   },
   "file_extension": ".py",
   "mimetype": "text/x-python",
   "name": "python",
   "nbconvert_exporter": "python",
   "pygments_lexer": "ipython3",
   "version": "3.5.1"
  }
 },
 "nbformat": 4,
 "nbformat_minor": 0
}
