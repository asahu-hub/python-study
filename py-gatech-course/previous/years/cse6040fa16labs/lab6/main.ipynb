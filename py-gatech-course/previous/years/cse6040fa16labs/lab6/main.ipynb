{
 "cells": [
  {
   "cell_type": "markdown",
   "metadata": {
    "nbgrader": {
     "grade": false,
     "solution": false
    }
   },
   "source": [
    "# Important note!\n",
    "\n",
    "Before you turn this problem in, make sure everything runs as expected. First, **restart the kernel** (in the menubar, select Kernel$\\rightarrow$Restart) and then **run all cells** (in the menubar, select Cell$\\rightarrow$Run All).\n",
    "\n",
    "Make sure you fill in any place that says `YOUR CODE HERE` or \"YOUR ANSWER HERE\", as well as your name and collaborators below:"
   ]
  },
  {
   "cell_type": "code",
   "execution_count": null,
   "metadata": {
    "collapsed": false,
    "nbgrader": {
     "grade": false,
     "locked": false,
     "solution": false
    }
   },
   "outputs": [],
   "source": [
    "YOUR_ID = \"\" # Please enter your GT login, e.g., \"rvuduc3\" or \"gtg911x\"\n",
    "COLLABORATORS = [] # list of strings of your collaborators' IDs"
   ]
  },
  {
   "cell_type": "code",
   "execution_count": null,
   "metadata": {
    "collapsed": false,
    "deletable": false,
    "nbgrader": {
     "checksum": "b11295002cc2b9549d6a2b01721b6701",
     "grade": true,
     "grade_id": "who__test",
     "locked": true,
     "points": 1,
     "solution": false
    }
   },
   "outputs": [],
   "source": [
    "import re\n",
    "\n",
    "RE_CHECK_ID = re.compile (r'''[a-zA-Z]+\\d+|[gG][tT][gG]\\d+[a-zA-Z]''')\n",
    "assert RE_CHECK_ID.match (YOUR_ID) is not None\n",
    "\n",
    "collab_check = [RE_CHECK_ID.match (i) is not None for i in COLLABORATORS]\n",
    "assert all (collab_check)\n",
    "\n",
    "del collab_check\n",
    "del RE_CHECK_ID\n",
    "del re"
   ]
  },
  {
   "cell_type": "markdown",
   "metadata": {},
   "source": [
    "**Jupyter / IPython version check.** The following code cell verifies that you are using the correct version of Jupyter/IPython."
   ]
  },
  {
   "cell_type": "code",
   "execution_count": null,
   "metadata": {
    "collapsed": true
   },
   "outputs": [],
   "source": [
    "import IPython\n",
    "assert IPython.version_info[0] >= 3, \"Your version of IPython is too old, please update it.\""
   ]
  },
  {
   "cell_type": "markdown",
   "metadata": {},
   "source": [
    "# Linear Algebra Review\n",
    "\n",
    "The goal of this lab (homework) is to force you to refresh your linear algebra chops. Before starting it, please read these [linear algebra review notes](https://t-square.gatech.edu/access/content/group/gtc-3bd6-e221-5b9f-b047-31c7564358b7/Kuang-2014-linalg-notes.pdf), which were originally written by [Da Kuang](http://math.ucla.edu/~dakuang/), who taught CSE 6040 in Fall 2014."
   ]
  },
  {
   "cell_type": "markdown",
   "metadata": {},
   "source": [
    "## Part 1: Plug and chug [20 points]\n",
    "\n",
    "Please do the following exercises *by hand*. You might verify your answers with a calculator or other numerical tool, but we want you to show your work. You may typeset a response below using the given Markdown cell and Jupyter's embedded LaTeX support.\n",
    "\n",
    "> You may find this website useful for generating LaTeX for math symbols: http://detexify.kirelabs.org/classify.html\n",
    "\n",
    "The point of these exercises is just to reinforce some of the definitions from the notes. There shouldn't be anything tricky here.\n",
    "\n",
    "> If you don't wish to typeset your responses below, you may write them out by hand and scan and upload them as PDF files to T-Square."
   ]
  },
  {
   "cell_type": "markdown",
   "metadata": {},
   "source": [
    "Let\n",
    "\n",
    "$x = \\left(\n",
    "       \\begin{array}{c}\n",
    "         1 \\\\\n",
    "         2 \\\\\n",
    "         3\n",
    "       \\end{array}\n",
    "     \\right)$\n",
    "     \n",
    "and\n",
    "\n",
    "$A = \\left(\n",
    "       \\begin{array}{ccc}\n",
    "         2 & 1 & 0 \\\\\n",
    "         4 & 3 & 1 \\\\\n",
    "         6 & 7 & 8\n",
    "       \\end{array}\n",
    "     \\right)$.\n",
    "\n",
    "Compute the following. (As an example, we've created a dummy \"Exercise 0\" that demonstrates a few useful typesetting constructs.)"
   ]
  },
  {
   "cell_type": "markdown",
   "metadata": {},
   "source": [
    "**Exercise 0** (0 points). Compute $x + x$ of the numerical $x$ given above."
   ]
  },
  {
   "cell_type": "markdown",
   "metadata": {},
   "source": [
    "**Sample answer 1.**\n",
    "\n",
    "$$\n",
    "  x + x\n",
    "  = 2x\n",
    "  = 2 \\cdot \\left(\\begin{array}{c} 1 \\\\ 2 \\\\ 3 \\end{array}\\right)\n",
    "  = \\left(\\begin{array}{c} 2 \\\\ 4 \\\\ 6 \\end{array}\\right)\n",
    "  .\n",
    "$$\n",
    "\n",
    "** Sample answer 2.**\n",
    "\n",
    "$$\n",
    "\\begin{eqnarray}\n",
    "  x + x & = & 2 \\cdot x \\\\\n",
    "        & = & 2 \\cdot \\left(\\begin{array}{c} 1 \\\\ 2 \\\\ 3 \\end{array}\\right) \\\\\n",
    "        & = & \\left(\\begin{array}{c} 2 \\\\ 4 \\\\ 6 \\end{array}\\right) .\n",
    "\\end{eqnarray}\n",
    "$$"
   ]
  },
  {
   "cell_type": "markdown",
   "metadata": {},
   "source": [
    "Now it's your turn!\n",
    "\n",
    "**Exercise 1** (2 points). Compute the _inner-product_ (or _dot-product_), $x^T x$, of the numerical $x$ given above."
   ]
  },
  {
   "cell_type": "markdown",
   "metadata": {
    "deletable": false,
    "nbgrader": {
     "checksum": "b76fc5e0d0cf5d1c1a14aef5d79251e6",
     "grade": true,
     "grade_id": "dot_product",
     "locked": false,
     "points": 2,
     "solution": true
    }
   },
   "source": [
    "YOUR ANSWER HERE"
   ]
  },
  {
   "cell_type": "markdown",
   "metadata": {},
   "source": [
    "**Exercise 2** (2 points). Compute the _outer-product_, $x x^T$, of the numerical $x$ given above."
   ]
  },
  {
   "cell_type": "markdown",
   "metadata": {
    "deletable": false,
    "nbgrader": {
     "checksum": "4daa90908b1cd81e3e39f3a66a4da362",
     "grade": true,
     "grade_id": "outer_product",
     "locked": false,
     "points": 2,
     "solution": true
    }
   },
   "source": [
    "YOUR ANSWER HERE"
   ]
  },
  {
   "cell_type": "markdown",
   "metadata": {},
   "source": [
    "**Exercise 3** (2 points). Compute the _vector 1-norm_, $\\| x \\|_1$, of the numerical $x$ given above."
   ]
  },
  {
   "cell_type": "markdown",
   "metadata": {
    "deletable": false,
    "nbgrader": {
     "checksum": "2fa34e2bf1e267952d7f8b98dbf6cb52",
     "grade": true,
     "grade_id": "vec_1norm",
     "locked": false,
     "points": 2,
     "solution": true
    }
   },
   "source": [
    "YOUR ANSWER HERE"
   ]
  },
  {
   "cell_type": "markdown",
   "metadata": {},
   "source": [
    "**Exercise 4** (2 points). Compute the _vector 2-norm_ (or _Euclidean length_ or _distance_), $\\| x \\|_2$, of the numerical $x$ given above."
   ]
  },
  {
   "cell_type": "markdown",
   "metadata": {
    "deletable": false,
    "nbgrader": {
     "checksum": "9511217dd254697f35e3ba8f4c0ee0c0",
     "grade": true,
     "grade_id": "vec_2norm",
     "locked": false,
     "points": 2,
     "solution": true
    }
   },
   "source": [
    "YOUR ANSWER HERE"
   ]
  },
  {
   "cell_type": "markdown",
   "metadata": {},
   "source": [
    "**Exercise 5** (2 points). Compute the _infinity-norm_, $\\| x \\|_\\infty$, of the numerical $x$ given above."
   ]
  },
  {
   "cell_type": "markdown",
   "metadata": {
    "deletable": false,
    "nbgrader": {
     "checksum": "2ddb7a30aee27e7cdf9fc6dfc35fdb52",
     "grade": true,
     "grade_id": "vec_infnorm",
     "locked": false,
     "points": 2,
     "solution": true
    }
   },
   "source": [
    "YOUR ANSWER HERE"
   ]
  },
  {
   "cell_type": "markdown",
   "metadata": {},
   "source": [
    "**Exercise 6** (2 points). Compute the Frobenius norm, $\\| A \\|_F$, of the numerical matrix $A$ given above."
   ]
  },
  {
   "cell_type": "markdown",
   "metadata": {
    "deletable": false,
    "nbgrader": {
     "checksum": "7cfa802bba022ada6e87679282f9b0e6",
     "grade": true,
     "grade_id": "frob_norm",
     "locked": false,
     "points": 2,
     "solution": true
    }
   },
   "source": [
    "YOUR ANSWER HERE"
   ]
  },
  {
   "cell_type": "markdown",
   "metadata": {},
   "source": [
    "**Exercise 7** (2 points). Compute the product, $A^T A$, of the numerical matrix $A$ given above."
   ]
  },
  {
   "cell_type": "markdown",
   "metadata": {
    "deletable": false,
    "nbgrader": {
     "checksum": "23a7b14b2d0c099b813d46b31b5d3e0e",
     "grade": true,
     "grade_id": "ata",
     "locked": false,
     "points": 2,
     "solution": true
    }
   },
   "source": [
    "YOUR ANSWER HERE"
   ]
  },
  {
   "cell_type": "markdown",
   "metadata": {},
   "source": [
    "**Exercise 8** (2 points). Compute the product, $A A^T$, of the numerical matrix $A$ given above."
   ]
  },
  {
   "cell_type": "markdown",
   "metadata": {
    "deletable": false,
    "nbgrader": {
     "checksum": "5a0937696e0000909e3dc8d4a060f5db",
     "grade": true,
     "grade_id": "aat",
     "locked": false,
     "points": 2,
     "solution": true
    }
   },
   "source": [
    "YOUR ANSWER HERE"
   ]
  },
  {
   "cell_type": "markdown",
   "metadata": {},
   "source": [
    "**Exercise 9** (5 points). The _trace_ of a matrix $M$, or $\\mathrm{trace}(M)$, is defined to be the sum of $M$'s diagonal entries, i.e., $\\mathrm{trace}(M) = \\sum_{i} m_{ii}$.\n",
    "\n",
    "Let $A$ be any real-valued matrix of size $m \\times n$. Show that $\\mathrm{trace}(A^T A) = \\mathrm{trace}(A A^T) = \\| A \\|_F^2$.\n",
    "\n",
    "> In this question, show the desired claim for _any_ $m \\times n$ matrix $A$, **not** for the numerical matrix $A$ given above."
   ]
  },
  {
   "cell_type": "markdown",
   "metadata": {
    "deletable": false,
    "nbgrader": {
     "checksum": "5524621ac5cbfe6f900702349277c428",
     "grade": true,
     "grade_id": "trace",
     "locked": false,
     "points": 5,
     "solution": true
    }
   },
   "source": [
    "YOUR ANSWER HERE"
   ]
  },
  {
   "cell_type": "markdown",
   "metadata": {},
   "source": [
    "**Exercise 10** (5 points). Suppose $x$ is now unknown and $b = (1, 1, 1)^T$. Determine a vector $x$ such that $Ax = b$, given the numerical $3 \\times 3$ matrix $A$ above. You may use _any_ method, but show your work. (Methods might include basic high school algebra starting from the definitions of a matrix-vector product, or Gaussian elimination, or LU factorization.)"
   ]
  },
  {
   "cell_type": "markdown",
   "metadata": {
    "deletable": false,
    "nbgrader": {
     "checksum": "81be18aa3a3bcaf71d93c2e5c8090f47",
     "grade": true,
     "grade_id": "gauss_elim",
     "locked": false,
     "points": 5,
     "solution": true
    }
   },
   "source": [
    "YOUR ANSWER HERE"
   ]
  },
  {
   "cell_type": "markdown",
   "metadata": {},
   "source": [
    "## Part 2: A proof [5 points]\n",
    "\n",
    "**Exercise 11** (5 points). Let $Q \\in \\mathcal{R}^{m \\times m}$ be an orthogonal matrix, and let $A \\in \\mathcal{R}^{m \\times n}$ be some matrix. Prove that $\\|QA\\|_F^2 = \\|A\\|_F^2$, that is, left-multiplying by an orthogonal matrix does not change the Frobenius norm.\n",
    "\n",
    "> Hint: Consider the definitions of an orthogonal matrix, Frobenius norm, vector 2-norm, and the results of Exercise 9."
   ]
  },
  {
   "cell_type": "markdown",
   "metadata": {
    "deletable": false,
    "nbgrader": {
     "checksum": "6bc1bb40d6a39292b56ea9e08003be17",
     "grade": true,
     "grade_id": "proof",
     "locked": false,
     "points": 5,
     "solution": true
    }
   },
   "source": [
    "YOUR ANSWER HERE"
   ]
  },
  {
   "cell_type": "markdown",
   "metadata": {},
   "source": [
    "## Part 3: Matrix-vector products in SQL [5 points]\n",
    "\n",
    "Suppose you have a database with two tables, `A` and `X`, whose schema (equivalent `create` statements) are as follows.\n",
    "\n",
    "```sql\n",
    "  create table A (I integer, J integer, V real);\n",
    "  create table X (I integer, V real);\n",
    "```\n",
    "\n",
    "Assume that the SQL statement,\n",
    "\n",
    "```sql\n",
    "  select min (I), max (I), min (J), max (J) from A;\n",
    "```\n",
    "\n",
    "returns the values,\n",
    "\n",
    "| `min (I)` | `max (I)` | `min (J)` | `max (J)` |\n",
    "|:---------:|:---------:|:---------:|:---------:|\n",
    "|   $i_0$   |    $m$    |   $j_0$   |    $n$    |\n",
    "\n",
    "where $i_0$, $m$, $j_0$, and $n$ are integers such that $1 \\leq i_0 \\leq m$ and $1 \\leq j_0 \\leq n$. Similarly, you may also assume that\n",
    "\n",
    "```sql\n",
    "  select min (I), max (I) from X;\n",
    "```\n",
    "\n",
    "returns the values:\n",
    "\n",
    "| `min (I)` | `max (I)` |\n",
    "|:---------:|:---------:|\n",
    "|   $k_0$   |    $n$    |\n",
    "\n",
    "where $1 \\leq k_0 \\leq n$.\n",
    "\n",
    "Observe that the table `A` is like an $m \\times n$ matrix $A = (a_{ij})$ and `X` is like a $n$-vector $x = (x_j)$, where particular values of `V` in `A` and `X` correspond to entries $a_{ij}$ of $A$ and $x_j$ of $x$. To complete the analogy between the database tables `(A, X)` and mathematical objects $(A, x)$, further assume that\n",
    "\n",
    "- wherever $a_{ij} = 0$, the corresponding entries `(I, J)` of table `A` in the database is missing;\n",
    "- wherever $x_i = 0$, the corresponding entry `I` of table `X` is also missing;\n",
    "- wherever there are duplicate values of `(I, J)` in `A`, the true $a_{ij}$ is simply the sum of all the corresponding values of `V` in table `A`; and\n",
    "- wherever there are duplicate values of `I` in `X`, the true $x_i$ is also simply the sum of all the corresponding values of `V` in table `X`."
   ]
  },
  {
   "cell_type": "markdown",
   "metadata": {},
   "source": [
    "**Exercise 12** (5 points). \n",
    "\n",
    "Write an SQL query (`select` statement) that computes the matrix-vector product, $A \\cdot x$. Your statement should return a new table whose columns are named `I` and `V` and there are **no duplicates values in column `I` of the output**.\n",
    "\n",
    "> You should write the SQL statement using Markdown in the following cell. That is, you need to write a valid `select` statement but you do not need to \"execute\" it."
   ]
  },
  {
   "cell_type": "markdown",
   "metadata": {
    "deletable": false,
    "nbgrader": {
     "checksum": "dbfe77111f05500a6b80f649bf8ff0fd",
     "grade": true,
     "grade_id": "sql_matvec",
     "locked": false,
     "points": 5,
     "solution": true
    }
   },
   "source": [
    "YOUR ANSWER HERE"
   ]
  }
 ],
 "metadata": {
  "kernelspec": {
   "display_name": "Python 3",
   "language": "python",
   "name": "python3"
  },
  "language_info": {
   "codemirror_mode": {
    "name": "ipython",
    "version": 3
   },
   "file_extension": ".py",
   "mimetype": "text/x-python",
   "name": "python",
   "nbconvert_exporter": "python",
   "pygments_lexer": "ipython3",
   "version": "3.5.1"
  }
 },
 "nbformat": 4,
 "nbformat_minor": 0
}
