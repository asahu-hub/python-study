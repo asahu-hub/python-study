{
 "cells": [
  {
   "cell_type": "markdown",
   "metadata": {
    "nbgrader": {
     "grade": false,
     "solution": false
    }
   },
   "source": [
    "# Important note!\n",
    "\n",
    "Before you turn this problem in, make sure everything runs as expected. First, **restart the kernel** (in the menubar, select Kernel$\\rightarrow$Restart) and then **run all cells** (in the menubar, select Cell$\\rightarrow$Run All).\n",
    "\n",
    "Make sure you fill in any place that says `YOUR CODE HERE` or \"YOUR ANSWER HERE\", as well as your name and collaborators below:"
   ]
  },
  {
   "cell_type": "code",
   "execution_count": null,
   "metadata": {
    "collapsed": false,
    "nbgrader": {
     "grade": false,
     "locked": false,
     "solution": false
    }
   },
   "outputs": [],
   "source": [
    "YOUR_ID = \"\" # Please enter your GT login, e.g., \"rvuduc3\" or \"gtg911x\"\n",
    "COLLABORATORS = [] # list of strings of your collaborators' IDs"
   ]
  },
  {
   "cell_type": "code",
   "execution_count": null,
   "metadata": {
    "collapsed": false,
    "deletable": false,
    "nbgrader": {
     "checksum": "b11295002cc2b9549d6a2b01721b6701",
     "grade": true,
     "grade_id": "who__test",
     "locked": true,
     "points": 1,
     "solution": false
    }
   },
   "outputs": [],
   "source": [
    "import re\n",
    "\n",
    "RE_CHECK_ID = re.compile (r'''[a-zA-Z]+\\d+|[gG][tT][gG]\\d+[a-zA-Z]''')\n",
    "assert RE_CHECK_ID.match (YOUR_ID) is not None\n",
    "\n",
    "collab_check = [RE_CHECK_ID.match (i) is not None for i in COLLABORATORS]\n",
    "assert all (collab_check)\n",
    "\n",
    "del collab_check\n",
    "del RE_CHECK_ID\n",
    "del re"
   ]
  },
  {
   "cell_type": "markdown",
   "metadata": {},
   "source": [
    "**Jupyter / IPython version check.** The following code cell verifies that you are using the correct version of Jupyter/IPython."
   ]
  },
  {
   "cell_type": "code",
   "execution_count": null,
   "metadata": {
    "collapsed": true
   },
   "outputs": [],
   "source": [
    "import IPython\n",
    "assert IPython.version_info[0] >= 3, \"Your version of IPython is too old, please update it.\""
   ]
  },
  {
   "cell_type": "markdown",
   "metadata": {},
   "source": [
    "# Part 2: Regular expressions\n",
    "\n",
    "Part 1 hints at the general problem of finding patterns in text. A handy tool for this problem is Python's [regular expression module](https://docs.python.org/3/howto/regex.html).\n",
    "\n",
    "A _regular expression_ is specially formatted pattern, written as a string. Matching patterns with regular expressions has 3 steps:\n",
    "\n",
    "1. You come up with a pattern to find.\n",
    "2. You compile it into a _pattern object_.\n",
    "3. You apply the pattern object to a string, to find _matches_, i.e., instances of the pattern within the string.\n",
    "\n",
    "> What follows is just a small sample of what is possible with regular expressions in Python; refer to the [regular expression documentation](https://docs.python.org/3/howto/regex.html) for many more examples and details."
   ]
  },
  {
   "cell_type": "markdown",
   "metadata": {},
   "source": [
    "## Basics\n",
    "\n",
    "Let's see how this scheme works for the simplest case, in which the pattern is an exact substring."
   ]
  },
  {
   "cell_type": "code",
   "execution_count": null,
   "metadata": {
    "collapsed": false
   },
   "outputs": [],
   "source": [
    "import re   # Regular expression module: https://docs.python.org/3/howto/regex.html\n",
    "\n",
    "pattern = 'fox'\n",
    "pattern_matcher = re.compile (pattern)\n",
    "\n",
    "input_1 = 'The quick brown fox jumps over the lazy dog'\n",
    "matches_1 = pattern_matcher.search (input_1)\n",
    "print (matches_1)\n",
    "\n",
    "input_2 = '''Lorem ipsum dolor sit amet, consectetur adipiscing elit.\n",
    "Istam voluptatem perpetuam quis potest praestare sapienti?'''\n",
    "matches_2 = pattern_matcher.search (input_2)\n",
    "print (matches_2)"
   ]
  },
  {
   "cell_type": "markdown",
   "metadata": {},
   "source": [
    "You can also query matches for more information."
   ]
  },
  {
   "cell_type": "code",
   "execution_count": null,
   "metadata": {
    "collapsed": false
   },
   "outputs": [],
   "source": [
    "print (matches_1.group ())\n",
    "print (matches_1.start ())\n",
    "print (matches_1.end ())\n",
    "print (matches_1.span ())"
   ]
  },
  {
   "cell_type": "markdown",
   "metadata": {},
   "source": [
    "**Module-level searching.** For infrequently used patterns, you can also skip creating the pattern object and just call the module-level search function, `re.search()`."
   ]
  },
  {
   "cell_type": "code",
   "execution_count": null,
   "metadata": {
    "collapsed": false
   },
   "outputs": [],
   "source": [
    "matches_3 = re.search ('jump', input_1)\n",
    "assert matches_3 is not None\n",
    "print (\"Found\", matches_3.group (), \"@\", matches_3.span ())"
   ]
  },
  {
   "cell_type": "markdown",
   "metadata": {},
   "source": [
    "## Building blocks\n",
    "\n",
    "Beyond exact matches, there are many ways to build up more complex patterns. Here is a crash course by example."
   ]
  },
  {
   "cell_type": "code",
   "execution_count": null,
   "metadata": {
    "collapsed": false
   },
   "outputs": [],
   "source": [
    "# Choices: |\n",
    "\n",
    "digit_words = 'zero|one|two|three|four|five|six|seven|eight|nine'\n",
    "test_string = 'four score and seven years ago...'\n",
    "re.findall (digit_words, test_string)"
   ]
  },
  {
   "cell_type": "code",
   "execution_count": null,
   "metadata": {
    "collapsed": false
   },
   "outputs": [],
   "source": [
    "blurg = 'An onion under an Easter egg is odd'\n",
    "\n",
    "# Character classes: [...]\n",
    "vowel = '[aAeEiIoOuU]'\n",
    "print (re.findall (vowel, blurg))"
   ]
  },
  {
   "cell_type": "code",
   "execution_count": null,
   "metadata": {
    "collapsed": false
   },
   "outputs": [],
   "source": [
    "# Alternative: case-insensitive search\n",
    "vowel_lower = '[aeiou]'\n",
    "print (re.findall (vowel_lower, blurg, re.IGNORECASE))"
   ]
  },
  {
   "cell_type": "code",
   "execution_count": null,
   "metadata": {
    "collapsed": false
   },
   "outputs": [],
   "source": [
    "pwn_str = '0x3nd3adb33f' # Some test string\n",
    "\n",
    "# Ranges: [a-z]\n",
    "digit = '[0-9]'\n",
    "print (re.findall (digit, pwn_str))"
   ]
  },
  {
   "cell_type": "code",
   "execution_count": null,
   "metadata": {
    "collapsed": false
   },
   "outputs": [],
   "source": [
    "# Complement of a character class: [^...]\n",
    "non_digit = '[^0-9]'\n",
    "for x in re.finditer (non_digit, pwn_str):\n",
    "    print (x.group ())"
   ]
  },
  {
   "cell_type": "code",
   "execution_count": null,
   "metadata": {
    "collapsed": false
   },
   "outputs": [],
   "source": [
    "# Special character classes:\n",
    "#  \\d = [0-9]\n",
    "#  \\D = [^0-9]\n",
    "#  \\s = spaces, including newlines and tabs\n",
    "#  \\S = non-spaces\n",
    "#  \\w = alphanumeric + underscore, i.e., [a-zA-Z0-9_]\n",
    "#  \\W = [^a-zA-Z0-9_]\n",
    "\n",
    "digit2 = '\\d'\n",
    "print (pwn_str, '==>', re.findall (digit, pwn_str))"
   ]
  },
  {
   "cell_type": "code",
   "execution_count": null,
   "metadata": {
    "collapsed": false
   },
   "outputs": [],
   "source": [
    "# Match vs. search\n",
    "missus = 'Mrs.'\n",
    "\n",
    "assert re.search (missus, 'Judy Mrs. Dench') is not None\n",
    "assert re.match (missus, 'Judy Mrs. Dench') is None\n",
    "assert re.match (missus, 'Mrs. Judy Dench') is not None\n",
    "\n",
    "# Alternative: ^ + search == match\n",
    "missus_pre = '^Mrs.'\n",
    "assert re.search (missus_pre, 'Mrs. Judy Dench') is not None\n",
    "assert re.search (missus_pre, 'Judy Mrs. Dench') is None\n",
    "\n",
    "# Any prefix: Use '(...)' to group\n",
    "nompre2 = '^(Mr.|Ms.|Mrs.|Dr.|Prof.)'\n",
    "assert re.search (nompre2, 'Prof. Judy Dench') is not None\n",
    "assert re.search (nompre2, 'Judy Prof. Dench') is None\n",
    "\n",
    "# Note: For suffixes, use '$'\n",
    "nomsuf = '(Jr.|Sr.|III|Esq.|M.D.|Ph.D.)$'\n",
    "assert re.search (nomsuf, 'Prof. Judy Dench, Ph.D.') is not None\n",
    "assert re.search (nomsuf, 'Judy Ph.D. Dench') is None"
   ]
  },
  {
   "cell_type": "code",
   "execution_count": null,
   "metadata": {
    "collapsed": false
   },
   "outputs": [],
   "source": [
    "# Repetition and counting\n",
    "\n",
    "# Zero or more: *\n",
    "print (\"Testing '*'...\")\n",
    "assert re.match ('co*w', 'cw') is not None\n",
    "assert re.match ('co*w', 'cow') is not None\n",
    "assert re.match ('co*w', 'coow') is not None\n",
    "assert re.match ('co*w', 'cooow') is not None\n",
    "assert re.match ('co*w', 'caw') is None\n",
    "\n",
    "# One or more: +\n",
    "print (\"Testing '+'...\")\n",
    "print (re.findall ('[aeiou]+', 'How much wood could a woodchuck chuck?'))\n",
    "\n",
    "# Zero or one: ?\n",
    "print (\"Testing '?'...\")\n",
    "assert re.match ('co?w', 'cw') is not None\n",
    "assert re.match ('co?w', 'cow') is not None\n",
    "assert re.match ('co?w', 'coow') is None\n",
    "\n",
    "# Counts: {m, n}\n",
    "print (\"Testing '{m,n}' ...\")\n",
    "assert re.match ('co{3,5}w', 'coow') is None\n",
    "assert re.match ('co{3,5}w', 'cooow') is not None\n",
    "assert re.match ('co{3,5}w', 'coooow') is not None\n",
    "assert re.match ('co{3,5}w', 'cooooow') is not None\n",
    "assert re.match ('co{3,5}w', 'coooooow') is None\n",
    "# Note: {,} == {0,} == *\n",
    "#       {1,} == +\n",
    "#       {0,1} == {,1} == ?"
   ]
  },
  {
   "cell_type": "code",
   "execution_count": null,
   "metadata": {
    "collapsed": false
   },
   "outputs": [],
   "source": [
    "# Counts + wildcards: {n} and .\n",
    "print (\"Testing counts '{n}' and wildcards (.) ...\")\n",
    "assert re.match ('c.{3}w', 'cw') is None\n",
    "assert re.match ('c.{3}w', 'caw') is None\n",
    "assert re.match ('c.{3}w', 'caew') is None\n",
    "assert re.match ('c.{3}w', 'caeiw') is not None\n",
    "assert re.match ('c.{3}w', 'caeiow') is None\n",
    "assert re.match ('c.{3}w', 'caeiouw') is None"
   ]
  },
  {
   "cell_type": "code",
   "execution_count": null,
   "metadata": {
    "collapsed": false
   },
   "outputs": [],
   "source": [
    "# Groups: (...)\n",
    "\n",
    "# Match simple names of the form: First [Optional-middle ]Last\n",
    "re_names = re.compile ('^([a-zA-Z]+)\\s([a-zA-Z]+\\s)?\\s*([a-zA-Z]+)$')\n",
    "\n",
    "print (re_names.match ('Rich Vuduc').groups ())\n",
    "print (re_names.match ('Rich S Vuduc').groups ())\n",
    "print (re_names.match ('Rich Salamander Vuduc').groups ())"
   ]
  },
  {
   "cell_type": "code",
   "execution_count": null,
   "metadata": {
    "collapsed": false
   },
   "outputs": [],
   "source": [
    "# Make the above more readable with a re.VERBOSE pattern\n",
    "re_names2 = re.compile ('''^              # Beginning of string\n",
    "                           ([a-zA-Z]+)    # First name\n",
    "                           \\s             # At least one space\n",
    "                           ([a-zA-Z]+\\s)? # Optional middle name\n",
    "                           \\s*            # More spaces\n",
    "                           ([a-zA-Z]+)    # Last name\n",
    "                           $              # End of string\n",
    "                        ''',\n",
    "                        re.VERBOSE)\n",
    "print (re_names2.match ('Rich Vuduc').groups ())\n",
    "print (re_names2.match ('Rich S Vuduc').groups ())\n",
    "print (re_names2.match ('Rich Salamander Vuduc').groups ())"
   ]
  },
  {
   "cell_type": "code",
   "execution_count": null,
   "metadata": {
    "collapsed": false
   },
   "outputs": [],
   "source": [
    "# Named groups\n",
    "re_names3 = re.compile ('''^\n",
    "                           (?P<first>[a-zA-Z]+)\n",
    "                           \\s\n",
    "                           (?P<middle>[a-zA-Z]+\\s)?\n",
    "                           \\s*\n",
    "                           (?P<last>[a-zA-Z]+)\n",
    "                           $\n",
    "                        ''',\n",
    "                        re.VERBOSE)\n",
    "print (re_names3.match ('Rich Vuduc').group ('first'))\n",
    "print (re_names3.match ('Rich S Vuduc').group ('middle'))\n",
    "print (re_names3.match ('Rich Salamander Vuduc').group ('last'))"
   ]
  },
  {
   "cell_type": "markdown",
   "metadata": {},
   "source": [
    "**Exercise 1.** Write a function `parse_email(s)` that, given an email address `s`, returns a tuple, `(user-id, domain)` corresponding to the user name and domain name.\n",
    "\n",
    "For instance, given `richie@cc.gatech.edu` it should return `(richie, cc.gatech.edu)`.\n",
    "\n",
    "If the input is not an email address, the function should raise a `ValueError`."
   ]
  },
  {
   "cell_type": "code",
   "execution_count": null,
   "metadata": {
    "collapsed": true,
    "deletable": false,
    "nbgrader": {
     "checksum": "19b0d4f939d64b5ae29f375c26adfcbd",
     "grade": false,
     "grade_id": "email",
     "locked": false,
     "solution": true
    }
   },
   "outputs": [],
   "source": [
    "def parse_email (s):\n",
    "    \"\"\"Parses a string as an email address, returning an (id, domain) pair.\"\"\"\n",
    "    # YOUR CODE HERE\n",
    "    raise NotImplementedError()"
   ]
  },
  {
   "cell_type": "code",
   "execution_count": null,
   "metadata": {
    "collapsed": false,
    "deletable": false,
    "nbgrader": {
     "checksum": "c375c1ed2b7a46b23e7417029306a9d3",
     "grade": true,
     "grade_id": "email__test1",
     "locked": true,
     "points": 1,
     "solution": false
    }
   },
   "outputs": [],
   "source": [
    "assert parse_email ('richie@cc.gatech.edu') == ('richie', 'cc.gatech.edu')\n",
    "assert parse_email ('   quiggy.smith38x@gmail.com') == ('quiggy.smith38x', 'gmail.com')\n",
    "assert parse_email ('bertha_hugely@sampson.edu  ') == ('bertha_hugely', 'sampson.edu')\n",
    "assert parse_email ('JKRowling@Huge-Books.org') == ('JKRowling', 'Huge-Books.org')"
   ]
  },
  {
   "cell_type": "code",
   "execution_count": null,
   "metadata": {
    "collapsed": false,
    "deletable": false,
    "nbgrader": {
     "checksum": "a3bf45a27829bdeaf1420c651d671d3a",
     "grade": true,
     "grade_id": "email__test2",
     "locked": true,
     "points": 1,
     "solution": false
    }
   },
   "outputs": [],
   "source": [
    "try:\n",
    "    parse_email ('x @hpcgarage.org')\n",
    "except ValueError:\n",
    "    print (\"Correctly throws an exception.\")\n",
    "else:\n",
    "    raise AssertionError (\"Did *not* throw an exception as required!\")"
   ]
  },
  {
   "cell_type": "markdown",
   "metadata": {},
   "source": [
    "**Exercise 2.** Write a function to parse US phone numbers written in the canonical \"(404) 555-1212\" format, i.e., a three-digit area code enclosed in parentheses followed by a seven-digit local number in three-dash-four digit format. It should return a triple of 3 strings, `(area-code, first-three, last-four)`. It should also ignore all leading and trailing spaces, as well as any spaces that appear between the area code and local numbers.\n",
    "\n",
    "If the input is not a valid phone number, it should raise a `ValueError`."
   ]
  },
  {
   "cell_type": "code",
   "execution_count": null,
   "metadata": {
    "collapsed": true,
    "deletable": false,
    "nbgrader": {
     "checksum": "e341a6835569886d79813304e1a20148",
     "grade": false,
     "grade_id": "phone1",
     "locked": false,
     "solution": true
    }
   },
   "outputs": [],
   "source": [
    "def parse_phone1 (s):\n",
    "    \"\"\"Parses a string as a phone number in `(XXX) XXX-XXXX` format,\n",
    "    returning a `(area-code, three-digits, four-digits)` tuple of\n",
    "    strings.\n",
    "    \"\"\"\n",
    "    # YOUR CODE HERE\n",
    "    raise NotImplementedError()"
   ]
  },
  {
   "cell_type": "code",
   "execution_count": null,
   "metadata": {
    "collapsed": false,
    "deletable": false,
    "nbgrader": {
     "checksum": "b7f764b3519127b220abef211b3d23ed",
     "grade": true,
     "grade_id": "phone1__test1",
     "locked": true,
     "points": 1,
     "solution": false
    }
   },
   "outputs": [],
   "source": [
    "assert parse_phone1 ('(404) 555-3355') == ('404', '555', '3355')\n",
    "assert parse_phone1 ('  (404)   555-3355  ') == ('404', '555', '3355')\n",
    "assert parse_phone1 ('(123)456-7890') == ('123', '456', '7890')"
   ]
  },
  {
   "cell_type": "code",
   "execution_count": null,
   "metadata": {
    "collapsed": false,
    "deletable": false,
    "nbgrader": {
     "checksum": "62c747faf0c7364ff4452471f7260f0b",
     "grade": true,
     "grade_id": "phone1__test2",
     "locked": true,
     "points": 1,
     "solution": false
    }
   },
   "outputs": [],
   "source": [
    "try:\n",
    "    parse_phone1 ('404-555-3355')\n",
    "except ValueError:\n",
    "    print (\"Correctly throws an exception.\")\n",
    "else:\n",
    "    raise AssertionError (\"Did *not* correctly raise an exception!\")\n",
    "    \n",
    "try:\n",
    "    parse_phone1 ('+1 (404) 555-3355')\n",
    "except ValueError:\n",
    "    print (\"Correctly throws an exception.\")\n",
    "else:\n",
    "    raise AssertionError (\"Did *not* correctly raise an exception!\")"
   ]
  },
  {
   "cell_type": "markdown",
   "metadata": {},
   "source": [
    "**Exercise 3.** Implement an enhanced phone number parser that can handle any of these patterns.\n",
    "\n",
    "* (404) 555-1212\n",
    "* (404) 5551212\n",
    "* 404-555-1212\n",
    "* 404-5551212\n",
    "* 404555-1212\n",
    "* 4045551212\n",
    "\n",
    "As before, it should not be sensitive to leading or trailing spaces. Also, for the patterns in which the area code is enclosed in parentheses, it should not be sensitive to the number of spaces separating the area code from the remainder of the number."
   ]
  },
  {
   "cell_type": "code",
   "execution_count": null,
   "metadata": {
    "collapsed": true,
    "deletable": false,
    "nbgrader": {
     "checksum": "5edb2e402711307700ef59d0fd825826",
     "grade": false,
     "grade_id": "phone2",
     "locked": false,
     "solution": true
    }
   },
   "outputs": [],
   "source": [
    "def parse_phone2 (s):\n",
    "    \"\"\"Parses a string as a US phone number in, returning a\n",
    "    `(area-code, three-digits, four-digits)` tuple of strings.\n",
    "    \"\"\"\n",
    "    # YOUR CODE HERE\n",
    "    raise NotImplementedError()"
   ]
  },
  {
   "cell_type": "code",
   "execution_count": null,
   "metadata": {
    "collapsed": false,
    "deletable": false,
    "nbgrader": {
     "checksum": "06d40f8ae5b48c97198acecb5dafc47c",
     "grade": true,
     "grade_id": "phone2__test1",
     "locked": true,
     "points": 1,
     "solution": false
    }
   },
   "outputs": [],
   "source": [
    "assert parse_phone2 (\"  (404)   555-1212  \") == ('404', '555', '1212')\n",
    "assert parse_phone2 (\"(404)555-1212  \") == ('404', '555', '1212')\n",
    "assert parse_phone2 (\"  404-555-1212 \") == ('404', '555', '1212')\n",
    "assert parse_phone2 (\"  404-5551212 \") == ('404', '555', '1212')\n",
    "assert parse_phone2 (\" 4045551212\") == ('404', '555', '1212')"
   ]
  },
  {
   "cell_type": "code",
   "execution_count": null,
   "metadata": {
    "collapsed": false,
    "deletable": false,
    "nbgrader": {
     "checksum": "f6ff4bce385d94667d97836e5bc55239",
     "grade": true,
     "grade_id": "phone2__test2",
     "locked": true,
     "points": 1,
     "solution": false
    }
   },
   "outputs": [],
   "source": [
    "failure_cases = ['+1 (404) 555-3355',\n",
    "                 '404.555.3355',\n",
    "                 '404 555-3355',\n",
    "                 '404 555 3355'                 \n",
    "                ]\n",
    "for s in failure_cases:\n",
    "    try:\n",
    "        parse_phone2 (s)\n",
    "    except ValueError:\n",
    "        print (\"'{}': Function correctly raised an exception.\".format (s))\n",
    "    else:\n",
    "        raise AssertionError (\"Function did *not* raise an exception as expected!\")"
   ]
  }
 ],
 "metadata": {
  "kernelspec": {
   "display_name": "Python 3",
   "language": "python",
   "name": "python3"
  },
  "language_info": {
   "codemirror_mode": {
    "name": "ipython",
    "version": 3
   },
   "file_extension": ".py",
   "mimetype": "text/x-python",
   "name": "python",
   "nbconvert_exporter": "python",
   "pygments_lexer": "ipython3",
   "version": "3.5.1"
  }
 },
 "nbformat": 4,
 "nbformat_minor": 0
}
