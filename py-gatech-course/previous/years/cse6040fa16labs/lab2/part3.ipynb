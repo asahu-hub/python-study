{
 "cells": [
  {
   "cell_type": "markdown",
   "metadata": {
    "nbgrader": {
     "grade": false,
     "solution": false
    }
   },
   "source": [
    "# Important note!\n",
    "\n",
    "Before you turn this problem in, make sure everything runs as expected. First, **restart the kernel** (in the menubar, select Kernel$\\rightarrow$Restart) and then **run all cells** (in the menubar, select Cell$\\rightarrow$Run All).\n",
    "\n",
    "Make sure you fill in any place that says `YOUR CODE HERE` or \"YOUR ANSWER HERE\", as well as your name and collaborators below:"
   ]
  },
  {
   "cell_type": "code",
   "execution_count": null,
   "metadata": {
    "collapsed": false,
    "nbgrader": {
     "grade": false,
     "locked": false,
     "solution": false
    }
   },
   "outputs": [],
   "source": [
    "YOUR_ID = \"\" # Please enter your GT login, e.g., \"rvuduc3\" or \"gtg911x\"\n",
    "COLLABORATORS = [] # list of strings of your collaborators' IDs"
   ]
  },
  {
   "cell_type": "code",
   "execution_count": null,
   "metadata": {
    "collapsed": false,
    "deletable": false,
    "nbgrader": {
     "checksum": "b11295002cc2b9549d6a2b01721b6701",
     "grade": true,
     "grade_id": "who__test",
     "locked": true,
     "points": 1,
     "solution": false
    }
   },
   "outputs": [],
   "source": [
    "import re\n",
    "\n",
    "RE_CHECK_ID = re.compile (r'''[a-zA-Z]+\\d+|[gG][tT][gG]\\d+[a-zA-Z]''')\n",
    "assert RE_CHECK_ID.match (YOUR_ID) is not None\n",
    "\n",
    "collab_check = [RE_CHECK_ID.match (i) is not None for i in COLLABORATORS]\n",
    "assert all (collab_check)\n",
    "\n",
    "del collab_check\n",
    "del RE_CHECK_ID\n",
    "del re"
   ]
  },
  {
   "cell_type": "markdown",
   "metadata": {},
   "source": [
    "**Jupyter / IPython version check.** The following code cell verifies that you are using the correct version of Jupyter/IPython."
   ]
  },
  {
   "cell_type": "code",
   "execution_count": null,
   "metadata": {
    "collapsed": true
   },
   "outputs": [],
   "source": [
    "import IPython\n",
    "assert IPython.version_info[0] >= 3, \"Your version of IPython is too old, please update it.\""
   ]
  },
  {
   "cell_type": "markdown",
   "metadata": {},
   "source": [
    "# Part 3: An extreme case of regular expression processing\n",
    "\n",
    "There is a beautiful theory underlying regular expressions, and efficient regular expression processing is regarded as one of the classic problems of computer science. In the last part of this lab, you will explore a bit of that theory, albeit by experiment.\n",
    "\n",
    "In particular, the code cells below will walk you through a simple example of the potentially hidden cost of regular expression parsing.\n",
    "\n",
    "> If you really want to geek out, look at the article on which this example is taken: https://swtch.com/~rsc/regexp/regexp1.html"
   ]
  },
  {
   "cell_type": "markdown",
   "metadata": {},
   "source": [
    "## Quick review\n",
    "\n",
    "**Exercise 1.** Let $a^n$ be a shorthand notation for a string in which $a$ is repeated $n$ times. For example, $a^3$ is the same as $aaa$ and $a^6$ is the same as $aaaaaa$. Write a function to generate $a^n$."
   ]
  },
  {
   "cell_type": "code",
   "execution_count": null,
   "metadata": {
    "collapsed": true,
    "deletable": false,
    "nbgrader": {
     "checksum": "2fdce39693ee4db17ec97602239fa755",
     "grade": false,
     "grade_id": "rep_str",
     "locked": false,
     "solution": true
    }
   },
   "outputs": [],
   "source": [
    "def rep_str (s, n):\n",
    "    \"\"\"Returns a string consisting of an input string repeated a given number of times.\"\"\"\n",
    "    assert type (s) is str\n",
    "    # YOUR CODE HERE\n",
    "    raise NotImplementedError()"
   ]
  },
  {
   "cell_type": "code",
   "execution_count": null,
   "metadata": {
    "collapsed": true,
    "deletable": false,
    "nbgrader": {
     "checksum": "5142d9600fb99a5e6c6e8e53c0fc1417",
     "grade": true,
     "grade_id": "rep_str__test",
     "locked": true,
     "points": 1,
     "solution": false
    }
   },
   "outputs": [],
   "source": [
    "assert rep_str ('a', 3) == 'aaa'\n",
    "assert rep_str ('cat', 4) == 'catcatcatcat'\n",
    "assert rep_str ('', 100) == ''"
   ]
  },
  {
   "cell_type": "markdown",
   "metadata": {},
   "source": [
    "## An initial experiment\n",
    "\n",
    "Intuitively, you should expect (or hope) that the time to determine whether a string of length $n$ matches a given pattern will be proportional to $n$. Let's see if this holds when matching simple input strings of repeated letters against a pattern designed to match such strings."
   ]
  },
  {
   "cell_type": "code",
   "execution_count": null,
   "metadata": {
    "collapsed": true
   },
   "outputs": [],
   "source": [
    "import re"
   ]
  },
  {
   "cell_type": "code",
   "execution_count": null,
   "metadata": {
    "collapsed": false
   },
   "outputs": [],
   "source": [
    "# Set up an input problem\n",
    "n = 3\n",
    "s_n = rep_str ('a', n) # Input string\n",
    "pattern = '^a{%d}$' % n # Pattern to match it exactly\n",
    "\n",
    "# Test it\n",
    "print (\"Matching input '{}' against pattern '{}'...\".format (s_n, pattern))\n",
    "assert re.match (pattern, s_n) is not None\n",
    "\n",
    "# Benchmark it & report time, normalized to 'n'\n",
    "timing = %timeit -q -o re.match (pattern, s_n)\n",
    "t_avg = sum (timing.all_runs) / len (timing.all_runs) / timing.loops / n * 1e9\n",
    "print (\"Average time per match per `n`: {:.1f} ns\".format (t_avg))"
   ]
  },
  {
   "cell_type": "markdown",
   "metadata": {},
   "source": [
    "Before moving on, be sure you understand what the above benchmark is doing. For more on the Jupyter \"magic\" command, `%timeit`, see: http://ipython.readthedocs.io/en/stable/interactive/magics.html?highlight=magic#magic-magic"
   ]
  },
  {
   "cell_type": "markdown",
   "metadata": {},
   "source": [
    "**Exercise 2.** Repeat the above experiment for various values of `n`. To help keep track of the results, feel free to create new code cells that repeat the benchmark for different values of `n`. Explain what you observe. Can you conclude that matching simple patterns of the form `^a{n}$` against input strings of the form $a^n$ does, indeed, scale linearly?"
   ]
  },
  {
   "cell_type": "code",
   "execution_count": null,
   "metadata": {
    "collapsed": false,
    "deletable": false,
    "nbgrader": {
     "checksum": "eb4455d66e2dd319df0d19aca1e7f561",
     "grade": false,
     "grade_id": "experiment1",
     "locked": false,
     "solution": true
    }
   },
   "outputs": [],
   "source": [
    "# Use this code cell (and others, if you wish) to set up an experiment\n",
    "# to test whether matching simple patterns behaves at worst linearly\n",
    "# in the length of the input.\n",
    "\n",
    "# YOUR CODE HERE\n",
    "raise NotImplementedError()"
   ]
  },
  {
   "cell_type": "markdown",
   "metadata": {
    "deletable": false,
    "nbgrader": {
     "checksum": "1cf1295a0e234d0313e29c59abe5f9ff",
     "grade": true,
     "grade_id": "results1",
     "locked": false,
     "points": 4,
     "solution": true
    }
   },
   "source": [
    "YOUR ANSWER HERE"
   ]
  },
  {
   "cell_type": "markdown",
   "metadata": {},
   "source": [
    "## A more complex pattern\n",
    "\n",
    "Consider patterns of the form:\n",
    "\n",
    "$$(a?)^n(a^n) \\quad$$\n",
    "\n",
    "For instance, $n=3$, the regular expression pattern is `(a?){3}a{3} == a?a?a?aaa`. Start by convincing yourself that an input string of the form,\n",
    "\n",
    "$$a^n = \\underbrace{aa\\cdots a}_{n \\mbox{ occurrences}}$$\n",
    "\n",
    "should match this pattern. Here is some code to set up an experiment to benchmark this case."
   ]
  },
  {
   "cell_type": "code",
   "execution_count": null,
   "metadata": {
    "collapsed": false
   },
   "outputs": [],
   "source": [
    "def setup_inputs (n):\n",
    "    \"\"\"Sets up the 'complex pattern example' above.\"\"\"\n",
    "    s_n = rep_str ('a', n)\n",
    "    p_n = \"^(a?){%d}(a{%d})$\" % (n, n)\n",
    "    print (\"[n={}] Matching pattern '{}' against input '{}'...\".format (n, p_n, s_n))\n",
    "    assert re.match (p_n, s_n) is not None\n",
    "    return (p_n, s_n)\n",
    "\n",
    "n = 3\n",
    "p_n, s_n = setup_inputs (n)\n",
    "timing = %timeit -q -o re.match (p_n, s_n)\n",
    "t_n = sum (timing.all_runs) / len (timing.all_runs) / timing.loops / n * 1e9\n",
    "print (\"==> Time per run per `n`: {} ns\".format (t_n))"
   ]
  },
  {
   "cell_type": "markdown",
   "metadata": {},
   "source": [
    "**Exercise 3.** Repeat the above experiment but for different values of $n$, such as $n \\in \\{3, 6, 9, 12, 15, 18\\}$. As before, feel free to use the code cell below or make new code cells to contain the code for your experiments. Summarize what you observe. How does the execution time vary with $n$? Can you explain this behavior?"
   ]
  },
  {
   "cell_type": "code",
   "execution_count": null,
   "metadata": {
    "collapsed": false,
    "deletable": false,
    "nbgrader": {
     "checksum": "b798eb6638110dc7147585b66c5cac33",
     "grade": false,
     "grade_id": "experiment2",
     "locked": false,
     "solution": true
    }
   },
   "outputs": [],
   "source": [
    "# Use this code cell (and others, if you wish) to set up an experiment\n",
    "# to test whether matching simple patterns behaves at worst linearly\n",
    "# in the length of the input.\n",
    "\n",
    "# YOUR CODE HERE\n",
    "raise NotImplementedError()"
   ]
  },
  {
   "cell_type": "markdown",
   "metadata": {
    "deletable": false,
    "nbgrader": {
     "checksum": "03e071532efef8df36c451c46a7ac029",
     "grade": true,
     "grade_id": "results2",
     "locked": false,
     "points": 4,
     "solution": true
    }
   },
   "source": [
    "YOUR ANSWER HERE"
   ]
  }
 ],
 "metadata": {
  "kernelspec": {
   "display_name": "Python 3",
   "language": "python",
   "name": "python3"
  },
  "language_info": {
   "codemirror_mode": {
    "name": "ipython",
    "version": 3
   },
   "file_extension": ".py",
   "mimetype": "text/x-python",
   "name": "python",
   "nbconvert_exporter": "python",
   "pygments_lexer": "ipython3",
   "version": "3.5.1"
  }
 },
 "nbformat": 4,
 "nbformat_minor": 0
}
