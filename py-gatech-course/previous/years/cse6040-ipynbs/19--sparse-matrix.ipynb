{
 "cells": [
  {
   "cell_type": "markdown",
   "metadata": {},
   "source": [
    "# CSE 6040, Fall 2015 [19]: Sparse matrix storage\n",
    "\n",
    "Today's lab continues [Lab 18](http://nbviewer.ipython.org/github/rvuduc/cse6040-ipynbs/blob/master/18--matrix-storage.ipynb), which was about how to store and operate on _dense_ matrices using [Numpy (and SciPy)](http://www.numpy.org/). By the way, a partial solution set for Lab 18 is also available [here](https://t-square.gatech.edu/access/content/group/gtc-7308-4387-56aa-b79e-a3f4c812167d/18--matrix-storage-partial-solns.ipynb).\n",
    "\n",
    "**Downloads.** For today's lab, you'll need two additional downloads:\n",
    "\n",
    "* A dataset: http://cse6040.gatech.edu/fa15/UserEdges-1M.csv\n",
    "* An updated class module: [cse6040utils.py](https://raw.githubusercontent.com/rvuduc/cse6040-ipynbs/master/cse6040utils.py)\n",
    "\n",
    "Go ahead and download these files now.\n",
    "\n",
    "The dataset is actually from your current homework ([#2](http://nbviewer.ipython.org/github/rvuduc/cse6040-ipynbs/blob/master/hw2.ipynb))! It's the first million pairs of the user-user connectivity graph, in CSV format."
   ]
  },
  {
   "cell_type": "markdown",
   "metadata": {},
   "source": [
    "To repeat, the recommended importing convention for Numpy is (execute this now):"
   ]
  },
  {
   "cell_type": "code",
   "execution_count": null,
   "metadata": {
    "collapsed": true
   },
   "outputs": [],
   "source": [
    "import numpy as np"
   ]
  },
  {
   "cell_type": "markdown",
   "metadata": {},
   "source": [
    "## Sample dataset\n",
    "\n",
    "Start by looking at the sample dataset."
   ]
  },
  {
   "cell_type": "code",
   "execution_count": null,
   "metadata": {
    "collapsed": true
   },
   "outputs": [],
   "source": [
    "import pandas as pd\n",
    "from IPython.display import display"
   ]
  },
  {
   "cell_type": "code",
   "execution_count": null,
   "metadata": {
    "collapsed": false
   },
   "outputs": [],
   "source": [
    "edges = pd.read_csv ('UserEdges-1M.csv')\n",
    "display (edges.head ())"
   ]
  },
  {
   "cell_type": "markdown",
   "metadata": {},
   "source": [
    "**Exercise.** What does this code do?"
   ]
  },
  {
   "cell_type": "code",
   "execution_count": null,
   "metadata": {
    "collapsed": false
   },
   "outputs": [],
   "source": [
    "V_names = set (edges.Source)\n",
    "V_names.update (set (edges.Target))\n",
    "\n",
    "m = len (edges)\n",
    "n = len (V_names)\n",
    "print (\"==> |V| == %d, |E| == %d\" % (n, m))"
   ]
  },
  {
   "cell_type": "markdown",
   "metadata": {},
   "source": [
    "## Sparse matrix storage: Baseline methods\n",
    "\n",
    "Let's start by reminding ourselves how our previous method for storing sparse matrices, based on nested default dictionaries, works and performs."
   ]
  },
  {
   "cell_type": "code",
   "execution_count": null,
   "metadata": {
    "collapsed": true
   },
   "outputs": [],
   "source": [
    "import cse6040utils as cse6040"
   ]
  },
  {
   "cell_type": "markdown",
   "metadata": {},
   "source": [
    "**Exercise.** What does the following code do?"
   ]
  },
  {
   "cell_type": "code",
   "execution_count": null,
   "metadata": {
    "collapsed": false
   },
   "outputs": [],
   "source": [
    "id2name = {}\n",
    "name2id = {}\n",
    "for (k, v) in enumerate (V_names):\n",
    "    if k <= 5: print (\"[%d] %s\" % (k, v)) # for debugging\n",
    "    id2name[k] = v\n",
    "    name2id[v] = k\n",
    "    \n",
    "A_named_keys = cse6040.sparse_matrix ()\n",
    "A_numbered_keys = cse6040.sparse_matrix ()\n",
    "\n",
    "for (k, row) in edges.iterrows ():\n",
    "    ni = row['Source']\n",
    "    nj = row['Target']\n",
    "    A_named_keys[ni][nj] = 1.\n",
    "    A_named_keys[nj][ni] = 1.\n",
    "    \n",
    "    i = name2id[ni]\n",
    "    j = name2id[nj]\n",
    "    A_numbered_keys[i][j] = 1.\n",
    "    A_numbered_keys[j][i] = 1."
   ]
  },
  {
   "cell_type": "markdown",
   "metadata": {},
   "source": [
    "Hopefully, you deduced that `A_numbered_keys` above is constructed in such a way that it will work with the sparse matrix-vector multiply routine we created in [Lab 14](http://nbviewer.ipython.org/github/rvuduc/cse6040-ipynbs/blob/master/14--pagerank-partial-solns2.ipynb) ([solutions](https://t-square.gatech.edu/access/content/group/gtc-7308-4387-56aa-b79e-a3f4c812167d/14--pagerank-partial-solns2--SOLVED.ipynb))."
   ]
  },
  {
   "cell_type": "code",
   "execution_count": null,
   "metadata": {
    "collapsed": false
   },
   "outputs": [],
   "source": [
    "# Build a dense vector\n",
    "x = cse6040.dense_vector (n)\n",
    "\n",
    "%timeit cse6040.spmv (n, A_numbered_keys, x)"
   ]
  },
  {
   "cell_type": "markdown",
   "metadata": {},
   "source": [
    "**Exercise.** Implement a sparse matrix-vector multiply that works when the matrix is `A_named_keys`. How much faster or slower is it than `cse6040.spmv()`?\n",
    "\n",
    "> _Hint:_ Feel free to take a look at `cse6040.spmv()`."
   ]
  },
  {
   "cell_type": "code",
   "execution_count": null,
   "metadata": {
    "collapsed": false
   },
   "outputs": [],
   "source": [
    "def spmv_named_keys (n, A, x, name2id):\n",
    "    y = cse6040.dense_vector (n)\n",
    "    \n",
    "    # @YOUSE: Complete this routine\n",
    "    pass\n",
    "\n",
    "    return y"
   ]
  },
  {
   "cell_type": "code",
   "execution_count": null,
   "metadata": {
    "collapsed": false
   },
   "outputs": [],
   "source": [
    "# Measures the speed of your implementation:\n",
    "%timeit spmv_named_keys (n, A_named_keys, x, name2id)"
   ]
  },
  {
   "cell_type": "markdown",
   "metadata": {},
   "source": [
    "## @TODO: Check error"
   ]
  },
  {
   "cell_type": "markdown",
   "metadata": {},
   "source": [
    "## Alternative formats: COO and CSR formats\n",
    "\n",
    "Take a look at the slides that we just started in the last class, which cover the basics of sparse matrix storage formats: [link](http://cse6040.gatech.edu/fa15/slides/18.pdf)\n",
    "\n",
    "Although these are available as native formats in SciPy, let's create native Python versions first using lists. We can then compare the performance of, say, sparse matrix-vector multiply, against the ones we ran above."
   ]
  },
  {
   "cell_type": "markdown",
   "metadata": {},
   "source": [
    "**Exercise.** Create a COO-like data structure. You may use the `edges` and `name2id` raw data structures created above. Name your arrays, `coo_rows`, `coo_cols`, and `coo_vals`."
   ]
  },
  {
   "cell_type": "code",
   "execution_count": null,
   "metadata": {
    "collapsed": true
   },
   "outputs": [],
   "source": [
    "coo_rows = [name2id[e] for e in edges['Source']]\n",
    "coo_cols = [name2id[e] for e in edges['Target']]\n",
    "coo_vals = [1.] * len (coo_rows)"
   ]
  },
  {
   "cell_type": "markdown",
   "metadata": {},
   "source": [
    "**Exercise.** Implement a sparse matrix-vector multiply routine for this COO implementation."
   ]
  },
  {
   "cell_type": "code",
   "execution_count": null,
   "metadata": {
    "collapsed": true
   },
   "outputs": [],
   "source": [
    "def coo_spmv (n, R, C, V, x):\n",
    "    \"\"\"\n",
    "    Returns y = A*x, where A has 'n' rows and is stored in\n",
    "    COO format by the array triples, (R, C, V).\n",
    "    \"\"\"\n",
    "    assert n > 0\n",
    "    assert type (x) is list\n",
    "    assert type (R) is list\n",
    "    assert type (C) is list\n",
    "    assert type (V) is list\n",
    "    assert len (R) == len (C) == len (V)\n",
    "    \n",
    "    y = cse6040.dense_vector (n)\n",
    "    \n",
    "    # @YOUSE: Fill in this implementation\n",
    "    pass\n",
    "        \n",
    "    return y"
   ]
  },
  {
   "cell_type": "code",
   "execution_count": null,
   "metadata": {
    "collapsed": false
   },
   "outputs": [],
   "source": [
    "%timeit coo_spmv (n, coo_rows, coo_cols, coo_vals, x)"
   ]
  },
  {
   "cell_type": "markdown",
   "metadata": {},
   "source": [
    "**Exercise.** Now create a CSR data structure, again using native Python lists. Name your output CSR lists `csr_ptrs`, `csr_inds`, and `csr_vals`.\n",
    "\n",
    "It's easiest to start with the COO representation. We've given you some start code; just fill in the missing loop."
   ]
  },
  {
   "cell_type": "code",
   "execution_count": null,
   "metadata": {
    "collapsed": false
   },
   "outputs": [],
   "source": [
    "# Aside: What does this do? Try running it to see.\n",
    "\n",
    "z1 = ['q', 'v', 'c']\n",
    "z2 = [1, 2, 3]\n",
    "z3 = ['dog', 7, 'man']\n",
    "\n",
    "print sorted (zip (z1, z2, z3), key=lambda z: z[0])"
   ]
  },
  {
   "cell_type": "code",
   "execution_count": null,
   "metadata": {
    "collapsed": false
   },
   "outputs": [],
   "source": [
    "C = sorted (zip (coo_rows, coo_cols, coo_vals),\n",
    "            key=lambda t: t[0])\n",
    "nnz = len (C)\n",
    "\n",
    "assert n == (C[-1][0] + 1)  # Why?\n",
    "\n",
    "csr_inds = [j for (i, j, a_ij) in C]\n",
    "csr_vals = [a_ij for (i, j, a_ij) in C]\n",
    "\n",
    "# @YOUSE: Construct `csr_ptrs`\n",
    "pass\n",
    "\n",
    "# Some checks on your implementation: Test the first 10 entries\n",
    "assert len (csr_ptrs) == (n+1)\n",
    "assert all ([a==b for (a, b) in zip (csr_ptrs[0:10], [0, 1, 3, 60, 66, 72, 73, 74, 78, 82])])\n",
    "print (\"==> Passed quick test\")"
   ]
  },
  {
   "cell_type": "markdown",
   "metadata": {},
   "source": [
    "**Exercise.** Now implement a CSR-based sparse matrix-vector multiply."
   ]
  },
  {
   "cell_type": "code",
   "execution_count": null,
   "metadata": {
    "collapsed": true
   },
   "outputs": [],
   "source": [
    "def csr_spmv (n, ptr, ind, val, x):\n",
    "    assert n > 0\n",
    "    assert type (ptr) == list\n",
    "    assert type (ind) == list\n",
    "    assert type (val) == list\n",
    "    assert type (x) == list\n",
    "    assert len (ptr) >= (n+1)  # Why?\n",
    "    assert len (ind) >= ptr[n]  # Why?\n",
    "    assert len (val) >= ptr[n]  # Why?\n",
    "    \n",
    "    y = cse6040.dense_vector (n)\n",
    "    \n",
    "    # @YOUSE: Insert your implementation here\n",
    "    pass\n",
    "    \n",
    "    return y"
   ]
  },
  {
   "cell_type": "code",
   "execution_count": null,
   "metadata": {
    "collapsed": false
   },
   "outputs": [],
   "source": [
    "%timeit csr_spmv (n, csr_ptrs, csr_inds, csr_vals, x)"
   ]
  },
  {
   "cell_type": "markdown",
   "metadata": {},
   "source": [
    "## Sparse matrix storage using SciPy (Numpy)\n",
    "\n",
    "\n",
    "Let's implement and time some of these routines below."
   ]
  },
  {
   "cell_type": "code",
   "execution_count": null,
   "metadata": {
    "collapsed": true
   },
   "outputs": [],
   "source": [
    "import scipy.sparse as sp"
   ]
  },
  {
   "cell_type": "markdown",
   "metadata": {},
   "source": [
    "Per the notes, here is how we can convert our COO representation from before into a SciPy implementation."
   ]
  },
  {
   "cell_type": "code",
   "execution_count": null,
   "metadata": {
    "collapsed": false
   },
   "outputs": [],
   "source": [
    "A_coo = sp.coo_matrix ((vals, (rows, cols)))"
   ]
  },
  {
   "cell_type": "markdown",
   "metadata": {},
   "source": [
    "Now measure the time to do a sparse matrix-vector multiply in the COO representation. How does it compare to the nested default dictionary approach?"
   ]
  },
  {
   "cell_type": "code",
   "execution_count": null,
   "metadata": {
    "collapsed": false
   },
   "outputs": [],
   "source": [
    "x_np = np.array (x)\n",
    "\n",
    "%timeit A_coo.dot (x_np)"
   ]
  },
  {
   "cell_type": "markdown",
   "metadata": {
    "collapsed": true
   },
   "source": [
    "**Exercise.** Repeat the same experiment for SciPy-based CSR."
   ]
  },
  {
   "cell_type": "code",
   "execution_count": null,
   "metadata": {
    "collapsed": false
   },
   "outputs": [],
   "source": [
    "# @YOUSE: Fill in your code here\n",
    "pass\n",
    "\n",
    "%timeit A_csr.dot (x_np)"
   ]
  },
  {
   "cell_type": "code",
   "execution_count": null,
   "metadata": {
    "collapsed": true
   },
   "outputs": [],
   "source": []
  }
 ],
 "metadata": {
  "kernelspec": {
   "display_name": "Python 2",
   "language": "python",
   "name": "python2"
  },
  "language_info": {
   "codemirror_mode": {
    "name": "ipython",
    "version": 2
   },
   "file_extension": ".py",
   "mimetype": "text/x-python",
   "name": "python",
   "nbconvert_exporter": "python",
   "pygments_lexer": "ipython2",
   "version": "2.7.10"
  }
 },
 "nbformat": 4,
 "nbformat_minor": 0
}
