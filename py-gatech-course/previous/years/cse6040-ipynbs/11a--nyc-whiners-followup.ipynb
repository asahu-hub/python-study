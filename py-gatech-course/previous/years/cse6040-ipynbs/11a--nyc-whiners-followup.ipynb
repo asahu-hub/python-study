{
 "cells": [
  {
   "cell_type": "markdown",
   "metadata": {},
   "source": [
    "# CSE 6040, Fall 2015 [11, Part A]: NYC Follow-up\n",
    "\n",
    "Recall that you ended [Lab 10](http://nbviewer.ipython.org/github/rvuduc/cse6040-ipynbs/blob/master/10--nyc-whiners.ipynb), with the question, \"Given a complaint type, what _percentage_ of such complaints were logged in each area of NYC?\"\n",
    "\n",
    "This follow-up lab gives you several solutions. By inspecting and running these examples, you should be able to see their tradeoffs."
   ]
  },
  {
   "cell_type": "markdown",
   "metadata": {},
   "source": [
    "## Setup\n",
    "\n",
    "First, some setup code common to all three solutions, which sets up the database and connects to `plotly`.\n",
    "\n",
    "> Be sure to modify the `plotly` login credentials accordingly."
   ]
  },
  {
   "cell_type": "code",
   "execution_count": null,
   "metadata": {
    "collapsed": true
   },
   "outputs": [],
   "source": [
    "import sqlite3 as db\n",
    "disk_engine = db.connect ('NYC-311-2M.db')"
   ]
  },
  {
   "cell_type": "code",
   "execution_count": null,
   "metadata": {
    "collapsed": true
   },
   "outputs": [],
   "source": [
    "import plotly.plotly as py\n",
    "py.sign_in ('USERNAME', 'PASSWORD') # Connect!"
   ]
  },
  {
   "cell_type": "code",
   "execution_count": null,
   "metadata": {
    "collapsed": true
   },
   "outputs": [],
   "source": [
    "import pandas as pd"
   ]
  },
  {
   "cell_type": "code",
   "execution_count": null,
   "metadata": {
    "collapsed": true
   },
   "outputs": [],
   "source": [
    "import itertools"
   ]
  },
  {
   "cell_type": "code",
   "execution_count": null,
   "metadata": {
    "collapsed": true
   },
   "outputs": [],
   "source": [
    "import time # To benchmark of these three solutions\n",
    "import sys # for sys.stdout.flush ()"
   ]
  },
  {
   "cell_type": "code",
   "execution_count": null,
   "metadata": {
    "collapsed": true
   },
   "outputs": [],
   "source": [
    "from plotly.graph_objs import Bar, Layout\n",
    "\n",
    "def iplot_percent_complaints_by_type_and_city (traces):\n",
    "    return py.iplot({'data': traces, \n",
    "                     'layout': Layout(barmode='stack',\n",
    "                                      xaxis={'tickangle': 40, 'autorange': False, 'range': [-0.5, 16]},\n",
    "                                      yaxis={'title': 'Percent of Complaints by City'},\n",
    "                                      margin={'b': 150},\n",
    "                                      title='Relative Number of 311 Complaints by City')\n",
    "                    }, filename='311/relative complaints by city', validate=False)"
   ]
  },
  {
   "cell_type": "code",
   "execution_count": null,
   "metadata": {
    "collapsed": true
   },
   "outputs": [],
   "source": [
    "# Generate a static list of the top 7 cities\n",
    "query = '''\n",
    "  SELECT City, COUNT(*) AS NumComplaints\n",
    "    FROM data\n",
    "    WHERE City <> 'None'\n",
    "    GROUP BY City COLLATE NOCASE\n",
    "    ORDER BY -NumComplaints\n",
    "    LIMIT 7\n",
    "'''\n",
    "TOP_CITIES = pd.read_sql_query (query, disk_engine)['City']"
   ]
  },
  {
   "cell_type": "code",
   "execution_count": null,
   "metadata": {
    "collapsed": false
   },
   "outputs": [],
   "source": [
    "print TOP_CITIES"
   ]
  },
  {
   "cell_type": "markdown",
   "metadata": {},
   "source": [
    "## Solution 1\n",
    "\n",
    "This solution first queries the database for the total number of complaints by type. It then uses these data to normalize the counts by city.\n",
    "\n",
    "The main idea is to use queries to get data frames storing the values you need, and then combining them within Python."
   ]
  },
  {
   "cell_type": "code",
   "execution_count": null,
   "metadata": {
    "collapsed": false
   },
   "outputs": [],
   "source": [
    "t1a = time.time ()\n",
    "\n",
    "# Determine the number of complaints by type\n",
    "query = '''\n",
    "  SELECT ComplaintType, COUNT(*) AS NumComplaints\n",
    "    FROM data\n",
    "    GROUP BY ComplaintType COLLATE NOCASE\n",
    "    ORDER BY -NumComplaints\n",
    "'''\n",
    "df = pd.read_sql_query (query, disk_engine)\n",
    "\n",
    "t1a = time.time () - t1a\n",
    "print \"[+%gs] Part A\" % t1a\n",
    "print df.head ()"
   ]
  },
  {
   "cell_type": "code",
   "execution_count": null,
   "metadata": {
    "collapsed": false
   },
   "outputs": [],
   "source": [
    "t1b = time.time ()\n",
    "# Convert this data into a lookup table (dictionary)\n",
    "total_complaints_by_type = \\\n",
    "  dict (zip ([x.capitalize () for x in df.ComplaintType],\n",
    "             df.NumComplaints))\n",
    "t1b = time.time () - t1b\n",
    "print \"[+%gs] Part B\" % t1b"
   ]
  },
  {
   "cell_type": "code",
   "execution_count": null,
   "metadata": {
    "collapsed": false
   },
   "outputs": [],
   "source": [
    "# Print a few entries just as a sanity check\n",
    "print list (itertools.islice (total_complaints_by_type.items (), 5))"
   ]
  },
  {
   "cell_type": "code",
   "execution_count": null,
   "metadata": {
    "collapsed": false
   },
   "outputs": [],
   "source": [
    "t1c = time.time ()\n",
    "\n",
    "def capitalize (string_list):\n",
    "    \"\"\"\n",
    "    Given a list of strings, returns a new list with standardized\n",
    "    capitalization.\n",
    "    \"\"\"\n",
    "    return [s.capitalize () for s in string_list]\n",
    "\n",
    "def gather (key_list, dictionary):\n",
    "    \"\"\"\n",
    "    Given a list of keys, returns a list of corresponding values from a\n",
    "    dictionary.\n",
    "    \"\"\"\n",
    "    return [dictionary[key] for key in key_list]\n",
    "\n",
    "traces1 = []\n",
    "for city in TOP_CITIES: # Determines the complaint counts by city\n",
    "    print (\"[+%gs] Processing %s ...\" % (time.time () - t1c, city)) ; sys.stdout.flush ()\n",
    "    \n",
    "    query = '''\n",
    "      SELECT ComplaintType, COUNT(*) as NumComplaints\n",
    "        FROM data\n",
    "        WHERE City = \"{}\" COLLATE NOCASE\n",
    "        GROUP BY ComplaintType COLLATE NOCASE\n",
    "        ORDER BY -NumComplaints\n",
    "    '''.format (city)\n",
    "    df = pd.read_sql_query (query, disk_engine)\n",
    "    \n",
    "    # Normalize complaint counts\n",
    "    complaint_types = capitalize (df.ComplaintType)\n",
    "    totals = gather (complaint_types, total_complaints_by_type)\n",
    "    percent_complaints = 100.0 * df.NumComplaints / totals\n",
    "    \n",
    "    # Add this city as a new trace\n",
    "    traces1.append (Bar (x=complaint_types,\n",
    "                         y=percent_complaints, \n",
    "                         name=city.capitalize ()))\n",
    "\n",
    "t1c = time.time () - t1c\n",
    "print \"[+%gs] Part C\" % t1c"
   ]
  },
  {
   "cell_type": "code",
   "execution_count": null,
   "metadata": {
    "collapsed": false
   },
   "outputs": [],
   "source": [
    "# Check it!\n",
    "print \"==> Total time for Solution 1: %gs\" % (t1a + t1b + t1c)\n",
    "iplot_percent_complaints_by_type_and_city (traces1)"
   ]
  },
  {
   "cell_type": "markdown",
   "metadata": {},
   "source": [
    "## Solution 2\n",
    "\n",
    "This second approach computes the total number of complaints by type, but stores it in a _view_ (or _virtual table_). It then references this virtual table within the city-specific query to normalize the counts.\n",
    "\n",
    "> We mentioned views in the class slides but did not do a specific exercise using them, so it's OK if you did not think of this solution."
   ]
  },
  {
   "cell_type": "code",
   "execution_count": null,
   "metadata": {
    "collapsed": false
   },
   "outputs": [],
   "source": [
    "t2a = time.time ()\n",
    "\n",
    "query = '''\n",
    "  CREATE VIEW IF NOT EXISTS TotalComplaintsView AS\n",
    "    SELECT ComplaintType, COUNT(*) AS NumComplaints\n",
    "      FROM data\n",
    "      GROUP BY ComplaintType COLLATE NOCASE\n",
    "      ORDER BY -NumComplaints\n",
    "'''\n",
    "c = disk_engine.cursor ()\n",
    "c.execute (query)\n",
    "\n",
    "t2a = time.time () - t2a\n",
    "print \"[+%gs] Part A\" % t2a"
   ]
  },
  {
   "cell_type": "markdown",
   "metadata": {},
   "source": [
    "A nice feature of a view is that it is _stored in the database_ and automatically kept up to date.\n",
    "\n",
    "So, you can create it once and use any time you need it, even _after_ updates to the data from which the view derives."
   ]
  },
  {
   "cell_type": "code",
   "execution_count": null,
   "metadata": {
    "collapsed": false
   },
   "outputs": [],
   "source": [
    "t2b = time.time ()\n",
    "\n",
    "traces2 = []\n",
    "for city in TOP_CITIES: # Determines the complaint counts by city\n",
    "    print (\"[+%gs] Processing %s ...\" % (time.time () - t2b, city)) ; sys.stdout.flush ()\n",
    "    \n",
    "    query = '''\n",
    "      SELECT D.ComplaintType,\n",
    "             (100.0 * COUNT(*) / T.NumComplaints) AS PercentComplaints\n",
    "        FROM data AS D, TotalComplaintsView AS T\n",
    "        WHERE (City = \"{}\" COLLATE NOCASE)\n",
    "              AND (D.ComplaintType = T.ComplaintType COLLATE NOCASE)\n",
    "        GROUP BY D.ComplaintType COLLATE NOCASE\n",
    "        ORDER BY -T.NumComplaints\n",
    "    '''.format (city)\n",
    "    df = pd.read_sql_query (query, disk_engine)\n",
    "    traces2.append (Bar (x=capitalize (df.ComplaintType),\n",
    "                         y=df.PercentComplaints,\n",
    "                         name=city.capitalize ()))\n",
    "    \n",
    "t2b = time.time () - t2b\n",
    "print \"[+%gs] Part B\" % t2b"
   ]
  },
  {
   "cell_type": "code",
   "execution_count": null,
   "metadata": {
    "collapsed": false
   },
   "outputs": [],
   "source": [
    "print (\"==> Total time for Solution 2: %gs\" % (t2a + t2b))\n",
    "iplot_percent_complaints_by_type_and_city (traces2)"
   ]
  },
  {
   "cell_type": "markdown",
   "metadata": {},
   "source": [
    "## Solution 3\n",
    "\n",
    "This third solution introduces a new concept, namely, the idea of a _subquery_.\n",
    "\n",
    "The basic idea is that, within a `SELECT` statement, you can reference a table generated \"on-the-fly\" from _another_ `SELECT` statement. Notice how this solution basically merges the two queries used in the previous solutions into just a single query."
   ]
  },
  {
   "cell_type": "code",
   "execution_count": null,
   "metadata": {
    "collapsed": false
   },
   "outputs": [],
   "source": [
    "t3 = time.time ()\n",
    "\n",
    "traces3 = []\n",
    "for city in TOP_CITIES: # Determines the complaint counts by city\n",
    "    print (\"[+%gs] Processing %s ...\" % (time.time () - t3, city)) ; sys.stdout.flush ()\n",
    "    \n",
    "    query = '''\n",
    "      SELECT D.ComplaintType,\n",
    "             (100.0 * COUNT(*) / T.NumComplaints) AS PercentComplaints\n",
    "        FROM data AS D,\n",
    "             (SELECT ComplaintType, COUNT(*) AS NumComplaints\n",
    "                FROM data\n",
    "                GROUP BY ComplaintType COLLATE NOCASE) AS T\n",
    "        WHERE (City = \"{}\" COLLATE NOCASE)\n",
    "              AND (D.ComplaintType = T.ComplaintType COLLATE NOCASE)\n",
    "        GROUP BY D.ComplaintType COLLATE NOCASE\n",
    "        ORDER BY -T.NumComplaints\n",
    "    '''.format (city)\n",
    "    df = pd.read_sql_query (query, disk_engine)\n",
    "    traces3.append (Bar (x=capitalize (df.ComplaintType),\n",
    "                         y=df.PercentComplaints,\n",
    "                         name=city.capitalize ()))\n",
    "    \n",
    "t3 = time.time () - t3\n",
    "print \"[+%gs] Total\" % t3"
   ]
  },
  {
   "cell_type": "code",
   "execution_count": null,
   "metadata": {
    "collapsed": false
   },
   "outputs": [],
   "source": [
    "print \"==> Total time for Solution 3: %gs\" % t3\n",
    "iplot_percent_complaints_by_type_and_city (traces3)"
   ]
  },
  {
   "cell_type": "markdown",
   "metadata": {},
   "source": [
    "## Solution 4 (variation of 2)\n",
    "\n",
    "This next solution is a variation on Solution 2, except instead of creating a view, we create an actual table with the totals.\n",
    "\n",
    "By storing the table, we can speed up Solution 2 a lot. The downside is that we now have to be careful to maintain this totals table, in the event there are updates to the underlying dataset from which it derives."
   ]
  },
  {
   "cell_type": "code",
   "execution_count": null,
   "metadata": {
    "collapsed": false
   },
   "outputs": [],
   "source": [
    "t4a = time.time ()\n",
    "\n",
    "query = '''\n",
    "  DROP TABLE IF EXISTS TotalComplaints\n",
    "'''\n",
    "c = disk_engine.cursor ()\n",
    "c.execute (query)\n",
    "\n",
    "query = '''\n",
    "  CREATE TABLE TotalComplaints AS\n",
    "    SELECT ComplaintType, COUNT(*) AS NumComplaints\n",
    "      FROM data\n",
    "      GROUP BY ComplaintType COLLATE NOCASE\n",
    "      ORDER BY -NumComplaints\n",
    "'''\n",
    "c.execute (query)\n",
    "\n",
    "t4a = time.time () - t4a\n",
    "print \"[+%gs] Part A\" % t4a"
   ]
  },
  {
   "cell_type": "code",
   "execution_count": null,
   "metadata": {
    "collapsed": false
   },
   "outputs": [],
   "source": [
    "t4b = time.time ()\n",
    "\n",
    "traces4 = []\n",
    "for city in TOP_CITIES: # Determines the complaint counts by city\n",
    "    print (\"[+%gs] Processing %s ...\" % (time.time () - t4b, city)) ; sys.stdout.flush ()\n",
    "    \n",
    "    query = '''\n",
    "      SELECT D.ComplaintType,\n",
    "             (100.0 * COUNT(*) / T.NumComplaints) AS PercentComplaints\n",
    "        FROM data AS D, TotalComplaints AS T\n",
    "        WHERE (City = \"{}\" COLLATE NOCASE)\n",
    "              AND (D.ComplaintType = T.ComplaintType COLLATE NOCASE)\n",
    "        GROUP BY D.ComplaintType COLLATE NOCASE\n",
    "        ORDER BY -T.NumComplaints\n",
    "    '''.format (city)\n",
    "    df = pd.read_sql_query (query, disk_engine)\n",
    "    traces4.append (Bar (x=capitalize (df.ComplaintType),\n",
    "                         y=df.PercentComplaints,\n",
    "                         name=city.capitalize ()))\n",
    "\n",
    "t4b = time.time () - t4b\n",
    "print \"[+%gs] Part B\" % t4b"
   ]
  },
  {
   "cell_type": "code",
   "execution_count": null,
   "metadata": {
    "collapsed": false
   },
   "outputs": [],
   "source": [
    "print \"==> Total time for Solution 4: %gs\" % (t4a + t4b)\n",
    "iplot_percent_complaints_by_type_and_city (traces4)"
   ]
  },
  {
   "cell_type": "code",
   "execution_count": null,
   "metadata": {
    "collapsed": true
   },
   "outputs": [],
   "source": []
  }
 ],
 "metadata": {
  "kernelspec": {
   "display_name": "Python 2",
   "language": "python",
   "name": "python2"
  },
  "language_info": {
   "codemirror_mode": {
    "name": "ipython",
    "version": 2
   },
   "file_extension": ".py",
   "mimetype": "text/x-python",
   "name": "python",
   "nbconvert_exporter": "python",
   "pygments_lexer": "ipython2",
   "version": "2.7.10"
  }
 },
 "nbformat": 4,
 "nbformat_minor": 0
}
