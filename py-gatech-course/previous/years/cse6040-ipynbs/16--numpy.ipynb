{
 "cells": [
  {
   "cell_type": "markdown",
   "metadata": {},
   "source": [
    "# CSE 6040, Fall 2015 [16]: Numpy (and SciPy)\n",
    "\n",
    "[Numpy](http://www.numpy.org/) is a Python module that provides fast primitives for multidimensional arrays. It's well-suited to implementing numerical linear algebra algorithms, and for those can be much faster than Python's native list and dictionary types when you only need to store and operate on numerical data.\n",
    "\n",
    "Some of the material from this lesson is lifted from the following more comprehensive tutorial: [link](http://www.scipy-lectures.org/intro/numpy/index.html)"
   ]
  },
  {
   "cell_type": "markdown",
   "metadata": {},
   "source": [
    "**Quick demo.** The recommended importing convention is:"
   ]
  },
  {
   "cell_type": "code",
   "execution_count": null,
   "metadata": {
    "collapsed": true
   },
   "outputs": [],
   "source": [
    "import numpy as np"
   ]
  },
  {
   "cell_type": "markdown",
   "metadata": {},
   "source": [
    "Numpy provides some natural types and operations on arrays. For instance:"
   ]
  },
  {
   "cell_type": "code",
   "execution_count": null,
   "metadata": {
    "collapsed": false
   },
   "outputs": [],
   "source": [
    "a_1d = np.array ([0, 1, 2, 3]) # a vector\n",
    "print a_1d\n",
    "\n",
    "b_1d = np.array ([4, 5, 6, 7]) # another vector\n",
    "print b_1d\n",
    "\n",
    "print a_1d + b_1d"
   ]
  },
  {
   "cell_type": "code",
   "execution_count": null,
   "metadata": {
    "collapsed": false
   },
   "outputs": [],
   "source": [
    "print 5*a_1d"
   ]
  },
  {
   "cell_type": "code",
   "execution_count": null,
   "metadata": {
    "collapsed": false
   },
   "outputs": [],
   "source": [
    "print a_1d**2"
   ]
  },
  {
   "cell_type": "markdown",
   "metadata": {},
   "source": [
    "**Getting help.** By the way, if you need help getting documentation from within this notebook, here are some handy shortcuts."
   ]
  },
  {
   "cell_type": "code",
   "execution_count": null,
   "metadata": {
    "collapsed": false
   },
   "outputs": [],
   "source": [
    "# Append '?' to get help on a specific routine\n",
    "np.array?"
   ]
  },
  {
   "cell_type": "code",
   "execution_count": null,
   "metadata": {
    "collapsed": false
   },
   "outputs": [],
   "source": [
    "# Search for key text\n",
    "np.lookfor (\"creating array\")"
   ]
  },
  {
   "cell_type": "code",
   "execution_count": null,
   "metadata": {
    "collapsed": true
   },
   "outputs": [],
   "source": [
    "# Wildcard search\n",
    "np.con*?"
   ]
  },
  {
   "cell_type": "markdown",
   "metadata": {},
   "source": [
    "## Why bother with Numpy? A motivating example\n",
    "\n",
    "We already have lists and dictionary types, which are pretty easy to use and very flexible. So why bother with this special type?\n",
    "\n",
    "One reason to consider Numpy is that it \"can be much faster,\" as noted above. But how much faster is that?"
   ]
  },
  {
   "cell_type": "code",
   "execution_count": null,
   "metadata": {
    "collapsed": true
   },
   "outputs": [],
   "source": [
    "n = 1000000"
   ]
  },
  {
   "cell_type": "code",
   "execution_count": null,
   "metadata": {
    "collapsed": false
   },
   "outputs": [],
   "source": [
    "%timeit L = range (n)\n",
    "\n",
    "L = range (n)\n",
    "%timeit [i**2 for i in L]"
   ]
  },
  {
   "cell_type": "code",
   "execution_count": null,
   "metadata": {
    "collapsed": false
   },
   "outputs": [],
   "source": [
    "np.arange (10) # Moral equivalent to `range`"
   ]
  },
  {
   "cell_type": "code",
   "execution_count": null,
   "metadata": {
    "collapsed": false
   },
   "outputs": [],
   "source": [
    "%timeit A = np.arange (n)\n",
    "\n",
    "A = np.arange (n)\n",
    "%timeit A**2"
   ]
  },
  {
   "cell_type": "markdown",
   "metadata": {},
   "source": [
    "**Exercise.** Recall the definition of the _2-norm_ of a vector (or _Euclidean length_ of a vector) from [Da Kuang's notes on linear algebra](https://t-square.gatech.edu/access/content/group/gtc-7308-4387-56aa-b79e-a3f4c812167d/Kuang-2014-linalg-notes.pdf). Compare its speed when using native Python lists versus Numpy arrays.\n",
    "\n",
    "> Hint: For Numpy, look for a routine that computes the norm."
   ]
  },
  {
   "cell_type": "code",
   "execution_count": null,
   "metadata": {
    "collapsed": false
   },
   "outputs": [],
   "source": [
    "from random import gauss # Generates random numbers from a Gaussian\n",
    "from math import sqrt # Computes the square root of a number\n",
    "\n",
    "n = 1000000\n",
    "X_py = [gauss (0, 1) for i in range (n)]\n",
    "X_np = np.array (X_py)\n",
    "\n",
    "print (\"==> Native Python lists:\")\n",
    "%timeit ...\n",
    "\n",
    "print (\"\\n==> Numpy:\")\n",
    "%timeit ..."
   ]
  },
  {
   "cell_type": "markdown",
   "metadata": {},
   "source": [
    "## Creating multidimensional arrays\n",
    "\n",
    "Beyond simple arrays, Numpy supports multidimensional arrays. To do more than one dimension, call `numpy.array()` but nest each new dimension within a list.\n",
    "\n",
    "Huh? Let's look at some examples."
   ]
  },
  {
   "cell_type": "code",
   "execution_count": null,
   "metadata": {
    "collapsed": false
   },
   "outputs": [],
   "source": [
    "# Create a two-dimensional array of size 3 rows x 4 columns:\n",
    "B = np.array([[0, 1, 2, 3],\n",
    "              [4, 5, 6, 7],\n",
    "              [8, 9, 10, 11]])\n",
    "\n",
    "print B.ndim # What does this do?\n",
    "print B.shape # What does this do?\n",
    "print len (B) # What does this do?"
   ]
  },
  {
   "cell_type": "code",
   "execution_count": null,
   "metadata": {
    "collapsed": false
   },
   "outputs": [],
   "source": [
    "C1 = [[0, 1, 2, 3],\n",
    "      [4, 5, 6, 7],\n",
    "      [8, 9, 10, 11]]\n",
    "\n",
    "C2 = [[12, 13, 14, 15],\n",
    "      [16, 17, 18, 19],\n",
    "      [20, 21, 22, 23]]\n",
    "\n",
    "C = np.array ([C1, C2])\n",
    "\n",
    "print C.ndim\n",
    "print C.shape\n",
    "print len (C)"
   ]
  },
  {
   "cell_type": "markdown",
   "metadata": {},
   "source": [
    "Besides `arange()`, you can also define an interval and a number of points. What does the following code do?"
   ]
  },
  {
   "cell_type": "code",
   "execution_count": null,
   "metadata": {
    "collapsed": false
   },
   "outputs": [],
   "source": [
    "print np.linspace (0, 1, 10)"
   ]
  },
  {
   "cell_type": "code",
   "execution_count": null,
   "metadata": {
    "collapsed": false
   },
   "outputs": [],
   "source": [
    "print np.linspace (0, 1, 10, endpoint=False)"
   ]
  },
  {
   "cell_type": "markdown",
   "metadata": {},
   "source": [
    "There are routines for creating various kinds of structured matrices as well, which are similar to those found in [MATLAB](http://www.mathworks.com/products/matlab/) and [Octave](https://www.gnu.org/software/octave/)."
   ]
  },
  {
   "cell_type": "code",
   "execution_count": null,
   "metadata": {
    "collapsed": false
   },
   "outputs": [],
   "source": [
    "print np.ones ((3, 4))"
   ]
  },
  {
   "cell_type": "code",
   "execution_count": null,
   "metadata": {
    "collapsed": false
   },
   "outputs": [],
   "source": [
    "print np.zeros ((3, 4))"
   ]
  },
  {
   "cell_type": "code",
   "execution_count": null,
   "metadata": {
    "collapsed": false
   },
   "outputs": [],
   "source": [
    "print np.eye (3)"
   ]
  },
  {
   "cell_type": "code",
   "execution_count": null,
   "metadata": {
    "collapsed": false
   },
   "outputs": [],
   "source": [
    "print np.diag ([1, 2, 3])"
   ]
  },
  {
   "cell_type": "markdown",
   "metadata": {},
   "source": [
    "**Exercise.** The following code creates an identity matrix in two different ways, which are found to be equal according to the assertion. But in fact there is a subtle difference; can you spot it?"
   ]
  },
  {
   "cell_type": "code",
   "execution_count": null,
   "metadata": {
    "collapsed": false
   },
   "outputs": [],
   "source": [
    "n = 3\n",
    "I = np.eye (n)\n",
    "\n",
    "print (\"I = eye(n):\")\n",
    "print (I)\n",
    "\n",
    "u = [1] * n\n",
    "I_u = np.diag (u)\n",
    "\n",
    "print (\"u:\")\n",
    "print u\n",
    "print (\"\\ndiag (u):\")\n",
    "print I_u\n",
    "\n",
    "assert np.all (D_u == E)"
   ]
  },
  {
   "cell_type": "markdown",
   "metadata": {},
   "source": [
    "You can also create empty (uninitialized) arrays. What does the following produce?"
   ]
  },
  {
   "cell_type": "code",
   "execution_count": null,
   "metadata": {
    "collapsed": false
   },
   "outputs": [],
   "source": [
    "A = np.empty ((3, 4)) # An empty 3 x 4 matrix\n",
    "print A"
   ]
  },
  {
   "cell_type": "markdown",
   "metadata": {},
   "source": [
    "## Indexing and slicing\n",
    "\n",
    "The usual 0-based slicing and indexing notation you know and love from lists is also supported for Numpy arrays. In the multidimensional case,  including their natural multidimensional analogues with index ranges separated by commas."
   ]
  },
  {
   "cell_type": "code",
   "execution_count": null,
   "metadata": {
    "collapsed": false
   },
   "outputs": [],
   "source": [
    "# Recall: C\n",
    "print C"
   ]
  },
  {
   "cell_type": "markdown",
   "metadata": {},
   "source": [
    "**Exercise.** What part of C will the following slice extract? Run the code to check your answer."
   ]
  },
  {
   "cell_type": "code",
   "execution_count": null,
   "metadata": {
    "collapsed": false
   },
   "outputs": [],
   "source": [
    "print C[0, 2, :]"
   ]
  },
  {
   "cell_type": "markdown",
   "metadata": {},
   "source": [
    "**Exercise.** What will the following slice return? Run the code to check your answer."
   ]
  },
  {
   "cell_type": "code",
   "execution_count": null,
   "metadata": {
    "collapsed": false
   },
   "outputs": [],
   "source": [
    "print C[1, 0, ::-1]"
   ]
  },
  {
   "cell_type": "markdown",
   "metadata": {},
   "source": [
    "**Exercise.** Consider the following $6 \\times 6$ matrix, which has 4 different subsets highlighted.\n",
    "\n",
    "<img src=\"https://raw.githubusercontent.com/rvuduc/cse6040-ipynbs/master/16--numpy-slicing-exercise.png\" alt=\"Exercise: Extract these slices\" width=\"240\">\n",
    "\n",
    "Write some code to generate this matrix, named `Z`. Then, for each subset illustrated above, write an indexing or slicing expression that extracts the subset."
   ]
  },
  {
   "cell_type": "code",
   "execution_count": null,
   "metadata": {
    "collapsed": false
   },
   "outputs": [],
   "source": [
    "Z = ... # INSERT YOUR CODE HERE\n",
    "\n",
    "print (\"\\n==> Orange slice:\")\n",
    "print Z[...] # Edit to print the orange-ish subset\n",
    "\n",
    "print (\"\\n==> Red slice:\")\n",
    "print Z[...] # Edit to print the red-ish subset\n",
    "\n",
    "print (\"\\n==> Blue slice:\")\n",
    "print Z[...] # Edit to print the blue-ish subset\n",
    "\n",
    "print (\"\\n==> Green slice:\")\n",
    "print Z[...] # Edit to print the green-ish subset"
   ]
  },
  {
   "cell_type": "markdown",
   "metadata": {},
   "source": [
    "Incidentally, there is [a very cute way to create the above matrix](http://www.scipy-lectures.org/intro/numpy/array_object.html#what-are-numpy-and-numpy-arrays). I would have never guessed this method, so I've put some print statements so you can see what it is doing."
   ]
  },
  {
   "cell_type": "code",
   "execution_count": null,
   "metadata": {
    "collapsed": false
   },
   "outputs": [],
   "source": [
    "# Rich will demo this in class"
   ]
  },
  {
   "cell_type": "markdown",
   "metadata": {},
   "source": [
    "## Slices are views\n",
    "\n",
    "To help save memory, when you slice a Numpy array, you are actually creating a _view_ into that array. That means modifications through the view will modify the original array."
   ]
  },
  {
   "cell_type": "code",
   "execution_count": null,
   "metadata": {
    "collapsed": false
   },
   "outputs": [],
   "source": [
    "print (\"==> Recall C: %s\" % str (C.shape))\n",
    "print C"
   ]
  },
  {
   "cell_type": "code",
   "execution_count": null,
   "metadata": {
    "collapsed": false
   },
   "outputs": [],
   "source": [
    "C_view = C[1, 0:3:2, 1:4:2] # Question: What does this produce?\n",
    "print (\"==> C_view: %s\" % str (C_view.shape))"
   ]
  },
  {
   "cell_type": "code",
   "execution_count": null,
   "metadata": {
    "collapsed": false
   },
   "outputs": [],
   "source": [
    "C_view[:, :] = -C_view[::-1, ::-1] # Question: What does this do?"
   ]
  },
  {
   "cell_type": "code",
   "execution_count": null,
   "metadata": {
    "collapsed": false
   },
   "outputs": [],
   "source": [
    "print C"
   ]
  },
  {
   "cell_type": "markdown",
   "metadata": {},
   "source": [
    "You can force a copy using the `.copy()` method:"
   ]
  },
  {
   "cell_type": "code",
   "execution_count": null,
   "metadata": {
    "collapsed": false
   },
   "outputs": [],
   "source": [
    "C_copy = C[1, 0:3:2, 1:4:2].copy ()\n",
    "C_copy[:, :] = -C_copy[::-1, ::-1]\n",
    "\n",
    "print (\"==> C_view:\")\n",
    "print (C_view)\n",
    "\n",
    "print (\"\\n==> C_copy:\")\n",
    "print (C_copy)"
   ]
  },
  {
   "cell_type": "markdown",
   "metadata": {},
   "source": [
    "And to check whether two Numpy array variables point to the same object, you can use the `numpy.may_share_memory()` function:"
   ]
  },
  {
   "cell_type": "code",
   "execution_count": null,
   "metadata": {
    "collapsed": false
   },
   "outputs": [],
   "source": [
    "print (\"C and C_view share memory: %s\" % np.may_share_memory (C, C_view))\n",
    "print (\"C and C_copy share memory: %s\" % np.may_share_memory (C, C_copy))"
   ]
  },
  {
   "cell_type": "markdown",
   "metadata": {},
   "source": [
    "**Exercise.** Complete the prime number sieve algorithm, which is illustrated below.\n",
    "\n",
    "<img src=\"https://raw.githubusercontent.com/rvuduc/cse6040-ipynbs/master/16--numpy-prime-sieve.png\" alt=\"Exercise: Extract these slices\" width=\"480\">\n",
    "\n",
    "That is, given a positive integer $n$, the algorithm iterates from $i \\in \\{2, 3, 4, \\ldots, \\left\\lfloor\\sqrt{n}\\right\\rfloor\\}$, repeatedly \"crossing out\" values that are strict multiples of $i$. \"Crossing out\" means maintaining an array of, say, booleans, and setting values that are multiples of $i$ to `False`."
   ]
  },
  {
   "cell_type": "code",
   "execution_count": null,
   "metadata": {
    "collapsed": false
   },
   "outputs": [],
   "source": [
    "from math import sqrt\n",
    "\n",
    "n = 20\n",
    "is_prime = np.ones (n+1, dtype=bool) # the \"sieve\"\n",
    "\n",
    "# Initial values\n",
    "is_prime[0:2] = False\n",
    "is_prime[2:] = True\n",
    "\n",
    "# Sieving loop\n",
    "for i in range (2, int (sqrt (n))):\n",
    "    # Fill in your code here\n",
    "    is_prime[2*i::i] = False\n",
    "    \n",
    "# Prints your primes\n",
    "print (\"==> Primes through %d:\" % n)\n",
    "print np.nonzero (is_prime)[0]"
   ]
  },
  {
   "cell_type": "markdown",
   "metadata": {},
   "source": [
    "## Indirect addressing\n",
    "\n",
    "Another common indexing operation is using either a boolean mask or a set of integer indices."
   ]
  },
  {
   "cell_type": "code",
   "execution_count": null,
   "metadata": {
    "collapsed": false
   },
   "outputs": [],
   "source": [
    "np.random.seed(3)\n",
    "x = np.random.random_integers(0, 20, 15) # 15 random ints in [0, 20)\n",
    "print x"
   ]
  },
  {
   "cell_type": "code",
   "execution_count": null,
   "metadata": {
    "collapsed": false
   },
   "outputs": [],
   "source": [
    "# Find all positive multiples of 3\n",
    "mask_mult_3 = (x % 3 == 0) & (x > 0)\n",
    "print mask_mult_3\n",
    "print x[mask_mult_3]"
   ]
  },
  {
   "cell_type": "code",
   "execution_count": null,
   "metadata": {
    "collapsed": false
   },
   "outputs": [],
   "source": [
    "# Pull out an arbitrary subset of elements\n",
    "inds = np.array ([3, 7, 8, 12])\n",
    "print x[inds]"
   ]
  },
  {
   "cell_type": "markdown",
   "metadata": {},
   "source": [
    "## Matrix storage: Column-major versus row-major layouts\n",
    "\n",
    "For linear algebra, we will be especially interested in 2-D arrays, which we will use to store matrices. There is a final subtle performance issue related to how matrices are stored in memory.\n",
    "\n",
    "By way of background, physical storage---whether it be memory or disk---is basically one big array. And because of how physical storage is implemented, it turns out that it is much faster to access consecutive elements in memory than, say, to jump around randomly.\n",
    "\n",
    "A matrix is a two-dimensional object. Thus, when it is stored in memory, it must be mapped in some way to the one-dimensional physical array. There are many possible mappings, but the two most common conventions are known as the _row-major_ and _column-major_ layouts:\n",
    "\n",
    "<img src=\"https://raw.githubusercontent.com/rvuduc/cse6040-ipynbs/master/16--numpy-matrix-layout.png\" alt=\"Exercise: Extract these slices\" width=\"640\">\n",
    "\n",
    "In Numpy, you can ask for one layout or the other. The most common convention in numerical linear algebra libraries is column-major layout, which is also the Fortran language convention; by contrast, when you create a two-dimensional array in languages like C and C++, the convention is row-major layout.\n",
    "\n",
    "The default in Numpy is C order (row-major), even though the linear algebra library convention is Fortran order (column-major). You can request either order using the `order` parameter. For linear algebra, we recommend using the column-major convention."
   ]
  },
  {
   "cell_type": "code",
   "execution_count": null,
   "metadata": {
    "collapsed": true
   },
   "outputs": [],
   "source": [
    "n = 5000\n",
    "A_rowmaj = np.ones ((n, n), order='C') # row-major (C/C++ convention)\n",
    "A_colmaj = np.ones ((n, n), order='F') # column-major (Fortran convention)"
   ]
  },
  {
   "cell_type": "markdown",
   "metadata": {},
   "source": [
    "**Exercise.** Write a function that iterates over the columns of a matrix and scales each column by its index. That is, column $A(:, j)$ should be replaced by $j*A(:, j)$.\n",
    "\n",
    "Then use that routine to measure the difference in time when the input is row-major versus column-major.\n",
    "\n",
    "> Note: In Numpy, this operation can be easily done just by multiplying"
   ]
  },
  {
   "cell_type": "code",
   "execution_count": null,
   "metadata": {
    "collapsed": false
   },
   "outputs": [],
   "source": [
    "def scale_colwise (A):\n",
    "    \"\"\"Given a matrix `A`, visits each column `A[:, j]` and scales it by `j`.\"\"\"\n",
    "    # Fill in this code\n",
    "    pass\n",
    "\n",
    "# Measure time to scale a row-major input column-wise\n",
    "%timeit scale_colwise (A_rowmaj)\n",
    "\n",
    "# Measure time to scale a column-major input column-wise\n",
    "%timeit scale_colwise (A_colmaj)"
   ]
  },
  {
   "cell_type": "markdown",
   "metadata": {
    "collapsed": true
   },
   "source": [
    "**Exercise.** Recall the definition of matrix-vector multiplication from [Da's LA notes](https://t-square.gatech.edu/access/content/group/gtc-7308-4387-56aa-b79e-a3f4c812167d/Kuang-2014-linalg-notes.pdf). Benchmark a matrix-vector multiply in native Python, and compare that to doing the same operation in Numpy."
   ]
  },
  {
   "cell_type": "code",
   "execution_count": null,
   "metadata": {
    "collapsed": true
   },
   "outputs": [],
   "source": []
  }
 ],
 "metadata": {
  "kernelspec": {
   "display_name": "Python 2",
   "language": "python",
   "name": "python2"
  },
  "language_info": {
   "codemirror_mode": {
    "name": "ipython",
    "version": 2
   },
   "file_extension": ".py",
   "mimetype": "text/x-python",
   "name": "python",
   "nbconvert_exporter": "python",
   "pygments_lexer": "ipython2",
   "version": "2.7.10"
  }
 },
 "nbformat": 4,
 "nbformat_minor": 0
}
