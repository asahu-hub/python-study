{
 "cells": [
  {
   "cell_type": "markdown",
   "metadata": {},
   "source": [
    "# CSE 6040, Fall 2015 [21]: Linear regression via least squares, Part 1 -- Error analysis\n",
    "\n",
    "Yay! Time for a new topic: _linear regression by the method of least squares_.\n",
    "\n",
    "We will do this topic in two parts: one which is generically about the errors that can arise in carrying out a numerical computation, and the other which is specifically about the linear regression problem.\n",
    "\n",
    "> This lab kicks off the last part of our course, which is a survey of data analysis and mining methods. We will assume you will learn the theory behind these methods in more detail in other classes; our focus will be on algorithmic and implementation concepts.\n",
    "\n",
    "For today's topic, let's use the following dataset, which is a crimes dataset from 1960: http://cse6040.gatech.edu/fa15/uscrime.csv\n",
    "\n",
    "This dataset comes from: http://www.statsci.org/data/general/uscrime.html\n",
    "\n",
    "Other useful references and downloads for today's class:\n",
    "\n",
    "* Please get the latest version of [`cse6040utils.py`](https://raw.githubusercontent.com/rvuduc/cse6040-ipynbs/master/cse6040utils.py)\n",
    "* Python's documentation on its `float` type: https://docs.python.org/2/tutorial/floatingpoint.html\n",
    "* Solvers, including linear systems solvers, in SciPy: http://docs.scipy.org/doc/scipy/reference/linalg.html\n",
    "\n",
    "Also, much of the discussion of round-off error is taken from an [excellent book](http://epubs.siam.org/doi/book/10.1137/1.9781611971446) on numerical linear algebra.\n",
    "\n",
    "> You may be able to use the Georgia Tech library's web proxy service to download electronic chapters of this book. Also, this book was written by Rich's former PhD advisor, so a referral thereto is probably not completely objective. `:)`"
   ]
  },
  {
   "cell_type": "markdown",
   "metadata": {},
   "source": [
    "## Motivation\n",
    "\n",
    "Let's start by loading a dataset and motivating the problem of modeling it using linear regression."
   ]
  },
  {
   "cell_type": "code",
   "execution_count": 1,
   "metadata": {
    "collapsed": true
   },
   "outputs": [],
   "source": [
    "import numpy as np\n",
    "import pandas as pd\n",
    "from IPython.display import display\n",
    "import cse6040utils as cse6040"
   ]
  },
  {
   "cell_type": "code",
   "execution_count": 3,
   "metadata": {
    "collapsed": false
   },
   "outputs": [
    {
     "data": {
      "text/html": [
       "<div>\n",
       "<table border=\"1\" class=\"dataframe\">\n",
       "  <thead>\n",
       "    <tr style=\"text-align: right;\">\n",
       "      <th></th>\n",
       "      <th>M</th>\n",
       "      <th>So</th>\n",
       "      <th>Ed</th>\n",
       "      <th>Po1</th>\n",
       "      <th>Po2</th>\n",
       "      <th>LF</th>\n",
       "      <th>M.F</th>\n",
       "      <th>Pop</th>\n",
       "      <th>NW</th>\n",
       "      <th>U1</th>\n",
       "      <th>U2</th>\n",
       "      <th>Wealth</th>\n",
       "      <th>Ineq</th>\n",
       "      <th>Prob</th>\n",
       "      <th>Time</th>\n",
       "      <th>Crime</th>\n",
       "    </tr>\n",
       "  </thead>\n",
       "  <tbody>\n",
       "    <tr>\n",
       "      <th>0</th>\n",
       "      <td>15.1</td>\n",
       "      <td>1</td>\n",
       "      <td>9.1</td>\n",
       "      <td>5.8</td>\n",
       "      <td>5.6</td>\n",
       "      <td>0.510</td>\n",
       "      <td>95.0</td>\n",
       "      <td>33</td>\n",
       "      <td>30.1</td>\n",
       "      <td>0.108</td>\n",
       "      <td>4.1</td>\n",
       "      <td>3940</td>\n",
       "      <td>26.1</td>\n",
       "      <td>0.084602</td>\n",
       "      <td>26.2011</td>\n",
       "      <td>791</td>\n",
       "    </tr>\n",
       "    <tr>\n",
       "      <th>1</th>\n",
       "      <td>14.3</td>\n",
       "      <td>0</td>\n",
       "      <td>11.3</td>\n",
       "      <td>10.3</td>\n",
       "      <td>9.5</td>\n",
       "      <td>0.583</td>\n",
       "      <td>101.2</td>\n",
       "      <td>13</td>\n",
       "      <td>10.2</td>\n",
       "      <td>0.096</td>\n",
       "      <td>3.6</td>\n",
       "      <td>5570</td>\n",
       "      <td>19.4</td>\n",
       "      <td>0.029599</td>\n",
       "      <td>25.2999</td>\n",
       "      <td>1635</td>\n",
       "    </tr>\n",
       "    <tr>\n",
       "      <th>2</th>\n",
       "      <td>14.2</td>\n",
       "      <td>1</td>\n",
       "      <td>8.9</td>\n",
       "      <td>4.5</td>\n",
       "      <td>4.4</td>\n",
       "      <td>0.533</td>\n",
       "      <td>96.9</td>\n",
       "      <td>18</td>\n",
       "      <td>21.9</td>\n",
       "      <td>0.094</td>\n",
       "      <td>3.3</td>\n",
       "      <td>3180</td>\n",
       "      <td>25.0</td>\n",
       "      <td>0.083401</td>\n",
       "      <td>24.3006</td>\n",
       "      <td>578</td>\n",
       "    </tr>\n",
       "    <tr>\n",
       "      <th>3</th>\n",
       "      <td>13.6</td>\n",
       "      <td>0</td>\n",
       "      <td>12.1</td>\n",
       "      <td>14.9</td>\n",
       "      <td>14.1</td>\n",
       "      <td>0.577</td>\n",
       "      <td>99.4</td>\n",
       "      <td>157</td>\n",
       "      <td>8.0</td>\n",
       "      <td>0.102</td>\n",
       "      <td>3.9</td>\n",
       "      <td>6730</td>\n",
       "      <td>16.7</td>\n",
       "      <td>0.015801</td>\n",
       "      <td>29.9012</td>\n",
       "      <td>1969</td>\n",
       "    </tr>\n",
       "    <tr>\n",
       "      <th>4</th>\n",
       "      <td>14.1</td>\n",
       "      <td>0</td>\n",
       "      <td>12.1</td>\n",
       "      <td>10.9</td>\n",
       "      <td>10.1</td>\n",
       "      <td>0.591</td>\n",
       "      <td>98.5</td>\n",
       "      <td>18</td>\n",
       "      <td>3.0</td>\n",
       "      <td>0.091</td>\n",
       "      <td>2.0</td>\n",
       "      <td>5780</td>\n",
       "      <td>17.4</td>\n",
       "      <td>0.041399</td>\n",
       "      <td>21.2998</td>\n",
       "      <td>1234</td>\n",
       "    </tr>\n",
       "  </tbody>\n",
       "</table>\n",
       "</div>"
      ],
      "text/plain": [
       "      M  So    Ed   Po1   Po2     LF    M.F  Pop    NW     U1   U2  Wealth  \\\n",
       "0  15.1   1   9.1   5.8   5.6  0.510   95.0   33  30.1  0.108  4.1    3940   \n",
       "1  14.3   0  11.3  10.3   9.5  0.583  101.2   13  10.2  0.096  3.6    5570   \n",
       "2  14.2   1   8.9   4.5   4.4  0.533   96.9   18  21.9  0.094  3.3    3180   \n",
       "3  13.6   0  12.1  14.9  14.1  0.577   99.4  157   8.0  0.102  3.9    6730   \n",
       "4  14.1   0  12.1  10.9  10.1  0.591   98.5   18   3.0  0.091  2.0    5780   \n",
       "\n",
       "   Ineq      Prob     Time  Crime  \n",
       "0  26.1  0.084602  26.2011    791  \n",
       "1  19.4  0.029599  25.2999   1635  \n",
       "2  25.0  0.083401  24.3006    578  \n",
       "3  16.7  0.015801  29.9012   1969  \n",
       "4  17.4  0.041399  21.2998   1234  "
      ]
     },
     "metadata": {},
     "output_type": "display_data"
    }
   ],
   "source": [
    "df = pd.read_csv ('uscrime.csv', skiprows=1)\n",
    "display (df.head ())"
   ]
  },
  {
   "cell_type": "markdown",
   "metadata": {},
   "source": [
    "Each row of this dataset is a US State. The columns are described here: http://www.statsci.org/data/general/uscrime.html"
   ]
  },
  {
   "cell_type": "markdown",
   "metadata": {},
   "source": [
    "Let's take a quick peek at the dataset."
   ]
  },
  {
   "cell_type": "code",
   "execution_count": 4,
   "metadata": {
    "collapsed": false
   },
   "outputs": [
    {
     "data": {
      "text/html": [
       "<div>\n",
       "<table border=\"1\" class=\"dataframe\">\n",
       "  <thead>\n",
       "    <tr style=\"text-align: right;\">\n",
       "      <th></th>\n",
       "      <th>M</th>\n",
       "      <th>So</th>\n",
       "      <th>Ed</th>\n",
       "      <th>Po1</th>\n",
       "      <th>Po2</th>\n",
       "      <th>LF</th>\n",
       "      <th>M.F</th>\n",
       "      <th>Pop</th>\n",
       "      <th>NW</th>\n",
       "      <th>U1</th>\n",
       "      <th>U2</th>\n",
       "      <th>Wealth</th>\n",
       "      <th>Ineq</th>\n",
       "      <th>Prob</th>\n",
       "      <th>Time</th>\n",
       "      <th>Crime</th>\n",
       "    </tr>\n",
       "  </thead>\n",
       "  <tbody>\n",
       "    <tr>\n",
       "      <th>count</th>\n",
       "      <td>47.000000</td>\n",
       "      <td>47.000000</td>\n",
       "      <td>47.00000</td>\n",
       "      <td>47.000000</td>\n",
       "      <td>47.000000</td>\n",
       "      <td>47.000000</td>\n",
       "      <td>47.000000</td>\n",
       "      <td>47.000000</td>\n",
       "      <td>47.000000</td>\n",
       "      <td>47.000000</td>\n",
       "      <td>47.000000</td>\n",
       "      <td>47.000000</td>\n",
       "      <td>47.000000</td>\n",
       "      <td>47.000000</td>\n",
       "      <td>47.000000</td>\n",
       "      <td>47.000000</td>\n",
       "    </tr>\n",
       "    <tr>\n",
       "      <th>mean</th>\n",
       "      <td>13.857447</td>\n",
       "      <td>0.340426</td>\n",
       "      <td>10.56383</td>\n",
       "      <td>8.500000</td>\n",
       "      <td>8.023404</td>\n",
       "      <td>0.561191</td>\n",
       "      <td>98.302128</td>\n",
       "      <td>36.617021</td>\n",
       "      <td>10.112766</td>\n",
       "      <td>0.095468</td>\n",
       "      <td>3.397872</td>\n",
       "      <td>5253.829787</td>\n",
       "      <td>19.400000</td>\n",
       "      <td>0.047091</td>\n",
       "      <td>26.597921</td>\n",
       "      <td>905.085106</td>\n",
       "    </tr>\n",
       "    <tr>\n",
       "      <th>std</th>\n",
       "      <td>1.256763</td>\n",
       "      <td>0.478975</td>\n",
       "      <td>1.11870</td>\n",
       "      <td>2.971897</td>\n",
       "      <td>2.796132</td>\n",
       "      <td>0.040412</td>\n",
       "      <td>2.946737</td>\n",
       "      <td>38.071188</td>\n",
       "      <td>10.282882</td>\n",
       "      <td>0.018029</td>\n",
       "      <td>0.844545</td>\n",
       "      <td>964.909442</td>\n",
       "      <td>3.989606</td>\n",
       "      <td>0.022737</td>\n",
       "      <td>7.086895</td>\n",
       "      <td>386.762697</td>\n",
       "    </tr>\n",
       "    <tr>\n",
       "      <th>min</th>\n",
       "      <td>11.900000</td>\n",
       "      <td>0.000000</td>\n",
       "      <td>8.70000</td>\n",
       "      <td>4.500000</td>\n",
       "      <td>4.100000</td>\n",
       "      <td>0.480000</td>\n",
       "      <td>93.400000</td>\n",
       "      <td>3.000000</td>\n",
       "      <td>0.200000</td>\n",
       "      <td>0.070000</td>\n",
       "      <td>2.000000</td>\n",
       "      <td>2880.000000</td>\n",
       "      <td>12.600000</td>\n",
       "      <td>0.006900</td>\n",
       "      <td>12.199600</td>\n",
       "      <td>342.000000</td>\n",
       "    </tr>\n",
       "    <tr>\n",
       "      <th>25%</th>\n",
       "      <td>13.000000</td>\n",
       "      <td>0.000000</td>\n",
       "      <td>9.75000</td>\n",
       "      <td>6.250000</td>\n",
       "      <td>5.850000</td>\n",
       "      <td>0.530500</td>\n",
       "      <td>96.450000</td>\n",
       "      <td>10.000000</td>\n",
       "      <td>2.400000</td>\n",
       "      <td>0.080500</td>\n",
       "      <td>2.750000</td>\n",
       "      <td>4595.000000</td>\n",
       "      <td>16.550000</td>\n",
       "      <td>0.032701</td>\n",
       "      <td>21.600350</td>\n",
       "      <td>658.500000</td>\n",
       "    </tr>\n",
       "    <tr>\n",
       "      <th>50%</th>\n",
       "      <td>13.600000</td>\n",
       "      <td>0.000000</td>\n",
       "      <td>10.80000</td>\n",
       "      <td>7.800000</td>\n",
       "      <td>7.300000</td>\n",
       "      <td>0.560000</td>\n",
       "      <td>97.700000</td>\n",
       "      <td>25.000000</td>\n",
       "      <td>7.600000</td>\n",
       "      <td>0.092000</td>\n",
       "      <td>3.400000</td>\n",
       "      <td>5370.000000</td>\n",
       "      <td>17.600000</td>\n",
       "      <td>0.042100</td>\n",
       "      <td>25.800600</td>\n",
       "      <td>831.000000</td>\n",
       "    </tr>\n",
       "    <tr>\n",
       "      <th>75%</th>\n",
       "      <td>14.600000</td>\n",
       "      <td>1.000000</td>\n",
       "      <td>11.45000</td>\n",
       "      <td>10.450000</td>\n",
       "      <td>9.700000</td>\n",
       "      <td>0.593000</td>\n",
       "      <td>99.200000</td>\n",
       "      <td>41.500000</td>\n",
       "      <td>13.250000</td>\n",
       "      <td>0.104000</td>\n",
       "      <td>3.850000</td>\n",
       "      <td>5915.000000</td>\n",
       "      <td>22.750000</td>\n",
       "      <td>0.054450</td>\n",
       "      <td>30.450750</td>\n",
       "      <td>1057.500000</td>\n",
       "    </tr>\n",
       "    <tr>\n",
       "      <th>max</th>\n",
       "      <td>17.700000</td>\n",
       "      <td>1.000000</td>\n",
       "      <td>12.20000</td>\n",
       "      <td>16.600000</td>\n",
       "      <td>15.700000</td>\n",
       "      <td>0.641000</td>\n",
       "      <td>107.100000</td>\n",
       "      <td>168.000000</td>\n",
       "      <td>42.300000</td>\n",
       "      <td>0.142000</td>\n",
       "      <td>5.800000</td>\n",
       "      <td>6890.000000</td>\n",
       "      <td>27.600000</td>\n",
       "      <td>0.119804</td>\n",
       "      <td>44.000400</td>\n",
       "      <td>1993.000000</td>\n",
       "    </tr>\n",
       "  </tbody>\n",
       "</table>\n",
       "</div>"
      ],
      "text/plain": [
       "               M         So        Ed        Po1        Po2         LF  \\\n",
       "count  47.000000  47.000000  47.00000  47.000000  47.000000  47.000000   \n",
       "mean   13.857447   0.340426  10.56383   8.500000   8.023404   0.561191   \n",
       "std     1.256763   0.478975   1.11870   2.971897   2.796132   0.040412   \n",
       "min    11.900000   0.000000   8.70000   4.500000   4.100000   0.480000   \n",
       "25%    13.000000   0.000000   9.75000   6.250000   5.850000   0.530500   \n",
       "50%    13.600000   0.000000  10.80000   7.800000   7.300000   0.560000   \n",
       "75%    14.600000   1.000000  11.45000  10.450000   9.700000   0.593000   \n",
       "max    17.700000   1.000000  12.20000  16.600000  15.700000   0.641000   \n",
       "\n",
       "              M.F         Pop         NW         U1         U2       Wealth  \\\n",
       "count   47.000000   47.000000  47.000000  47.000000  47.000000    47.000000   \n",
       "mean    98.302128   36.617021  10.112766   0.095468   3.397872  5253.829787   \n",
       "std      2.946737   38.071188  10.282882   0.018029   0.844545   964.909442   \n",
       "min     93.400000    3.000000   0.200000   0.070000   2.000000  2880.000000   \n",
       "25%     96.450000   10.000000   2.400000   0.080500   2.750000  4595.000000   \n",
       "50%     97.700000   25.000000   7.600000   0.092000   3.400000  5370.000000   \n",
       "75%     99.200000   41.500000  13.250000   0.104000   3.850000  5915.000000   \n",
       "max    107.100000  168.000000  42.300000   0.142000   5.800000  6890.000000   \n",
       "\n",
       "            Ineq       Prob       Time        Crime  \n",
       "count  47.000000  47.000000  47.000000    47.000000  \n",
       "mean   19.400000   0.047091  26.597921   905.085106  \n",
       "std     3.989606   0.022737   7.086895   386.762697  \n",
       "min    12.600000   0.006900  12.199600   342.000000  \n",
       "25%    16.550000   0.032701  21.600350   658.500000  \n",
       "50%    17.600000   0.042100  25.800600   831.000000  \n",
       "75%    22.750000   0.054450  30.450750  1057.500000  \n",
       "max    27.600000   0.119804  44.000400  1993.000000  "
      ]
     },
     "execution_count": 4,
     "metadata": {},
     "output_type": "execute_result"
    }
   ],
   "source": [
    "df.describe ()"
   ]
  },
  {
   "cell_type": "code",
   "execution_count": 5,
   "metadata": {
    "collapsed": true
   },
   "outputs": [],
   "source": [
    "import seaborn as sns\n",
    "%matplotlib inline"
   ]
  },
  {
   "cell_type": "code",
   "execution_count": 6,
   "metadata": {
    "collapsed": false
   },
   "outputs": [
    {
     "data": {
      "text/plain": [
       "<seaborn.axisgrid.PairGrid at 0x108915050>"
      ]
     },
     "execution_count": 6,
     "metadata": {},
     "output_type": "execute_result"
    },
    {
     "data": {
      "image/png": "[encoded data removed]",
      "text/plain": [
       "<matplotlib.figure.Figure at 0x1041da8d0>"
      ]
     },
     "metadata": {},
     "output_type": "display_data"
    }
   ],
   "source": [
    "# Look at a few relationships\n",
    "sns.pairplot (df[['Crime', 'Wealth', 'Ed', 'U1']])"
   ]
  },
  {
   "cell_type": "markdown",
   "metadata": {},
   "source": [
    "Suppose we wish to build a model of some quantity, called the _response_ variable, given some set of _predictors_. In the US crimes dataset, the response might be the crime rate (`Crime`), which we wish to predict from the predictors of income (`Wealth`), education (`Ed`), and the unemployment rate of young males (`U1`).\n",
    "\n",
    "In a linear regression model, we posit that the response is a linear function of the predictors. That is, suppose there are $m$ observations in total and consider the $i$-th observation. Let $b_i$ be the response of that observation. Then denote the $n$ predictors for observation $i$ as $\\{a_{i,1}, a_{i,2}, \\ldots, a_{i,n}\\}$. From this starting point, we might then posit a _linear_ model of $b$ having the form,\n",
    "\n",
    "$b_i = x_0 + a_{i,1} x_1 + a_{i,2} x_2 + \\cdots + a_{i,n} x_n$,\n",
    "\n",
    "where we wish to compute the \"best\" set of coefficients, $\\{x_0, x_1, \\ldots, x_n\\}$. Note that this model includes a constant offset term, $x_0$. Since we want this model to hold for observations, then we effectively want to solve the system of $m$ equations in $n+1$ unknowns,\n",
    "\n",
    "$\\left(\n",
    "  \\begin{array}{c}\n",
    "  b_1 \\\\\n",
    "  b_2 \\\\\n",
    "  \\vdots \\\\\n",
    "  b_m\n",
    "  \\end{array}\n",
    " \\right)\n",
    "$\n",
    "=\n",
    "$\\left(\n",
    "   \\begin{array}{ccccc}\n",
    "     1. & a_{1,1} & a_{1,2} & \\ldots & a_{1,n} \\\\\n",
    "     1. & a_{2,1} & a_{2,2} & \\ldots & a_{2,n} \\\\\n",
    "        &         & \\cdots  &        &         \\\\\n",
    "     1. & a_{m,1} & a_{m,2} & \\ldots & a_{m,n}\n",
    "   \\end{array}\n",
    " \\right)\n",
    " \\left(\\begin{array}{c}\n",
    "   x_0 \\\\\n",
    "   x_1 \\\\\n",
    "   \\vdots \\\\\n",
    "   x_n\n",
    " \\end{array}\\right),\n",
    "$\n",
    " \n",
    "or just $Ax=b$. Typically, there are many more observations than parameters ($m \\gg n$), in which case we say this linear system is _overdetermined_.\n",
    "\n",
    "So how do we compute $x$? Most statistical software and libraries hide the details of computing $x$ from you. However, it's important to understand at least a little bit about what happens under the hood, which is today's topic."
   ]
  },
  {
   "cell_type": "markdown",
   "metadata": {
    "collapsed": true
   },
   "source": [
    "## Aside: Models, Errors, and Algorithms -- Oh my!\n",
    "\n",
    "The main task of data analysis is to help explain and understand some phenomenon by building a mathematical model from data, and analyzing the model or using it to make predictions. During this process, there are several potential sources of error, including:\n",
    "\n",
    "* _measurement errors_ in the data, due to limitations in our observational equipment or methodology;\n",
    "* _modeling error_, due to our mathematical model having simplifying assumptions;\n",
    "* _truncation error_, due to limitations in our computer algorithms; and\n",
    "* _rounding error_, due to the fact that we must represent all values on the computer in _finite precision_.\n",
    "\n",
    "In this course, we will mostly leave measurement and modeling errors as a topics for other courses. Instead, we will focus on truncation and rounding errors, and to a lesser extent, assessing the potential impact of measurement error."
   ]
  },
  {
   "cell_type": "markdown",
   "metadata": {},
   "source": [
    "**Exercise.** Are there other kinds of errors not captured in the list above?\n",
    " \n",
    "**Exercise.** Give examples of the kinds of errors that might arise in our motivating problem (i.e., building a linear regression model of crime rates)."
   ]
  },
  {
   "cell_type": "markdown",
   "metadata": {},
   "source": [
    "_@YOUSE: Enter your discussion / solutions here_"
   ]
  },
  {
   "cell_type": "markdown",
   "metadata": {},
   "source": [
    "## Floating-point arithmetic\n",
    "\n",
    "Real values are typically stored in _IEEE floating-point format_. If you have programmed in other languages, you may have seen scalar data types for _single-precision_ and _double-precision_ formats (e.g., `float` and `double` in C/C++/Java). A \"floating-point\" encoding is basically a normalized scientific notation consisting of a _base_, a _sign_, a fractional _mantissa_, and an integer _exponent_. Let's look at an example to see how this might work.\n",
    "\n",
    "Consider the value 0.125. In a normalized scientific notation, we would write this number as $+1.25 \\times 10^{-1}$, where the base is 10, the mantissa is 1.25, and the exponent is -1. Conceptually, if we always used base 10 for all our floating-point values, then our floating-point encoding of this value would, conceptually, be a tuple $(+, 1.25, -1)$. \n",
    "\n",
    "However, we cannot store an infinite number of digits for the mantissa and exponent values. Thus, we would normally _also_ limit the number of digits that may appear in either. We might use, say, 6 digits for the mantissa and 2 digits (ignoring the sign) for the exponent, i.e., a tuple of the form $(\\pm, m.mmmmm, \\pm xx)$."
   ]
  },
  {
   "cell_type": "markdown",
   "metadata": {},
   "source": [
    "**Exercise.** What is the largest value we could represent in this format? What is the smallest value? What is the smallest _positive_ value we could represent? How would we encode these values?"
   ]
  },
  {
   "cell_type": "markdown",
   "metadata": {},
   "source": [
    "_@YOUSE: Enter your solutions here_"
   ]
  },
  {
   "cell_type": "markdown",
   "metadata": {},
   "source": [
    "**Exercise.** Encode the following values as tuples:\n",
    "\n",
    "1. $1.0$\n",
    "2. $-10^{-6}$\n",
    "3. $1.0 - 10^{-6}$\n",
    "4. $1.0 + 10^{-6}$"
   ]
  },
  {
   "cell_type": "markdown",
   "metadata": {},
   "source": [
    "_@YOUSE: Enter your solutions here_\n",
    "\n",
    "1. (+, 1.00000, +00)\n",
    "2. (-, 1.00000, -06)\n",
    "3. (+, 9.99999, -01)\n",
    "4. (+, 1.00000, +00)\n",
    "       0.000001 == 10^(-6)\n",
    "\n"
   ]
  },
  {
   "cell_type": "markdown",
   "metadata": {},
   "source": [
    "### A small surprise? The consequences of finite-precision\n",
    "\n",
    "Let $a=1.0$ and $b=10^{-6}$. Now consider two programs.\n",
    "\n",
    "_Program 1_:\n",
    "\n",
    "    s = a - b\n",
    "    t = s + b\n",
    "    \n",
    "_Program 2_:\n",
    "\n",
    "    s = a + b\n",
    "    t = s - b\n",
    "    \n",
    "If the _precision_, or number of digits in the encoding, were infinite, then both programs would produce `t == a == 1.0`."
   ]
  },
  {
   "cell_type": "markdown",
   "metadata": {},
   "source": [
    "**Exercise.** Suppose we instead use a _finite-precision_ floating-point encoding, using base 10 digits with 6 digits of precision for the mantissa and 2 digits for the exponent, plus separate sign \"digits\" for each. What is the final value of `t` in each of these two programs?"
   ]
  },
  {
   "cell_type": "markdown",
   "metadata": {},
   "source": [
    "_@YOUSE: Enter your solutions here_"
   ]
  },
  {
   "cell_type": "markdown",
   "metadata": {},
   "source": [
    "The preceding examples assume the digits are represented in base 10. However, computers encode all values using _bits_, which are _base 2_ digits. All the same ideas as above apply, but on base 2 values rather than base 10 values.\n",
    "\n",
    "One consequence of this difference is that certain finite-precision decimal fractions _cannot_ be represented exactly!\n",
    "\n",
    "> Can you see why? Consider the decimal value 0.1 represented in a binary format.\n",
    "\n",
    "In addition, the IEEE floating-point standard defines the encoding a little differently than we've used it. First, if the value is not 0, then the mantissa _always_ has an implicit \"1\" as the leading digit; therefore, it needn't be stored explicitly, thereby saving a bit and effectively increasing the precision a little. Secondly, the range of the exponent is not symmetric. In our hypothetical base-10 \"6 + 2\" encoding, we assumed the exponent would range from -99 to 99, which is a symmetric interval; in IEEE floating-point, there will be a slight asymmetry in this range. Part of the reason is that the IEEE floating-point encoding can also represent several kinds of special values, such as infinities and an odd bird called \"not-a-number\" or `NaN`. This latter value, which you may have seen if you have used any standard statistical packages, can be used to encode certain kinds of floating-point exceptions that result when, for instance, you try to divide by zero.\n",
    "\n",
    "In IEEE floating-point, there are two main encodings, known as _single-precision_ (`float` in C/C++/Java) and _double-precision_ (`double` in C/C++/Java). In brief, these differ as follows:\n",
    "\n",
    "* Single-precision: 32 bits total, with 24 bits for the mantissa and an exponent range of [-126, 127].\n",
    "\n",
    "* Double-precision: 64 bits total, with 53 bits for the mantissa and an exponent range of [-1022, 1023]."
   ]
  },
  {
   "cell_type": "markdown",
   "metadata": {},
   "source": [
    "**Exercise.** What is the smallest positive value that can be represented in IEEE single-precision? What about in double-precision?"
   ]
  },
  {
   "cell_type": "markdown",
   "metadata": {},
   "source": [
    "_@YOUSE: Enter your solutions here_"
   ]
  },
  {
   "cell_type": "markdown",
   "metadata": {},
   "source": [
    "**Exercise.** Consider the smallest possible value greater than 1.0 that can be represented in floating-point. Let's call this value, $1.0 + \\epsilon$.\n",
    "\n",
    "Determine $\\epsilon_s$ and $\\epsilon_d$, the corresponding values of $\\epsilon$ in single-precision and double-precision, respectively."
   ]
  },
  {
   "cell_type": "markdown",
   "metadata": {},
   "source": [
    "_@YOUSE: Enter your solutions here_"
   ]
  },
  {
   "cell_type": "markdown",
   "metadata": {},
   "source": [
    "Another important consequence of the binary format is that when you print things in base ten, what you see may not be what you get! For instance, try running the code below."
   ]
  },
  {
   "cell_type": "code",
   "execution_count": 8,
   "metadata": {
    "collapsed": false
   },
   "outputs": [
    {
     "name": "stdout",
     "output_type": "stream",
     "text": [
      "1.0\n",
      "1.0000000000000002220446049250313080847263336181640625\n"
     ]
    }
   ],
   "source": [
    "from decimal import Decimal\n",
    "\n",
    "x = 1.0 + 2.0**(-52)\n",
    "\n",
    "print x\n",
    "print Decimal (x) # What does this do?"
   ]
  },
  {
   "cell_type": "markdown",
   "metadata": {},
   "source": [
    "> Aside: If you ever need true decimal storage with no loss of precision, turn to the `Decimal` package. Just be warned it will come at a price:"
   ]
  },
  {
   "cell_type": "code",
   "execution_count": 9,
   "metadata": {
    "collapsed": false
   },
   "outputs": [
    {
     "name": "stdout",
     "output_type": "stream",
     "text": [
      "The slowest run took 52.87 times longer than the fastest. This could mean that an intermediate result is being cached \n",
      "10000000 loops, best of 3: 108 ns per loop\n",
      "The slowest run took 106.00 times longer than the fastest. This could mean that an intermediate result is being cached \n",
      "100000 loops, best of 3: 19.7 µs per loop\n"
     ]
    }
   ],
   "source": [
    "a_native = 1.0\n",
    "b_native = 2.0\n",
    "\n",
    "a_decimal = Decimal ('1.0')\n",
    "b_decimal = Decimal ('2.0')\n",
    "\n",
    "%timeit a_native + b_native\n",
    "%timeit a_decimal + b_decimal"
   ]
  },
  {
   "cell_type": "markdown",
   "metadata": {},
   "source": [
    "For today's lesson, it will be helpful to occasionally peek at floating-point values \"in the raw.\" For this purpose, we've provided you with a handy routine called `float_to_bin(x)`, which given a floating-point value `x` will return its IEEE representation as a binary string. (It is defined in the `cse6040utils` module.)\n",
    "\n",
    "The following code uses `float_to_bin()` to define another function that dumps a floating-point number's complete `Decimal` form along with its binary form."
   ]
  },
  {
   "cell_type": "code",
   "execution_count": 10,
   "metadata": {
    "collapsed": false
   },
   "outputs": [
    {
     "name": "stdout",
     "output_type": "stream",
     "text": [
      "a: -1\n",
      "   [-1.0000000000000000000000000000000000000000000000000000]_{2}e+0\n",
      "b: 2.220446049250313080847263336181640625E-16\n",
      "   [1.0000000000000000000000000000000000000000000000000000]_{2}e-52\n",
      "c: 1.1102230246251565404236316680908203125E-16\n",
      "   [1.0000000000000000000000000000000000000000000000000000]_{2}e-53\n"
     ]
    }
   ],
   "source": [
    "def print_float_bin (x, prefix=\"\"):\n",
    "    print (\"%s: %s\\n%s  %s\" % (prefix,\n",
    "                                Decimal (x),\n",
    "                                ' ' * len (prefix),\n",
    "                                cse6040.float_to_bin (x)))    \n",
    "\n",
    "a = -1.0\n",
    "b = 2.**(-52)  # Recall: \\epsilon_d\n",
    "c = b / 2.\n",
    "\n",
    "print_float_bin (a, prefix=\"a\")\n",
    "print_float_bin (b, prefix=\"b\")\n",
    "print_float_bin (c, prefix=\"c\")"
   ]
  },
  {
   "cell_type": "markdown",
   "metadata": {},
   "source": [
    "**Exercise.** Recall the two program fragments from above:\n",
    "\n",
    "_Program 1_:\n",
    "\n",
    "    s = a - b\n",
    "    t = s + b\n",
    "    \n",
    "_Program 2_:\n",
    "\n",
    "    s = a + b\n",
    "    t = s - b\n",
    "\n",
    "Let $a=1.0$ and $b=\\epsilon_d / 2 \\approx 1.11 \\times 10^{-16}$. Write some Python code to evaluate these two programs and compare their outputs. (To look closely at their outputs, use the `print_float_bin()` function from above.)"
   ]
  },
  {
   "cell_type": "code",
   "execution_count": 13,
   "metadata": {
    "collapsed": false
   },
   "outputs": [
    {
     "name": "stdout",
     "output_type": "stream",
     "text": [
      "s1: 0.99999999999999988897769753748434595763683319091796875\n",
      "    [1.1111111111111111111111111111111111111111111111111111]_{2}e-1\n",
      "t1: 1\n",
      "    [1.0000000000000000000000000000000000000000000000000000]_{2}e+0\n",
      "\n",
      "\n",
      "s2: 1\n",
      "    [1.0000000000000000000000000000000000000000000000000000]_{2}e+0\n",
      "t2: 0.99999999999999988897769753748434595763683319091796875\n",
      "    [1.1111111111111111111111111111111111111111111111111111]_{2}e-1\n",
      "\n",
      "1.0 1.0\n",
      "\n",
      "(t1 == t2) == False\n"
     ]
    }
   ],
   "source": [
    "a = 1.0\n",
    "b = 2.**(-53) # What value goes here?\n",
    "\n",
    "s1 =  a - b\n",
    "t1 = s1 + b\n",
    "\n",
    "s2 =  a + b\n",
    "t2 = s2 - b\n",
    "\n",
    "print_float_bin (s1, prefix=\"s1\")\n",
    "print_float_bin (t1, prefix=\"t1\")\n",
    "print (\"\\n\")\n",
    "print_float_bin (s2, prefix=\"s2\")\n",
    "print_float_bin (t2, prefix=\"t2\")\n",
    "\n",
    "print \"\\n\", t1, t2\n",
    "print (\"\\n(t1 == t2) == %s\" % (t1 == t2))"
   ]
  },
  {
   "cell_type": "markdown",
   "metadata": {},
   "source": [
    "By the way, in Numpy you can determine machine epsilon in a more portable way:"
   ]
  },
  {
   "cell_type": "code",
   "execution_count": 14,
   "metadata": {
    "collapsed": false,
    "scrolled": true
   },
   "outputs": [
    {
     "name": "stdout",
     "output_type": "stream",
     "text": [
      "eps_s: 1.1920928955078125E-7\n",
      "       [1.0000000000000000000000000000000000000000000000000000]_{2}e-23\n",
      "eps_d: 2.220446049250313080847263336181640625E-16\n",
      "       [1.0000000000000000000000000000000000000000000000000000]_{2}e-52\n"
     ]
    }
   ],
   "source": [
    "EPS_S = np.finfo (np.float32).eps\n",
    "EPS_D = np.finfo (float).eps\n",
    "\n",
    "print_float_bin (float (EPS_S), prefix=\"eps_s\")\n",
    "print_float_bin (float (EPS_D), prefix=\"eps_d\")"
   ]
  },
  {
   "cell_type": "markdown",
   "metadata": {},
   "source": [
    "## Perturbation theory and condition numbers\n",
    "\n",
    "Given the various sources of error, how do we know whether a given algorithm is \"good\" for computing the solution to a given problem? An important tool in the area of _numerical analysis_ is _perturbation theory_.\n",
    "\n",
    "To see perturbation theory in action, suppose we wish to determine by how much a \"small\" measurement error, $\\Delta x$, affects the output of some function, $f(x)$. Barring any other information and assuming $f(x)$ is continuous and differentiable, we could try to estimate the error of evaluating $f(x + \\Delta x)$ compared to $f(x)$ by the following linear approximation, which comes from a Taylor series expansion:\n",
    "\n",
    "$$f(x + \\Delta x) \\approx f(x) + \\Delta x \\cdot f'(x),$$\n",
    "\n",
    "where $f'(x)$ is the first derivative of $f(x)$ at the point $x$."
   ]
  },
  {
   "cell_type": "markdown",
   "metadata": {},
   "source": [
    "**Absolute condition numbers.** From this relation, we can compute an upper-bound on the absolute value of the error:\n",
    "\n",
    "$$\\left|f(x + \\Delta x) - f(x)\\right| \\approx \\left|\\Delta x\\right| \\cdot \\left|f'(x)\\right|.$$\n",
    "\n",
    "This calculation says that the error depends not only on the measurement error, $\\Delta x$, _but also_ the nature of the function itself at $x$ through the factor, $\\left|f'(x)\\right|$. Indeed, we will give this factor a special name of _absolute condition number_ of evaluating $f$ at $x$. For any given computational problem, we will try to find condition numbers to help us quantify the \"hardness\" of the problem.\n",
    "\n",
    "That is, for the problem of evaluating $f(x)$, the preceding analysis says that if this factor is not too large, then small measurement errors will lead to only small errors in the output. In this case, we say the problem is _well-conditioned_. If instead this factor is very large, then even very small errors will lead to large errors in the output. In this case, we say the problem is _ill-conditioned_.\n",
    "\n",
    "Put differently, the problem of evaluating $f(x)$ when the condition number is large is inherently _more difficult_ than doing so when the condition number is small."
   ]
  },
  {
   "cell_type": "markdown",
   "metadata": {},
   "source": [
    "**Relative condition numbers.** The error considered above is the absolute error, in contrast to the _relative error_,\n",
    "\n",
    "$$\\left|f(x + \\Delta x) - f(x)\\right| / \\left|f(x)\\right|.$$\n",
    "\n",
    "For this case and problem of evaluating $f(x)$, let's rewrite this slightly as,\n",
    "\n",
    "$$\\frac{\\left|f(x + \\Delta x) - f(x)\\right|}\n",
    "      {\\left|f(x)\\right|}\n",
    "\\approx\n",
    " \\frac{|\\Delta x|}\n",
    "      {|x|}\n",
    "   \\cdot\n",
    "\\underbrace{\n",
    " \\frac{\\left|f'(x)\\right| \\cdot |x|}\n",
    "      {\\left|f(x)\\right|}\n",
    "}_{\\equiv\\ \\kappa_r(x)}\n",
    ",$$\n",
    "\n",
    "where $\\kappa_r(x)$ is the _relative condition number_ of evaluating $f(x)$ at $x$.\n",
    "      \n",
    "Observe that this relation expresses the relative change in the output as a function of some relative change in the input ($|\\Delta x| / |x|$)."
   ]
  },
  {
   "cell_type": "markdown",
   "metadata": {},
   "source": [
    "**Backward stability.** Let's say someone devises an algorithm to compute $f(x)$. For a given value $x$, let's suppose this algorithm produces the value $\\mathrm{alg}(x)$. One important question might be, is that output \"good\" or \"bad?\"\n",
    "\n",
    "One property to measure \"goodness\" will be _backward stability_. In particular, we will say that $\\mathrm{alg}(x)$ is a _backward stable algorithm_ to compute $f(x)$ if, for all $x$, there exists a \"small\" $\\Delta x$ such that\n",
    "\n",
    "$$\\mathrm{alg}(x) = f(x + \\Delta x).$$\n",
    "\n",
    "That should look familiar! It means we can estimate the (absolute) backward error using our perturbation analysis from before, i.e.,\n",
    "\n",
    "$$\\left|\\mathrm{alg}(x) - f(x)\\right| \\approx \\left|f'(x)\\right| \\cdot \\left|\\Delta x\\right|.$$"
   ]
  },
  {
   "cell_type": "markdown",
   "metadata": {},
   "source": [
    "**Round-off errors.** We already know that numerical values can only be represented finitely, which introduces round-off error. Thus, at the very least we should hope that a scheme to compute $f(x)$ is as insensitive to round-off errors as possible.\n",
    "\n",
    "To quantify sensitivity, the standard technique is to assume that every scalar floating-point operation incurs some bounded error. Let $a \\odot b$ be the exact result of some mathematical operation on $a$ and $b$, and let $\\mathrm{fl}(a \\odot b)$ be the computed value, after rounding in finite-precision. We will model the difference by,\n",
    "\n",
    "$$\\mathrm{fl}(a \\odot b) \\equiv (a \\odot b) (1 + \\delta),$$\n",
    "\n",
    "where $|\\delta| \\leq \\epsilon$, machine epsilon."
   ]
  },
  {
   "cell_type": "markdown",
   "metadata": {},
   "source": [
    "## (Left off here)\n",
    "\n",
    "In class, we left off at this point. Indeed, there were some errors in the text that had appeared below, so they have been removed. We will pick up here (with the correct text!) in the next class."
   ]
  }
 ],
 "metadata": {
  "kernelspec": {
   "display_name": "Python 2",
   "language": "python",
   "name": "python2"
  },
  "language_info": {
   "codemirror_mode": {
    "name": "ipython",
    "version": 2
   },
   "file_extension": ".py",
   "mimetype": "text/x-python",
   "name": "python",
   "nbconvert_exporter": "python",
   "pygments_lexer": "ipython2",
   "version": "2.7.10"
  }
 },
 "nbformat": 4,
 "nbformat_minor": 0
}
