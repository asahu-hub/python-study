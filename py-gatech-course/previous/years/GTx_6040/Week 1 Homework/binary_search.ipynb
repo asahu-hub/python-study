{
 "cells": [
  {
   "cell_type": "markdown",
   "metadata": {
    "collapsed": true
   },
   "source": [
    "# Problem 0\n",
    "\n",
    "**Fast searching in ordered collections.** This problem consists of just a single exercise, worth ten (10) points. It is about an elementary principle of computer science algorithm design, which is that one can often do things faster if one exploits structure in the input data."
   ]
  },
  {
   "cell_type": "markdown",
   "metadata": {},
   "source": [
    "Suppose you are given a list of **already sorted** numbers."
   ]
  },
  {
   "cell_type": "code",
   "execution_count": 1,
   "metadata": {
    "collapsed": true
   },
   "outputs": [],
   "source": [
    "A = [2, 16, 26, 32, 52, 71, 80, 88]\n",
    "\n",
    "# These are already sorted:\n",
    "assert A == sorted(A)"
   ]
  },
  {
   "cell_type": "markdown",
   "metadata": {},
   "source": [
    "Suppose you now want to know whether a certain value exists in this list. A simple way to do that in Python is as follows."
   ]
  },
  {
   "cell_type": "code",
   "execution_count": 4,
   "metadata": {},
   "outputs": [
    {
     "name": "stdout",
     "output_type": "stream",
     "text": [
      "A contains 32: True\n",
      "A contains 7: False\n",
      "A contains -10: False\n"
     ]
    }
   ],
   "source": [
    "def contains(A, x):\n",
    "    \"\"\"Returns True only if the value `x` exists in `A`.\"\"\"\n",
    "    return x in A\n",
    "\n",
    "print(\"A contains 32: {}\".format(contains(A, 32)))\n",
    "print(\"A contains 7: {}\".format(contains(A, 7)))\n",
    "print(\"A contains -10: {}\".format(contains(A, -10)))"
   ]
  },
  {
   "cell_type": "markdown",
   "metadata": {},
   "source": [
    "This method works fine and is reasonably fast on small lists. However, if the list is very large, this method can be wasteful, computationally speaking.\n",
    "\n",
    "That's because it does **not** take advantage of the fact that `A` is already ordered. In such a case, it should be easier to determine whether the element exists. (How?)"
   ]
  },
  {
   "cell_type": "markdown",
   "metadata": {},
   "source": [
    "**Exercise 0** (3 + 7 == 10 points). Write a function, `ordered_contains(S, x)`, that takes an **already sorted** list, `S`, as input, and determines whether it contains `x`. But there is one more condition: your method **must** be **at least ten times faster** than `contains()` for \"large\" lists!\n",
    "\n",
    "In particular, there are two test codes for this exercise. The first one checks that your procedure does, indeed, return the correct result by comparing its output to `contains()`, which we will assume is correct. Correctness is worth three (3) points of partial credit out of ten (10). The second test cell checks whether your implementation is faster than `contains()` for a relatively large, but ordered, list. If your implementation is slower for smaller lists, that is okay!\n",
    "\n",
    "> **Hint.** If you can find a standard Python library routine to help you, by all means, use it!"
   ]
  },
  {
   "cell_type": "code",
   "execution_count": 10,
   "metadata": {},
   "outputs": [
    {
     "name": "stdout",
     "output_type": "stream",
     "text": [
      "A contains 32: True\n",
      "A contains 7: False\n",
      "A contains -10: False\n",
      "\n",
      "(Did those results match the earlier example?)\n"
     ]
    }
   ],
   "source": [
    "def ordered_contains(S, x):\n",
    "    from bisect import bisect # python built in function to bisect lists\n",
    "    i = bisect(S, x)\n",
    "    return i > 0 and S[i-1] == x\n",
    "\n",
    "# binary search\n",
    "# https://en.wikipedia.org/wiki/Binary_search_algorithm\n",
    "THRESHOLD__1 = 128 # An \"engineering\" constant - use to tune speed\n",
    "def ordered_contains__1(S, x):\n",
    "    if len(S) <= THRESHOLD__1:\n",
    "        return contains(S, x)\n",
    "    midpoint = int(len(S) / 2)\n",
    "    if x < S[midpoint]:\n",
    "        return ordered_contains__1(S[:midpoint], x)\n",
    "    if x > S[midpoint]:\n",
    "        return ordered_contains__1(S[midpoint+1:], x)\n",
    "    return True\n",
    "\n",
    "# The following method improves on the above. Why is it faster? segmenting lists?\n",
    "THRESHOLD__2 = 8 # An \"engineering\" constant - use to tune speed\n",
    "def ordered_contains__2(S, x, l=0, r=None):\n",
    "    if r is None: r = len(S)\n",
    "    if (r-l) <= THRESHOLD__2:\n",
    "        return contains(S[l:r], x)\n",
    "    midpoint = int((l+r) / 2)\n",
    "    if x < S[midpoint]:\n",
    "        return ordered_contains__2(S, x, l, midpoint)\n",
    "    if x > S[midpoint]:\n",
    "        return ordered_contains__2(S, x, midpoint+1, r)\n",
    "    return True\n",
    "\n",
    "\n",
    "    \n",
    "print(\"A contains 32: {}\".format(ordered_contains(A, 32)))\n",
    "print(\"A contains 7: {}\".format(ordered_contains(A, 7)))\n",
    "print(\"A contains -10: {}\".format(ordered_contains(A, -10)))\n",
    "print(\"\\n(Did those results match the earlier example?)\")"
   ]
  },
  {
   "cell_type": "code",
   "execution_count": 11,
   "metadata": {
    "nbgrader": {
     "grade": true,
     "grade_id": "test_is_correct",
     "locked": true,
     "points": "3",
     "solution": false
    }
   },
   "outputs": [
    {
     "name": "stdout",
     "output_type": "stream",
     "text": [
      "Checking your code on this input: S = [6, 8, 10, 13, 17, 29, 37, 42, 50, 63, 78, 90, 91]\n",
      "\n",
      "(Passed basic correctness checks.)\n",
      "\n",
      "Timing `contains()`...\n",
      "201 ns ± 3.99 ns per loop (mean ± std. dev. of 7 runs, 1000000 loops each)\n",
      "\n",
      "Timing `ordered_contains()`...\n",
      "1.22 µs ± 32.3 ns per loop (mean ± std. dev. of 7 runs, 1000000 loops each)\n",
      "\n",
      "(This problem is small, so it's okay if your method is slower.)\n",
      "\n",
      "(Passed!)\n"
     ]
    }
   ],
   "source": [
    "# Test cell: `test_is_correct` (1 point)\n",
    "\n",
    "from random import randint, sample\n",
    "\n",
    "def gen_list(n, v_max, v_min=0):\n",
    "    return sample(range(v_min, v_max), n)\n",
    "\n",
    "def gen_sorted_list(n, v_max, v_min=0):\n",
    "    return sorted(gen_list(n, v_max, v_min))\n",
    "\n",
    "def check_case(S, x):\n",
    "    msg = \"`contains(S, {}) == {}` while `ordered_contains(S, {}) == {}`!\"\n",
    "    true_solution = contains(S, x)\n",
    "    your_solution = ordered_contains(S, x)\n",
    "    assert your_solution == true_solution, msg.format(true_solution, your_solution)\n",
    "\n",
    "S = gen_sorted_list(13, 100)\n",
    "print(\"Checking your code on this input: S = {}\".format(S))\n",
    "\n",
    "check_case(S, S[0])\n",
    "check_case(S, S[0]-1)\n",
    "check_case(S, S[-1])\n",
    "check_case(S, S[-1]+1)\n",
    "\n",
    "for x in gen_list(50, 100, -100):\n",
    "    check_case(S, x)\n",
    "print(\"\\n(Passed basic correctness checks.)\")\n",
    "\n",
    "print(\"\\nTiming `contains()`...\")\n",
    "x = randint(-100, 100)\n",
    "%timeit contains(S, x)\n",
    "\n",
    "print(\"\\nTiming `ordered_contains()`...\")\n",
    "%timeit ordered_contains(S, x)\n",
    "\n",
    "print(\"\\n(This problem is small, so it's okay if your method is slower.)\")\n",
    "print(\"\\n(Passed!)\")"
   ]
  },
  {
   "cell_type": "code",
   "execution_count": 12,
   "metadata": {
    "nbgrader": {
     "grade": true,
     "grade_id": "test_is_faster",
     "locked": true,
     "points": "7",
     "solution": false
    }
   },
   "outputs": [
    {
     "name": "stdout",
     "output_type": "stream",
     "text": [
      "Generating a list of size n=1089321...\n",
      "Quick correctness check...\n",
      "\n",
      "(Passed.)\n",
      "\n",
      "Timing `contains()`...\n",
      "164 ms ± 3.16 ms per loop (mean ± std. dev. of 7 runs, 10 loops each)\n",
      "\n",
      "Timing `ordered_contains()`...\n",
      "1.63 µs ± 27.8 ns per loop (mean ± std. dev. of 7 runs, 1000000 loops each)\n",
      "\n",
      "(Passed -- you were 100629.9x faster!)\n"
     ]
    }
   ],
   "source": [
    "# Test cell: `test_is_faster` (7 points)\n",
    "\n",
    "N_MIN = 1000000\n",
    "N_MAX = 2*N_MIN\n",
    "R_MAX = max(10*N_MAX, 1000000000)\n",
    "\n",
    "n = randint(N_MIN, N_MAX)\n",
    "print(\"Generating a list of size n={}...\".format(n))\n",
    "\n",
    "S_large = gen_sorted_list(n, R_MAX)\n",
    "\n",
    "print(\"Quick correctness check...\")\n",
    "x = randint(-R_MAX, R_MAX)\n",
    "check_case(S_large, x)\n",
    "print(\"\\n(Passed.)\")\n",
    "\n",
    "print(\"\\nTiming `contains()`...\")\n",
    "t_baseline = %timeit -o contains(S_large, x)\n",
    "print(\"\\nTiming `ordered_contains()`...\")\n",
    "t_better = %timeit -o ordered_contains(S_large, x)\n",
    "\n",
    "speedup = t_baseline.average / t_better.average\n",
    "assert speedup >= 10, \"Your method was only {:.2f}x faster (< 1 means it was slower)!\".format(speedup)\n",
    "\n",
    "print(\"\\n(Passed -- you were {:.1f}x faster!)\".format(speedup))"
   ]
  },
  {
   "cell_type": "markdown",
   "metadata": {},
   "source": [
    "**Fin!** You've reached the end of this problem. Don't forget to restart the kernel and run the entire notebook from top-to-bottom to make sure you did everything correctly. If that is working, try submitting this problem. (Recall that you *must* submit and pass the autograder to get credit for your work!)"
   ]
  }
 ],
 "metadata": {
  "kernelspec": {
   "display_name": "Python 3.6 (beta)",
   "language": "python",
   "name": "python36"
  },
  "language_info": {
   "codemirror_mode": {
    "name": "ipython",
    "version": 3
   },
   "file_extension": ".py",
   "mimetype": "text/x-python",
   "name": "python",
   "nbconvert_exporter": "python",
   "pygments_lexer": "ipython3",
   "version": "3.6.4"
  }
 },
 "nbformat": 4,
 "nbformat_minor": 2
}
