{
 "cells": [
  {
   "cell_type": "markdown",
   "metadata": {
    "collapsed": true,
    "nbgrader": {
     "grade": false,
     "locked": true,
     "solution": false
    }
   },
   "source": [
    "# Problem 8\n",
    "\n",
    "This problem has three (3) exercises worth a total of ten (10) points."
   ]
  },
  {
   "cell_type": "markdown",
   "metadata": {
    "nbgrader": {
     "grade": false,
     "locked": true,
     "solution": false
    }
   },
   "source": [
    "**Invert a dictionary.** Suppose a group of student TAs have been asked to monitor the Piazza forums for your CSE6040x course. The assignments are as follows."
   ]
  },
  {
   "cell_type": "code",
   "execution_count": 20,
   "metadata": {
    "collapsed": true,
    "nbgrader": {
     "grade": false,
     "locked": true,
     "solution": false
    }
   },
   "outputs": [],
   "source": [
    "assignments = {\"Monday\" : [\"Jeh\", \"Ben\", \"Chinmay\", \"Rachel\"],\n",
    "               \"Tuesday\" : [\"Rachel\", \"Samuel\", \"Evan\", \"Raghav\"],\n",
    "               \"Wednesday\" : [\"Evan\", \"Samuel\", \"Michael\", \"Chinmay\"],\n",
    "               \"Thursday\" : [\"Jeh\", \"Michael\", \"Ben\", \"Evan\"],\n",
    "               \"Friday\" : [\"Rachel\", \"Shishir\", \"Samuel\", \"Ben\"],\n",
    "               \"Saturday\" : [\"Yandi\", \"Michael\", \"Chinmay\", \"Samuel\"],\n",
    "               \"Sunday\" : [\"Evan\", \"Chinmay\", \"Jeh\", \"Rachel\"]\n",
    "               }"
   ]
  },
  {
   "cell_type": "markdown",
   "metadata": {
    "nbgrader": {
     "grade": false,
     "locked": true,
     "solution": false
    }
   },
   "source": [
    "**Exercise 0** (5 points). Write a function, `invert_dict(d)`, that \"inverts\" a given dictionary `d`. The output should be another dictionary such that the keys are the TA names and their corresponding values should be a list which stores the days assigned to them.\n",
    "\n",
    "For example, one of the keys of the returned dictionary should be `\"Jeh\"` with its corresponding list as `[\"Monday\", \"Thursday\", \"Sunday\"]`."
   ]
  },
  {
   "cell_type": "code",
   "execution_count": 21,
   "metadata": {
    "nbgrader": {
     "grade": false,
     "grade_id": "test_inverse",
     "locked": false,
     "points": "5",
     "solution": false
    }
   },
   "outputs": [
    {
     "data": {
      "text/plain": [
       "{'Rachel': ['Monday', 'Tuesday', 'Friday', 'Sunday'],\n",
       " 'Shishir': ['Friday'],\n",
       " 'Michael': ['Wednesday', 'Thursday', 'Saturday'],\n",
       " 'Chinmay': ['Monday', 'Wednesday', 'Saturday', 'Sunday'],\n",
       " 'Ben': ['Monday', 'Thursday', 'Friday'],\n",
       " 'Samuel': ['Tuesday', 'Wednesday', 'Friday', 'Saturday'],\n",
       " 'Jeh': ['Monday', 'Thursday', 'Sunday'],\n",
       " 'Yandi': ['Saturday'],\n",
       " 'Raghav': ['Tuesday'],\n",
       " 'Evan': ['Tuesday', 'Wednesday', 'Thursday', 'Sunday']}"
      ]
     },
     "execution_count": 21,
     "metadata": {},
     "output_type": "execute_result"
    }
   ],
   "source": [
    "from collections import defaultdict\n",
    "\n",
    "def invert_dict(d):\n",
    "    l = []\n",
    "    for k, v in d.items():\n",
    "        l.append(v)\n",
    "    flatten_l = [i for e in l for i in e]\n",
    "    flatten_l = set(flatten_l)\n",
    "    d_inv = defaultdict(list)\n",
    "    for e in flatten_l:\n",
    "        for k, v in d.items():\n",
    "            if e in v:\n",
    "                d_inv[e].append(k)\n",
    "    return dict(d_inv)\n",
    "\n",
    "invert_dict(assignments)"
   ]
  },
  {
   "cell_type": "code",
   "execution_count": 22,
   "metadata": {
    "nbgrader": {
     "grade": true,
     "grade_id": "test_inverse",
     "locked": true,
     "points": "5",
     "solution": false
    }
   },
   "outputs": [
    {
     "name": "stdout",
     "output_type": "stream",
     "text": [
      "\n",
      "(Passed!)\n"
     ]
    }
   ],
   "source": [
    "# Test cell: `test_inverse`\n",
    "\n",
    "import random\n",
    "TA_list = [\"Rachel\", \"Yandi\", \"Ben\", \"Jeh\", \"Evan\", \"Chinmay\", \"Shishir\", \"Raghav\", \"Samuel\", \"Michael\"]\n",
    "\n",
    "# Your solution\n",
    "inv_dict = invert_dict(assignments)\n",
    "\n",
    "random_TA = random.sample(TA_list, 5)\n",
    "for TA in random_TA:\n",
    "    assigned_days = inv_dict[TA]\n",
    "    for days in assigned_days:\n",
    "        assert TA in assignments[days], \"Incorrect inversion for TA {}\".format(TA)\n",
    "\n",
    "print(\"\\n(Passed!)\")"
   ]
  },
  {
   "cell_type": "markdown",
   "metadata": {
    "nbgrader": {
     "grade": false,
     "locked": true,
     "solution": false
    }
   },
   "source": [
    "**Exercise 2** (2 points): _Tracing the route of a pilot_.\n",
    "\n",
    "Suppose a pilot flies from one city to the next. He makes 7 such trips, which are stored in the list shown in the next cell. The first entry of each tuple denotes the origin, and the second denotes the destination. Also assume that the next flight a pilot makes must originate from the destination of her previous flight. Your task in this exercise is to write a function that finds the route followed by the pilot, given her first port of origin.\n",
    "\n",
    "First, let `segments` be an unordered list of segments that the pilot flew."
   ]
  },
  {
   "cell_type": "code",
   "execution_count": 23,
   "metadata": {
    "collapsed": true,
    "nbgrader": {
     "grade": false,
     "locked": true,
     "solution": false
    }
   },
   "outputs": [],
   "source": [
    "segments = [(\"JFK\", \"DEN\"), (\"LAX\", \"ORD\"), (\"DEN\", \"SFO\"), (\"LAS\", \"LAX\"), (\"ORD\", \"ATL\"), (\"ATL\", \"JFK\"), (\"SFO\", \"LAS\")]"
   ]
  },
  {
   "cell_type": "markdown",
   "metadata": {
    "nbgrader": {
     "grade": false,
     "locked": true,
     "solution": false
    }
   },
   "source": [
    "Next, write a function `find_dest(segs, origin)` that returns the next destination of the pilot given one port of origin and an unordered list of flight segments. Example, if `segs == segments` as defined above, then for `'LAX'`, your function should return `'ORD'` because there is the tuple, `(\"LAX\", \"ORD\")`, in `segs`.\n",
    "\n",
    "You may assume that `origin` appears only once in the list of segments, `segs`."
   ]
  },
  {
   "cell_type": "code",
   "execution_count": 27,
   "metadata": {},
   "outputs": [
    {
     "data": {
      "text/plain": [
       "'SFO'"
      ]
     },
     "execution_count": 27,
     "metadata": {},
     "output_type": "execute_result"
    }
   ],
   "source": [
    "def find_dest(segs, origin):\n",
    "    assert type(origin) is str\n",
    "    assert type(segs) is list\n",
    "    for i in segs:\n",
    "        if i[0] == origin:\n",
    "            dest = i[1]\n",
    "    return dest\n",
    "\n",
    "find_dest(segments, \"DEN\")"
   ]
  },
  {
   "cell_type": "code",
   "execution_count": 26,
   "metadata": {
    "nbgrader": {
     "grade": true,
     "grade_id": "test_destination",
     "locked": true,
     "points": "2",
     "solution": false
    }
   },
   "outputs": [
    {
     "name": "stdout",
     "output_type": "stream",
     "text": [
      "\n",
      "(Passed.)\n"
     ]
    }
   ],
   "source": [
    "# Test flight destination\n",
    "den = find_dest(segments, \"DEN\")\n",
    "assert find_dest(segments, \"DEN\") == \"SFO\", \"Wrong destination for DEN\"\n",
    "assert find_dest(segments, \"LAX\") == \"ORD\", \"Wrong destination for LAX\"\n",
    "assert find_dest(segments, \"ATL\") == \"JFK\", \"Wrong destination for ATL\"\n",
    "assert find_dest(segments, \"JFK\") == \"DEN\", \"Wrong destination for JFK\"\n",
    "print(\"\\n(Passed.)\")"
   ]
  },
  {
   "cell_type": "markdown",
   "metadata": {
    "nbgrader": {
     "grade": false,
     "locked": true,
     "solution": false
    }
   },
   "source": [
    "**Exercise 3** (3 points). Now write a function `get_route(segs, origin)` that traces the complete itinerary of the pilot, given her first port of origin. Assume that the destination for a flight is the same as the origin for the next flight. The itinerary is completed when he arrives back at the starting port of origin. For example, if the starting port is `\"JFK\"`, your function should return the list: `[\"JFK\", \"DEN\", \"SFO\", \"LAS\", \"LAX\", \"ORD\", \"ATL\"]`."
   ]
  },
  {
   "cell_type": "code",
   "execution_count": 32,
   "metadata": {},
   "outputs": [
    {
     "data": {
      "text/plain": [
       "['DEN', 'SFO', 'LAS', 'LAX', 'ORD', 'ATL', 'JFK']"
      ]
     },
     "execution_count": 32,
     "metadata": {},
     "output_type": "execute_result"
    }
   ],
   "source": [
    "def get_route(path, origin):\n",
    "    route = [origin]\n",
    "    dest = find_dest(path, origin)\n",
    "    while dest != origin:\n",
    "        route.append(dest)\n",
    "        dest = find_dest(path, dest)\n",
    "    return route\n",
    "\n",
    "get_route(segments, \"DEN\")\n"
   ]
  },
  {
   "cell_type": "code",
   "execution_count": 33,
   "metadata": {
    "nbgrader": {
     "grade": true,
     "grade_id": "test_route",
     "locked": true,
     "points": "3",
     "solution": false
    }
   },
   "outputs": [
    {
     "name": "stdout",
     "output_type": "stream",
     "text": [
      "\n",
      "(Passed.)\n"
     ]
    }
   ],
   "source": [
    "# Test pilot route\n",
    "ports = [\"JFK\", \"DEN\", \"SFO\", \"LAS\", \"LAX\", \"ORD\", \"ATL\"]\n",
    "starting_port = random.sample(ports, 5)\n",
    "for p in starting_port:\n",
    "    itinerary = get_route(segments, p)\n",
    "    assert itinerary[0] == p, \"incorrect port of origin for the itinerary\"\n",
    "    for i, port in enumerate(itinerary[:-1]):\n",
    "        dest = find_dest(segments, port)\n",
    "        assert dest == itinerary[i+1], \"incorrect itinerary\"\n",
    "\n",
    "print(\"\\n(Passed.)\")"
   ]
  },
  {
   "cell_type": "markdown",
   "metadata": {
    "collapsed": true,
    "nbgrader": {
     "grade": false,
     "locked": true,
     "solution": false
    }
   },
   "source": [
    "**Fin!** You've reached the end of this problem. Don't forget to restart the\n",
    "kernel and run the entire notebook from top-to-bottom to make sure you did\n",
    "everything correctly. If that is working, try submitting this problem. (Recall\n",
    "that you *must* submit and pass the autograder to get credit for your work!)"
   ]
  }
 ],
 "metadata": {
  "kernelspec": {
   "display_name": "Python 3.6 (beta)",
   "language": "python",
   "name": "python36"
  },
  "language_info": {
   "codemirror_mode": {
    "name": "ipython",
    "version": 3
   },
   "file_extension": ".py",
   "mimetype": "text/x-python",
   "name": "python",
   "nbconvert_exporter": "python",
   "pygments_lexer": "ipython3",
   "version": "3.6.4"
  }
 },
 "nbformat": 4,
 "nbformat_minor": 2
}
