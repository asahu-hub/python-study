{
 "cells": [
  {
   "cell_type": "markdown",
   "metadata": {
    "nbgrader": {
     "grade": false,
     "locked": false,
     "solution": false
    }
   },
   "source": [
    "# Problem 7\n",
    "\n",
    "**Letter frequencies.** This problem has three (3) exercises worth a total of ten (10) points."
   ]
  },
  {
   "cell_type": "markdown",
   "metadata": {},
   "source": [
    "Letter frequency in text has been studied in cryptoanalysis, in particular frequency analysis. Linguists use letter frequency analysis as a rudimentary technique for language identification, where it's particularly effective as an indicator of whether an unknown writing system is alphabetic, syllablic, or ideographic.\n",
    "\n",
    "Primarily, three different ways exist for letter frequency analysis. Each way generally results in very different charts for common letters. Based on the provided text, the first method is to count letter frequency in root words of a dictionary. The second way is to include all word variants when counting, such as gone, going and goes and not just the root word go. Such a system results in letters like \"s\" appearing much more frequently. The last variant is to count letters based on their frequency in the actual text that is being studied. \n",
    "\n",
    "For more details, refer to the link: \n",
    "https://en.wikipedia.org/wiki/Letter_frequency\n",
    "\n",
    "In this problem, we will focus on the 3rd methodology."
   ]
  },
  {
   "cell_type": "markdown",
   "metadata": {},
   "source": [
    "**Exercise 0** (2 points). First, given a string input, define a function  `preprocess` that returns a string with non-alphabetic characters removed and all the alphabets converted into a lower case. \n",
    "\n",
    "For example, 'We are coding letter Frequency! Yay!\" would be transformed into \"wearecodingletterfrequencyyay\""
   ]
  },
  {
   "cell_type": "code",
   "execution_count": 6,
   "metadata": {
    "collapsed": true
   },
   "outputs": [],
   "source": [
    "def preprocess(S):\n",
    "    s = ''.join([c.lower() for c in S if c.isalpha()])\n",
    "    return s\n"
   ]
  },
  {
   "cell_type": "code",
   "execution_count": 7,
   "metadata": {
    "nbgrader": {
     "grade": true,
     "grade_id": "valid_string",
     "locked": true,
     "points": "2",
     "solution": false
    }
   },
   "outputs": [
    {
     "name": "stdout",
     "output_type": "stream",
     "text": [
      "Input String:  +A}>.JMJE^La/{l5l%r_Ij\"pEGIcTC=NZ6KOdN`ll4?7Q=dR](bfnRg#t6_^I?TnI8tAi=J@]D+KRfJ[lH(jO0!jV]MMMiMPf:wj\n",
      "|----Your function seems to work correct for the string----|\n",
      "\n",
      "Input String:  iL~1t4u}V+|\\0~0KkHC!zfeAx:*A$txe=3|?jb2k&EsJeX~pmmrWfTd{hEkPcLV.nM\\I*dX|u'h\"gm0\"VHjrv#K-C_r1NVI_t)Q5\n",
      "|----Your function seems to work correct for the string----|\n",
      "\n",
      "Input String:  Qaiq>[GNV@#4rn|@?d[[\\{))t_<Xxpl=lm]91GlV16S=A[\"aiOiS-O9W_lffWv]}]`:wf.f;NE5y4jb-9|u%K^_72j-U2Rz|Lo0k\n",
      "|----Your function seems to work correct for the string----|\n",
      "\n",
      "\n",
      "(Passed)!\n"
     ]
    }
   ],
   "source": [
    "# Test cell: valid_string\n",
    "import random, string\n",
    "\n",
    "N_str = 100 #Length of random string\n",
    "\n",
    "def generate_str(n):\n",
    "    random_str = ''.join(random.choice(string.ascii_lowercase + string.ascii_uppercase + string.digits + string.punctuation) for _ in range(n))\n",
    "    return random_str\n",
    "\n",
    "def check_preprocess_str(n):\n",
    "    random_str = generate_str(n)\n",
    "    print(\"Input String: \",random_str)\n",
    "    assert preprocess('random_str').islower() == True\n",
    "    assert preprocess(random_str).isalpha() == True\n",
    "    print(\"|----Your function seems to work correct for the string----|\"+\"\\n\")\n",
    "\n",
    "check_preprocess_str(N_str)\n",
    "check_preprocess_str(N_str)\n",
    "check_preprocess_str(N_str)\n",
    "\n",
    "print(\"\\n(Passed)!\")"
   ]
  },
  {
   "cell_type": "markdown",
   "metadata": {},
   "source": [
    "**Exercise 1** (4 points). With the necessary pre-processing complete, the next step is to write a function `count_letters(S)` to count the number of occurrences of each letter in the alphabet.  \n",
    "\n",
    "You can assume that only letters will be present in the input string. It should output a dictionary and if any alphabet (a-z) is missing in the input string, it should still be a part of the output dictionary and its corresponding value should be equal to zero.\n"
   ]
  },
  {
   "cell_type": "code",
   "execution_count": 8,
   "metadata": {
    "collapsed": true
   },
   "outputs": [],
   "source": [
    "import random\n",
    "\n",
    "def count_letters(S):\n",
    "    alphabet = string.ascii_lowercase\n",
    "    count_dict = {c: S.count(c) for c in alphabet}\n",
    "    return count_dict\n"
   ]
  },
  {
   "cell_type": "code",
   "execution_count": 9,
   "metadata": {
    "nbgrader": {
     "grade": true,
     "grade_id": "count_letters",
     "locked": true,
     "points": "4",
     "solution": false
    },
    "scrolled": true
   },
   "outputs": [
    {
     "name": "stdout",
     "output_type": "stream",
     "text": [
      "Input String:  icfeaowmubhojsjhsimavnmejahsvfqalrgnpyfxduoslxdmjggwbrgstrzddzhhjijtxfmrsvaqqlscpfeyldvummeyzbbegjny\n",
      "Character frequency evaluated for:  s\n",
      "|----Your function seems to return correct freq for the char----|\n",
      "\n",
      "Input String:  bbqldgjzehxhgweltkecgenknvqmpmmkbslrksshompbfuiubvzekdlzpikhdictjbuswyabzfswxuabehogirbjkqbndkbzvqcy\n",
      "Character frequency evaluated for:  c\n",
      "|----Your function seems to return correct freq for the char----|\n",
      "\n",
      "Input String:  gbkbdtfxqqwoukrgsxsgoacqqzwzmpcnpgfecgtpveqejmjiscjptahvpbokkatmpbqjojxcnorbrcllkyzkuxegojebthpgwlri\n",
      "Character frequency evaluated for:  v\n",
      "|----Your function seems to return correct freq for the char----|\n",
      "\n",
      "\n",
      "(Passed)!\n"
     ]
    }
   ],
   "source": [
    "# Test cell: count_letters\n",
    "import collections\n",
    "\n",
    "N_processed_str = 100\n",
    "\n",
    "def generate_processed_str(n):\n",
    "    random_processed_str = ''.join(random.choice(string.ascii_lowercase) for _ in range(n))\n",
    "    return random_processed_str\n",
    "\n",
    "def check_count_letters(S):\n",
    "    print(\"Input String: \",S)\n",
    "    random_char = chr(random.randint(97,122))\n",
    "    print(\"Character frequency evaluated for: \", random_char)\n",
    "    if(random_char in S):\n",
    "        assert count_letters(S)[random_char] == collections.Counter(S)[random_char]\n",
    "        print(\"|----Your function seems to return correct freq for the char----|\"+\"\\n\")\n",
    "    else:\n",
    "        assert count_letters(S)[random_char] == 0\n",
    "        print(\"|----Your function seems to return correct freq for the char----|\"+\"\\n\")\n",
    "        \n",
    "check_count_letters(generate_processed_str(N_processed_str))\n",
    "check_count_letters(generate_processed_str(N_processed_str))\n",
    "check_count_letters(generate_processed_str(N_processed_str))\n",
    "print(\"\\n(Passed)!\")"
   ]
  },
  {
   "cell_type": "markdown",
   "metadata": {},
   "source": [
    "**Exercise 2** (4 points). The next step is to sort the distribution of a dictionary containing all the letters in the alphabet as keys and number of occurrences in text as associated value. \n",
    "\n",
    "Sorting should be first done in decreasing order by occurrence count and for two elements with same count, the order should be alphabetic. The function  `find_top_letter(d)` should return the 1st character in the order."
   ]
  },
  {
   "cell_type": "code",
   "execution_count": 13,
   "metadata": {},
   "outputs": [],
   "source": [
    "def find_top_letter(d):\n",
    "    t = [(l, o) for l,o in d.items()] # change items in dict to a list\n",
    "    t.sort(key = lambda x: (x[1]*-1, x[0]))\n",
    "    return t[:1][0][0]\n",
    "    \n"
   ]
  },
  {
   "cell_type": "code",
   "execution_count": 14,
   "metadata": {
    "nbgrader": {
     "grade": true,
     "grade_id": "highest_freq_letter",
     "locked": true,
     "points": "4",
     "solution": false
    },
    "scrolled": true
   },
   "outputs": [
    {
     "name": "stdout",
     "output_type": "stream",
     "text": [
      "Input Dictionary:  {'a': 3, 'b': 0, 'c': 1, 'd': 6, 'e': 1, 'f': 0, 'g': 5, 'h': 6, 'i': 1, 'j': 5, 'k': 4, 'l': 1, 'm': 8, 'n': 7, 'o': 6, 'p': 3, 'q': 5, 'r': 7, 's': 1, 't': 8, 'u': 3, 'v': 7, 'w': 2, 'x': 2, 'y': 0, 'z': 4}\n",
      "Your function correctly returned most frequent letter: m \n",
      "\n",
      "Input Dictionary:  {'a': 5, 'b': 16, 'c': 2, 'd': 8, 'e': 1, 'f': 5, 'g': 10, 'h': 10, 'i': 10, 'j': 5, 'k': 12, 'l': 4, 'm': 3, 'n': 4, 'o': 4, 'p': 11, 'q': 3, 'r': 15, 's': 14, 't': 12, 'u': 13, 'v': 6, 'w': 5, 'x': 6, 'y': 2, 'z': 16}\n",
      "Your function correctly returned most frequent letter: b \n",
      "\n",
      "Input Dictionary:  {'a': 18, 'b': 7, 'c': 4, 'd': 17, 'e': 2, 'f': 15, 'g': 2, 'h': 11, 'i': 6, 'j': 11, 'k': 12, 'l': 1, 'm': 13, 'n': 12, 'o': 12, 'p': 4, 'q': 5, 'r': 13, 's': 12, 't': 8, 'u': 14, 'v': 15, 'w': 8, 'x': 7, 'y': 18, 'z': 13}\n",
      "Your function correctly returned most frequent letter: a \n",
      "\n",
      "\n",
      "(Passed)!\n"
     ]
    }
   ],
   "source": [
    "# Test cell: highest_freq_letter\n",
    "\n",
    "def create_random_dict():\n",
    "    max_char_value = random.randint(5, 20)\n",
    "    random_dict = {c:random.randint(0,max_char_value-1) for c in string.ascii_lowercase}\n",
    "    random_letter1, random_letter2 = random.sample(string.ascii_lowercase, 2)\n",
    "    random_dict[random_letter1], random_dict[random_letter2] = max_char_value, max_char_value\n",
    "    if(random_letter1 < random_letter2):\n",
    "        return random_letter1, random_dict\n",
    "    else:\n",
    "        return random_letter2, random_dict\n",
    "\n",
    "def check_top_letter():\n",
    "    top_letter, random_dict = create_random_dict()\n",
    "    user_letter = find_top_letter(random_dict)\n",
    "    assert user_letter == top_letter\n",
    "    print(\"Input Dictionary: \", random_dict)\n",
    "    print(\"Your function correctly returned most frequent letter: {} \\n\".format(user_letter))\n",
    "    \n",
    "check_top_letter()\n",
    "check_top_letter()\n",
    "check_top_letter()\n",
    "print(\"\\n(Passed)!\")"
   ]
  },
  {
   "cell_type": "markdown",
   "metadata": {},
   "source": [
    "**Fin!** You've reached the end of this problem. Don't forget to restart the kernel and run the entire notebook from top-to-bottom to make sure you did everything correctly. If that is working, try submitting this problem. (Recall that you *must* submit and pass the autograder to get credit for your work!)"
   ]
  }
 ],
 "metadata": {
  "kernelspec": {
   "display_name": "Python 3.6 (beta)",
   "language": "python",
   "name": "python36"
  },
  "language_info": {
   "codemirror_mode": {
    "name": "ipython",
    "version": 3
   },
   "file_extension": ".py",
   "mimetype": "text/x-python",
   "name": "python",
   "nbconvert_exporter": "python",
   "pygments_lexer": "ipython3",
   "version": "3.6.4"
  }
 },
 "nbformat": 4,
 "nbformat_minor": 2
}
