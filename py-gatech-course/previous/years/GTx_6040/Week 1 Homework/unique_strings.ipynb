{
 "cells": [
  {
   "cell_type": "markdown",
   "metadata": {},
   "source": [
    "# Problem 3\n",
    "\n",
    "This problem has a single exercise worth a total of ten (10) points.\n",
    "\n",
    "**Exercise 0** (10 points). Define a function, `UniqueCharacters(s)`, that given a string `s` returns a tuple of two elements: the first element is the number of unique alphabetic characters in the string and the second is the number of unique digits (base-10) in the string.\n",
    "\n",
    "For example, the string `'ewwwffioj122434'` should output the following tuple: `(6, 4)`. The `6` occurs because there are 6 unique letters (`'e'`, `'w'`, `'f'`, `'i'`, `'o'`, and `'j'`) and `4` because there are 4 unique numbers (`'1'`,  `'2'`, `'3'`, `'4'`). Special characters may appear in the string but do not count as a letter or number."
   ]
  },
  {
   "cell_type": "code",
   "execution_count": 21,
   "metadata": {},
   "outputs": [
    {
     "data": {
      "text/plain": [
       "(6, 4)"
      ]
     },
     "execution_count": 21,
     "metadata": {},
     "output_type": "execute_result"
    }
   ],
   "source": [
    "def UniqueCharacters(s):\n",
    "    set_s = set(s)\n",
    "    char_filter = [y for y in set_s if y.isalpha()]\n",
    "    char_count = len(char_filter)\n",
    "    num_filter = [y for y in set_s if y.isnumeric()] \n",
    "    num_count = len(num_filter)\n",
    "    \n",
    "    return (char_count, num_count)\n",
    "\n",
    "\n",
    "\n",
    "# pythonic solution\n",
    "def UniqueCharacters(s):\n",
    "    return (len(set([i for i in s if i.isalpha()])),\n",
    "           len(set([i for i in s if i.isdigit()])))\n",
    "\n",
    "UniqueCharacters('ewwwffioj122434')\n"
   ]
  },
  {
   "cell_type": "code",
   "execution_count": 22,
   "metadata": {
    "nbgrader": {
     "grade": true,
     "grade_id": "UniqueCharacters",
     "locked": true,
     "points": "10",
     "solution": false
    }
   },
   "outputs": [
    {
     "name": "stdout",
     "output_type": "stream",
     "text": [
      "\n",
      "(Passed!)\n"
     ]
    }
   ],
   "source": [
    "# Test Cell: 'UniqueCharacters' (10 points)\n",
    "assert UniqueCharacters('abc123') == (3,3)\n",
    "assert UniqueCharacters('abc') == (3,0)\n",
    "assert UniqueCharacters('aaa') == (1,0)\n",
    "assert UniqueCharacters('aaa111') == (1,1)\n",
    "assert UniqueCharacters('111') == (0,1)\n",
    "assert UniqueCharacters('123') == (0,3)\n",
    "assert UniqueCharacters('') == (0,0)\n",
    "assert UniqueCharacters('///;;;...,????!!!!!###$$$%%%') == (0,0)\n",
    "assert UniqueCharacters('//23bd') == (2,2)\n",
    "assert UniqueCharacters('b2b3n4s4d9') == (4,4)\n",
    "assert UniqueCharacters('9090909p0y90p90y90') == (2,2)\n",
    "assert UniqueCharacters('ieowjfiojfioj2342io4ji') == (6,3)\n",
    "assert UniqueCharacters('ewwwffioj122434') == (6,4)\n",
    "assert UniqueCharacters('dwdj2ru3jf894jgf.,/23,4./3ei8fj2389ej89/,.,./2dd32je98dej89ij') == (9,5)\n",
    "print(\"\\n(Passed!)\")"
   ]
  },
  {
   "cell_type": "markdown",
   "metadata": {},
   "source": [
    "**Fin!** You've reached the end of this problem. Don't forget to restart the\n",
    "kernel and run the entire notebook from top-to-bottom to make sure you did\n",
    "everything correctly. If that is working, try submitting this problem. (Recall\n",
    "that you *must* submit and pass the autograder to get credit for your work!)"
   ]
  }
 ],
 "metadata": {
  "kernelspec": {
   "display_name": "Python 3.6 (beta)",
   "language": "python",
   "name": "python36"
  },
  "language_info": {
   "codemirror_mode": {
    "name": "ipython",
    "version": 3
   },
   "file_extension": ".py",
   "mimetype": "text/x-python",
   "name": "python",
   "nbconvert_exporter": "python",
   "pygments_lexer": "ipython3",
   "version": "3.6.4"
  }
 },
 "nbformat": 4,
 "nbformat_minor": 2
}
