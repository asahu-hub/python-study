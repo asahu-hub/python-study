{
 "cells": [
  {
   "cell_type": "markdown",
   "metadata": {
    "nbgrader": {
     "grade": false,
     "locked": true,
     "solution": false
    }
   },
   "source": [
    "# Problem 1: Traveling Salesperson Problem"
   ]
  },
  {
   "cell_type": "markdown",
   "metadata": {
    "nbgrader": {
     "grade": false,
     "locked": true,
     "solution": false
    }
   },
   "source": [
    "This problem will test your ability to translate a non-trivial algorithm into code. More specifically, you will \"solve\" the [Traveling Salesperson Problem](https://en.wikipedia.org/wiki/Travelling_salesman_problem) in this notebook. \n",
    "> The traveling salesperson problem (TSP) statement is: given `N` cities and the distances between each pair of cities, calculate the shortest _tour_, which is a path that visits each city once and then returns to the origin city.\n",
    "\n",
    "This problem is in a class of problems called [NP-complete](https://en.wikipedia.org/wiki/NP-completeness). Roughly speaking, that means there is no known way to calculate the exact solution in a time that is less than exponential in the size of the input. For TSP, that's saying we need to check all possibilities, which is bad news, computationally speaking: a brute-force search to check all combinations of paths would need to run through `N!` possibilities, which for 20 cities, comes out to about $20! \\approx 2 \\cdot 10^{18}$ paths!\n",
    "\n",
    "Thankfully, many heuristic or approximate solutions exist. You will implement one of these in this notebook."
   ]
  },
  {
   "cell_type": "markdown",
   "metadata": {
    "nbgrader": {
     "grade": false,
     "locked": true,
     "solution": false
    }
   },
   "source": [
    "## Simulated Annealing\n",
    "\n",
    "[Simulated Annealing (SA)](https://en.wikipedia.org/wiki/Simulated_annealing) is a probablistic technique that can find good solutions to TSP, although it is not guaranteed to find the optimal solution. The rest of this notebook will walk you through how SA for TSP works.\n",
    "\n",
    "Intuitively, SA tries to do the following. Suppose you are trying to minimize some cost function that has _many_ local minima. If you use traditional gradient-based methods, where you progressively take steps that always decrease the cost function, it's easy to fall into one of these and then \"get stuck.\" The SA procedure says that as you are exploring potential solutions, you should occasionally take one even if it _increases_ the cost function. However, you should do so more frequently in the beginning, and gradually accept a higher cost solution less and less frequently as you go.\n",
    "\n",
    "More formally, here is the high-level algorithmic idea:\n",
    "1. Start with a random path through the cities\n",
    "2. For some number of steps, iterate as follows:\n",
    "    * Randomly swap two cities in the path\n",
    "    * If this new path is shorter, accept it. Otherwise, accept it with probability ***p***\n",
    "    * Repeat\n",
    "\n",
    "The trick is to choose a value of ***p*** that shrinks as you near the end of the iteration. This means that early in the algorithm, you randomly choose worse-performing paths in the hopes that you will leave any local minima.\n",
    "\n",
    "To see SA in action, see this animation of SA applied to a bunch of cities in the United States. (This illustration is taken from [toddwschneider.com](toddwschneider.com).)\n",
    "\n",
    "![Simulated Annealing](http://toddwschneider.com/data/salesman/us_state_capitals_tsp.gif)"
   ]
  },
  {
   "cell_type": "markdown",
   "metadata": {
    "nbgrader": {
     "grade": false,
     "locked": true,
     "solution": false
    }
   },
   "source": [
    "In the animation above, the \"annealing schedule\" is related to the probability of accepting a worse-solution, and the \"current tour distance\" shows you how the cost function decreases over time.\n",
    "\n",
    "To get started, run the below code cell to import the necessary libraries and set up examples we will use.\n",
    "\n",
    "#### If your values for `CITIES` and/or `RANDOM_PATH` variables change, you may need to re-run this code cell."
   ]
  },
  {
   "cell_type": "code",
   "execution_count": 1,
   "metadata": {
    "nbgrader": {
     "grade": false,
     "locked": true,
     "solution": false
    }
   },
   "outputs": [
    {
     "name": "stdout",
     "output_type": "stream",
     "text": [
      "20 generated cities:\n",
      "[(17, 72), (97, 8), (32, 15), (63, 97), (57, 60), (83, 48), (26, 12), (62, 3), (49, 55), (77, 97), (98, 0), (89, 57), (34, 92), (29, 75), (13, 40), (3, 2), (3, 83), (69, 1), (48, 87), (27, 54)]\n",
      "\n",
      "\n",
      "Randomly-generated path:\n",
      "[0, 16, 7, 14, 15, 8, 3, 5, 13, 10, 11, 17, 4, 19, 9, 18, 6, 12, 1, 2]\n"
     ]
    },
    {
     "data": {
      "text/plain": [
       "<matplotlib.collections.PathCollection at 0x7f18bd1c2a20>"
      ]
     },
     "execution_count": 1,
     "metadata": {},
     "output_type": "execute_result"
    },
    {
     "data": {
      "image/png": "[encoded data removed]",
      "text/plain": [
       "<matplotlib.figure.Figure at 0x7f18e28bbfd0>"
      ]
     },
     "metadata": {},
     "output_type": "display_data"
    }
   ],
   "source": [
    "import numpy as np\n",
    "import random\n",
    "import math\n",
    "import matplotlib.pyplot as plt\n",
    "%matplotlib inline\n",
    "\n",
    "# Set random seed for reproducibility\n",
    "random.seed(1)\n",
    "\n",
    "# Cities are (x, y) pairs in range [0, 100)\n",
    "CITIES = [tuple(random.sample(range(100), 2)) for city in range(20)]\n",
    "RANDOM_PATH = random.sample(range(20), 20)\n",
    "\n",
    "print('20 generated cities:')\n",
    "print(CITIES)\n",
    "print('\\n')\n",
    "print('Randomly-generated path:')\n",
    "print(RANDOM_PATH)\n",
    "\n",
    "plt.scatter([c[0] for c in CITIES], [c[1] for c in CITIES])"
   ]
  },
  {
   "cell_type": "markdown",
   "metadata": {
    "nbgrader": {
     "grade": false,
     "locked": true,
     "solution": false
    }
   },
   "source": [
    "The preceding code cell randomly generated 20 **\"cities\"**. Each city is represented by an ID from 0 to 19 inclusive and has **coordinates *(x, y)***, where both the *x* and *y* values lie in the *range [0,100)*. If `s` is a city ID, then `CITIES[s]` are its coordinates, stored as a tuple:"
   ]
  },
  {
   "cell_type": "code",
   "execution_count": 2,
   "metadata": {},
   "outputs": [
    {
     "name": "stdout",
     "output_type": "stream",
     "text": [
      "City ID 0 has coordinates (17, 72).\n",
      "City ID 1 has coordinates (97, 8).\n",
      "City ID 2 has coordinates (32, 15).\n",
      "City ID 3 has coordinates (63, 97).\n",
      "City ID 4 has coordinates (57, 60).\n",
      "City ID 5 has coordinates (83, 48).\n",
      "City ID 6 has coordinates (26, 12).\n",
      "City ID 7 has coordinates (62, 3).\n",
      "City ID 8 has coordinates (49, 55).\n",
      "City ID 9 has coordinates (77, 97).\n",
      "City ID 10 has coordinates (98, 0).\n",
      "City ID 11 has coordinates (89, 57).\n",
      "City ID 12 has coordinates (34, 92).\n",
      "City ID 13 has coordinates (29, 75).\n",
      "City ID 14 has coordinates (13, 40).\n",
      "City ID 15 has coordinates (3, 2).\n",
      "City ID 16 has coordinates (3, 83).\n",
      "City ID 17 has coordinates (69, 1).\n",
      "City ID 18 has coordinates (48, 87).\n",
      "City ID 19 has coordinates (27, 54).\n"
     ]
    }
   ],
   "source": [
    "for s in range(len(CITIES)):\n",
    "    print(\"City ID {} has coordinates {}.\".format(s, CITIES[s]))"
   ]
  },
  {
   "cell_type": "markdown",
   "metadata": {
    "nbgrader": {
     "grade": false,
     "locked": true,
     "solution": false
    }
   },
   "source": [
    "The preceding code cell also constructed a random **path** through the 20 cities. We define a **path** to be an ordering of the 20 cities. It is given as a list of the city IDs.\n",
    "\n",
    "That is, if `path[:]` is a path, then `path[0]` is the ID of the first city on the path. That city's (x, y)-coordinates are given by `(CITIES[path[0]][0], CITIES[path[0]][1])`. The initial random path is stored in the list, `RANDOM_PATH[:]`. For instance:"
   ]
  },
  {
   "cell_type": "code",
   "execution_count": 3,
   "metadata": {},
   "outputs": [
    {
     "name": "stdout",
     "output_type": "stream",
     "text": [
      "Here is the initial random path [0, 16, 7, 14, 15, 8, 3, 5, 13, 10, 11, 17, 4, 19, 9, 18, 6, 12, 1, 2]\n",
      "The **second** city on the path has ID 16.\n",
      "Its coordinates are (3, 83).\n"
     ]
    }
   ],
   "source": [
    "print(\"Here is the initial random path {}\".format(RANDOM_PATH))\n",
    "print(\"The **second** city on the path has ID {}.\".format(RANDOM_PATH[1]))\n",
    "print(\"Its coordinates are {}.\".format(CITIES[RANDOM_PATH[1]]))"
   ]
  },
  {
   "cell_type": "markdown",
   "metadata": {
    "nbgrader": {
     "grade": false,
     "locked": true,
     "solution": false
    }
   },
   "source": [
    "Here is a picture of the initial random path:"
   ]
  },
  {
   "cell_type": "code",
   "execution_count": 4,
   "metadata": {
    "nbgrader": {
     "grade": false,
     "locked": true,
     "solution": false
    }
   },
   "outputs": [
    {
     "data": {
      "image/png": "[encoded data removed]",
      "text/plain": [
       "<matplotlib.figure.Figure at 0x7f18bd178cc0>"
      ]
     },
     "metadata": {},
     "output_type": "display_data"
    }
   ],
   "source": [
    "def plot_path(path, cities):\n",
    "    n=len(cities)\n",
    "    plt.plot([cities[path[k % n]][0] for k in range(n+1)], [cities[path[k % n]][1] for k in range(n+1)], marker='o')\n",
    "    \n",
    "plot_path(RANDOM_PATH, CITIES)"
   ]
  },
  {
   "cell_type": "markdown",
   "metadata": {
    "nbgrader": {
     "grade": false,
     "locked": true,
     "solution": false
    }
   },
   "source": [
    "Lastly, you will need the following function, which calculates the Euclidean distance between two cities."
   ]
  },
  {
   "cell_type": "code",
   "execution_count": 5,
   "metadata": {
    "nbgrader": {
     "grade": false,
     "locked": true,
     "solution": false
    }
   },
   "outputs": [
    {
     "name": "stdout",
     "output_type": "stream",
     "text": [
      "The distance between the first two cities on the path, 0 and 16, is 17.804493814764857.\n"
     ]
    }
   ],
   "source": [
    "def euclidean_distance(city_a, city_b):\n",
    "    return math.sqrt((city_b[0] - city_a[0])**2 + (city_b[1] - city_a[1])**2)\n",
    "\n",
    "# Demo:\n",
    "first_city = RANDOM_PATH[0]\n",
    "second_city = RANDOM_PATH[1]\n",
    "print(\"The distance between the first two cities on the path, {} and {}, is {}.\".format(first_city,\n",
    "                                                                                        second_city,\n",
    "                                                                                        euclidean_distance(CITIES[first_city],\n",
    "                                                                                                           CITIES[second_city])))"
   ]
  },
  {
   "cell_type": "markdown",
   "metadata": {
    "nbgrader": {
     "grade": false,
     "locked": true,
     "solution": false
    }
   },
   "source": [
    "**Exercise 0** (3 points): Let's get started on a helper function for your final algorithm implementation. One of the most important functions for this algorithm is the one used to calculate the total distance for a given path through all cities.\n",
    "\n",
    "Write a function:\n",
    "```python\n",
    "def calculate_path_distance(path, cities)```\n",
    "\n",
    "that takes two inputs,\n",
    "\n",
    "1. `path`, a list in the same format as `RANDOM_PATH` above; and\n",
    "2. `cities`, a list of tuples in the same format as `CITIES` above;\n",
    "\n",
    "and returns the total distance of a round-trip tour through the cities. That is, `path` represents an **ordering** of the `cities`, representing a path that visits each city in `cities`, and your function should calculate the length of this path **including the return to the origin city**.\n",
    "\n",
    "Take a path of 20 cities as an example (pay special attention to the last term):\n",
    "\n",
    "$$\n",
    "\\newcommand{\\pathdist}{\\mathrm{path\\ distance}}\n",
    "\\newcommand{\\dist}{\\mathrm{dist}}\n",
    "\\newcommand{\\cities}{\\mathrm{cities}}\n",
    "\\newcommand{\\path}{\\mathrm{path}}\n",
    "\\begin{equation}\n",
    "\\pathdist = \\dist(\\cities[\\path[0]], \\cities[\\path[1]]) + \\dist(\\cities[\\path[1]], \\cities[\\path[2]]) + \\ldots + \\dist(\\cities[\\path[19]], \\cities[\\path[0]]),\n",
    "\\end{equation}\n",
    "$$\n",
    "\n",
    "where $\\dist(A, B)$, for two cities $A$ and $B$, is the Euclidean distance, **defined in the code cell above** as\n",
    "\n",
    "$$\\dist(A, B) = \\sqrt{(B[0] - A[0])^2 + (B[1] - A[1])^2}.$$"
   ]
  },
  {
   "cell_type": "code",
   "execution_count": 25,
   "metadata": {},
   "outputs": [],
   "source": [
    "def calculate_path_distance(path, cities):\n",
    "    assert isinstance(path, list)\n",
    "    assert isinstance(cities, list)\n",
    "    assert len(path) > 0 and len(cities) > 0\n",
    "    assert len(path)==len(cities)\n",
    "    \n",
    "    path_dist = []\n",
    "    \n",
    "    for i in path:\n",
    "        if i+1 >= len(path):\n",
    "            path_dist.append(euclidean_distance(cities[path[i]], cities[path[0]]))\n",
    "            \n",
    "        else:\n",
    "            path_dist.append(euclidean_distance(cities[path[i]], cities[path[i+1]]))\n",
    "        \n",
    "    \n",
    "    return sum(path_dist)\n",
    "\n",
    "\n",
    "\n",
    "\n",
    "\n"
   ]
  },
  {
   "cell_type": "code",
   "execution_count": 26,
   "metadata": {
    "nbgrader": {
     "grade": true,
     "grade_id": "calculate_path_distance",
     "locked": true,
     "points": "3",
     "solution": false
    }
   },
   "outputs": [
    {
     "name": "stdout",
     "output_type": "stream",
     "text": [
      "\n",
      "(Passed.)\n"
     ]
    }
   ],
   "source": [
    "# Test cell: `calculate_path_distance`\n",
    "# Case 1\n",
    "assert abs(calculate_path_distance(RANDOM_PATH, CITIES) - 1240.032842631545) < 0.00001, 'Wrong result'\n",
    "\n",
    "# Random case\n",
    "random.seed(123)\n",
    "test_cities = [random.sample(range(50), 2) for city in range(10)]\n",
    "test_path = random.sample(range(10), 10)\n",
    "assert abs(calculate_path_distance(test_path, test_cities) - 289.640918148723) < 0.00001, 'Wrong result'\n",
    "\n",
    "test_cities = [random.sample(range(150), 2) for city in range(30)]\n",
    "test_path = random.sample(range(30), 30)\n",
    "assert abs(calculate_path_distance(test_path, test_cities) - 2775.449649372132) < 0.00001, 'Wrong result'\n",
    "\n",
    "print(\"\\n(Passed.)\")"
   ]
  },
  {
   "cell_type": "markdown",
   "metadata": {
    "nbgrader": {
     "grade": false,
     "locked": true,
     "solution": false
    }
   },
   "source": [
    "**Exercise 1** (2 points): Next, implement a function that will randomly swap two cities in a given path. \n",
    "\n",
    "That is, implement the function, `swap_cities(path, i, j)`, below, which takes as input a `path` (a list of city indices) and two integers, `i` and `j`, that represent the _indices_ of the two cities that will be swapped. Your function must return a list representing the **new path** that swaps the cities `path[i]` and `path[j]`.\n",
    ">**Note**: Your function should not change the original path object, but return a new one.\n",
    "\n",
    "For example,\n",
    "\n",
    "$$\n",
    "\\newcommand{\\swapcities}{\\mathrm{swap\\_cities}}\n",
    "\\swapcities([0, 4, \\underline{1}, 2, \\underline{3}], 2, 4) = [0, 4, \\underline{3}, 2, \\underline{1}]\n",
    "$$\n",
    "\n",
    "since the cities at positions 2 and 4 of the list [0, 4, 1, 2, 3] are 1 and 3, respectively."
   ]
  },
  {
   "cell_type": "code",
   "execution_count": 30,
   "metadata": {},
   "outputs": [
    {
     "data": {
      "text/plain": [
       "[0, 1, 4, 3, 2]"
      ]
     },
     "execution_count": 30,
     "metadata": {},
     "output_type": "execute_result"
    }
   ],
   "source": [
    "def swap_cities(path, i, j):\n",
    "    assert isinstance(path, list)\n",
    "    assert isinstance(i, int)\n",
    "    assert isinstance(j, int)\n",
    "    assert i >= 0 and j >= 0 and len(path) > 0\n",
    "    assert i < len(path) and j < len(path) and i!= j\n",
    "    new_path = path.copy()\n",
    "    new_path[i] = path[j]\n",
    "    new_path[j] = path[i]\n",
    "    return new_path\n",
    "\n",
    "\n",
    "swap_cities([0,1,2,3,4],2,4)\n",
    "\n"
   ]
  },
  {
   "cell_type": "code",
   "execution_count": 31,
   "metadata": {
    "nbgrader": {
     "grade": true,
     "grade_id": "swap_cities",
     "locked": true,
     "points": "2",
     "solution": false
    }
   },
   "outputs": [
    {
     "name": "stdout",
     "output_type": "stream",
     "text": [
      "\n",
      "(Passed.)\n"
     ]
    }
   ],
   "source": [
    "# Test cell: `swap_cities`\n",
    "assert swap_cities([0,1,2,3,4],2,4)==[0,1,4,3,2]\n",
    "test_path1 = [0, 1, 8, 2, 7, 6, 4, 3, 9, 5]\n",
    "test_path2 = [0, 11, 5, 7, 9, 3, 6, 4, 1, 2, 10, 8]\n",
    "test_path3 = [10, 3, 5, 11, 2, 9, 4, 7, 14, 6, 8, 13, 1, 0, 12]\n",
    "test_path4 = [7, 0, 5, 10, 17, 2, 8, 13, 15, 12, 16, 14, 19, 6, 3, 4, 9, 11, 1, 18]\n",
    "assert swap_cities(test_path1, 0, 9)==[5, 1, 8, 2, 7, 6, 4, 3, 9, 0], 'Wrong result'\n",
    "assert swap_cities(test_path2, 9, 8)==[0, 11, 5, 7, 9, 3, 6, 4, 2, 1, 10, 8], 'Wrong result'\n",
    "assert swap_cities(test_path3, 13, 14)==[10, 3, 5, 11, 2, 9, 4, 7, 14, 6, 8, 13, 1, 12, 0], 'Wrong result'\n",
    "assert swap_cities(test_path4, 10, 0)==[16, 0, 5, 10, 17, 2, 8, 13, 15, 12, 7, 14, 19, 6, 3, 4, 9, 11, 1, 18], 'Wrong result'\n",
    "assert test_path1 == [0, 1, 8, 2, 7, 6, 4, 3, 9, 5], 'Your original path was changed'\n",
    "assert test_path2 == [0, 11, 5, 7, 9, 3, 6, 4, 1, 2, 10, 8], 'Your original path was changed'\n",
    "assert test_path3 == [10, 3, 5, 11, 2, 9, 4, 7, 14, 6, 8, 13, 1, 0, 12], 'Your original path was changed'\n",
    "assert test_path4 == [7, 0, 5, 10, 17, 2, 8, 13, 15, 12, 16, 14, 19, 6, 3, 4, 9, 11, 1, 18], 'Your original path was changed'\n",
    "print(\"\\n(Passed.)\")"
   ]
  },
  {
   "cell_type": "markdown",
   "metadata": {
    "nbgrader": {
     "grade": false,
     "locked": true,
     "solution": false
    }
   },
   "source": [
    "Your next building block is the calculation of the **acceptance probability**, that is, the value of ***p*** in the *Simulated Annealing* algorithm. Recall that this value is the probability of accepting a solution. Specifically, there are two cases: $\\newcommand{\\olddist}{\\mathrm{old\\_distance}}\\newcommand{\\newdist}{\\mathrm{new\\_distance}}$\n",
    "\n",
    "1. If the new solution is strictly better, meaning $\\newdist < \\olddist$, we accept it, i.e., **p** = 1.0.\n",
    "2. If the new solution is equal to or worse, meaning $\\newdist \\ge \\olddist$, then the probability we will accept it is some **p** $\\leq$ 1.0.\n",
    "\n",
    "In the second case, we will compute **p** as\n",
    "\n",
    "$$\n",
    "\\begin{equation}\n",
    "\\mathbf{p} \\equiv \\exp\\!\\left(\\frac{\\olddist - \\newdist}{k}\\right)\n",
    "\\end{equation},\n",
    "$$\n",
    "\n",
    "where `old_distance` is the distance of the original path, `new_distance` is the distance of the new path you are testing, and `k` is the \"temperature\" of the system (from the animated movie from above), which will be given.\n",
    "\n",
    "The idea behind the acceptance probability is the following. As the system \"cools\" (the temperature `k` drops), the acceptance probability lowers as well, and you are less likely to accept worse solutions. In the animation from above, you can see the *Current Tour Distance*'s variability dropping as the number of iterations increases. "
   ]
  },
  {
   "cell_type": "markdown",
   "metadata": {
    "nbgrader": {
     "grade": false,
     "locked": true,
     "solution": false
    }
   },
   "source": [
    "**Exercise 2** (2 points): Implement the function\n",
    "\n",
    "```python\n",
    "def acceptance_probability(old_distance, new_distance, k):\n",
    "    ```\n",
    "\n",
    "whose parameters are defined as above. Your function will return a ***probability***, which will be a value between 0 and 1, representing the acceptance probability for the particular solution based on the formula above."
   ]
  },
  {
   "cell_type": "code",
   "execution_count": 66,
   "metadata": {},
   "outputs": [],
   "source": [
    "def acceptance_probability(old_distance, new_distance, k):\n",
    "    assert isinstance(old_distance, (int, float))\n",
    "    assert isinstance(new_distance, (int, float))\n",
    "    assert isinstance(k, (int, float))\n",
    "    assert old_distance > 0 and new_distance > 0 and k > 0\n",
    "    return np.exp((old_distance - new_distance) / k)\n",
    "\n"
   ]
  },
  {
   "cell_type": "code",
   "execution_count": 34,
   "metadata": {
    "nbgrader": {
     "grade": true,
     "grade_id": "acceptance_probability",
     "locked": true,
     "points": "2",
     "solution": false
    }
   },
   "outputs": [
    {
     "name": "stdout",
     "output_type": "stream",
     "text": [
      "\n",
      "(Passed.)\n"
     ]
    }
   ],
   "source": [
    "# Test cell: `acceptance_probability`\n",
    "for k in range(1, 1000):\n",
    "    assert acceptance_probability(500, 490, k) >= 1.0, \"Your solution does not always accept the better solution\"\n",
    "\n",
    "assert abs(acceptance_probability(500, 510, 10000) - 0.999000499833375) < 0.00001, \"Your acceptance probability is incorrect\"\n",
    "assert abs(acceptance_probability(500, 550, 100) - 0.6065306597126334) < 0.00001, \"Your acceptance probability is incorrect\"\n",
    "assert abs(acceptance_probability(500, 501, 100) - 0.9900498337491681) < 0.00001, \"Your acceptance probability is incorrect\"\n",
    "print(\"\\n(Passed.)\")"
   ]
  },
  {
   "cell_type": "markdown",
   "metadata": {
    "nbgrader": {
     "grade": false,
     "locked": true,
     "solution": false
    }
   },
   "source": [
    "You will now implement the full algorithm to compute a path. First, we will provide you with a \"mediocre\" path, which is what your algorithm can (hopefully) improve."
   ]
  },
  {
   "cell_type": "code",
   "execution_count": 35,
   "metadata": {
    "nbgrader": {
     "grade": false,
     "locked": true,
     "solution": false
    }
   },
   "outputs": [
    {
     "name": "stdout",
     "output_type": "stream",
     "text": [
      "\"Mediocre\" baseline path: [16, 0, 13, 19, 14, 15, 6, 2, 5, 11, 1, 10, 17, 7, 8, 4, 9, 3, 18, 12]\n",
      "Length of this path: 491.98774555054456\n"
     ]
    },
    {
     "data": {
      "image/png": "[encoded data removed]",
      "text/plain": [
       "<matplotlib.figure.Figure at 0x7f18ad7eb048>"
      ]
     },
     "metadata": {},
     "output_type": "display_data"
    }
   ],
   "source": [
    "# A baseline or \"benchmark\" path\n",
    "benchmark_path = [16, 0, 13, 19, 14, 15, 6, 2, 5, 11, 1, 10, 17, 7, 8, 4, 9, 3, 18, 12]\n",
    "print('\"Mediocre\" baseline path: {}'.format(benchmark_path))\n",
    "plot_path(benchmark_path, CITIES)\n",
    "print('Length of this path: {}'.format(calculate_path_distance(benchmark_path, CITIES)))"
   ]
  },
  {
   "cell_type": "markdown",
   "metadata": {
    "nbgrader": {
     "grade": false,
     "locked": true,
     "solution": false
    }
   },
   "source": [
    "**Exercise 3** (3 points): You will now implement the full algorithm below. As a refresher, here are the steps required:\n",
    "\n",
    "1. Start with a random path of the cities. We have provided `RANDOM_PATH` as the start point. For this exercise, you will only need to implement the algorithm on the 20 cities.\n",
    "2. Iterate over a sequence of \"temperatures\" -- we have provided a loop for you that starts the temperature at 100,000 and decreases it to the value of 1 in logarithmic fashion, using the [numpy.logspace](https://docs.scipy.org/doc/numpy-1.15.0/reference/generated/numpy.logspace.html) function. For each such temperature `k` you will:\n",
    "    * Randomly swap two cities in the path\n",
    "    * If the newly created path is shorter, accept it, and if not, accept it only with probability ***p***\n",
    "\n",
    "And at the end, you will be left with an optimized path of cities.\n",
    "\n",
    "The only step that you have not already implemented is thresholding the acceptance probability ***p***. Use Python's random number generators to emulate \"flipping a (biased) coin\" to decide whether to accept a longer path, given `k`."
   ]
  },
  {
   "cell_type": "code",
   "execution_count": 84,
   "metadata": {},
   "outputs": [
    {
     "name": "stdout",
     "output_type": "stream",
     "text": [
      "[0, 16, 7, 14, 15, 8, 3, 5, 13, 10, 11, 17, 4, 19, 9, 18, 6, 12, 1, 2]\n",
      "Final path: [15, 6, 2, 7, 17, 10, 1, 5, 11, 8, 4, 9, 3, 18, 12, 13, 16, 0, 19, 14]\n",
      "The length of this path: 442.50331538337656\n"
     ]
    },
    {
     "data": {
      "image/png": "[encoded data removed]",
      "text/plain": [
       "<matplotlib.figure.Figure at 0x7f18ad7aa240>"
      ]
     },
     "metadata": {},
     "output_type": "display_data"
    }
   ],
   "source": [
    "from random import randint\n",
    "\n",
    "def flip(p):\n",
    "    return True if random.random() < p else False\n",
    "\n",
    "path = RANDOM_PATH\n",
    "print(path)\n",
    "\n",
    "for k in np.logspace(0, 5, num=100000)[::-1]: # Iterate the \"temperature\" from k=100,000 down-to 1, logarithmically\n",
    "    i = 0\n",
    "    j = 0\n",
    "    \n",
    "    main_path_d = calculate_path_distance(path, CITIES)\n",
    "    \n",
    "    while i == j:\n",
    "        i = randint(0, len(path)-1)\n",
    "        j = randint(0, len(path)-1) \n",
    "        \n",
    "    new_path = swap_cities(path, i, j)\n",
    "    new_path_d = calculate_path_distance(new_path, CITIES)\n",
    "    \n",
    "    if new_path_d < main_path_d:\n",
    "        path = new_path\n",
    "        \n",
    "    elif acceptance_probability(main_path_d, new_path_d, k) >= 1 - (k / 100000):\n",
    "        path = new_path\n",
    "        \n",
    "\n",
    "print(\"Final path: {}\".format(path))\n",
    "print(\"The length of this path: {}\".format(calculate_path_distance(path, CITIES)))\n",
    "plot_path(path, CITIES)\n",
    "\n"
   ]
  },
  {
   "cell_type": "code",
   "execution_count": 85,
   "metadata": {
    "nbgrader": {
     "grade": true,
     "grade_id": "final_algorithm",
     "locked": true,
     "points": "3",
     "solution": false
    }
   },
   "outputs": [
    {
     "name": "stdout",
     "output_type": "stream",
     "text": [
      "\n",
      "(Passed.)\n"
     ]
    }
   ],
   "source": [
    "# Test cell: `final_algorithm`\n",
    "assert calculate_path_distance(path, CITIES) < calculate_path_distance(benchmark_path, CITIES), 'Your shortest path can not beat the benchmark path.'\n",
    "print(\"\\n(Passed.)\")"
   ]
  },
  {
   "cell_type": "markdown",
   "metadata": {
    "nbgrader": {
     "grade": false,
     "locked": true,
     "solution": false
    }
   },
   "source": [
    "\n",
    "**Fin!** That's the end of this problem. Don't forget to restart and run this notebook from the beginning to verify that it works top-to-bottom before submitting. You can move on to the next problem"
   ]
  }
 ],
 "metadata": {
  "kernel_info": {
   "name": "python3"
  },
  "kernelspec": {
   "display_name": "Python 3.6",
   "language": "python",
   "name": "python36"
  },
  "language_info": {
   "codemirror_mode": {
    "name": "ipython",
    "version": 3
   },
   "file_extension": ".py",
   "mimetype": "text/x-python",
   "name": "python",
   "nbconvert_exporter": "python",
   "pygments_lexer": "ipython3",
   "version": "3.6.4"
  },
  "nteract": {
   "version": "0.12.3"
  }
 },
 "nbformat": 4,
 "nbformat_minor": 2
}
