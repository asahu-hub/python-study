{
 "cells": [
  {
   "cell_type": "markdown",
   "metadata": {
    "nbgrader": {
     "grade": false,
     "solution": false
    }
   },
   "source": [
    "# Important note!\n",
    "\n",
    "Before you turn this problem in, make sure everything runs as expected. First, **restart the kernel** (in the menubar, select Kernel$\\rightarrow$Restart) and then **run all cells** (in the menubar, select Cell$\\rightarrow$Run All).\n",
    "\n",
    "Make sure you fill in any place that says `YOUR CODE HERE` or \"YOUR ANSWER HERE\", as well as your name and collaborators below:"
   ]
  },
  {
   "cell_type": "code",
   "execution_count": null,
   "metadata": {
    "collapsed": false,
    "nbgrader": {
     "grade": false,
     "locked": false,
     "solution": false
    }
   },
   "outputs": [],
   "source": [
    "YOUR_ID = \"\" # Please enter your GT login, e.g., \"rvuduc3\" or \"gtg911x\"\n",
    "COLLABORATORS = [] # list of strings of your collaborators' IDs"
   ]
  },
  {
   "cell_type": "code",
   "execution_count": null,
   "metadata": {
    "collapsed": false,
    "deletable": false,
    "nbgrader": {
     "checksum": "b11295002cc2b9549d6a2b01721b6701",
     "grade": true,
     "grade_id": "who__test",
     "locked": true,
     "points": 1,
     "solution": false
    }
   },
   "outputs": [],
   "source": [
    "import re\n",
    "\n",
    "RE_CHECK_ID = re.compile (r'''[a-zA-Z]+\\d+|[gG][tT][gG]\\d+[a-zA-Z]''')\n",
    "assert RE_CHECK_ID.match (YOUR_ID) is not None\n",
    "\n",
    "collab_check = [RE_CHECK_ID.match (i) is not None for i in COLLABORATORS]\n",
    "assert all (collab_check)\n",
    "\n",
    "del collab_check\n",
    "del RE_CHECK_ID\n",
    "del re"
   ]
  },
  {
   "cell_type": "markdown",
   "metadata": {},
   "source": [
    "**Jupyter / IPython version check.** The following code cell verifies that you are using the correct version of Jupyter/IPython."
   ]
  },
  {
   "cell_type": "code",
   "execution_count": null,
   "metadata": {
    "collapsed": true
   },
   "outputs": [],
   "source": [
    "import IPython\n",
    "assert IPython.version_info[0] >= 3, \"Your version of IPython is too old, please update it.\""
   ]
  },
  {
   "cell_type": "markdown",
   "metadata": {},
   "source": [
    "# Part 1: SQLite [6 points]\n",
    "\n",
    "The de facto language for managing relational databases is the Structured Query Language, or SQL (\"sequel\").\n",
    "\n",
    "Many commerical and open-source relational data management systems (RDBMS) support SQL. The one we will consider in this class is the simplest, called [sqlite3](https://www.sqlite.org/). It stores the database in a simple file and can be run in a \"standalone\" mode from the command-line. However, we will, naturally, [invoke it from Python](https://docs.python.org/3/library/sqlite3.html).\n",
    "\n",
    "With a little luck, you _might_ by the end of this class understand this [xkcd comic on SQL injection attacks](http://xkcd.com/327)."
   ]
  },
  {
   "cell_type": "markdown",
   "metadata": {},
   "source": [
    "## Getting started\n",
    "\n",
    "In Python, you _connect_ to an `sqlite3` database by creating a _connection object_."
   ]
  },
  {
   "cell_type": "code",
   "execution_count": null,
   "metadata": {
    "collapsed": false
   },
   "outputs": [],
   "source": [
    "import sqlite3 as db\n",
    "\n",
    "# Connect to a database (or create one if it doesn't exist)\n",
    "conn = db.connect ('example.db')"
   ]
  },
  {
   "cell_type": "markdown",
   "metadata": {},
   "source": [
    "`sqlite` maintains databases as files; in this example, the name of that file is `example.db`.\n",
    "\n",
    "> If the named file does not yet exist, connecting to it in this way will create it."
   ]
  },
  {
   "cell_type": "markdown",
   "metadata": {},
   "source": [
    "To issue commands to the database, you also need to create a _cursor_."
   ]
  },
  {
   "cell_type": "code",
   "execution_count": null,
   "metadata": {
    "collapsed": false
   },
   "outputs": [],
   "source": [
    "# Create a 'cursor' for executing commands\n",
    "c = conn.cursor ()"
   ]
  },
  {
   "cell_type": "markdown",
   "metadata": {},
   "source": [
    "A cursor tracks the current state of the database, and you will mostly be using the cursor to manipulate or query the database."
   ]
  },
  {
   "cell_type": "markdown",
   "metadata": {},
   "source": [
    "## Tables and Basic Queries\n",
    "\n",
    "The main object of a relational database is a _table_.\n",
    "\n",
    "Conceptually, your data consists of items and attributes. In a database table, the items are _rows_ and the attributes are _columns_.\n",
    "\n",
    "For instance, suppose we wish to maintain a database of Georgia Tech students, whose attributes are their names and GT IDs. You might start by creating a table named `Students` to hold this data. You can create the table using the command, [`create table`](https://www.sqlite.org/lang_createtable.html)."
   ]
  },
  {
   "cell_type": "code",
   "execution_count": null,
   "metadata": {
    "collapsed": false
   },
   "outputs": [],
   "source": [
    "c.execute (\"create table Students (gtid integer, name text)\")"
   ]
  },
  {
   "cell_type": "markdown",
   "metadata": {},
   "source": [
    "> Note: This command will fail if the table already exists. If you are trying to carry out these exercises from scratch, you may need to remove any existing `example.db` first."
   ]
  },
  {
   "cell_type": "markdown",
   "metadata": {},
   "source": [
    "To populate the table with items, you can use the command, [`insert into`](https://www.sqlite.org/lang_insert.html)."
   ]
  },
  {
   "cell_type": "code",
   "execution_count": null,
   "metadata": {
    "collapsed": false
   },
   "outputs": [],
   "source": [
    "c.execute (\"insert into Students values (123, 'Vuduc')\")\n",
    "c.execute (\"insert into Students values (456, 'Chau')\")\n",
    "c.execute (\"insert into Students values (381, 'Bader')\")\n",
    "c.execute (\"insert into Students values (991, 'Sokol')\")"
   ]
  },
  {
   "cell_type": "markdown",
   "metadata": {},
   "source": [
    "Given a table, the most common operation is a _query_. The simplest kind of query is called a [`select`](https://www.sqlite.org/lang_select.html).\n",
    "\n",
    "The following example selects all rows (items) from the `Students` table."
   ]
  },
  {
   "cell_type": "code",
   "execution_count": null,
   "metadata": {
    "collapsed": false
   },
   "outputs": [],
   "source": [
    "c.execute (\"select * from Students\")"
   ]
  },
  {
   "cell_type": "markdown",
   "metadata": {},
   "source": [
    "Conceptually, the database is now in a new state in which you can ask for results of the query. One way to do that is to call `fetchone()` on the cursor object, which will return a tuple corresponding to a row of the table.\n",
    "\n",
    "This example calls `fetchone()` twice to get the first two query results."
   ]
  },
  {
   "cell_type": "code",
   "execution_count": null,
   "metadata": {
    "collapsed": false
   },
   "outputs": [],
   "source": [
    "print (c.fetchone ())\n",
    "print (c.fetchone ())"
   ]
  },
  {
   "cell_type": "markdown",
   "metadata": {},
   "source": [
    "An alternative to `fetchone()` is `fetchall()`, which will return a list of tuples for all rows, _starting at the cursor_.\n",
    "\n",
    "> Since the preceding code has already fetched the first two results, calling `fetchall()` at this point will return all _remaining_ results."
   ]
  },
  {
   "cell_type": "code",
   "execution_count": null,
   "metadata": {
    "collapsed": false
   },
   "outputs": [],
   "source": [
    "print (c.fetchall ())"
   ]
  },
  {
   "cell_type": "markdown",
   "metadata": {},
   "source": [
    "What will calling `fetchone()` at this point return?"
   ]
  },
  {
   "cell_type": "code",
   "execution_count": null,
   "metadata": {
    "collapsed": false
   },
   "outputs": [],
   "source": [
    "print (c.fetchone ())"
   ]
  },
  {
   "cell_type": "markdown",
   "metadata": {},
   "source": [
    "Here is an alternative, an arguably more natural, idiom for executing a query and iterating over its results."
   ]
  },
  {
   "cell_type": "code",
   "execution_count": null,
   "metadata": {
    "collapsed": false
   },
   "outputs": [],
   "source": [
    "query = 'select * from Students'\n",
    "for student in c.execute (query):\n",
    "    print (student)"
   ]
  },
  {
   "cell_type": "markdown",
   "metadata": {},
   "source": [
    "## An insertion idiom\n",
    "\n",
    "Another common operation is to perform a bunch of insertions into a table from a list of tuples. In this case, you can use `executemany()`."
   ]
  },
  {
   "cell_type": "code",
   "execution_count": null,
   "metadata": {
    "collapsed": false
   },
   "outputs": [],
   "source": [
    "# An important (and secure!) idiom\n",
    "more_students = [(723, 'Rozga'),\n",
    "                 (882, 'Zha'),\n",
    "                 (401, 'Park'),\n",
    "                 (377, 'Vetter'),\n",
    "                 (904, 'Brown')]\n",
    "\n",
    "c.executemany ('insert into Students values (?, ?)', more_students)\n",
    "\n",
    "query = 'select * from Students'\n",
    "for student in c.execute (query):\n",
    "    print (student)"
   ]
  },
  {
   "cell_type": "markdown",
   "metadata": {},
   "source": [
    "**Exercise 1** (2 points). Suppose we wish to maintain a second table, called `Takes`, which records classes that students have taken and the grades they earn.\n",
    "\n",
    "In particular, each row of `Takes` stores a student by his/her GT ID, the course he/she took, and the grade he/she earned. More formally, suppose this table is defined as follows:"
   ]
  },
  {
   "cell_type": "code",
   "execution_count": null,
   "metadata": {
    "collapsed": false
   },
   "outputs": [],
   "source": [
    "c.execute ('create table Takes (gtid integer, course text, grade real)')"
   ]
  },
  {
   "cell_type": "markdown",
   "metadata": {},
   "source": [
    "Write a command to insert the following records into the `Takes` table.\n",
    "\n",
    "* Vuduc: CSE 6040 - A (4.0), ISYE 6644 - B (3.0), MGMT 8803 - D (1.0)\n",
    "* Sokol: CSE 6040 - A (4.0), ISYE 6740 - A (4.0)\n",
    "* Chau: CSE 6040 - C (2.0), CSE 6740 - C (2.0), MGMT 8803 - B (3.0)"
   ]
  },
  {
   "cell_type": "code",
   "execution_count": null,
   "metadata": {
    "collapsed": false,
    "deletable": false,
    "nbgrader": {
     "checksum": "ef802a157691401d9221693b8cf3bf3c",
     "grade": false,
     "grade_id": "insert_many",
     "locked": false,
     "solution": true
    }
   },
   "outputs": [],
   "source": [
    "# YOUR CODE HERE\n",
    "raise NotImplementedError()"
   ]
  },
  {
   "cell_type": "code",
   "execution_count": null,
   "metadata": {
    "collapsed": false,
    "deletable": false,
    "nbgrader": {
     "checksum": "3474ee2d282adaeeb16a4399f7e0a191",
     "grade": true,
     "grade_id": "insert_many__test",
     "locked": true,
     "points": 2,
     "solution": false
    }
   },
   "outputs": [],
   "source": [
    "# Displays the results of your code\n",
    "c.execute ('select * from Takes')\n",
    "results = c.fetchall ()\n",
    "print (\"Your results:\", len (results), \"\\nThe entries of Takes:\", results)\n",
    "\n",
    "assert (991, \"CSE 6040\", 4.0) in results\n",
    "assert (456, \"CSE 6040\", 4.0) in results\n",
    "assert (123, \"CSE 6040\", 2.0) in results\n",
    "assert (123, \"ISYE 6644\", 3.0) in results\n",
    "assert (123, \"MGMT 8803\", 1.0) in results\n",
    "assert (991, \"ISYE 6740\", 4.0) in results\n",
    "assert (456, \"CSE 6740\", 2.0) in results\n",
    "assert (456, \"MGMT 8803\", 3.0) in results\n",
    "assert len (results) == 8\n",
    "\n",
    "print (\"\\n(Passed.)\")"
   ]
  },
  {
   "cell_type": "markdown",
   "metadata": {},
   "source": [
    "## Join queries\n",
    "\n",
    "The main type of query that combines information from multiple tables is the _join query_. Recall from our discussion of tibbles these four types:\n",
    "\n",
    "- `inner-join (A, B)`: Keep rows of `A` and `B` only where `A` and `B` match\n",
    "- `outer-join (A, B)`: Keep all rows of `A` and `B`, but merge matching rows and fill in missing values with some default (`NaN` in Pandas, `NULL` in SQL)\n",
    "- `left-join (A, B)`: Keep all rows of `A` but only merge matches from `B`.\n",
    "- `right-join (A, B)`: Keep all rows of `B` but only merge matches from `A`.\n",
    "\n",
    "In SQL, you can use the `where` clause of a `select` statement to specify how to match rows from the tables being joined.\n",
    "\n",
    "For example, recall that the `Takes` table stores classes taken by each student. However, these classes are recorded by a student's GT ID. Suppose we want a report where we want each student's name rather than his/her ID. We can get the matching name from the `Students` table. Here is a query to accomplish this matching:"
   ]
  },
  {
   "cell_type": "code",
   "execution_count": null,
   "metadata": {
    "collapsed": false
   },
   "outputs": [],
   "source": [
    "# See all (name, course, grade) tuples\n",
    "query = '''\n",
    "    select Students.name, Takes.course, Takes.grade\n",
    "        from Students, Takes\n",
    "        where Students.gtid=Takes.gtid\n",
    "'''\n",
    "\n",
    "for match in c.execute (query):\n",
    "    print (match)"
   ]
  },
  {
   "cell_type": "markdown",
   "metadata": {},
   "source": [
    "**Exercise 2.** (2 points) Define a query to select only the names and grades of students _who took CSE 6040_. The code below will execute your query and store the results in a list `results1` of tuples, where each tuple is a `(name, grade)` pair; thus, you should structure your query to match this format."
   ]
  },
  {
   "cell_type": "code",
   "execution_count": null,
   "metadata": {
    "collapsed": false,
    "deletable": false,
    "nbgrader": {
     "checksum": "0dfcf9af496ec5c807a97a27069c240a",
     "grade": false,
     "grade_id": "join1",
     "locked": false,
     "solution": true
    }
   },
   "outputs": [],
   "source": [
    "# Define `query` here:\n",
    "# YOUR CODE HERE\n",
    "raise NotImplementedError()\n",
    "\n",
    "# The following code executes your `query`:\n",
    "c.execute (query)\n",
    "results1 = c.fetchall ()"
   ]
  },
  {
   "cell_type": "code",
   "execution_count": null,
   "metadata": {
    "collapsed": false,
    "deletable": false,
    "nbgrader": {
     "checksum": "6adb27164d87eda12aec79e0b8d8ecec",
     "grade": true,
     "grade_id": "join1__test",
     "locked": true,
     "points": 2,
     "solution": false
    }
   },
   "outputs": [],
   "source": [
    "print (\"Your results:\", results1)\n",
    "\n",
    "assert type (results1) is list\n",
    "assert len (results1) == 3\n",
    "assert ('Sokol', 4.0) in results1\n",
    "assert ('Chau', 4.0) in results1\n",
    "assert ('Vuduc', 2.0) in results1\n",
    "\n",
    "print (\"\\nPassed.\")"
   ]
  },
  {
   "cell_type": "markdown",
   "metadata": {},
   "source": [
    "## Aggregations\n",
    "\n",
    "Another common style of query is an _aggregation_, which is a summary of information across multiple records, rather than the raw records themselves.\n",
    "\n",
    "For instance, suppose we want to compute the GPA for each unique GT ID from the `Takes` table. Here is a query that does it:"
   ]
  },
  {
   "cell_type": "code",
   "execution_count": null,
   "metadata": {
    "collapsed": false
   },
   "outputs": [],
   "source": [
    "query = '''\n",
    "    select gtid, avg (grade)\n",
    "        from Takes\n",
    "        group by gtid\n",
    "'''\n",
    "\n",
    "for match in c.execute (query):\n",
    "    print (match)"
   ]
  },
  {
   "cell_type": "markdown",
   "metadata": {},
   "source": [
    "**Exercise 3** (2 points). Define a query to compute the _average_ GPA of every student. The code below will execute your query and store the results in a list `results2` of tuples, where each tuple is a `(name, gpa)` pair; thus, you should structure your query to match this format."
   ]
  },
  {
   "cell_type": "code",
   "execution_count": null,
   "metadata": {
    "collapsed": false,
    "deletable": false,
    "nbgrader": {
     "checksum": "631d516583b07e1831b9aa0d773bf48e",
     "grade": false,
     "grade_id": "name_gpa",
     "locked": false,
     "solution": true
    }
   },
   "outputs": [],
   "source": [
    "# Define an SQL `query` string that compute the GPA of every student:\n",
    "# YOUR CODE HERE\n",
    "raise NotImplementedError()\n",
    "\n",
    "# Executes your `query`, producing `results2`:\n",
    "c.execute (query)\n",
    "results2 = c.fetchall ()"
   ]
  },
  {
   "cell_type": "code",
   "execution_count": null,
   "metadata": {
    "collapsed": false,
    "deletable": false,
    "nbgrader": {
     "checksum": "9db4d6a7f46991543ed2b42403038594",
     "grade": true,
     "grade_id": "name_gpa__test",
     "locked": true,
     "points": 2,
     "solution": false
    }
   },
   "outputs": [],
   "source": [
    "print (\"Your results:\", results2)\n",
    "\n",
    "assert ('Vuduc', 2.0) in results2\n",
    "assert ('Chau', 3.0) in results2\n",
    "assert ('Sokol', 4.0) in results2\n",
    "assert len (results2) == 3\n",
    "\n",
    "print (\"\\n(Passed.)\")"
   ]
  },
  {
   "cell_type": "markdown",
   "metadata": {},
   "source": [
    "## Cleanup\n",
    "\n",
    "As one final bit of information, it's good practice to shutdown the cursor and connection, the same way you close files."
   ]
  },
  {
   "cell_type": "code",
   "execution_count": null,
   "metadata": {
    "collapsed": false
   },
   "outputs": [],
   "source": [
    "c.close()\n",
    "conn.close()"
   ]
  },
  {
   "cell_type": "code",
   "execution_count": null,
   "metadata": {
    "collapsed": true
   },
   "outputs": [],
   "source": []
  }
 ],
 "metadata": {
  "kernelspec": {
   "display_name": "Python 3",
   "language": "python",
   "name": "python3"
  },
  "language_info": {
   "codemirror_mode": {
    "name": "ipython",
    "version": 3
   },
   "file_extension": ".py",
   "mimetype": "text/x-python",
   "name": "python",
   "nbconvert_exporter": "python",
   "pygments_lexer": "ipython3",
   "version": "3.5.1"
  }
 },
 "nbformat": 4,
 "nbformat_minor": 0
}
