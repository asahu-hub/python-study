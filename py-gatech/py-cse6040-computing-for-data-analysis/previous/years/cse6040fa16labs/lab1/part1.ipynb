{
 "cells": [
  {
   "cell_type": "markdown",
   "metadata": {
    "nbgrader": {
     "grade": false,
     "solution": false
    }
   },
   "source": [
    "# Important note!\n",
    "\n",
    "Before you turn this problem in, make sure everything runs as expected. First, **restart the kernel** (in the menubar, select Kernel$\\rightarrow$Restart) and then **run all cells** (in the menubar, select Cell$\\rightarrow$Run All).\n",
    "\n",
    "Make sure you fill in any place that says `YOUR CODE HERE` or \"YOUR ANSWER HERE\", as well as your name and collaborators below:"
   ]
  },
  {
   "cell_type": "code",
   "execution_count": null,
   "metadata": {
    "collapsed": false,
    "nbgrader": {
     "grade": false,
     "solution": false
    }
   },
   "outputs": [],
   "source": [
    "YOUR_ID = \"\" # example: \"rvuduc3\"\n",
    "COLLABORATORS = [] # list of strings of your collaborators' IDs"
   ]
  },
  {
   "cell_type": "markdown",
   "metadata": {},
   "source": [
    "**Jupyter / IPython version check.** The following code cell verifies that you are using the correct version of Jupyter/IPython."
   ]
  },
  {
   "cell_type": "code",
   "execution_count": null,
   "metadata": {
    "collapsed": true
   },
   "outputs": [],
   "source": [
    "import IPython\n",
    "assert IPython.version_info[0] >= 3, \"Your version of IPython is too old, please update it.\""
   ]
  },
  {
   "cell_type": "markdown",
   "metadata": {},
   "source": [
    "---"
   ]
  },
  {
   "cell_type": "markdown",
   "metadata": {
    "deletable": false,
    "nbgrader": {
     "checksum": "07fb953ebfda69137526e43eeed41372",
     "grade": false,
     "grade_id": "setup",
     "locked": true,
     "solution": false
    }
   },
   "source": [
    "# Discovering association rules\n",
    "\n",
    "Suppose you are a retailer (e.g., Publix, Amazon) who sells _items_, and you want to discover whether customers buy certain pairs of items together frequently. The data you have are _baskets_: a basket is the list of items that some customer bought during one of his or her visits. The problem of finding frequent pairs is the _pairwise association mining problem_.\n",
    "\n",
    "> The more general form, where you are interested in subsets of items, rather than only pairs, is the _association mining problem_."
   ]
  },
  {
   "cell_type": "markdown",
   "metadata": {
    "nbgrader": {
     "grade": false,
     "locked": false,
     "solution": false
    }
   },
   "source": [
    "---\n",
    "## Part 1: Warm-up questions\n",
    "\n",
    "With your nearest neighbor(s), start by answering the following conceptual questions about this problem.\n",
    "\n",
    "> _(1 point)_ **Question 1.** How might you use the information about co-occurring pairs?"
   ]
  },
  {
   "cell_type": "markdown",
   "metadata": {
    "deletable": false,
    "nbgrader": {
     "checksum": "74e454d579ce4e207db7f6a12bf3aa42",
     "grade": true,
     "grade_id": "use_info",
     "locked": false,
     "points": 1,
     "solution": true
    }
   },
   "source": [
    "YOUR ANSWER HERE"
   ]
  },
  {
   "cell_type": "markdown",
   "metadata": {},
   "source": [
    "> _(1 point)_ **Question 2.** Give another example of a data analysis problem that, abstractly, “looks like” this pairwise association mining problem."
   ]
  },
  {
   "cell_type": "markdown",
   "metadata": {
    "deletable": false,
    "nbgrader": {
     "checksum": "43abb0db1dd0bbd28567bfe81787a671",
     "grade": true,
     "grade_id": "another_example",
     "locked": false,
     "points": 1,
     "solution": true
    }
   },
   "source": [
    "YOUR ANSWER HERE"
   ]
  },
  {
   "cell_type": "markdown",
   "metadata": {},
   "source": [
    "## A baseline algorithm\n",
    "\n",
    "Let's consider a specific algorithm for discovering _pairwise association rules_.\n",
    "\n",
    "Let $n$ be the number of items, represented by the integers $\\{0, 1, 2, \\ldots, n-1\\}$, and let $m$ be the number of baskets, numbered from $\\{0, 1, 2, \\ldots, m-1\\}$.\n",
    "\n",
    "Denote the $i$-th basket by $b_i^T \\in \\{0, 1\\}^n$, which is a binary (row) vector of length $n$. Furthermore, let $b_{i,j}$ be the the $j$-th component of $b_i^T$, which has the value of $1$ if the $i$-th transaction included a purchase of item $j$, and $0$ otherwise.\n",
    "\n",
    "Put differently, the matrix\n",
    "\n",
    "$$B \\equiv \\left(\\begin{array}{c} b_0^T \\\\ b_1^T \\\\ \\vdots \\\\ b_{m-1}^T \\end{array}\\right) = \\left(\\begin{array}{ccc} b_{0,0} & \\cdots & b_{0,n-1} \\\\ \\vdots & & \\vdots \\\\ b_{m-1,0} & \\cdots & b_{m-1,n-1} \\end{array}\\right)$$\n",
    "\n",
    "is the matrix of all transactions.\n",
    "\n",
    "A first simple algorithm might be the following. The algorithm maintains an $n \\times n$ table $T \\in \\mathcal{Z}_{*}^{n \\times n}$, which holds a count, $\\{t_{i,j} \\geq 0\\}$, for each possible pair of items $(i, j)$. Initially, $T = 0$. To save some space, you could store just the upper- or lower-triangle. The algorithm would then scan all baskets, and for each basket, increment the counts for all pairs of items in the basket. After reading all baskets, the algorithm could scan the table and pull out the top occurrences. The \"top occurrences\" might be all those that appear more than $s$ times, where $s$ is some threshold."
   ]
  },
  {
   "cell_type": "markdown",
   "metadata": {},
   "source": [
    "> _(2 points)_ **Question 3.** In terms of its _potential_ computational efficiency, do you think this algorithm is \"good\" or \"bad\" and why?\n",
    ">\n",
    "> This question asks about \"potential\" because we have not yet decided exactly how to implement it in code! So, we can only make educated guesses about how a yet-to-be-determined algorithm may perform. Put differently, this question is about setting our expectations for what might make for a good or bad implementation."
   ]
  },
  {
   "cell_type": "markdown",
   "metadata": {
    "deletable": false,
    "nbgrader": {
     "checksum": "889524d90060fc2cce6d4d9eaa10ba49",
     "grade": true,
     "grade_id": "baseline_assessment",
     "locked": false,
     "points": 2,
     "solution": true
    }
   },
   "source": [
    "YOUR ANSWER HERE"
   ]
  },
  {
   "cell_type": "markdown",
   "metadata": {},
   "source": [
    "One important coding (or \"implementation\") decision you will need to make is how to store the table, $T$. "
   ]
  },
  {
   "cell_type": "markdown",
   "metadata": {},
   "source": [
    "> _(2 points)_ **Question 3.** In terms of Python's data structures, explain how you would store $T$ and why."
   ]
  },
  {
   "cell_type": "markdown",
   "metadata": {
    "deletable": false,
    "nbgrader": {
     "checksum": "8b157806a630550bfc7a506a82f34b0f",
     "grade": true,
     "grade_id": "baseline_ds_qualitative",
     "locked": false,
     "points": 2,
     "solution": true
    }
   },
   "source": [
    "YOUR ANSWER HERE"
   ]
  }
 ],
 "metadata": {
  "kernelspec": {
   "display_name": "Python 3",
   "language": "python",
   "name": "python3"
  },
  "language_info": {
   "codemirror_mode": {
    "name": "ipython",
    "version": 3
   },
   "file_extension": ".py",
   "mimetype": "text/x-python",
   "name": "python",
   "nbconvert_exporter": "python",
   "pygments_lexer": "ipython3",
   "version": "3.5.1"
  }
 },
 "nbformat": 4,
 "nbformat_minor": 0
}
