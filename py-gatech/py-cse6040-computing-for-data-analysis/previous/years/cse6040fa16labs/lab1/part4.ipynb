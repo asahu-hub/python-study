{
 "cells": [
  {
   "cell_type": "markdown",
   "metadata": {
    "nbgrader": {
     "grade": false,
     "solution": false
    }
   },
   "source": [
    "# Important note!\n",
    "\n",
    "Before you turn this problem in, make sure everything runs as expected. First, **restart the kernel** (in the menubar, select Kernel$\\rightarrow$Restart) and then **run all cells** (in the menubar, select Cell$\\rightarrow$Run All).\n",
    "\n",
    "Make sure you fill in any place that says `YOUR CODE HERE` or \"YOUR ANSWER HERE\", as well as your name and collaborators below:"
   ]
  },
  {
   "cell_type": "code",
   "execution_count": null,
   "metadata": {
    "collapsed": false,
    "nbgrader": {
     "grade": false,
     "solution": false
    }
   },
   "outputs": [],
   "source": [
    "YOUR_ID = \"\" # example: \"rvuduc3\"\n",
    "COLLABORATORS = [] # list of strings of your collaborators' IDs"
   ]
  },
  {
   "cell_type": "markdown",
   "metadata": {},
   "source": [
    "**Jupyter / IPython version check.** The following code cell verifies that you are using the correct version of Jupyter/IPython."
   ]
  },
  {
   "cell_type": "code",
   "execution_count": null,
   "metadata": {
    "collapsed": true
   },
   "outputs": [],
   "source": [
    "import IPython\n",
    "assert IPython.version_info[0] >= 3, \"Your version of IPython is too old, please update it.\""
   ]
  },
  {
   "cell_type": "markdown",
   "metadata": {},
   "source": [
    "---"
   ]
  },
  {
   "cell_type": "markdown",
   "metadata": {},
   "source": [
    "# Part 4: A data structure for sparse matrices (sparse 2-D tables)\n",
    "\n",
    "For pairwise association mining, it would be great if we had a compact data structure to store _sparse_ tables, that is, a 2-D table or matrix to store pairwise counts where most of the entries are empty (i.e., take up no space). Let's apply what we've learned so far to creating just such a data structure.\n",
    "\n",
    "To test and demonstrate it in this part of the lab, you'll apply it to the problem of computing co-occurrence counts for letters in words, with the following running example. (Review Part 3 if needed.)"
   ]
  },
  {
   "cell_type": "code",
   "execution_count": null,
   "metadata": {
    "collapsed": true
   },
   "outputs": [],
   "source": [
    "text = \"\"\"How much wood could a woodchuck chuck\n",
    "if a woodchuck could chuck wood?\"\"\""
   ]
  },
  {
   "cell_type": "markdown",
   "metadata": {},
   "source": [
    "We will also build on default dictionaries and combinations, so let's load those methods as well."
   ]
  },
  {
   "cell_type": "code",
   "execution_count": null,
   "metadata": {
    "collapsed": true
   },
   "outputs": [],
   "source": [
    "from collections import defaultdict\n",
    "from itertools import combinations"
   ]
  },
  {
   "cell_type": "markdown",
   "metadata": {},
   "source": [
    "## Sparse vectors for counting\n",
    "\n",
    "First, let's \"package up\" the examples in part 3.\n",
    "\n",
    "Let's start by creating an abstract data type that we will refer to as a _sparse vector_. A sparse vector $\\vec{x}$ is a collection of values, $\\{x_k\\}$, where $k$ is a \"key\" and $x_k$ is $k$'s value.\n",
    "\n",
    "Typically, we think of vectors as mapping integer indices to real values in, for instance, linear algebra. However, in data mining we frequently map arbitrarily named objects into some integer index space. For this lab, let's design a flexible data structure that can use arbitrary (but distinct) names. That is, treat $k$ as an arbitrary name from a known set of possible names and take each $x_k$ to be an integer count.\n",
    "\n",
    "The vector $\\vec{x}$ is _sparse_ in that we expect \"most\" of its values to be 0. If we expect this fact to hold for our data, then we are motivated to write our code to exploit it."
   ]
  },
  {
   "cell_type": "markdown",
   "metadata": {},
   "source": [
    "From this definition of a sparse vector, it should seem \"natural\" that we might use a dictionary or default-dictionary to represent $\\vec{x}$."
   ]
  },
  {
   "cell_type": "code",
   "execution_count": null,
   "metadata": {
    "collapsed": false
   },
   "outputs": [],
   "source": [
    "def sparse_vector ():\n",
    "    \"\"\"Returns an empty sparse vector for storing counts.\"\"\"\n",
    "    return defaultdict (int)"
   ]
  },
  {
   "cell_type": "markdown",
   "metadata": {},
   "source": [
    "For example, here is a function that takes an input string `s` and creates a sparse vector that maps each lowercase letter $k$ to a count $x_k$. It's basically just a slightly refactored version of `count_letters3` from before."
   ]
  },
  {
   "cell_type": "code",
   "execution_count": null,
   "metadata": {
    "collapsed": true
   },
   "outputs": [],
   "source": [
    "def count_letters_spvec (s):\n",
    "    \"\"\"Returns a sparse vector of (letter, count) pairs for the given string.\"\"\"\n",
    "    counts = sparse_vector ()\n",
    "    letters = [c for c in s.lower () if c.isalpha ()]\n",
    "    for k in letters:\n",
    "        counts[k] += 1\n",
    "    return counts"
   ]
  },
  {
   "cell_type": "markdown",
   "metadata": {},
   "source": [
    "And here's a function to print a sparse vector."
   ]
  },
  {
   "cell_type": "code",
   "execution_count": null,
   "metadata": {
    "collapsed": false
   },
   "outputs": [],
   "source": [
    "def print_sparse_vector (x, name=None):\n",
    "    \"\"\"Prints a sparse vector with an optional name.\"\"\"\n",
    "    if name:\n",
    "        name += ' '\n",
    "    else:\n",
    "        name = ''\n",
    "    print (\"=== Vector {}in Z^{}. ===\".format (name, len (x)))\n",
    "    elements = sorted (x.items (), key=lambda p: p[0]) # aside: what does this do?\n",
    "    for key, value in elements:\n",
    "        print (\"%s: %d\" % (key, value))"
   ]
  },
  {
   "cell_type": "code",
   "execution_count": null,
   "metadata": {
    "collapsed": false
   },
   "outputs": [],
   "source": [
    "# Test code\n",
    "counts_vec = count_letters_spvec (text)\n",
    "print_sparse_vector (counts_vec, 'counts_vec')"
   ]
  },
  {
   "cell_type": "markdown",
   "metadata": {},
   "source": [
    "> _(4 points)_ **Question 1.** Write a function to update a vector $\\vec{x}$ _in-place_. That is, given $\\vec{x}$ and a second sparse vector $\\vec{u}$, replace $\\vec{x}$ by $\\vec{x} \\leftarrow \\vec{x} + \\vec{u}$."
   ]
  },
  {
   "cell_type": "code",
   "execution_count": null,
   "metadata": {
    "collapsed": false,
    "deletable": false,
    "nbgrader": {
     "checksum": "cf9f0e739c5f8c4b70da8686f33a475c",
     "grade": false,
     "grade_id": "update_counts",
     "locked": false,
     "solution": true
    }
   },
   "outputs": [],
   "source": [
    "def update_counts (x, u):\n",
    "    \"\"\"Given two sparse vectors, x and u, updates x in place by the formula, x <- x + u.\"\"\"\n",
    "    \n",
    "    # Update x:\n",
    "    # YOUR CODE HERE\n",
    "    raise NotImplementedError()\n",
    "    \n",
    "    return x"
   ]
  },
  {
   "cell_type": "markdown",
   "metadata": {},
   "source": [
    "The following cell tests your function. Aside: In the code below, observe the use of the function `deepcopy()`. What role does this serve in this code?"
   ]
  },
  {
   "cell_type": "code",
   "execution_count": null,
   "metadata": {
    "collapsed": false,
    "deletable": false,
    "nbgrader": {
     "checksum": "17bc1fa2f2b3085ffccaa3084bc137bc",
     "grade": true,
     "grade_id": "update_counts_test",
     "locked": true,
     "points": 4,
     "solution": false
    }
   },
   "outputs": [],
   "source": [
    "a = defaultdict (int, {'a': 1, 'b': 2, 'c': 3})\n",
    "b = defaultdict (int, {'a': -3, 'd': 4, 'e': 5, 'x': -2})\n",
    "\n",
    "from copy import deepcopy\n",
    "c = deepcopy (a) # ???\n",
    "update_counts (c, b)\n",
    "\n",
    "print ('{}\\n  + {}\\n  == {}'.format (a, b, c))\n",
    "\n",
    "assert len (a) == 3 and a['a'] == 1 and a['b'] == 2 and a['c'] == 3\n",
    "assert len (b) == 4 and b['a'] == -3 and b['d'] == 4 and b['e'] == 5 and b['x'] == -2\n",
    "assert len (c) == 6\n",
    "assert c['a'] == (a['a'] + b['a']) and c['b'] == a['b'] and c['c'] == a['c']\n",
    "assert c['d'] == b['d'] and c['e'] == b['e'] and c['x'] == b['x']\n",
    "assert (sorted (c.keys ()))"
   ]
  },
  {
   "cell_type": "markdown",
   "metadata": {},
   "source": [
    "## Sparse matrices (2-D tables) for counting co-occurring pairs\n",
    "\n",
    "Let's now build a data structure for sparse matrices, using sparse vectors as a building block.\n",
    "\n",
    "Let $\\mathbf{X}$ denote the matrix and let $x_{ij}$ denote its $(i, j)$ entry, where $x_{ij}$ is the number of times that letter $i$ and letter $j$ co-occur within a word. As in an earlier part of this lab, treat each instance of a repeated word as a distinct \"basket\" and, within each basket, consider occurrences of each letter as being distinct."
   ]
  },
  {
   "cell_type": "markdown",
   "metadata": {},
   "source": [
    "> _(3 points)_ **Question 2.** There are several possibilities for using a sparse vector as a building block for a sparse matrix. For this exercise, try creating it as a \"dictionary of sparse vectors\" (i.e., a dictionary of dictionaries). Thus, if `X` is a sparse matrix, we will be able to index it using the notation `X[i][j]`.\n",
    ">\n",
    "> In the following code cell, encode your solution as a \"constructor,\" i.e., a function that returns an empty sparse matrix."
   ]
  },
  {
   "cell_type": "code",
   "execution_count": null,
   "metadata": {
    "collapsed": true,
    "deletable": false,
    "nbgrader": {
     "checksum": "86c7d557a92556a1a4a8abef5f3014da",
     "grade": false,
     "grade_id": "sparse_matrix",
     "locked": false,
     "solution": true
    }
   },
   "outputs": [],
   "source": [
    "def sparse_matrix ():\n",
    "    \"\"\"Returns an empty sparse matrix (2-D table) for storing integer counts.\"\"\"\n",
    "    # YOUR CODE HERE\n",
    "    raise NotImplementedError()"
   ]
  },
  {
   "cell_type": "code",
   "execution_count": null,
   "metadata": {
    "collapsed": false,
    "deletable": false,
    "nbgrader": {
     "checksum": "e8104bba2c55ff28bd5cc1fa0ae5761f",
     "grade": true,
     "grade_id": "sparse_matrix_test",
     "locked": true,
     "points": 3,
     "solution": false
    }
   },
   "outputs": [],
   "source": [
    "assert type (sparse_matrix ()) == defaultdict\n",
    "orig_sparse_vector = sparse_vector\n",
    "del sparse_vector\n",
    "try:\n",
    "    sparse_matrix ()\n",
    "except NameError:\n",
    "    print (\"\\n(Passed.)\")\n",
    "else:\n",
    "    raise AssertionError (\"Your sparse_matrix() implementation does not appear to use sparse_vector()\")\n",
    "finally:\n",
    "    sparse_vector = orig_sparse_vector\n",
    "    del orig_sparse_vector"
   ]
  },
  {
   "cell_type": "markdown",
   "metadata": {},
   "source": [
    "> _(5 points)_ **Question 3.** Complete the following function, which returns a sparse matrix containing counts of all pairs. Remember to do the following, per our conventions from before:\n",
    ">\n",
    "> 1. Assume the input may have multiple words separated by spaces.\n",
    "> 2. \"Canonicalize\" the letters by converting them to lowercase.\n",
    "> 3. Ignore any character that is _not_ an alphabetic character."
   ]
  },
  {
   "cell_type": "code",
   "execution_count": null,
   "metadata": {
    "collapsed": true,
    "deletable": false,
    "nbgrader": {
     "checksum": "df84676390259991123cfdde385319af",
     "grade": false,
     "grade_id": "count_letter_pairs",
     "locked": false,
     "solution": true
    }
   },
   "outputs": [],
   "source": [
    "def count_letter_pairs (s):\n",
    "    \"\"\"Returns a sparse matrix of co-occuring letter pairs within words,\n",
    "    assuming words are separated by spaces.\n",
    "    \"\"\"\n",
    "    Counts = sparse_matrix ()\n",
    "    \n",
    "    # YOUR CODE HERE\n",
    "    raise NotImplementedError()\n",
    "    \n",
    "    return Counts"
   ]
  },
  {
   "cell_type": "markdown",
   "metadata": {},
   "source": [
    "Here is a function to print a sparse matrix in a somewhat more readable format, for debugging purposes."
   ]
  },
  {
   "cell_type": "code",
   "execution_count": null,
   "metadata": {
    "collapsed": false,
    "deletable": false,
    "nbgrader": {
     "checksum": "2508d6eb266504161b353a181805913a",
     "grade": false,
     "grade_id": "print_sparse_matrix",
     "locked": true,
     "points": 2,
     "solution": false
    }
   },
   "outputs": [],
   "source": [
    "def print_sparse_matrix (X, name=None):\n",
    "    if not name:\n",
    "        name = ''\n",
    "    else:\n",
    "        name += ' '\n",
    "        \n",
    "    # Aside: What do these lines do and how do they work?\n",
    "    nr = len (X)\n",
    "    nc = max (nr, max ([len (r) for r in X.values ()]))\n",
    "        \n",
    "    print (\"=== Matrix {}in Z^({}x{}) ===\".format (name, nr, nc))\n",
    "    sorted_rows = sorted (X.items (), key=lambda p: p[0])\n",
    "    for (i, row_i) in sorted_rows:\n",
    "        sorted_cols = sorted (row_i.items (), key=lambda p: p[0])\n",
    "        print (\"{:>3s} | {}\".format (i, sorted_cols))"
   ]
  },
  {
   "cell_type": "code",
   "execution_count": null,
   "metadata": {
    "collapsed": false,
    "deletable": false,
    "nbgrader": {
     "checksum": "132e51d64acf5cf8851f08a585d246e4",
     "grade": true,
     "grade_id": "count_letter_pairs_test",
     "locked": true,
     "points": 3,
     "solution": false
    }
   },
   "outputs": [],
   "source": [
    "X = count_letter_pairs (text)\n",
    "\n",
    "print ('\"{}\"\\n==>'.format (text))\n",
    "print_sparse_matrix (X)\n",
    "\n",
    "assert X['h']['k'] == 4 and X['h']['k'] == X['k']['h']\n",
    "assert X['c']['k'] == 8 and X['c']['k'] == X['k']['c']\n",
    "assert X['k']['u'] == 4 and X['k']['u'] == X['u']['k']\n",
    "assert X['d']['l'] == 2 and X['d']['l'] == X['l']['d']\n",
    "assert X['c']['h'] == 9 and X['c']['h'] == X['h']['c']\n",
    "assert X['k']['w'] == 2 and X['k']['w'] == X['w']['k']\n",
    "assert X['h']['u'] == 5 and X['h']['u'] == X['u']['h']\n",
    "assert X['h']['m'] == 1 and X['h']['m'] == X['m']['h']\n",
    "assert X['l']['o'] == 2 and X['l']['o'] == X['o']['l']\n",
    "assert X['k']['o'] == 4 and X['k']['o'] == X['o']['k']\n",
    "assert X['h']['w'] == 3 and X['h']['w'] == X['w']['h']\n",
    "assert X['d']['w'] == 4 and X['d']['w'] == X['w']['d']\n",
    "assert X['h']['o'] == 5 and X['h']['o'] == X['o']['h']\n",
    "assert X['c']['l'] == 2 and X['c']['l'] == X['l']['c']\n",
    "assert X['c']['d'] == 6 and X['c']['d'] == X['d']['c']\n",
    "assert X['d']['u'] == 4 and X['d']['u'] == X['u']['d']\n",
    "assert X['c']['m'] == 1 and X['c']['m'] == X['m']['c']\n",
    "assert X['d']['k'] == 2 and X['d']['k'] == X['k']['d']\n",
    "assert X['o']['o'] == 4\n",
    "assert X['d']['h'] == 2 and X['d']['h'] == X['h']['d']\n",
    "assert X['m']['u'] == 1 and X['m']['u'] == X['u']['m']\n",
    "assert X['f']['i'] == 1 and X['f']['i'] == X['i']['f']\n",
    "assert X['d']['o'] == 10 and X['d']['o'] == X['o']['d']\n",
    "assert X['u']['w'] == 2 and X['u']['w'] == X['w']['u']\n",
    "assert X['o']['u'] == 6 and X['o']['u'] == X['u']['o']\n",
    "assert X['c']['u'] == 11 and X['c']['u'] == X['u']['c']\n",
    "assert X['c']['o'] == 10 and X['c']['o'] == X['o']['c']\n",
    "assert X['o']['w'] == 9 and X['o']['w'] == X['w']['o']\n",
    "assert X['c']['w'] == 4 and X['c']['w'] == X['w']['c']\n",
    "assert X['c']['c'] == 4\n",
    "assert X['l']['u'] == 2 and X['l']['u'] == X['u']['l']\n",
    "\n",
    "print (\"\\n(Passed.)\")"
   ]
  },
  {
   "cell_type": "markdown",
   "metadata": {
    "collapsed": true
   },
   "source": [
    "> _(5 points)_ **Question 4.** Given a sparse matrix $\\mathbf{X}$ (e.g., computed as `X` in the preceding code), write a function to compute the top $s$ pairs. This function should, more precisely,\n",
    ">\n",
    "> 1. return a list of nested tuples, `((i, j), x_ij)` where `(i, j)` are the indices of the entry $x_{\\mathtt{i}, \\mathtt{j}} =$ `x_ij` (i.e., count); and\n",
    "> 2. since `X` is symmetric, only consider either the lower-triangle or upper-triangle.\n",
    ">\n",
    "> A reasonable scheme for this question is to sort all the entries to identify the top ones. Implement this idea below."
   ]
  },
  {
   "cell_type": "code",
   "execution_count": null,
   "metadata": {
    "collapsed": false,
    "deletable": false,
    "nbgrader": {
     "checksum": "55508032b2854e4a34782653017e93a8",
     "grade": false,
     "grade_id": "top_entries",
     "locked": false,
     "solution": true
    }
   },
   "outputs": [],
   "source": [
    "def top_entries (X, s):\n",
    "    \"\"\"Given a sparse (count) matrix, returns a list of\n",
    "    the pairs that occur at least some number of times.\n",
    "    \"\"\"\n",
    "    # YOUR CODE HERE\n",
    "    raise NotImplementedError()"
   ]
  },
  {
   "cell_type": "code",
   "execution_count": null,
   "metadata": {
    "collapsed": false,
    "deletable": false,
    "nbgrader": {
     "checksum": "9cb96827dbd0bbd8e3c26c16a714d259",
     "grade": true,
     "grade_id": "top_entries_test",
     "locked": true,
     "points": 5,
     "solution": false
    }
   },
   "outputs": [],
   "source": [
    "s = 6\n",
    "top_pairs = top_entries (X, s)\n",
    "\n",
    "print (\"=== Top {} entries of X ===\".format (s))\n",
    "for p in top_pairs:\n",
    "    print (p)\n",
    "\n",
    "assert (('c', 'u'), 11) in top_pairs or (('u', 'c'), 11) in top_pairs\n",
    "assert (('c', 'o'), 10) in top_pairs or (('o', 'c'), 10) in top_pairs\n",
    "assert (('d', 'o'), 10) in top_pairs or (('o', 'd'), 10) in top_pairs\n",
    "assert (('c', 'h'), 9) in top_pairs or (('h', 'c'), 9) in top_pairs\n",
    "assert (('o', 'w'), 9) in top_pairs or (('w', 'o'), 9) in top_pairs\n",
    "assert (('c', 'k'), 8) in top_pairs or (('k', 'c'), 8) in top_pairs\n",
    "assert (('c', 'd'), 6) in top_pairs or (('d', 'c'), 6) in top_pairs\n",
    "assert (('o', 'u'), 6) in top_pairs or (('u', 'o'), 6) in top_pairs\n",
    "assert len (top_pairs) == 8\n",
    "\n",
    "print (\"\\n(Passed.)\")"
   ]
  },
  {
   "cell_type": "markdown",
   "metadata": {},
   "source": [
    "## The _A-Priori_ Algorithm\n",
    "\n",
    "A potentially more efficient alternative to the previous algorithm is the _a-priori algorithm_. The key idea is to exploit monotonicity, which is the following property: if the pair of items, $(i, j)$, appears at least $s$ times, then items $i$ and $j$ must also appear at least $s$ times.\n",
    "\n",
    "> _(3 points)_ **Question 5.** Based on this observation, devise a scheme that can identify frequent pairs by reading the entire data set only twice, using at most $O(n + k_s^2)$ storage, where $n$ is the number of items and $k_s$ is the number of items that appear more than $s$ times. Justify your approach."
   ]
  },
  {
   "cell_type": "markdown",
   "metadata": {
    "deletable": false,
    "nbgrader": {
     "checksum": "02600daaad4d0f0614fba351601602ab",
     "grade": true,
     "grade_id": "a_priori",
     "locked": false,
     "points": 3,
     "solution": true
    }
   },
   "source": [
    "YOUR ANSWER HERE"
   ]
  }
 ],
 "metadata": {
  "kernelspec": {
   "display_name": "Python 3",
   "language": "python",
   "name": "python3"
  },
  "language_info": {
   "codemirror_mode": {
    "name": "ipython",
    "version": 3
   },
   "file_extension": ".py",
   "mimetype": "text/x-python",
   "name": "python",
   "nbconvert_exporter": "python",
   "pygments_lexer": "ipython3",
   "version": "3.5.1"
  }
 },
 "nbformat": 4,
 "nbformat_minor": 0
}
