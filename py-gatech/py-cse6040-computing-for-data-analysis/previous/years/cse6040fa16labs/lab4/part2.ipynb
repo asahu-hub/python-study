{
 "cells": [
  {
   "cell_type": "markdown",
   "metadata": {
    "nbgrader": {
     "grade": false,
     "solution": false
    }
   },
   "source": [
    "# Important note!\n",
    "\n",
    "Before you turn this problem in, make sure everything runs as expected. First, **restart the kernel** (in the menubar, select Kernel$\\rightarrow$Restart) and then **run all cells** (in the menubar, select Cell$\\rightarrow$Run All).\n",
    "\n",
    "Make sure you fill in any place that says `YOUR CODE HERE` or \"YOUR ANSWER HERE\", as well as your name and collaborators below:"
   ]
  },
  {
   "cell_type": "code",
   "execution_count": null,
   "metadata": {
    "collapsed": false,
    "nbgrader": {
     "grade": false,
     "locked": false,
     "solution": false
    }
   },
   "outputs": [],
   "source": [
    "YOUR_ID = \"\" # Please enter your GT login, e.g., \"rvuduc3\" or \"gtg911x\"\n",
    "COLLABORATORS = [] # list of strings of your collaborators' IDs"
   ]
  },
  {
   "cell_type": "code",
   "execution_count": null,
   "metadata": {
    "collapsed": false,
    "deletable": false,
    "nbgrader": {
     "checksum": "b11295002cc2b9549d6a2b01721b6701",
     "grade": true,
     "grade_id": "who__test",
     "locked": true,
     "points": 1,
     "solution": false
    }
   },
   "outputs": [],
   "source": [
    "import re\n",
    "\n",
    "RE_CHECK_ID = re.compile (r'''[a-zA-Z]+\\d+|[gG][tT][gG]\\d+[a-zA-Z]''')\n",
    "assert RE_CHECK_ID.match (YOUR_ID) is not None\n",
    "\n",
    "collab_check = [RE_CHECK_ID.match (i) is not None for i in COLLABORATORS]\n",
    "assert all (collab_check)\n",
    "\n",
    "del collab_check\n",
    "del RE_CHECK_ID\n",
    "del re"
   ]
  },
  {
   "cell_type": "markdown",
   "metadata": {},
   "source": [
    "**Jupyter / IPython version check.** The following code cell verifies that you are using the correct version of Jupyter/IPython."
   ]
  },
  {
   "cell_type": "code",
   "execution_count": null,
   "metadata": {
    "collapsed": true
   },
   "outputs": [],
   "source": [
    "import IPython\n",
    "assert IPython.version_info[0] >= 3, \"Your version of IPython is too old, please update it.\""
   ]
  },
  {
   "cell_type": "markdown",
   "metadata": {},
   "source": [
    "## Part 2: Pandas 101 (11 points)\n",
    "\n",
    "We want you to build some functions to implement the melt and cast operations, among other operations. You will build these primitives on top of Pandas's data frames, so let's first start with some basics."
   ]
  },
  {
   "cell_type": "markdown",
   "metadata": {},
   "source": [
    "Consider the famous [Iris data set](https://en.wikipedia.org/wiki/Iris_flower_data_set). It consists of 50 samples from each of three species of Iris (_Iris setosa_, _Iris virginica_, and _Iris versicolor_). Four features were measured from each sample: the lengths and the widths of the [sepals](https://en.wikipedia.org/wiki/Sepal) and [petals](https://en.wikipedia.org/wiki/Petal)."
   ]
  },
  {
   "cell_type": "code",
   "execution_count": null,
   "metadata": {
    "collapsed": false
   },
   "outputs": [],
   "source": [
    "# Some modules you'll need in this part\n",
    "import pandas as pd\n",
    "from io import StringIO\n",
    "from IPython.display import display\n",
    "\n",
    "irises = pd.read_csv ('iris.csv')\n",
    "print (\"=== Iris data set: {} rows x {} columns. ===\".format (irises.shape[0], irises.shape[1]))\n",
    "display (irises.head ())"
   ]
  },
  {
   "cell_type": "markdown",
   "metadata": {},
   "source": [
    "In a Pandas data frame, every column has a name (stored as a string) and all values within the column must have the same primitive type. This fact makes columns different from, for instance, lists.\n",
    "\n",
    "In addition, every row has a special column, called the data frame's _index_. (Try printing `irises.index`.) Any particular index value serves as a name for its row; these index values are usually integers but can be more complex types, like tuples. Separate from the index values (row names), you can also refer to rows by their integer offset from the top, where the first row has an offset of 0 and the last row has an offset of `n-1` if the data frame has `n` rows."
   ]
  },
  {
   "cell_type": "code",
   "execution_count": null,
   "metadata": {
    "collapsed": false
   },
   "outputs": [],
   "source": [
    "Z = pd.DataFrame (columns=['a', 'b', 'c'])\n",
    "Z['a'] = pd.Series ([1, 2, 3])\n",
    "Z['b'] = pd.Series ([4.0, 5.1, 6.2])\n",
    "Z['c'] = pd.Series (['7', '8.2', 'cat'])\n",
    "display (Z)\n",
    "print (Z.index)\n",
    "print (Z.loc[1])\n",
    "print (Z.iloc[1])\n",
    "\n",
    "alt_index = pd.Index ([123, 7, 4])\n",
    "Z.set_index (alt_index, inplace=True)\n",
    "display (Z)\n",
    "display (Z.index)\n",
    "\n",
    "display (Z['b'])\n",
    "display (Z.loc[7])\n",
    "display (Z.iloc[1])"
   ]
  },
  {
   "cell_type": "markdown",
   "metadata": {},
   "source": [
    "**Exercise 1.** (6 points) Run the following commands and describe what each one does (1 sentence each).\n",
    "\n",
    "```python\n",
    "irises.describe ()\n",
    "irises['sepal length'].head ()\n",
    "irises[[\"sepal length\", \"petal width\"]].head ()\n",
    "irises.iloc[5:10]\n",
    "irises[irises[\"sepal length\"] > 5.0]\n",
    "irises[\"sepal length\"].max ()\n",
    "irises['species'].unique ()\n",
    "irises.sort_values (by=\"sepal length\", ascending=False).head (1)\n",
    "irises.sort_values (by=\"sepal length\", ascending=False).iloc[5:10]\n",
    "irises['x'] = 3.14\n",
    "irises.rename (columns={'species': 'type'})\n",
    "del irises['x']\n",
    "```"
   ]
  },
  {
   "cell_type": "code",
   "execution_count": null,
   "metadata": {
    "collapsed": true
   },
   "outputs": [],
   "source": [
    "# This is a dummy cell, in case you want to try out any of the above statements."
   ]
  },
  {
   "cell_type": "markdown",
   "metadata": {
    "deletable": false,
    "nbgrader": {
     "checksum": "bd8c2f4088d3202881a8c68816335309",
     "grade": true,
     "grade_id": "pandas_explain1",
     "locked": false,
     "points": 6,
     "solution": true
    }
   },
   "source": [
    "YOUR ANSWER HERE"
   ]
  },
  {
   "cell_type": "markdown",
   "metadata": {},
   "source": [
    "**Exercise 2.** (1 point) Do the functions `irises.sort_values ()` and `irises.rename()` modify the input object, `irises`?"
   ]
  },
  {
   "cell_type": "markdown",
   "metadata": {
    "deletable": false,
    "nbgrader": {
     "checksum": "3197beee7ba8610e5e33d50572c82dcc",
     "grade": true,
     "grade_id": "pd_df_sort_in_place",
     "locked": false,
     "points": 1,
     "solution": true
    }
   },
   "source": [
    "YOUR ANSWER HERE"
   ]
  },
  {
   "cell_type": "markdown",
   "metadata": {},
   "source": [
    "## Merging data frames: join operations\n",
    "\n",
    "Another useful operation on data frames is [merging](http://pandas.pydata.org/pandas-docs/stable/generated/pandas.DataFrame.merge.html).\n",
    "\n",
    "For instance, consider the following two tables, `A` and `B`:\n",
    "\n",
    "| country     | year | cases  |\n",
    "|:------------|-----:|-------:|\n",
    "| Afghanistan | 1999 |    745 |\n",
    "| Brazil      | 1999 |  37737 |\n",
    "| China       | 1999 | 212258 |\n",
    "| Afghanistan | 2000 |   2666 |\n",
    "| Brazil      | 2000 |  80488 |\n",
    "| China       | 2000 | 213766 |\n",
    "\n",
    "| country     | year | population |\n",
    "|:------------|-----:|-----------:|\n",
    "| Afghanistan | 1999 |   19987071 |\n",
    "| Brazil      | 1999 |  172006362 |\n",
    "| China       | 1999 | 1272915272 |\n",
    "| Afghanistan | 2000 |   20595360 |\n",
    "| Brazil      | 2000 |  174504898 |\n",
    "| China       | 2000 | 1280428583 |\n",
    "\n",
    "Suppose we wish to combine these into a single table, `C`:\n",
    "\n",
    "| country     | year | cases  | population |\n",
    "|:------------|-----:|-------:|-----------:|\n",
    "| Afghanistan | 1999 |    745 |   19987071 |\n",
    "| Brazil      | 1999 |  37737 |  172006362 |\n",
    "| China       | 1999 | 212258 | 1272915272 |\n",
    "| Afghanistan | 2000 |   2666 |   20595360 |\n",
    "| Brazil      | 2000 |  80488 |  174504898 |\n",
    "| China       | 2000 | 213766 | 1280428583 |\n",
    "\n",
    "In Pandas, you can perform this merge using the [`.merge()` function](http://pandas.pydata.org/pandas-docs/stable/generated/pandas.DataFrame.merge.html):\n",
    "\n",
    "```python\n",
    "C = A.merge (B, on=['country', 'year'])\n",
    "```\n",
    "\n",
    "In this call, the `on=` parameter specifies the list of column names to use to align or \"match\" the two tables, `A` and `B`. By default, `merge()` will only include rows from `A` and `B` where all keys match between the two tables.\n",
    "\n",
    "The following code cell demonstrates this functionality."
   ]
  },
  {
   "cell_type": "code",
   "execution_count": null,
   "metadata": {
    "collapsed": false
   },
   "outputs": [],
   "source": [
    "A_csv = \"\"\"country,year,cases\n",
    "Afghanistan,1999,745\n",
    "Brazil,1999,37737\n",
    "China,1999,212258\n",
    "Afghanistan,2000,2666\n",
    "Brazil,2000,80488\n",
    "China,2000,213766\"\"\"\n",
    "\n",
    "with StringIO (A_csv) as fp:\n",
    "    A = pd.read_csv (fp)\n",
    "print (\"=== A ===\")\n",
    "display (A)\n",
    "\n",
    "B_csv = \"\"\"country,year,population\n",
    "Afghanistan,1999,19987071\n",
    "Brazil,1999,172006362\n",
    "China,1999,1272915272\n",
    "Afghanistan,2000,20595360\n",
    "Brazil,2000,174504898\n",
    "China,2000,1280428583\"\"\"\n",
    "\n",
    "with StringIO (B_csv) as fp:\n",
    "    B = pd.read_csv (fp)\n",
    "print (\"\\n=== B ===\")\n",
    "display (B)\n",
    "\n",
    "C = A.merge (B, on=['country', 'year'])\n",
    "print (\"\\n=== C = merge (A, B) ===\")\n",
    "display (C)"
   ]
  },
  {
   "cell_type": "markdown",
   "metadata": {},
   "source": [
    "**Joins.** This default behavior of keeping only rows that match both input frames is an example of what relational database systems call an _inner-join_ operation. But there are several other types of joins.\n",
    "\n",
    "- _Inner-join (`A`, `B`)_ (default): Keep only rows of `A` and `B` where the on-keys match in both.\n",
    "- _Outer-join (`A`, `B`)_: Keep all rows of both frames, but merge rows when the on-keys match. For non-matches, fill in missing values with not-a-number (`NaN`) values.\n",
    "- _Left-join (`A`, `B`)_: Keep all rows of `A`. Only merge rows of `B` whose on-keys match `A`.\n",
    "- _Right-join (`A`, `B`)_: Keep all rows of `B`. Only merge rows of `A` whose on-keys match `B`.\n",
    "\n",
    "You can use `merge`'s `how=...` parameter, which takes the (string) values, `'inner`', `'outer'`, `'left'`, and `'right'`. Here is an example of an outer join."
   ]
  },
  {
   "cell_type": "code",
   "execution_count": null,
   "metadata": {
    "collapsed": false
   },
   "outputs": [],
   "source": [
    "with StringIO (\"\"\"x,y,z\n",
    "bug,1,d\n",
    "rug,2,d\n",
    "lug,3,d\n",
    "mug,4,d\"\"\") as fp:\n",
    "    D = pd.read_csv (fp)\n",
    "print (\"=== D ===\")\n",
    "display (D)\n",
    "\n",
    "with StringIO (\"\"\"x,y,w\n",
    "hug,-1,e\n",
    "smug,-2,e\n",
    "rug,-3,e\n",
    "tug,-4,e\n",
    "bug,1,e\"\"\") as fp:\n",
    "    E = pd.read_csv (fp)\n",
    "print (\"\\n=== E ===\")\n",
    "display (E)\n",
    "\n",
    "print (\"\\n=== Outer-join (D, E) ===\")\n",
    "display (D.merge (E, on=['x', 'y'], how='outer'))"
   ]
  },
  {
   "cell_type": "markdown",
   "metadata": {},
   "source": [
    "**Exercise 3** (2 points). Predict the output of left-joining and right-joining `D` with `E`. In the Markdown cell below, you can use the following syntax to draw a table. (This example shows the table, `E`. The placement of colons in the second row indicates left vs. right vs. centered alignment within the given column. Also, you may ignore the presence of row numbers in the frames as done below.)\n",
    "\n",
    "```markdown\n",
    "Data frame: **outer-join** (D, E).\n",
    "\n",
    "| x    |  y |  z  |  w  |\n",
    "|:-----|---:|:---:|:---:|\n",
    "| bug  |  1 |  d  |  e  |\n",
    "| rug  |  2 |  d  | NaN |\n",
    "| lug  |  3 |  d  | NaN |\n",
    "| mug  |  4 |  d  | NaN |\n",
    "| hug  | -1 | NaN |  e  |\n",
    "| smug | -2 | NaN |  e  |\n",
    "| rug  | -3 | NaN |  e  |\n",
    "| tug  | -4 | NaN |  e  |\n",
    "```"
   ]
  },
  {
   "cell_type": "markdown",
   "metadata": {
    "deletable": false,
    "nbgrader": {
     "checksum": "ca3581254ba98dffaf9debfc5d5e2877",
     "grade": true,
     "grade_id": "left_right_joins",
     "locked": false,
     "points": 2,
     "solution": true
    }
   },
   "source": [
    "YOUR ANSWER HERE"
   ]
  },
  {
   "cell_type": "markdown",
   "metadata": {},
   "source": [
    "## Apply functions to data frames\n",
    "\n",
    "Another useful primitive is `apply()`, which can apply a function to a data frame or to a series (column of the data frame).\n",
    "\n",
    "For instance, suppose we wish to convert the year into an abbrievated two-digit form. The following code will do it:"
   ]
  },
  {
   "cell_type": "code",
   "execution_count": null,
   "metadata": {
    "collapsed": false,
    "scrolled": false
   },
   "outputs": [],
   "source": [
    "display (C)\n",
    "G = C.copy ()\n",
    "G['year'] = G['year'].apply (lambda x: \"'{:02d}\".format (x % 100))\n",
    "display (G)"
   ]
  },
  {
   "cell_type": "markdown",
   "metadata": {},
   "source": [
    "**Exercise 4** (2 points). Use `apply()` to add a new variable in `G`, called `'prevalence'`, which is the ratio of cases to the population.\n",
    "\n",
    "> **Note**: It's actually easier to compute prevalence using,\n",
    ">\n",
    "> ```python\n",
    "> G['prevalence'] = G['cases'] / G['population']\n",
    "> ```\n",
    ">\n",
    "> However, for this exercise we want you to use the `apply` function. You might consult the documentation for `apply()` when applied to data frames: http://pandas.pydata.org/pandas-docs/stable/generated/pandas.DataFrame.apply.html"
   ]
  },
  {
   "cell_type": "code",
   "execution_count": null,
   "metadata": {
    "collapsed": false,
    "deletable": false,
    "nbgrader": {
     "checksum": "e6f19d9c9213cfa96e91e0bc679f6142",
     "grade": false,
     "grade_id": "prevalence",
     "locked": false,
     "solution": true
    }
   },
   "outputs": [],
   "source": [
    "# YOUR CODE HERE\n",
    "raise NotImplementedError()"
   ]
  },
  {
   "cell_type": "code",
   "execution_count": null,
   "metadata": {
    "collapsed": false,
    "deletable": false,
    "nbgrader": {
     "checksum": "3edcdace72e200a7d23f164522d89df3",
     "grade": true,
     "grade_id": "prevalence_test",
     "locked": true,
     "points": 2,
     "solution": false
    }
   },
   "outputs": [],
   "source": [
    "display (G)\n",
    "\n",
    "assert (G['prevalence'] == (G['cases'] / G['population'])).all ()"
   ]
  },
  {
   "cell_type": "code",
   "execution_count": null,
   "metadata": {
    "collapsed": true
   },
   "outputs": [],
   "source": []
  }
 ],
 "metadata": {
  "kernelspec": {
   "display_name": "Python 3",
   "language": "python",
   "name": "python3"
  },
  "language_info": {
   "codemirror_mode": {
    "name": "ipython",
    "version": 3
   },
   "file_extension": ".py",
   "mimetype": "text/x-python",
   "name": "python",
   "nbconvert_exporter": "python",
   "pygments_lexer": "ipython3",
   "version": "3.5.1"
  }
 },
 "nbformat": 4,
 "nbformat_minor": 0
}
