{
 "cells": [
  {
   "cell_type": "markdown",
   "metadata": {},
   "source": [
    "# CSE 6040, Fall 2015: Homework #2\n",
    "\n",
    "This assignment has the following learning goals:\n",
    "1. Reinforce your data preprocessing skills, on basic files and in SQL, using a real dataset.\n",
    "2. Allow you to flex your creative muscles on an open-ended data analysis problem.\n",
    "\n",
    "In particular, you will work on the data provided for the [2015 Yelp! Dataset Challenge](http://www.yelp.com/dataset_challenge). Start by downloading this data and reviewing the information at that page under the section heading, _Notes on the Dataset_.\n",
    "\n",
    "> Note that the official challenge from Yelp! is an open competition to produce the coolest analysis of their dataset. The \"open-ended\" part of this homework assignment might be a first step toward helping your team win the $5,000 prize! (Entries for that competition are due December 31.)\n",
    "\n",
    "You may work in teams of up to 2 students each. If you want a partner but can't find one, try using some combination of your basic social skills, the instructor's knowledge of the class, and Piazza to reach out to your peers.\n",
    "\n",
    "Upload your completed version of this notebook plus all your output files to T-Square by **Friday, October 16, 2015 at 5:00pm Eastern.**\n",
    "\n",
    "> Actually, we will set up T-Square to accept the assignment on Friday, Oct 16, 2015 \"anywhere on earth\" (AOE). However, there will be no instructor Q&A after 5pm Friday, so Shang can party and Rich can make progress on clearing his email backlog."
   ]
  },
  {
   "cell_type": "markdown",
   "metadata": {},
   "source": [
    "## Part 0: List your team members here\n",
    "\n",
    "Team members:\n",
    "1. (name goes here)\n",
    "2. (name goes here)"
   ]
  },
  {
   "cell_type": "markdown",
   "metadata": {},
   "source": [
    "## Part 1: JSON to SQLite [20 points]\n",
    "\n",
    "The learning goal in Part 1 is to reinforce the basic lessons on data conversion and SQL, by having you preprocess some \"raw\" data, turning it into a SQLite database, and then running some queries on it.\n",
    "\n",
    "> Hint: If you inspect the Yelp! Academic Dataset, you will see that each file is a sequence of JSON records, with one JSON record per line. So, you will most likely want to read the relevant input file line-by-line and process each line as a JSON record."
   ]
  },
  {
   "cell_type": "code",
   "execution_count": null,
   "metadata": {
    "collapsed": true
   },
   "outputs": [],
   "source": [
    "# As you complete Part 1, place any additional imports you\n",
    "# need in this code cell.\n",
    "\n",
    "import json\n",
    "import sqlite3 as db\n",
    "import pandas\n",
    "from IPython.display import display\n",
    "import string"
   ]
  },
  {
   "cell_type": "code",
   "execution_count": null,
   "metadata": {
    "collapsed": true
   },
   "outputs": [],
   "source": [
    "# A little helper function you can use to quickly inspect tables:\n",
    "def peek_table (db, name):\n",
    "    \"\"\"\n",
    "    Given a database connection (`db`), prints both the number of\n",
    "    records in the table as well as its first few entries.\n",
    "    \"\"\"\n",
    "    count = '''SELECT COUNT (*) FROM {table}'''.format (table=name)\n",
    "    display (pandas.read_sql_query (count, db))\n",
    "    peek = '''SELECT * FROM {table} LIMIT 5'''.format (table=name)\n",
    "    display (pandas.read_sql_query (peek, db))"
   ]
  },
  {
   "cell_type": "code",
   "execution_count": null,
   "metadata": {
    "collapsed": true
   },
   "outputs": [],
   "source": [
    "# By way of reminder, here's how you open a connection to a database\n",
    "# and request a cursor for executing queries.\n",
    "\n",
    "db_conn = db.connect ('yelp-rest.db')\n",
    "db_cursor = db_conn.cursor ()"
   ]
  },
  {
   "cell_type": "markdown",
   "metadata": {},
   "source": [
    "**Task 1(a).** _[5 points]_ From the Yelp! Academic Dataset, create an SQLite database called, `yelp-rest.db`, which contains the subset of the data pertaining to _restaurants_.\n",
    "\n",
    "In particular, start by creating a table called `Restaurants`. This table should have the following columns: the business ID (call it `Id`), restaurant name (`Name`), city (`City`), state (`State`), coordinates (two columns, called `Lat` and `Long`), and a semicolon-separated string of the restaurant's categories (`Cats`).\n",
    "\n",
    "> Note: This table should _only_ contain businesses that are categorized as restaurants.\n",
    "\n",
    "> Hint: When performing large numbers of inserts into the database, it may be helpful to execute `db_conn.commit()` to save the results before proceeding."
   ]
  },
  {
   "cell_type": "code",
   "execution_count": null,
   "metadata": {
    "collapsed": true
   },
   "outputs": [],
   "source": [
    "# Your code goes here. Feel free to use additional code cells\n",
    "# to break up your work into easily testable chunks."
   ]
  },
  {
   "cell_type": "code",
   "execution_count": null,
   "metadata": {
    "collapsed": false
   },
   "outputs": [],
   "source": [
    "# Quickly inspect your handiwork\n",
    "peek_table (db_conn, \"Restaurants\")"
   ]
  },
  {
   "cell_type": "markdown",
   "metadata": {},
   "source": [
    "**Task 1(b).** _[5 points]_ Next, create a table called `Reviews`, which contains _only_ reviews of restaurants.\n",
    "\n",
    "This table should have the following columns: the restaurant's business ID (call it `BizId`), the reviewer's ID (`RevId`), the numerical rating (`Stars`), the date (`Date`), and the number of up-votes of the review itself (three columns: `Useful`, `Funny`, and `Cool`).\n",
    "\n",
    "> Note: This table should _only_ contain the subset of reviews that pertain to _restaurants_. You may find your results from Task 1(a) helpful here!"
   ]
  },
  {
   "cell_type": "code",
   "execution_count": null,
   "metadata": {
    "collapsed": false
   },
   "outputs": [],
   "source": [
    "# Your code goes here. Feel free to use additional code cells\n",
    "# to break up your work into easily testable chunks."
   ]
  },
  {
   "cell_type": "code",
   "execution_count": null,
   "metadata": {
    "collapsed": false
   },
   "outputs": [],
   "source": [
    "peek_table (db_conn, \"Reviews\")"
   ]
  },
  {
   "cell_type": "markdown",
   "metadata": {
    "collapsed": true
   },
   "source": [
    "**Task 1(c).** _[5 points]_ Next, create a table called `Users`, which contains _all_ users.\n",
    "\n",
    "This table should have the following columns: the user's ID (`Id`), name (`Name`), and number of fans (`NumFans`).\n",
    "\n",
    "> Note: This table should contain _all_ users, not just the ones that reviewed restaurants!"
   ]
  },
  {
   "cell_type": "code",
   "execution_count": null,
   "metadata": {
    "collapsed": true
   },
   "outputs": [],
   "source": [
    "# Your code goes here. Feel free to use additional code cells\n",
    "# to break up your work into easily testable chunks."
   ]
  },
  {
   "cell_type": "code",
   "execution_count": null,
   "metadata": {
    "collapsed": false
   },
   "outputs": [],
   "source": [
    "peek_table (db_conn, \"Users\")"
   ]
  },
  {
   "cell_type": "markdown",
   "metadata": {},
   "source": [
    "**Task 1(d).** _[5 points]_ Create a table, `UserEdges`, that stores the connectivity graph between users.\n",
    "\n",
    "This table should have two columns, one for the source vertex (named `Source`) and one for the target vertex (named `Target`). Treat the graph as _undirected_: that is, if there is a link from a user $u$ to a user $v$, then the table should contain _both_ edges $u \\rightarrow v$ and $v \\rightarrow u$."
   ]
  },
  {
   "cell_type": "code",
   "execution_count": null,
   "metadata": {
    "collapsed": false
   },
   "outputs": [],
   "source": [
    "# Your code goes here. Feel free to use additional code cells\n",
    "# to break up your work into easily testable chunks."
   ]
  },
  {
   "cell_type": "code",
   "execution_count": null,
   "metadata": {
    "collapsed": false
   },
   "outputs": [],
   "source": [
    "peek_table (db_conn, \"UserEdges\")"
   ]
  },
  {
   "cell_type": "markdown",
   "metadata": {},
   "source": [
    "## Part 2: Summary statistics [20 points]"
   ]
  },
  {
   "cell_type": "markdown",
   "metadata": {},
   "source": [
    "**Task 2(a).** _[2 point]_ Compute the average rating (measured in \"stars\"), taken over all reviews."
   ]
  },
  {
   "cell_type": "code",
   "execution_count": 1,
   "metadata": {
    "collapsed": false
   },
   "outputs": [],
   "source": [
    "# Your code goes here. Feel free to use additional code cells\n",
    "# to break up your work into easily testable chunks."
   ]
  },
  {
   "cell_type": "markdown",
   "metadata": {},
   "source": [
    "**Task 2(b).** _[5 points]_ For each distinct state, compute the number of reviews and the average restaurant rating (in \"stars\"). You may ignore businesses that have no reviews. Store these in a dataframe variable, `df`, with three columns: one column for the state (named `State`), one column for the number of reviews (`NumRevs`), and one column for the average rating (named `AvgStars`). The rows of the `df` should be sorted in descending order by number of reviews."
   ]
  },
  {
   "cell_type": "code",
   "execution_count": null,
   "metadata": {
    "collapsed": false
   },
   "outputs": [],
   "source": [
    "# ... Your code to compute `df` goes here ..."
   ]
  },
  {
   "cell_type": "code",
   "execution_count": null,
   "metadata": {
    "collapsed": false
   },
   "outputs": [],
   "source": [
    "display (df)"
   ]
  },
  {
   "cell_type": "markdown",
   "metadata": {},
   "source": [
    "**Task 2(c).** _[3 points]_ On average, how many reviews does each user write? You may ignore users who write no reviews.\n",
    "\n",
    "Write Python code to answer this question in the code cell below, and enter your answer below, rounded to the nearest tenth. For instance, you would enter \"5.2\" if your program computes \"5.24384\". __(type your answer here)__"
   ]
  },
  {
   "cell_type": "code",
   "execution_count": null,
   "metadata": {
    "collapsed": false
   },
   "outputs": [],
   "source": [
    "# Your code goes here. Feel free to use additional code cells\n",
    "# to break up your work into easily testable chunks."
   ]
  },
  {
   "cell_type": "markdown",
   "metadata": {},
   "source": [
    "**Task 2(c).** _[5 points]_ On average, how many friends does each user have? In computing the average, _include_ users who have no friends.\n",
    "\n",
    "Write Python code to answer this question in the code cell below, and enter your answer here, rounded to the nearest integer: __(your answer)__\n",
    "\n",
    "> Hint: There is at least one relatively simple way that combines [left (outer) joins](http://www.techonthenet.com/sqlite/joins.php) and the [`IFNULL(...)`](http://www.sqlite.org/lang_corefunc.html#ifnull) function. Although we haven't covered these in class, you should be comfortable enough that you can read about them independently and apply them."
   ]
  },
  {
   "cell_type": "code",
   "execution_count": null,
   "metadata": {
    "collapsed": false
   },
   "outputs": [],
   "source": [
    "# Your code goes here. Feel free to use additional code cells\n",
    "# to break up your work into easily testable chunks."
   ]
  },
  {
   "cell_type": "markdown",
   "metadata": {},
   "source": [
    "**Task 2(d).** _[5 points]_ Use [Seaborn](http://stanford.edu/~mwaskom/software/seaborn/tutorial/distributions.html) or [Plotly](https://plot.ly/python/histograms-and-box-plots-tutorial/) to create a histogram of ratings in the state of Nevada."
   ]
  },
  {
   "cell_type": "code",
   "execution_count": null,
   "metadata": {
    "collapsed": true
   },
   "outputs": [],
   "source": [
    "# Your code goes here. Feel free to use additional code cells\n",
    "# to break up your work into easily testable chunks."
   ]
  },
  {
   "cell_type": "markdown",
   "metadata": {},
   "source": [
    "## Part 3: Rank the Restaurants [20 points]"
   ]
  },
  {
   "cell_type": "markdown",
   "metadata": {},
   "source": [
    "Come up with your own scheme, inspired by either the _A-priori_ association mining algorithm or the PageRank algorithm, to compute a global ranking of the restaurants.\n",
    "\n",
    "Only consider restaurants with 25 reviews or more.\n",
    "\n",
    "Explain your scheme and compare its top rated results against a baseline scheme that simply returns restaurants in descending order based on average rating."
   ]
  },
  {
   "cell_type": "code",
   "execution_count": null,
   "metadata": {
    "collapsed": true
   },
   "outputs": [],
   "source": []
  }
 ],
 "metadata": {
  "kernelspec": {
   "display_name": "Python 2",
   "language": "python",
   "name": "python2"
  },
  "language_info": {
   "codemirror_mode": {
    "name": "ipython",
    "version": 2
   },
   "file_extension": ".py",
   "mimetype": "text/x-python",
   "name": "python",
   "nbconvert_exporter": "python",
   "pygments_lexer": "ipython2",
   "version": "2.7.10"
  }
 },
 "nbformat": 4,
 "nbformat_minor": 0
}
